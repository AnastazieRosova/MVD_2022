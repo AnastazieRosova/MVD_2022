{
 "cells": [
  {
   "cell_type": "markdown",
   "metadata": {},
   "source": [
    "# MVD 11. cvičení\n"
   ]
  },
  {
   "cell_type": "markdown",
   "metadata": {},
   "source": [
    "## 1. část - Collaborative Filtering (item-item)\n",
    "\n",
    "Vytvořte si matici podle příkladu v přednášce na item-item přístup na snímku 24. Využijte centered cosine similarity pro výpočet podobností stejně jako v přednášce a vyberte dva nejbližší sousedy. Ověřte, že je výsledek v přednášce správný a implementujte funkci tak, aby bylo možné jednoduše spočítat i libovolné další vyhodnocení."
   ]
  },
  {
   "cell_type": "code",
   "execution_count": 1,
   "metadata": {},
   "outputs": [],
   "source": [
    "import torch\n",
    "cos = torch.nn.CosineSimilarity(dim=1, eps=1e-5)"
   ]
  },
  {
   "cell_type": "code",
   "execution_count": 2,
   "metadata": {},
   "outputs": [],
   "source": [
    "def item_item(matrix, k, product):\n",
    "    mean_r = matrix.sum(1)/(matrix != 0).sum(1)\n",
    "    norm = matrix - mean_r[:,None]\n",
    "    norm_matrix = torch.where(matrix != 0, norm, 0)\n",
    "    cos_sim = cos(norm_matrix[product[0],:], norm_matrix).squeeze()\n",
    "    _,idx = torch.topk(cos_sim, k+1)\n",
    "    idx = idx[1:]\n",
    "    return (cos_sim[idx] * matrix[idx, product[1]]).sum() / cos_sim[idx].sum() + 1e-6\n"
   ]
  },
  {
   "cell_type": "code",
   "execution_count": 3,
   "metadata": {},
   "outputs": [
    {
     "name": "stdout",
     "output_type": "stream",
     "text": [
      "tensor(2.5864)\n"
     ]
    }
   ],
   "source": [
    "matrix = torch.tensor([[1,0,3,0,0,5,0,0,5,0,4,0],\n",
    "                       [0,0,5,4,0,0,4,0,0,2,1,3],\n",
    "                       [2,4,0,1,2,0,3,0,4,3,5,0],\n",
    "                       [0,2,4,0,5,0,0,4,0,0,2,0],\n",
    "                       [0,0,4,3,4,2,0,0,0,0,2,5],\n",
    "                       [1,0,3,0,3,0,0,2,0,0,4,0]])\n",
    "print(item_item(matrix, 2, [0,4]))"
   ]
  },
  {
   "cell_type": "markdown",
   "metadata": {},
   "source": [
    "## Bonus - Content-based Filtering\n",
    "\n",
    "Stáhněte si Kaggle dataset [Spotify Recommendation system](https://www.kaggle.com/bricevergnou/spotify-recommendation). Z datasetu budete potřebovat:\n",
    "\n",
    "- data.csv = příznaky k jednotlivým skladbám + příznak liked pro klasifikaci\n",
    "\n",
    "Úkolem je:\n",
    "\n",
    "1. Načíst data z csv.\n",
    "2. Vytvořit train (90 %) a test (10 %) split pomocí knihovny [sklearn](https://scikit-learn.org/stable/modules/generated/sklearn.model_selection.train_test_split.html).\n",
    "3. Vytvořit model logistické regrese (vlastní implementace / využití knihovny sklearn nebo jiné).\n",
    "4. Vyhodnotit data na testovací sadě (např. metoda score u LogisticRegression).\n",
    "\n",
    "**Skóre pro uznání úlohy musí být vyšší než 89 %.**\n",
    "\n",
    "Dobrovolné: vytvořit graf predikovaných vs aktuálních hodnot\n",
    "\n",
    "Získání bodu navíc: Využijte i další algoritmy pro binární klasifikaci."
   ]
  },
  {
   "cell_type": "code",
   "execution_count": 142,
   "metadata": {},
   "outputs": [],
   "source": [
    "import pandas as pd\n",
    "from sklearn.model_selection import train_test_split\n",
    "from sklearn.linear_model import LogisticRegression"
   ]
  },
  {
   "cell_type": "code",
   "execution_count": 162,
   "metadata": {},
   "outputs": [
    {
     "name": "stdout",
     "output_type": "stream",
     "text": [
      "195\n"
     ]
    }
   ],
   "source": [
    "# 1. Načíst data z csv\n",
    "df = pd.read_csv(\"data/data.csv\", header = 0)\n",
    "print(len(df))\n",
    "y = df['liked']\n",
    "x = df.loc[:, df.columns != 'liked']"
   ]
  },
  {
   "cell_type": "code",
   "execution_count": 165,
   "metadata": {},
   "outputs": [],
   "source": [
    "# 2. Vytvořit train (90 %) a test (10 %) split pomocí knihovny sklearn.\n",
    "x_train, x_test, y_train, y_test = train_test_split(x,y,train_size=0.9)"
   ]
  },
  {
   "cell_type": "code",
   "execution_count": 158,
   "metadata": {},
   "outputs": [
    {
     "name": "stdout",
     "output_type": "stream",
     "text": [
      "0.95\n"
     ]
    }
   ],
   "source": [
    "# 3. Vytvořit model logistické regrese (vlastní implementace / využití knihovny sklearn nebo jiné).\n",
    "logReg = LogisticRegression(max_iter = 200).fit(x_train, y_train)\n",
    "score = logReg.score(x_test, y_test)\n",
    "print(score)"
   ]
  },
  {
   "cell_type": "code",
   "execution_count": 179,
   "metadata": {},
   "outputs": [
    {
     "name": "stdout",
     "output_type": "stream",
     "text": [
      "     true_label  predicted_label  correct\n",
      "11            1                1        1\n",
      "150           1                1        1\n",
      "102           1                1        1\n",
      "149           1                1        1\n",
      "152           1                1        1\n",
      "128           0                0        1\n",
      "122           1                1        1\n",
      "134           1                1        1\n",
      "91            0                0        1\n",
      "125           1                1        1\n",
      "87            0                0        1\n",
      "40            0                0        1\n",
      "182           1                1        1\n",
      "140           1                1        1\n",
      "132           0                1        0\n",
      "42            1                1        1\n",
      "189           0                0        1\n",
      "181           1                1        1\n",
      "161           1                1        1\n",
      "71            1                1        1\n"
     ]
    }
   ],
   "source": [
    "result = y_test.to_frame()\n",
    "result = result.rename(columns={result.columns[0]: \"true_label\"})\n",
    "result['predicted_label'] = logReg.predict(x_test)\n",
    "result['correct'] = (result['true_label']==result['predicted_label']).astype(int)\n",
    "print(result)\n"
   ]
  },
  {
   "cell_type": "code",
   "execution_count": 150,
   "metadata": {},
   "outputs": [
    {
     "name": "stdout",
     "output_type": "stream",
     "text": [
      "0.8\n"
     ]
    }
   ],
   "source": [
    "from sklearn.neighbors import KNeighborsClassifier\n",
    "\n",
    "knn = KNeighborsClassifier()\n",
    "knn.fit(x_train, y_train)\n",
    "score = knn.score(x_test, y_test)\n",
    "print(score)"
   ]
  },
  {
   "cell_type": "code",
   "execution_count": 151,
   "metadata": {},
   "outputs": [
    {
     "name": "stdout",
     "output_type": "stream",
     "text": [
      "0.9\n"
     ]
    }
   ],
   "source": [
    "from sklearn.linear_model import SGDClassifier\n",
    "from sklearn.preprocessing import StandardScaler\n",
    "from sklearn.pipeline import make_pipeline\n",
    "\n",
    "sgd = make_pipeline(StandardScaler(),SGDClassifier(max_iter=1000, tol=1e-3))\n",
    "sgd.fit(x_train, y_train)\n",
    "score =sgd.score(x_test, y_test)\n",
    "print(score)"
   ]
  },
  {
   "cell_type": "code",
   "execution_count": 152,
   "metadata": {},
   "outputs": [
    {
     "name": "stdout",
     "output_type": "stream",
     "text": [
      "0.85\n"
     ]
    }
   ],
   "source": [
    "from sklearn.tree import DecisionTreeClassifier\n",
    "\n",
    "clf = DecisionTreeClassifier()\n",
    "clf.fit(x_train, y_train)\n",
    "score = clf.score(x_test, y_test)\n",
    "print(score)"
   ]
  },
  {
   "cell_type": "code",
   "execution_count": 157,
   "metadata": {},
   "outputs": [
    {
     "name": "stdout",
     "output_type": "stream",
     "text": [
      "0.9\n"
     ]
    }
   ],
   "source": [
    "from sklearn.ensemble import RandomForestClassifier\n",
    "\n",
    "rf = RandomForestClassifier(n_estimators=20, max_depth=9)\n",
    "rf.fit(x_train, y_train)\n",
    "score = rf.score(x_test, y_test)\n",
    "print(score)"
   ]
  },
  {
   "cell_type": "code",
   "execution_count": null,
   "metadata": {},
   "outputs": [],
   "source": []
  }
 ],
 "metadata": {
  "kernelspec": {
   "display_name": "Python 3 (ipykernel)",
   "language": "python",
   "name": "python3"
  },
  "language_info": {
   "codemirror_mode": {
    "name": "ipython",
    "version": 3
   },
   "file_extension": ".py",
   "mimetype": "text/x-python",
   "name": "python",
   "nbconvert_exporter": "python",
   "pygments_lexer": "ipython3",
   "version": "3.9.7"
  }
 },
 "nbformat": 4,
 "nbformat_minor": 4
}
