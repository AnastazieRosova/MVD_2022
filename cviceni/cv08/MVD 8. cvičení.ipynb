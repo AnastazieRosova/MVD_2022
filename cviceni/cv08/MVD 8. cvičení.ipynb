{
 "cells": [
  {
   "cell_type": "markdown",
   "metadata": {
    "pycharm": {
     "name": "#%% md\n"
    }
   },
   "source": [
    "# MVD 8. cvičení\n",
    "\n",
    "## 1. část - Vytvoření dat\n",
    "\n",
    "Použijte stejný kód z minulého cvičení pro vytvoření dat. Navíc vytvořte jeden větší dataset, ve kterém sjednotíte výstupy různých funkcí (např. make_blobs + make_circles)."
   ]
  },
  {
   "cell_type": "code",
   "execution_count": 1,
   "metadata": {
    "pycharm": {
     "name": "#%%\n"
    }
   },
   "outputs": [],
   "source": [
    "from sklearn.datasets import make_blobs, make_moons, make_circles\n",
    "import pandas as pd\n",
    "import numpy as np\n",
    "import plotly.express as px\n",
    "from sklearn.cluster import DBSCAN\n",
    "from plotly.subplots import make_subplots\n",
    "import plotly.io as pio\n",
    "pio.renderers.default = \"browser\""
   ]
  },
  {
   "cell_type": "code",
   "execution_count": 2,
   "metadata": {
    "pycharm": {
     "name": "#%%\n"
    }
   },
   "outputs": [],
   "source": [
    "data,labels = make_blobs(n_samples=100,n_features=2,centers=2)\n",
    "df1 = pd.DataFrame(data, columns=['x', 'y'])\n",
    "df1['labels'] = labels.astype('str')\n",
    "df1['clas'] = 'UNCLASSIFIED'"
   ]
  },
  {
   "cell_type": "code",
   "execution_count": 30,
   "metadata": {
    "pycharm": {
     "name": "#%%\n"
    }
   },
   "outputs": [],
   "source": [
    "data,labels = make_blobs(n_samples=200,n_features=2,centers=4)\n",
    "df2 = pd.DataFrame(data, columns=['x', 'y'])\n",
    "df2['labels'] = labels.astype('str')"
   ]
  },
  {
   "cell_type": "code",
   "execution_count": 42,
   "metadata": {
    "pycharm": {
     "name": "#%%\n"
    }
   },
   "outputs": [],
   "source": [
    "data,labels = make_moons(n_samples=200,noise=.1)\n",
    "df3 = pd.DataFrame(data, columns=['x', 'y'])\n",
    "df3['labels'] = labels.astype('str')"
   ]
  },
  {
   "cell_type": "code",
   "execution_count": 5,
   "metadata": {
    "pycharm": {
     "name": "#%%\n"
    }
   },
   "outputs": [],
   "source": [
    "data,labels = make_circles(n_samples=200,noise=.1,factor=.2)\n",
    "df4 = pd.DataFrame(data, columns=['x', 'y'])\n",
    "df4['labels'] = labels.astype('str')"
   ]
  },
  {
   "cell_type": "code",
   "execution_count": 12,
   "metadata": {
    "pycharm": {
     "name": "#%%\n"
    }
   },
   "outputs": [],
   "source": [
    "data1,labels1 = make_blobs(n_samples=600,n_features=2,centers=3)\n",
    "data2,labels2 = make_circles(n_samples=200,noise=.1,factor=0.1)\n",
    "data = np.insert(data1,0,data2,axis=0)\n",
    "labels = np.insert(labels1,0, labels2+4,axis=0)\n",
    "df5 = pd.DataFrame(data, columns=['x', 'y'])\n",
    "df5['labels'] = labels.astype('str')"
   ]
  },
  {
   "cell_type": "code",
   "execution_count": 13,
   "metadata": {
    "pycharm": {
     "name": "#%%\n"
    }
   },
   "outputs": [],
   "source": [
    "def print_dataset(df):\n",
    "    fig = px.scatter(df, y='y', x='x', color='labels')\n",
    "    fig.show()"
   ]
  },
  {
   "cell_type": "code",
   "execution_count": 31,
   "metadata": {
    "pycharm": {
     "name": "#%%\n"
    }
   },
   "outputs": [],
   "source": [
    "print_dataset(df2)"
   ]
  },
  {
   "cell_type": "code",
   "execution_count": 21,
   "metadata": {
    "pycharm": {
     "name": "#%%\n"
    }
   },
   "outputs": [],
   "source": [
    "def print_subplots(df, eps, min_pts, lib_labels = None):\n",
    "    rows = 2 if lib_labels is None else 3\n",
    "    fig = make_subplots(rows=rows, cols=1,\n",
    "                        subplot_titles=(\"Original\", \"My func\", \"Sklearn lib\"))\n",
    "    plot1 = px.scatter(df, x='x', y='y', color='labels')\n",
    "    plot2 = px.scatter(df, x='x', y='y', color='clas')\n",
    "    fig.add_traces(plot1.data, rows=1, cols=1)\n",
    "    fig.add_traces(plot2.data, rows=2, cols=1)\n",
    "    if lib_labels is not None:\n",
    "        plot3 = px.scatter(x=df['x'], y=df['y'], color = lib_labels.astype(str))\n",
    "        fig.add_traces(plot3.data, rows=3, cols=1)\n",
    "    fig.update_layout(height=1000, width=1000,\n",
    "                      legend_tracegroupgap=180,\n",
    "                      showlegend=False,\n",
    "                      title_text=\"Eps: \" + str(eps) + \", Min_pts: \" + str(min_pts))\n",
    "    fig.show()"
   ]
  },
  {
   "cell_type": "markdown",
   "metadata": {
    "pycharm": {
     "name": "#%% md\n"
    }
   },
   "source": [
    "## 2. část - Implementace DBSCAN algoritmu\n",
    "Dle přednášky implementujte DBSCAN algoritmus."
   ]
  },
  {
   "cell_type": "code",
   "execution_count": 22,
   "metadata": {
    "pycharm": {
     "name": "#%%\n"
    },
    "scrolled": false
   },
   "outputs": [],
   "source": [
    "def find_neighbours(point, df, eps):\n",
    "    cluster = []\n",
    "    for idx,other in df.iterrows():\n",
    "        if np.sqrt((other['x']-point['x'])**2 + (other['y']-point['y'])**2) < eps:\n",
    "            cluster.append(idx)\n",
    "    return cluster\n",
    "\n",
    "def dbscan(df, eps, min_pts):\n",
    "    cluster_id = 0\n",
    "    for point_idx,point in df.iterrows():\n",
    "        if df.at[point_idx,'clas'] != \"UNCLASSIFIED\":\n",
    "            continue\n",
    "        neigbhours = find_neighbours(point, df, eps)\n",
    "        if len(neigbhours) < min_pts:\n",
    "            df.at[point_idx,'clas'] = -1\n",
    "            continue\n",
    "        df.at[point_idx,'clas']=cluster_id\n",
    "        while neigbhours:\n",
    "            idx = neigbhours.pop(0)\n",
    "            if df.at[idx,'clas'] == -1:\n",
    "                df.at[idx,'clas']=cluster_id\n",
    "            if df.at[idx,'clas'] != \"UNCLASSIFIED\":\n",
    "                continue\n",
    "            df.at[idx,'clas']=cluster_id\n",
    "            new_neigh = find_neighbours(df.iloc[idx], df, eps)\n",
    "            if len(new_neigh) >= min_pts:\n",
    "                neigbhours.extend(new_neigh)\n",
    "        cluster_id += 1"
   ]
  },
  {
   "cell_type": "markdown",
   "metadata": {
    "pycharm": {
     "name": "#%% md\n"
    }
   },
   "source": [
    "## 3. část - Vyhodnocení \n",
    "Aplikujte Váš DBSCAN na vytvořené datasety. Experimentálně najděte parametry ```Eps``` a ```MinPts```."
   ]
  },
  {
   "cell_type": "code",
   "execution_count": 23,
   "metadata": {
    "pycharm": {
     "name": "#%%\n"
    }
   },
   "outputs": [],
   "source": [
    "def evaluate(df, eps = 0.5, min_pts = 5):\n",
    "    df['clas'] = 'UNCLASSIFIED'\n",
    "    dbscan(df, eps, min_pts)\n",
    "    comparasion(df, eps, min_pts)"
   ]
  },
  {
   "cell_type": "code",
   "execution_count": 44,
   "metadata": {
    "pycharm": {
     "name": "#%%\n"
    }
   },
   "outputs": [
    {
     "name": "stdout",
     "output_type": "stream",
     "text": [
      "Equal outputs:  True\n",
      "Equal outputs:  True\n",
      "Equal outputs:  True\n",
      "Equal outputs:  True\n",
      "Equal outputs:  True\n"
     ]
    }
   ],
   "source": [
    "evaluate(df1, eps = 2, min_pts=2)\n",
    "evaluate(df2, eps = 2, min_pts=2)\n",
    "evaluate(df3, eps = .2, min_pts=2)\n",
    "evaluate(df4, eps = .3, min_pts=5)\n",
    "evaluate(df5, eps = 0.43, min_pts=6)"
   ]
  },
  {
   "cell_type": "markdown",
   "metadata": {
    "pycharm": {
     "name": "#%% md\n"
    }
   },
   "source": [
    "## 4. část - Porovnání s výstupem z knihovny\n",
    "\n",
    "Porovnejte výstup s výstupem z knihovny sklearn. Dokumentaci naleznete [zde](https://scikit-learn.org/stable/modules/generated/sklearn.cluster.DBSCAN.html)."
   ]
  },
  {
   "cell_type": "code",
   "execution_count": 25,
   "metadata": {
    "pycharm": {
     "name": "#%%\n"
    }
   },
   "outputs": [],
   "source": [
    "def comparasion(df, eps, min_pts):\n",
    "    data = df.loc[:,['x','y']].values\n",
    "    db = DBSCAN(eps = eps, min_samples = min_pts).fit(data)\n",
    "    res = np.array_equal(db.labels_, df['clas'].to_numpy())\n",
    "    print(\"Equal outputs: \", res)\n",
    "    print_subplots(df, eps, min_pts, db.labels_)"
   ]
  },
  {
   "cell_type": "markdown",
   "metadata": {
    "pycharm": {
     "name": "#%% md\n"
    }
   },
   "source": []
  }
 ],
 "metadata": {
  "kernelspec": {
   "display_name": "Python 3 (ipykernel)",
   "language": "python",
   "name": "python3"
  },
  "language_info": {
   "codemirror_mode": {
    "name": "ipython",
    "version": 3
   },
   "file_extension": ".py",
   "mimetype": "text/x-python",
   "name": "python",
   "nbconvert_exporter": "python",
   "pygments_lexer": "ipython3",
   "version": "3.9.7"
  }
 },
 "nbformat": 4,
 "nbformat_minor": 4
}
