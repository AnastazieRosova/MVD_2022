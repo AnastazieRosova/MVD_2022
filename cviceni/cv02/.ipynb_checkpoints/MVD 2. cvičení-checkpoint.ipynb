{
 "cells": [
  {
   "cell_type": "markdown",
   "id": "united-macedonia",
   "metadata": {},
   "source": [
    "# MVD 2. Cvičení\n",
    "\n",
    "Potřebné knihovny\n",
    "- plotly\n",
    "- matplotlib\n",
    "- sklearn\n",
    "- numpy\n",
    "- pickle\n",
    "\n",
    "## 1. část - Základní vizualizace dat\n",
    "\n",
    "Úkolem v první části je vyzkoušet si základní vizualizaci s využitím knihoven Matplotlib a Plotly. Postačí vizualizovat základní sloupcový graf v každé z těchto knihoven s hodnotami [1, 2, 3]."
   ]
  },
  {
   "cell_type": "code",
   "execution_count": 10,
   "id": "matched-preliminary",
   "metadata": {},
   "outputs": [
    {
     "data": {
      "application/vnd.plotly.v1+json": {
       "config": {
        "plotlyServerURL": "https://plot.ly"
       },
       "data": [
        {
         "type": "bar",
         "y": [
          1,
          2,
          3
         ]
        }
       ],
       "layout": {
        "template": {
         "data": {
          "bar": [
           {
            "error_x": {
             "color": "#2a3f5f"
            },
            "error_y": {
             "color": "#2a3f5f"
            },
            "marker": {
             "line": {
              "color": "#E5ECF6",
              "width": 0.5
             },
             "pattern": {
              "fillmode": "overlay",
              "size": 10,
              "solidity": 0.2
             }
            },
            "type": "bar"
           }
          ],
          "barpolar": [
           {
            "marker": {
             "line": {
              "color": "#E5ECF6",
              "width": 0.5
             },
             "pattern": {
              "fillmode": "overlay",
              "size": 10,
              "solidity": 0.2
             }
            },
            "type": "barpolar"
           }
          ],
          "carpet": [
           {
            "aaxis": {
             "endlinecolor": "#2a3f5f",
             "gridcolor": "white",
             "linecolor": "white",
             "minorgridcolor": "white",
             "startlinecolor": "#2a3f5f"
            },
            "baxis": {
             "endlinecolor": "#2a3f5f",
             "gridcolor": "white",
             "linecolor": "white",
             "minorgridcolor": "white",
             "startlinecolor": "#2a3f5f"
            },
            "type": "carpet"
           }
          ],
          "choropleth": [
           {
            "colorbar": {
             "outlinewidth": 0,
             "ticks": ""
            },
            "type": "choropleth"
           }
          ],
          "contour": [
           {
            "colorbar": {
             "outlinewidth": 0,
             "ticks": ""
            },
            "colorscale": [
             [
              0,
              "#0d0887"
             ],
             [
              0.1111111111111111,
              "#46039f"
             ],
             [
              0.2222222222222222,
              "#7201a8"
             ],
             [
              0.3333333333333333,
              "#9c179e"
             ],
             [
              0.4444444444444444,
              "#bd3786"
             ],
             [
              0.5555555555555556,
              "#d8576b"
             ],
             [
              0.6666666666666666,
              "#ed7953"
             ],
             [
              0.7777777777777778,
              "#fb9f3a"
             ],
             [
              0.8888888888888888,
              "#fdca26"
             ],
             [
              1,
              "#f0f921"
             ]
            ],
            "type": "contour"
           }
          ],
          "contourcarpet": [
           {
            "colorbar": {
             "outlinewidth": 0,
             "ticks": ""
            },
            "type": "contourcarpet"
           }
          ],
          "heatmap": [
           {
            "colorbar": {
             "outlinewidth": 0,
             "ticks": ""
            },
            "colorscale": [
             [
              0,
              "#0d0887"
             ],
             [
              0.1111111111111111,
              "#46039f"
             ],
             [
              0.2222222222222222,
              "#7201a8"
             ],
             [
              0.3333333333333333,
              "#9c179e"
             ],
             [
              0.4444444444444444,
              "#bd3786"
             ],
             [
              0.5555555555555556,
              "#d8576b"
             ],
             [
              0.6666666666666666,
              "#ed7953"
             ],
             [
              0.7777777777777778,
              "#fb9f3a"
             ],
             [
              0.8888888888888888,
              "#fdca26"
             ],
             [
              1,
              "#f0f921"
             ]
            ],
            "type": "heatmap"
           }
          ],
          "heatmapgl": [
           {
            "colorbar": {
             "outlinewidth": 0,
             "ticks": ""
            },
            "colorscale": [
             [
              0,
              "#0d0887"
             ],
             [
              0.1111111111111111,
              "#46039f"
             ],
             [
              0.2222222222222222,
              "#7201a8"
             ],
             [
              0.3333333333333333,
              "#9c179e"
             ],
             [
              0.4444444444444444,
              "#bd3786"
             ],
             [
              0.5555555555555556,
              "#d8576b"
             ],
             [
              0.6666666666666666,
              "#ed7953"
             ],
             [
              0.7777777777777778,
              "#fb9f3a"
             ],
             [
              0.8888888888888888,
              "#fdca26"
             ],
             [
              1,
              "#f0f921"
             ]
            ],
            "type": "heatmapgl"
           }
          ],
          "histogram": [
           {
            "marker": {
             "pattern": {
              "fillmode": "overlay",
              "size": 10,
              "solidity": 0.2
             }
            },
            "type": "histogram"
           }
          ],
          "histogram2d": [
           {
            "colorbar": {
             "outlinewidth": 0,
             "ticks": ""
            },
            "colorscale": [
             [
              0,
              "#0d0887"
             ],
             [
              0.1111111111111111,
              "#46039f"
             ],
             [
              0.2222222222222222,
              "#7201a8"
             ],
             [
              0.3333333333333333,
              "#9c179e"
             ],
             [
              0.4444444444444444,
              "#bd3786"
             ],
             [
              0.5555555555555556,
              "#d8576b"
             ],
             [
              0.6666666666666666,
              "#ed7953"
             ],
             [
              0.7777777777777778,
              "#fb9f3a"
             ],
             [
              0.8888888888888888,
              "#fdca26"
             ],
             [
              1,
              "#f0f921"
             ]
            ],
            "type": "histogram2d"
           }
          ],
          "histogram2dcontour": [
           {
            "colorbar": {
             "outlinewidth": 0,
             "ticks": ""
            },
            "colorscale": [
             [
              0,
              "#0d0887"
             ],
             [
              0.1111111111111111,
              "#46039f"
             ],
             [
              0.2222222222222222,
              "#7201a8"
             ],
             [
              0.3333333333333333,
              "#9c179e"
             ],
             [
              0.4444444444444444,
              "#bd3786"
             ],
             [
              0.5555555555555556,
              "#d8576b"
             ],
             [
              0.6666666666666666,
              "#ed7953"
             ],
             [
              0.7777777777777778,
              "#fb9f3a"
             ],
             [
              0.8888888888888888,
              "#fdca26"
             ],
             [
              1,
              "#f0f921"
             ]
            ],
            "type": "histogram2dcontour"
           }
          ],
          "mesh3d": [
           {
            "colorbar": {
             "outlinewidth": 0,
             "ticks": ""
            },
            "type": "mesh3d"
           }
          ],
          "parcoords": [
           {
            "line": {
             "colorbar": {
              "outlinewidth": 0,
              "ticks": ""
             }
            },
            "type": "parcoords"
           }
          ],
          "pie": [
           {
            "automargin": true,
            "type": "pie"
           }
          ],
          "scatter": [
           {
            "fillpattern": {
             "fillmode": "overlay",
             "size": 10,
             "solidity": 0.2
            },
            "type": "scatter"
           }
          ],
          "scatter3d": [
           {
            "line": {
             "colorbar": {
              "outlinewidth": 0,
              "ticks": ""
             }
            },
            "marker": {
             "colorbar": {
              "outlinewidth": 0,
              "ticks": ""
             }
            },
            "type": "scatter3d"
           }
          ],
          "scattercarpet": [
           {
            "marker": {
             "colorbar": {
              "outlinewidth": 0,
              "ticks": ""
             }
            },
            "type": "scattercarpet"
           }
          ],
          "scattergeo": [
           {
            "marker": {
             "colorbar": {
              "outlinewidth": 0,
              "ticks": ""
             }
            },
            "type": "scattergeo"
           }
          ],
          "scattergl": [
           {
            "marker": {
             "colorbar": {
              "outlinewidth": 0,
              "ticks": ""
             }
            },
            "type": "scattergl"
           }
          ],
          "scattermapbox": [
           {
            "marker": {
             "colorbar": {
              "outlinewidth": 0,
              "ticks": ""
             }
            },
            "type": "scattermapbox"
           }
          ],
          "scatterpolar": [
           {
            "marker": {
             "colorbar": {
              "outlinewidth": 0,
              "ticks": ""
             }
            },
            "type": "scatterpolar"
           }
          ],
          "scatterpolargl": [
           {
            "marker": {
             "colorbar": {
              "outlinewidth": 0,
              "ticks": ""
             }
            },
            "type": "scatterpolargl"
           }
          ],
          "scatterternary": [
           {
            "marker": {
             "colorbar": {
              "outlinewidth": 0,
              "ticks": ""
             }
            },
            "type": "scatterternary"
           }
          ],
          "surface": [
           {
            "colorbar": {
             "outlinewidth": 0,
             "ticks": ""
            },
            "colorscale": [
             [
              0,
              "#0d0887"
             ],
             [
              0.1111111111111111,
              "#46039f"
             ],
             [
              0.2222222222222222,
              "#7201a8"
             ],
             [
              0.3333333333333333,
              "#9c179e"
             ],
             [
              0.4444444444444444,
              "#bd3786"
             ],
             [
              0.5555555555555556,
              "#d8576b"
             ],
             [
              0.6666666666666666,
              "#ed7953"
             ],
             [
              0.7777777777777778,
              "#fb9f3a"
             ],
             [
              0.8888888888888888,
              "#fdca26"
             ],
             [
              1,
              "#f0f921"
             ]
            ],
            "type": "surface"
           }
          ],
          "table": [
           {
            "cells": {
             "fill": {
              "color": "#EBF0F8"
             },
             "line": {
              "color": "white"
             }
            },
            "header": {
             "fill": {
              "color": "#C8D4E3"
             },
             "line": {
              "color": "white"
             }
            },
            "type": "table"
           }
          ]
         },
         "layout": {
          "annotationdefaults": {
           "arrowcolor": "#2a3f5f",
           "arrowhead": 0,
           "arrowwidth": 1
          },
          "autotypenumbers": "strict",
          "coloraxis": {
           "colorbar": {
            "outlinewidth": 0,
            "ticks": ""
           }
          },
          "colorscale": {
           "diverging": [
            [
             0,
             "#8e0152"
            ],
            [
             0.1,
             "#c51b7d"
            ],
            [
             0.2,
             "#de77ae"
            ],
            [
             0.3,
             "#f1b6da"
            ],
            [
             0.4,
             "#fde0ef"
            ],
            [
             0.5,
             "#f7f7f7"
            ],
            [
             0.6,
             "#e6f5d0"
            ],
            [
             0.7,
             "#b8e186"
            ],
            [
             0.8,
             "#7fbc41"
            ],
            [
             0.9,
             "#4d9221"
            ],
            [
             1,
             "#276419"
            ]
           ],
           "sequential": [
            [
             0,
             "#0d0887"
            ],
            [
             0.1111111111111111,
             "#46039f"
            ],
            [
             0.2222222222222222,
             "#7201a8"
            ],
            [
             0.3333333333333333,
             "#9c179e"
            ],
            [
             0.4444444444444444,
             "#bd3786"
            ],
            [
             0.5555555555555556,
             "#d8576b"
            ],
            [
             0.6666666666666666,
             "#ed7953"
            ],
            [
             0.7777777777777778,
             "#fb9f3a"
            ],
            [
             0.8888888888888888,
             "#fdca26"
            ],
            [
             1,
             "#f0f921"
            ]
           ],
           "sequentialminus": [
            [
             0,
             "#0d0887"
            ],
            [
             0.1111111111111111,
             "#46039f"
            ],
            [
             0.2222222222222222,
             "#7201a8"
            ],
            [
             0.3333333333333333,
             "#9c179e"
            ],
            [
             0.4444444444444444,
             "#bd3786"
            ],
            [
             0.5555555555555556,
             "#d8576b"
            ],
            [
             0.6666666666666666,
             "#ed7953"
            ],
            [
             0.7777777777777778,
             "#fb9f3a"
            ],
            [
             0.8888888888888888,
             "#fdca26"
            ],
            [
             1,
             "#f0f921"
            ]
           ]
          },
          "colorway": [
           "#636efa",
           "#EF553B",
           "#00cc96",
           "#ab63fa",
           "#FFA15A",
           "#19d3f3",
           "#FF6692",
           "#B6E880",
           "#FF97FF",
           "#FECB52"
          ],
          "font": {
           "color": "#2a3f5f"
          },
          "geo": {
           "bgcolor": "white",
           "lakecolor": "white",
           "landcolor": "#E5ECF6",
           "showlakes": true,
           "showland": true,
           "subunitcolor": "white"
          },
          "hoverlabel": {
           "align": "left"
          },
          "hovermode": "closest",
          "mapbox": {
           "style": "light"
          },
          "paper_bgcolor": "white",
          "plot_bgcolor": "#E5ECF6",
          "polar": {
           "angularaxis": {
            "gridcolor": "white",
            "linecolor": "white",
            "ticks": ""
           },
           "bgcolor": "#E5ECF6",
           "radialaxis": {
            "gridcolor": "white",
            "linecolor": "white",
            "ticks": ""
           }
          },
          "scene": {
           "xaxis": {
            "backgroundcolor": "#E5ECF6",
            "gridcolor": "white",
            "gridwidth": 2,
            "linecolor": "white",
            "showbackground": true,
            "ticks": "",
            "zerolinecolor": "white"
           },
           "yaxis": {
            "backgroundcolor": "#E5ECF6",
            "gridcolor": "white",
            "gridwidth": 2,
            "linecolor": "white",
            "showbackground": true,
            "ticks": "",
            "zerolinecolor": "white"
           },
           "zaxis": {
            "backgroundcolor": "#E5ECF6",
            "gridcolor": "white",
            "gridwidth": 2,
            "linecolor": "white",
            "showbackground": true,
            "ticks": "",
            "zerolinecolor": "white"
           }
          },
          "shapedefaults": {
           "line": {
            "color": "#2a3f5f"
           }
          },
          "ternary": {
           "aaxis": {
            "gridcolor": "white",
            "linecolor": "white",
            "ticks": ""
           },
           "baxis": {
            "gridcolor": "white",
            "linecolor": "white",
            "ticks": ""
           },
           "bgcolor": "#E5ECF6",
           "caxis": {
            "gridcolor": "white",
            "linecolor": "white",
            "ticks": ""
           }
          },
          "title": {
           "x": 0.05
          },
          "xaxis": {
           "automargin": true,
           "gridcolor": "white",
           "linecolor": "white",
           "ticks": "",
           "title": {
            "standoff": 15
           },
           "zerolinecolor": "white",
           "zerolinewidth": 2
          },
          "yaxis": {
           "automargin": true,
           "gridcolor": "white",
           "linecolor": "white",
           "ticks": "",
           "title": {
            "standoff": 15
           },
           "zerolinecolor": "white",
           "zerolinewidth": 2
          }
         }
        },
        "title": {
         "text": "Plotly"
        },
        "xaxis": {
         "showticklabels": true,
         "title": {
          "text": "x"
         },
         "visible": true
        },
        "yaxis": {
         "showticklabels": true,
         "title": {
          "text": "y"
         },
         "visible": true
        }
       }
      },
      "text/html": [
       "<div>                            <div id=\"832a95f4-904b-4e5f-b38b-a16eceedad81\" class=\"plotly-graph-div\" style=\"height:525px; width:100%;\"></div>            <script type=\"text/javascript\">                require([\"plotly\"], function(Plotly) {                    window.PLOTLYENV=window.PLOTLYENV || {};                                    if (document.getElementById(\"832a95f4-904b-4e5f-b38b-a16eceedad81\")) {                    Plotly.newPlot(                        \"832a95f4-904b-4e5f-b38b-a16eceedad81\",                        [{\"y\":[1,2,3],\"type\":\"bar\"}],                        {\"xaxis\":{\"showticklabels\":true,\"title\":{\"text\":\"x\"},\"visible\":true},\"yaxis\":{\"showticklabels\":true,\"title\":{\"text\":\"y\"},\"visible\":true},\"template\":{\"data\":{\"histogram2dcontour\":[{\"type\":\"histogram2dcontour\",\"colorbar\":{\"outlinewidth\":0,\"ticks\":\"\"},\"colorscale\":[[0.0,\"#0d0887\"],[0.1111111111111111,\"#46039f\"],[0.2222222222222222,\"#7201a8\"],[0.3333333333333333,\"#9c179e\"],[0.4444444444444444,\"#bd3786\"],[0.5555555555555556,\"#d8576b\"],[0.6666666666666666,\"#ed7953\"],[0.7777777777777778,\"#fb9f3a\"],[0.8888888888888888,\"#fdca26\"],[1.0,\"#f0f921\"]]}],\"choropleth\":[{\"type\":\"choropleth\",\"colorbar\":{\"outlinewidth\":0,\"ticks\":\"\"}}],\"histogram2d\":[{\"type\":\"histogram2d\",\"colorbar\":{\"outlinewidth\":0,\"ticks\":\"\"},\"colorscale\":[[0.0,\"#0d0887\"],[0.1111111111111111,\"#46039f\"],[0.2222222222222222,\"#7201a8\"],[0.3333333333333333,\"#9c179e\"],[0.4444444444444444,\"#bd3786\"],[0.5555555555555556,\"#d8576b\"],[0.6666666666666666,\"#ed7953\"],[0.7777777777777778,\"#fb9f3a\"],[0.8888888888888888,\"#fdca26\"],[1.0,\"#f0f921\"]]}],\"heatmap\":[{\"type\":\"heatmap\",\"colorbar\":{\"outlinewidth\":0,\"ticks\":\"\"},\"colorscale\":[[0.0,\"#0d0887\"],[0.1111111111111111,\"#46039f\"],[0.2222222222222222,\"#7201a8\"],[0.3333333333333333,\"#9c179e\"],[0.4444444444444444,\"#bd3786\"],[0.5555555555555556,\"#d8576b\"],[0.6666666666666666,\"#ed7953\"],[0.7777777777777778,\"#fb9f3a\"],[0.8888888888888888,\"#fdca26\"],[1.0,\"#f0f921\"]]}],\"heatmapgl\":[{\"type\":\"heatmapgl\",\"colorbar\":{\"outlinewidth\":0,\"ticks\":\"\"},\"colorscale\":[[0.0,\"#0d0887\"],[0.1111111111111111,\"#46039f\"],[0.2222222222222222,\"#7201a8\"],[0.3333333333333333,\"#9c179e\"],[0.4444444444444444,\"#bd3786\"],[0.5555555555555556,\"#d8576b\"],[0.6666666666666666,\"#ed7953\"],[0.7777777777777778,\"#fb9f3a\"],[0.8888888888888888,\"#fdca26\"],[1.0,\"#f0f921\"]]}],\"contourcarpet\":[{\"type\":\"contourcarpet\",\"colorbar\":{\"outlinewidth\":0,\"ticks\":\"\"}}],\"contour\":[{\"type\":\"contour\",\"colorbar\":{\"outlinewidth\":0,\"ticks\":\"\"},\"colorscale\":[[0.0,\"#0d0887\"],[0.1111111111111111,\"#46039f\"],[0.2222222222222222,\"#7201a8\"],[0.3333333333333333,\"#9c179e\"],[0.4444444444444444,\"#bd3786\"],[0.5555555555555556,\"#d8576b\"],[0.6666666666666666,\"#ed7953\"],[0.7777777777777778,\"#fb9f3a\"],[0.8888888888888888,\"#fdca26\"],[1.0,\"#f0f921\"]]}],\"surface\":[{\"type\":\"surface\",\"colorbar\":{\"outlinewidth\":0,\"ticks\":\"\"},\"colorscale\":[[0.0,\"#0d0887\"],[0.1111111111111111,\"#46039f\"],[0.2222222222222222,\"#7201a8\"],[0.3333333333333333,\"#9c179e\"],[0.4444444444444444,\"#bd3786\"],[0.5555555555555556,\"#d8576b\"],[0.6666666666666666,\"#ed7953\"],[0.7777777777777778,\"#fb9f3a\"],[0.8888888888888888,\"#fdca26\"],[1.0,\"#f0f921\"]]}],\"mesh3d\":[{\"type\":\"mesh3d\",\"colorbar\":{\"outlinewidth\":0,\"ticks\":\"\"}}],\"scatter\":[{\"fillpattern\":{\"fillmode\":\"overlay\",\"size\":10,\"solidity\":0.2},\"type\":\"scatter\"}],\"parcoords\":[{\"type\":\"parcoords\",\"line\":{\"colorbar\":{\"outlinewidth\":0,\"ticks\":\"\"}}}],\"scatterpolargl\":[{\"type\":\"scatterpolargl\",\"marker\":{\"colorbar\":{\"outlinewidth\":0,\"ticks\":\"\"}}}],\"bar\":[{\"error_x\":{\"color\":\"#2a3f5f\"},\"error_y\":{\"color\":\"#2a3f5f\"},\"marker\":{\"line\":{\"color\":\"#E5ECF6\",\"width\":0.5},\"pattern\":{\"fillmode\":\"overlay\",\"size\":10,\"solidity\":0.2}},\"type\":\"bar\"}],\"scattergeo\":[{\"type\":\"scattergeo\",\"marker\":{\"colorbar\":{\"outlinewidth\":0,\"ticks\":\"\"}}}],\"scatterpolar\":[{\"type\":\"scatterpolar\",\"marker\":{\"colorbar\":{\"outlinewidth\":0,\"ticks\":\"\"}}}],\"histogram\":[{\"marker\":{\"pattern\":{\"fillmode\":\"overlay\",\"size\":10,\"solidity\":0.2}},\"type\":\"histogram\"}],\"scattergl\":[{\"type\":\"scattergl\",\"marker\":{\"colorbar\":{\"outlinewidth\":0,\"ticks\":\"\"}}}],\"scatter3d\":[{\"type\":\"scatter3d\",\"line\":{\"colorbar\":{\"outlinewidth\":0,\"ticks\":\"\"}},\"marker\":{\"colorbar\":{\"outlinewidth\":0,\"ticks\":\"\"}}}],\"scattermapbox\":[{\"type\":\"scattermapbox\",\"marker\":{\"colorbar\":{\"outlinewidth\":0,\"ticks\":\"\"}}}],\"scatterternary\":[{\"type\":\"scatterternary\",\"marker\":{\"colorbar\":{\"outlinewidth\":0,\"ticks\":\"\"}}}],\"scattercarpet\":[{\"type\":\"scattercarpet\",\"marker\":{\"colorbar\":{\"outlinewidth\":0,\"ticks\":\"\"}}}],\"carpet\":[{\"aaxis\":{\"endlinecolor\":\"#2a3f5f\",\"gridcolor\":\"white\",\"linecolor\":\"white\",\"minorgridcolor\":\"white\",\"startlinecolor\":\"#2a3f5f\"},\"baxis\":{\"endlinecolor\":\"#2a3f5f\",\"gridcolor\":\"white\",\"linecolor\":\"white\",\"minorgridcolor\":\"white\",\"startlinecolor\":\"#2a3f5f\"},\"type\":\"carpet\"}],\"table\":[{\"cells\":{\"fill\":{\"color\":\"#EBF0F8\"},\"line\":{\"color\":\"white\"}},\"header\":{\"fill\":{\"color\":\"#C8D4E3\"},\"line\":{\"color\":\"white\"}},\"type\":\"table\"}],\"barpolar\":[{\"marker\":{\"line\":{\"color\":\"#E5ECF6\",\"width\":0.5},\"pattern\":{\"fillmode\":\"overlay\",\"size\":10,\"solidity\":0.2}},\"type\":\"barpolar\"}],\"pie\":[{\"automargin\":true,\"type\":\"pie\"}]},\"layout\":{\"autotypenumbers\":\"strict\",\"colorway\":[\"#636efa\",\"#EF553B\",\"#00cc96\",\"#ab63fa\",\"#FFA15A\",\"#19d3f3\",\"#FF6692\",\"#B6E880\",\"#FF97FF\",\"#FECB52\"],\"font\":{\"color\":\"#2a3f5f\"},\"hovermode\":\"closest\",\"hoverlabel\":{\"align\":\"left\"},\"paper_bgcolor\":\"white\",\"plot_bgcolor\":\"#E5ECF6\",\"polar\":{\"bgcolor\":\"#E5ECF6\",\"angularaxis\":{\"gridcolor\":\"white\",\"linecolor\":\"white\",\"ticks\":\"\"},\"radialaxis\":{\"gridcolor\":\"white\",\"linecolor\":\"white\",\"ticks\":\"\"}},\"ternary\":{\"bgcolor\":\"#E5ECF6\",\"aaxis\":{\"gridcolor\":\"white\",\"linecolor\":\"white\",\"ticks\":\"\"},\"baxis\":{\"gridcolor\":\"white\",\"linecolor\":\"white\",\"ticks\":\"\"},\"caxis\":{\"gridcolor\":\"white\",\"linecolor\":\"white\",\"ticks\":\"\"}},\"coloraxis\":{\"colorbar\":{\"outlinewidth\":0,\"ticks\":\"\"}},\"colorscale\":{\"sequential\":[[0.0,\"#0d0887\"],[0.1111111111111111,\"#46039f\"],[0.2222222222222222,\"#7201a8\"],[0.3333333333333333,\"#9c179e\"],[0.4444444444444444,\"#bd3786\"],[0.5555555555555556,\"#d8576b\"],[0.6666666666666666,\"#ed7953\"],[0.7777777777777778,\"#fb9f3a\"],[0.8888888888888888,\"#fdca26\"],[1.0,\"#f0f921\"]],\"sequentialminus\":[[0.0,\"#0d0887\"],[0.1111111111111111,\"#46039f\"],[0.2222222222222222,\"#7201a8\"],[0.3333333333333333,\"#9c179e\"],[0.4444444444444444,\"#bd3786\"],[0.5555555555555556,\"#d8576b\"],[0.6666666666666666,\"#ed7953\"],[0.7777777777777778,\"#fb9f3a\"],[0.8888888888888888,\"#fdca26\"],[1.0,\"#f0f921\"]],\"diverging\":[[0,\"#8e0152\"],[0.1,\"#c51b7d\"],[0.2,\"#de77ae\"],[0.3,\"#f1b6da\"],[0.4,\"#fde0ef\"],[0.5,\"#f7f7f7\"],[0.6,\"#e6f5d0\"],[0.7,\"#b8e186\"],[0.8,\"#7fbc41\"],[0.9,\"#4d9221\"],[1,\"#276419\"]]},\"xaxis\":{\"gridcolor\":\"white\",\"linecolor\":\"white\",\"ticks\":\"\",\"title\":{\"standoff\":15},\"zerolinecolor\":\"white\",\"automargin\":true,\"zerolinewidth\":2},\"yaxis\":{\"gridcolor\":\"white\",\"linecolor\":\"white\",\"ticks\":\"\",\"title\":{\"standoff\":15},\"zerolinecolor\":\"white\",\"automargin\":true,\"zerolinewidth\":2},\"scene\":{\"xaxis\":{\"backgroundcolor\":\"#E5ECF6\",\"gridcolor\":\"white\",\"linecolor\":\"white\",\"showbackground\":true,\"ticks\":\"\",\"zerolinecolor\":\"white\",\"gridwidth\":2},\"yaxis\":{\"backgroundcolor\":\"#E5ECF6\",\"gridcolor\":\"white\",\"linecolor\":\"white\",\"showbackground\":true,\"ticks\":\"\",\"zerolinecolor\":\"white\",\"gridwidth\":2},\"zaxis\":{\"backgroundcolor\":\"#E5ECF6\",\"gridcolor\":\"white\",\"linecolor\":\"white\",\"showbackground\":true,\"ticks\":\"\",\"zerolinecolor\":\"white\",\"gridwidth\":2}},\"shapedefaults\":{\"line\":{\"color\":\"#2a3f5f\"}},\"annotationdefaults\":{\"arrowcolor\":\"#2a3f5f\",\"arrowhead\":0,\"arrowwidth\":1},\"geo\":{\"bgcolor\":\"white\",\"landcolor\":\"#E5ECF6\",\"subunitcolor\":\"white\",\"showland\":true,\"showlakes\":true,\"lakecolor\":\"white\"},\"title\":{\"x\":0.05},\"mapbox\":{\"style\":\"light\"}}},\"title\":{\"text\":\"Plotly\"}},                        {\"responsive\": true}                    ).then(function(){\n",
       "                            \n",
       "var gd = document.getElementById('832a95f4-904b-4e5f-b38b-a16eceedad81');\n",
       "var x = new MutationObserver(function (mutations, observer) {{\n",
       "        var display = window.getComputedStyle(gd).display;\n",
       "        if (!display || display === 'none') {{\n",
       "            console.log([gd, 'removed!']);\n",
       "            Plotly.purge(gd);\n",
       "            observer.disconnect();\n",
       "        }}\n",
       "}});\n",
       "\n",
       "// Listen for the removal of the full notebook cells\n",
       "var notebookContainer = gd.closest('#notebook-container');\n",
       "if (notebookContainer) {{\n",
       "    x.observe(notebookContainer, {childList: true});\n",
       "}}\n",
       "\n",
       "// Listen for the clearing of the current output cell\n",
       "var outputEl = gd.closest('.output');\n",
       "if (outputEl) {{\n",
       "    x.observe(outputEl, {childList: true});\n",
       "}}\n",
       "\n",
       "                        })                };                });            </script>        </div>"
      ]
     },
     "metadata": {},
     "output_type": "display_data"
    },
    {
     "data": {
      "image/png": "[encoded data removed]",
      "text/plain": [
       "<Figure size 432x288 with 1 Axes>"
      ]
     },
     "metadata": {
      "needs_background": "light"
     },
     "output_type": "display_data"
    }
   ],
   "source": [
    "x = [1,2,3]\n",
    "\n",
    "plt.bar(x,x, color ='maroon',width = 0.4)\n",
    "plt.title(\"Matplotlib\")\n",
    "plt.ylabel('y')\n",
    "plt.xlabel('x')\n",
    "\n",
    "fig = go.Figure(\n",
    "    data=[go.Bar(y=x)],\n",
    "    layout_title_text=\"Plotly\",\n",
    "    layout = {'xaxis': {'title': 'x','visible': True,'showticklabels': True},\n",
    "              'yaxis': {'title': 'y','visible': True,'showticklabels': True}\n",
    "              }\n",
    "            )\n",
    "fig.show()\n"
   ]
  },
  {
   "cell_type": "markdown",
   "id": "automated-fossil",
   "metadata": {},
   "source": [
    "## 2. část - Využití t-SNE knihovny pro redukci dimenze dat\n",
    "\n",
    "V této části je úkolem redukovat dimenzi vstupních vektorů a poté je vizualizovat. Jedná se o tzv. vektory mluvčích (x-vektory), které se často využívají při verifikaci mluvčího. Pokud tyto vektory fungují správně, tak by z vizualizace mělo být vidět, že se vektory stejných osob shlukují a zároveň jsou dostatečně vzdálené od vektorů ostatních osob.\n",
    "\n",
    "Je potřeba vyřešit následující úlohy:\n",
    "1. Načíst data, která byla uložena jako tuple (data, Y) pomocí knihovny pickle\n",
    "    - je potřeba binárně otevřít soubor data.pk a správně načíst data\n",
    "    - \"data\" ... jedná se o list obsahující vektory 5 osob, celková velikost je (25, 128)\n",
    "        - v Y jsou labely osob pro jednotlivé vektory (0,0,0,0,0,1,1,1,1,1,2,2,...)\n",
    "        \n",
    "        \n",
    "2. Použít t-SNE pro redukci dimenze dat do 2D (již naimportovaná knihovna), doporučuji přečíst si dokumentaci a podívat se na použití\n",
    "\n",
    "\n",
    "3. Vizualizovat vektory ve 2D s použitím plotly knihovny, graf stačí zobrazit zde v notebooku\n",
    "\n",
    "\n",
    "### Výsledek by měl vypadat přibližně takto\n",
    "![output](sample_output.png)"
   ]
  },
  {
   "cell_type": "code",
   "execution_count": 11,
   "id": "intelligent-undergraduate",
   "metadata": {},
   "outputs": [],
   "source": [
    "from sklearn.manifold import TSNE\n",
    "import pickle as pk\n",
    "import numpy as np\n",
    "import matplotlib.pyplot as plt\n",
    "import plotly.express as px\n",
    "import csv\n",
    "from statsmodels.graphics.mosaicplot import mosaic\n",
    "import pandas as pd\n",
    "import plotly.graph_objects as go\n",
    "import requests\n",
    "import urllib.parse\n"
   ]
  },
  {
   "cell_type": "code",
   "execution_count": 12,
   "id": "confident-mills",
   "metadata": {
    "scrolled": true
   },
   "outputs": [
    {
     "data": {
      "application/vnd.plotly.v1+json": {
       "config": {
        "plotlyServerURL": "https://plot.ly"
       },
       "data": [
        {
         "hovertemplate": "color=1<br>x=%{x}<br>y=%{y}<extra></extra>",
         "legendgroup": "1",
         "marker": {
          "color": "#636efa",
          "symbol": "circle"
         },
         "mode": "markers",
         "name": "Osoba 1",
         "orientation": "v",
         "showlegend": true,
         "type": "scatter",
         "x": [
          -105.34212493896484,
          -119.9486083984375,
          -117.02289581298828,
          -85.41117095947266,
          -99.21002197265625
         ],
         "xaxis": "x",
         "y": [
          -164.7943878173828,
          -160.8239288330078,
          -183.456298828125,
          -169.11114501953125,
          -178.16165161132812
         ],
         "yaxis": "y"
        },
        {
         "hovertemplate": "color=2<br>x=%{x}<br>y=%{y}<extra></extra>",
         "legendgroup": "2",
         "marker": {
          "color": "#EF553B",
          "symbol": "circle"
         },
         "mode": "markers",
         "name": "Osoba 2",
         "orientation": "v",
         "showlegend": true,
         "type": "scatter",
         "x": [
          18.604711532592773,
          28.706037521362305,
          44.66998291015625,
          15.094099998474121,
          32.1673469543457
         ],
         "xaxis": "x",
         "y": [
          -234.35081481933594,
          -212.30111694335938,
          -204.59100341796875,
          -203.7270050048828,
          -225.60330200195312
         ],
         "yaxis": "y"
        },
        {
         "hovertemplate": "color=3<br>x=%{x}<br>y=%{y}<extra></extra>",
         "legendgroup": "3",
         "marker": {
          "color": "#00cc96",
          "symbol": "circle"
         },
         "mode": "markers",
         "name": "Osoba 3",
         "orientation": "v",
         "showlegend": true,
         "type": "scatter",
         "x": [
          20.479503631591797,
          26.948436737060547,
          36.184661865234375,
          46.73945236206055,
          26.4293270111084
         ],
         "xaxis": "x",
         "y": [
          110.23626708984375,
          124.752197265625,
          133.94503784179688,
          154.35304260253906,
          147.55307006835938
         ],
         "yaxis": "y"
        },
        {
         "hovertemplate": "color=4<br>x=%{x}<br>y=%{y}<extra></extra>",
         "legendgroup": "4",
         "marker": {
          "color": "#ab63fa",
          "symbol": "circle"
         },
         "mode": "markers",
         "name": "Osoba 4",
         "orientation": "v",
         "showlegend": true,
         "type": "scatter",
         "x": [
          -81.66707611083984,
          -71.62932586669922,
          -100.7228012084961,
          -66.4552001953125,
          -67.24772644042969
         ],
         "xaxis": "x",
         "y": [
          96.46492767333984,
          80.6141357421875,
          95.47916412353516,
          112.68716430664062,
          97.96369934082031
         ],
         "yaxis": "y"
        },
        {
         "hovertemplate": "color=5<br>x=%{x}<br>y=%{y}<extra></extra>",
         "legendgroup": "5",
         "marker": {
          "color": "#FFA15A",
          "symbol": "circle"
         },
         "mode": "markers",
         "name": "Osoba 5",
         "orientation": "v",
         "showlegend": true,
         "type": "scatter",
         "x": [
          25.16301155090332,
          18.30001449584961,
          5.882400035858154,
          34.68134689331055,
          53.18449020385742
         ],
         "xaxis": "x",
         "y": [
          25.66335678100586,
          40.228702545166016,
          28.179384231567383,
          37.669857025146484,
          38.556793212890625
         ],
         "yaxis": "y"
        }
       ],
       "layout": {
        "legend": {
         "title": {
          "text": ""
         },
         "tracegroupgap": 0
        },
        "margin": {
         "t": 60
        },
        "template": {
         "data": {
          "bar": [
           {
            "error_x": {
             "color": "#2a3f5f"
            },
            "error_y": {
             "color": "#2a3f5f"
            },
            "marker": {
             "line": {
              "color": "#E5ECF6",
              "width": 0.5
             },
             "pattern": {
              "fillmode": "overlay",
              "size": 10,
              "solidity": 0.2
             }
            },
            "type": "bar"
           }
          ],
          "barpolar": [
           {
            "marker": {
             "line": {
              "color": "#E5ECF6",
              "width": 0.5
             },
             "pattern": {
              "fillmode": "overlay",
              "size": 10,
              "solidity": 0.2
             }
            },
            "type": "barpolar"
           }
          ],
          "carpet": [
           {
            "aaxis": {
             "endlinecolor": "#2a3f5f",
             "gridcolor": "white",
             "linecolor": "white",
             "minorgridcolor": "white",
             "startlinecolor": "#2a3f5f"
            },
            "baxis": {
             "endlinecolor": "#2a3f5f",
             "gridcolor": "white",
             "linecolor": "white",
             "minorgridcolor": "white",
             "startlinecolor": "#2a3f5f"
            },
            "type": "carpet"
           }
          ],
          "choropleth": [
           {
            "colorbar": {
             "outlinewidth": 0,
             "ticks": ""
            },
            "type": "choropleth"
           }
          ],
          "contour": [
           {
            "colorbar": {
             "outlinewidth": 0,
             "ticks": ""
            },
            "colorscale": [
             [
              0,
              "#0d0887"
             ],
             [
              0.1111111111111111,
              "#46039f"
             ],
             [
              0.2222222222222222,
              "#7201a8"
             ],
             [
              0.3333333333333333,
              "#9c179e"
             ],
             [
              0.4444444444444444,
              "#bd3786"
             ],
             [
              0.5555555555555556,
              "#d8576b"
             ],
             [
              0.6666666666666666,
              "#ed7953"
             ],
             [
              0.7777777777777778,
              "#fb9f3a"
             ],
             [
              0.8888888888888888,
              "#fdca26"
             ],
             [
              1,
              "#f0f921"
             ]
            ],
            "type": "contour"
           }
          ],
          "contourcarpet": [
           {
            "colorbar": {
             "outlinewidth": 0,
             "ticks": ""
            },
            "type": "contourcarpet"
           }
          ],
          "heatmap": [
           {
            "colorbar": {
             "outlinewidth": 0,
             "ticks": ""
            },
            "colorscale": [
             [
              0,
              "#0d0887"
             ],
             [
              0.1111111111111111,
              "#46039f"
             ],
             [
              0.2222222222222222,
              "#7201a8"
             ],
             [
              0.3333333333333333,
              "#9c179e"
             ],
             [
              0.4444444444444444,
              "#bd3786"
             ],
             [
              0.5555555555555556,
              "#d8576b"
             ],
             [
              0.6666666666666666,
              "#ed7953"
             ],
             [
              0.7777777777777778,
              "#fb9f3a"
             ],
             [
              0.8888888888888888,
              "#fdca26"
             ],
             [
              1,
              "#f0f921"
             ]
            ],
            "type": "heatmap"
           }
          ],
          "heatmapgl": [
           {
            "colorbar": {
             "outlinewidth": 0,
             "ticks": ""
            },
            "colorscale": [
             [
              0,
              "#0d0887"
             ],
             [
              0.1111111111111111,
              "#46039f"
             ],
             [
              0.2222222222222222,
              "#7201a8"
             ],
             [
              0.3333333333333333,
              "#9c179e"
             ],
             [
              0.4444444444444444,
              "#bd3786"
             ],
             [
              0.5555555555555556,
              "#d8576b"
             ],
             [
              0.6666666666666666,
              "#ed7953"
             ],
             [
              0.7777777777777778,
              "#fb9f3a"
             ],
             [
              0.8888888888888888,
              "#fdca26"
             ],
             [
              1,
              "#f0f921"
             ]
            ],
            "type": "heatmapgl"
           }
          ],
          "histogram": [
           {
            "marker": {
             "pattern": {
              "fillmode": "overlay",
              "size": 10,
              "solidity": 0.2
             }
            },
            "type": "histogram"
           }
          ],
          "histogram2d": [
           {
            "colorbar": {
             "outlinewidth": 0,
             "ticks": ""
            },
            "colorscale": [
             [
              0,
              "#0d0887"
             ],
             [
              0.1111111111111111,
              "#46039f"
             ],
             [
              0.2222222222222222,
              "#7201a8"
             ],
             [
              0.3333333333333333,
              "#9c179e"
             ],
             [
              0.4444444444444444,
              "#bd3786"
             ],
             [
              0.5555555555555556,
              "#d8576b"
             ],
             [
              0.6666666666666666,
              "#ed7953"
             ],
             [
              0.7777777777777778,
              "#fb9f3a"
             ],
             [
              0.8888888888888888,
              "#fdca26"
             ],
             [
              1,
              "#f0f921"
             ]
            ],
            "type": "histogram2d"
           }
          ],
          "histogram2dcontour": [
           {
            "colorbar": {
             "outlinewidth": 0,
             "ticks": ""
            },
            "colorscale": [
             [
              0,
              "#0d0887"
             ],
             [
              0.1111111111111111,
              "#46039f"
             ],
             [
              0.2222222222222222,
              "#7201a8"
             ],
             [
              0.3333333333333333,
              "#9c179e"
             ],
             [
              0.4444444444444444,
              "#bd3786"
             ],
             [
              0.5555555555555556,
              "#d8576b"
             ],
             [
              0.6666666666666666,
              "#ed7953"
             ],
             [
              0.7777777777777778,
              "#fb9f3a"
             ],
             [
              0.8888888888888888,
              "#fdca26"
             ],
             [
              1,
              "#f0f921"
             ]
            ],
            "type": "histogram2dcontour"
           }
          ],
          "mesh3d": [
           {
            "colorbar": {
             "outlinewidth": 0,
             "ticks": ""
            },
            "type": "mesh3d"
           }
          ],
          "parcoords": [
           {
            "line": {
             "colorbar": {
              "outlinewidth": 0,
              "ticks": ""
             }
            },
            "type": "parcoords"
           }
          ],
          "pie": [
           {
            "automargin": true,
            "type": "pie"
           }
          ],
          "scatter": [
           {
            "fillpattern": {
             "fillmode": "overlay",
             "size": 10,
             "solidity": 0.2
            },
            "type": "scatter"
           }
          ],
          "scatter3d": [
           {
            "line": {
             "colorbar": {
              "outlinewidth": 0,
              "ticks": ""
             }
            },
            "marker": {
             "colorbar": {
              "outlinewidth": 0,
              "ticks": ""
             }
            },
            "type": "scatter3d"
           }
          ],
          "scattercarpet": [
           {
            "marker": {
             "colorbar": {
              "outlinewidth": 0,
              "ticks": ""
             }
            },
            "type": "scattercarpet"
           }
          ],
          "scattergeo": [
           {
            "marker": {
             "colorbar": {
              "outlinewidth": 0,
              "ticks": ""
             }
            },
            "type": "scattergeo"
           }
          ],
          "scattergl": [
           {
            "marker": {
             "colorbar": {
              "outlinewidth": 0,
              "ticks": ""
             }
            },
            "type": "scattergl"
           }
          ],
          "scattermapbox": [
           {
            "marker": {
             "colorbar": {
              "outlinewidth": 0,
              "ticks": ""
             }
            },
            "type": "scattermapbox"
           }
          ],
          "scatterpolar": [
           {
            "marker": {
             "colorbar": {
              "outlinewidth": 0,
              "ticks": ""
             }
            },
            "type": "scatterpolar"
           }
          ],
          "scatterpolargl": [
           {
            "marker": {
             "colorbar": {
              "outlinewidth": 0,
              "ticks": ""
             }
            },
            "type": "scatterpolargl"
           }
          ],
          "scatterternary": [
           {
            "marker": {
             "colorbar": {
              "outlinewidth": 0,
              "ticks": ""
             }
            },
            "type": "scatterternary"
           }
          ],
          "surface": [
           {
            "colorbar": {
             "outlinewidth": 0,
             "ticks": ""
            },
            "colorscale": [
             [
              0,
              "#0d0887"
             ],
             [
              0.1111111111111111,
              "#46039f"
             ],
             [
              0.2222222222222222,
              "#7201a8"
             ],
             [
              0.3333333333333333,
              "#9c179e"
             ],
             [
              0.4444444444444444,
              "#bd3786"
             ],
             [
              0.5555555555555556,
              "#d8576b"
             ],
             [
              0.6666666666666666,
              "#ed7953"
             ],
             [
              0.7777777777777778,
              "#fb9f3a"
             ],
             [
              0.8888888888888888,
              "#fdca26"
             ],
             [
              1,
              "#f0f921"
             ]
            ],
            "type": "surface"
           }
          ],
          "table": [
           {
            "cells": {
             "fill": {
              "color": "#EBF0F8"
             },
             "line": {
              "color": "white"
             }
            },
            "header": {
             "fill": {
              "color": "#C8D4E3"
             },
             "line": {
              "color": "white"
             }
            },
            "type": "table"
           }
          ]
         },
         "layout": {
          "annotationdefaults": {
           "arrowcolor": "#2a3f5f",
           "arrowhead": 0,
           "arrowwidth": 1
          },
          "autotypenumbers": "strict",
          "coloraxis": {
           "colorbar": {
            "outlinewidth": 0,
            "ticks": ""
           }
          },
          "colorscale": {
           "diverging": [
            [
             0,
             "#8e0152"
            ],
            [
             0.1,
             "#c51b7d"
            ],
            [
             0.2,
             "#de77ae"
            ],
            [
             0.3,
             "#f1b6da"
            ],
            [
             0.4,
             "#fde0ef"
            ],
            [
             0.5,
             "#f7f7f7"
            ],
            [
             0.6,
             "#e6f5d0"
            ],
            [
             0.7,
             "#b8e186"
            ],
            [
             0.8,
             "#7fbc41"
            ],
            [
             0.9,
             "#4d9221"
            ],
            [
             1,
             "#276419"
            ]
           ],
           "sequential": [
            [
             0,
             "#0d0887"
            ],
            [
             0.1111111111111111,
             "#46039f"
            ],
            [
             0.2222222222222222,
             "#7201a8"
            ],
            [
             0.3333333333333333,
             "#9c179e"
            ],
            [
             0.4444444444444444,
             "#bd3786"
            ],
            [
             0.5555555555555556,
             "#d8576b"
            ],
            [
             0.6666666666666666,
             "#ed7953"
            ],
            [
             0.7777777777777778,
             "#fb9f3a"
            ],
            [
             0.8888888888888888,
             "#fdca26"
            ],
            [
             1,
             "#f0f921"
            ]
           ],
           "sequentialminus": [
            [
             0,
             "#0d0887"
            ],
            [
             0.1111111111111111,
             "#46039f"
            ],
            [
             0.2222222222222222,
             "#7201a8"
            ],
            [
             0.3333333333333333,
             "#9c179e"
            ],
            [
             0.4444444444444444,
             "#bd3786"
            ],
            [
             0.5555555555555556,
             "#d8576b"
            ],
            [
             0.6666666666666666,
             "#ed7953"
            ],
            [
             0.7777777777777778,
             "#fb9f3a"
            ],
            [
             0.8888888888888888,
             "#fdca26"
            ],
            [
             1,
             "#f0f921"
            ]
           ]
          },
          "colorway": [
           "#636efa",
           "#EF553B",
           "#00cc96",
           "#ab63fa",
           "#FFA15A",
           "#19d3f3",
           "#FF6692",
           "#B6E880",
           "#FF97FF",
           "#FECB52"
          ],
          "font": {
           "color": "#2a3f5f"
          },
          "geo": {
           "bgcolor": "white",
           "lakecolor": "white",
           "landcolor": "#E5ECF6",
           "showlakes": true,
           "showland": true,
           "subunitcolor": "white"
          },
          "hoverlabel": {
           "align": "left"
          },
          "hovermode": "closest",
          "mapbox": {
           "style": "light"
          },
          "paper_bgcolor": "white",
          "plot_bgcolor": "#E5ECF6",
          "polar": {
           "angularaxis": {
            "gridcolor": "white",
            "linecolor": "white",
            "ticks": ""
           },
           "bgcolor": "#E5ECF6",
           "radialaxis": {
            "gridcolor": "white",
            "linecolor": "white",
            "ticks": ""
           }
          },
          "scene": {
           "xaxis": {
            "backgroundcolor": "#E5ECF6",
            "gridcolor": "white",
            "gridwidth": 2,
            "linecolor": "white",
            "showbackground": true,
            "ticks": "",
            "zerolinecolor": "white"
           },
           "yaxis": {
            "backgroundcolor": "#E5ECF6",
            "gridcolor": "white",
            "gridwidth": 2,
            "linecolor": "white",
            "showbackground": true,
            "ticks": "",
            "zerolinecolor": "white"
           },
           "zaxis": {
            "backgroundcolor": "#E5ECF6",
            "gridcolor": "white",
            "gridwidth": 2,
            "linecolor": "white",
            "showbackground": true,
            "ticks": "",
            "zerolinecolor": "white"
           }
          },
          "shapedefaults": {
           "line": {
            "color": "#2a3f5f"
           }
          },
          "ternary": {
           "aaxis": {
            "gridcolor": "white",
            "linecolor": "white",
            "ticks": ""
           },
           "baxis": {
            "gridcolor": "white",
            "linecolor": "white",
            "ticks": ""
           },
           "bgcolor": "#E5ECF6",
           "caxis": {
            "gridcolor": "white",
            "linecolor": "white",
            "ticks": ""
           }
          },
          "title": {
           "x": 0.05
          },
          "xaxis": {
           "automargin": true,
           "gridcolor": "white",
           "linecolor": "white",
           "ticks": "",
           "title": {
            "standoff": 15
           },
           "zerolinecolor": "white",
           "zerolinewidth": 2
          },
          "yaxis": {
           "automargin": true,
           "gridcolor": "white",
           "linecolor": "white",
           "ticks": "",
           "title": {
            "standoff": 15
           },
           "zerolinecolor": "white",
           "zerolinewidth": 2
          }
         }
        },
        "xaxis": {
         "anchor": "y",
         "domain": [
          0,
          1
         ],
         "title": {
          "text": "x"
         }
        },
        "yaxis": {
         "anchor": "x",
         "domain": [
          0,
          1
         ],
         "title": {
          "text": "y"
         }
        }
       }
      },
      "text/html": [
       "<div>                            <div id=\"fd412142-a241-4296-8cd3-69c71f1e39c5\" class=\"plotly-graph-div\" style=\"height:525px; width:100%;\"></div>            <script type=\"text/javascript\">                require([\"plotly\"], function(Plotly) {                    window.PLOTLYENV=window.PLOTLYENV || {};                                    if (document.getElementById(\"fd412142-a241-4296-8cd3-69c71f1e39c5\")) {                    Plotly.newPlot(                        \"fd412142-a241-4296-8cd3-69c71f1e39c5\",                        [{\"hovertemplate\":\"color=1<br>x=%{x}<br>y=%{y}<extra></extra>\",\"legendgroup\":\"1\",\"marker\":{\"color\":\"#636efa\",\"symbol\":\"circle\"},\"mode\":\"markers\",\"name\":\"Osoba 1\",\"orientation\":\"v\",\"showlegend\":true,\"x\":[-105.34212493896484,-119.9486083984375,-117.02289581298828,-85.41117095947266,-99.21002197265625],\"xaxis\":\"x\",\"y\":[-164.7943878173828,-160.8239288330078,-183.456298828125,-169.11114501953125,-178.16165161132812],\"yaxis\":\"y\",\"type\":\"scatter\"},{\"hovertemplate\":\"color=2<br>x=%{x}<br>y=%{y}<extra></extra>\",\"legendgroup\":\"2\",\"marker\":{\"color\":\"#EF553B\",\"symbol\":\"circle\"},\"mode\":\"markers\",\"name\":\"Osoba 2\",\"orientation\":\"v\",\"showlegend\":true,\"x\":[18.604711532592773,28.706037521362305,44.66998291015625,15.094099998474121,32.1673469543457],\"xaxis\":\"x\",\"y\":[-234.35081481933594,-212.30111694335938,-204.59100341796875,-203.7270050048828,-225.60330200195312],\"yaxis\":\"y\",\"type\":\"scatter\"},{\"hovertemplate\":\"color=3<br>x=%{x}<br>y=%{y}<extra></extra>\",\"legendgroup\":\"3\",\"marker\":{\"color\":\"#00cc96\",\"symbol\":\"circle\"},\"mode\":\"markers\",\"name\":\"Osoba 3\",\"orientation\":\"v\",\"showlegend\":true,\"x\":[20.479503631591797,26.948436737060547,36.184661865234375,46.73945236206055,26.4293270111084],\"xaxis\":\"x\",\"y\":[110.23626708984375,124.752197265625,133.94503784179688,154.35304260253906,147.55307006835938],\"yaxis\":\"y\",\"type\":\"scatter\"},{\"hovertemplate\":\"color=4<br>x=%{x}<br>y=%{y}<extra></extra>\",\"legendgroup\":\"4\",\"marker\":{\"color\":\"#ab63fa\",\"symbol\":\"circle\"},\"mode\":\"markers\",\"name\":\"Osoba 4\",\"orientation\":\"v\",\"showlegend\":true,\"x\":[-81.66707611083984,-71.62932586669922,-100.7228012084961,-66.4552001953125,-67.24772644042969],\"xaxis\":\"x\",\"y\":[96.46492767333984,80.6141357421875,95.47916412353516,112.68716430664062,97.96369934082031],\"yaxis\":\"y\",\"type\":\"scatter\"},{\"hovertemplate\":\"color=5<br>x=%{x}<br>y=%{y}<extra></extra>\",\"legendgroup\":\"5\",\"marker\":{\"color\":\"#FFA15A\",\"symbol\":\"circle\"},\"mode\":\"markers\",\"name\":\"Osoba 5\",\"orientation\":\"v\",\"showlegend\":true,\"x\":[25.16301155090332,18.30001449584961,5.882400035858154,34.68134689331055,53.18449020385742],\"xaxis\":\"x\",\"y\":[25.66335678100586,40.228702545166016,28.179384231567383,37.669857025146484,38.556793212890625],\"yaxis\":\"y\",\"type\":\"scatter\"}],                        {\"template\":{\"data\":{\"histogram2dcontour\":[{\"type\":\"histogram2dcontour\",\"colorbar\":{\"outlinewidth\":0,\"ticks\":\"\"},\"colorscale\":[[0.0,\"#0d0887\"],[0.1111111111111111,\"#46039f\"],[0.2222222222222222,\"#7201a8\"],[0.3333333333333333,\"#9c179e\"],[0.4444444444444444,\"#bd3786\"],[0.5555555555555556,\"#d8576b\"],[0.6666666666666666,\"#ed7953\"],[0.7777777777777778,\"#fb9f3a\"],[0.8888888888888888,\"#fdca26\"],[1.0,\"#f0f921\"]]}],\"choropleth\":[{\"type\":\"choropleth\",\"colorbar\":{\"outlinewidth\":0,\"ticks\":\"\"}}],\"histogram2d\":[{\"type\":\"histogram2d\",\"colorbar\":{\"outlinewidth\":0,\"ticks\":\"\"},\"colorscale\":[[0.0,\"#0d0887\"],[0.1111111111111111,\"#46039f\"],[0.2222222222222222,\"#7201a8\"],[0.3333333333333333,\"#9c179e\"],[0.4444444444444444,\"#bd3786\"],[0.5555555555555556,\"#d8576b\"],[0.6666666666666666,\"#ed7953\"],[0.7777777777777778,\"#fb9f3a\"],[0.8888888888888888,\"#fdca26\"],[1.0,\"#f0f921\"]]}],\"heatmap\":[{\"type\":\"heatmap\",\"colorbar\":{\"outlinewidth\":0,\"ticks\":\"\"},\"colorscale\":[[0.0,\"#0d0887\"],[0.1111111111111111,\"#46039f\"],[0.2222222222222222,\"#7201a8\"],[0.3333333333333333,\"#9c179e\"],[0.4444444444444444,\"#bd3786\"],[0.5555555555555556,\"#d8576b\"],[0.6666666666666666,\"#ed7953\"],[0.7777777777777778,\"#fb9f3a\"],[0.8888888888888888,\"#fdca26\"],[1.0,\"#f0f921\"]]}],\"heatmapgl\":[{\"type\":\"heatmapgl\",\"colorbar\":{\"outlinewidth\":0,\"ticks\":\"\"},\"colorscale\":[[0.0,\"#0d0887\"],[0.1111111111111111,\"#46039f\"],[0.2222222222222222,\"#7201a8\"],[0.3333333333333333,\"#9c179e\"],[0.4444444444444444,\"#bd3786\"],[0.5555555555555556,\"#d8576b\"],[0.6666666666666666,\"#ed7953\"],[0.7777777777777778,\"#fb9f3a\"],[0.8888888888888888,\"#fdca26\"],[1.0,\"#f0f921\"]]}],\"contourcarpet\":[{\"type\":\"contourcarpet\",\"colorbar\":{\"outlinewidth\":0,\"ticks\":\"\"}}],\"contour\":[{\"type\":\"contour\",\"colorbar\":{\"outlinewidth\":0,\"ticks\":\"\"},\"colorscale\":[[0.0,\"#0d0887\"],[0.1111111111111111,\"#46039f\"],[0.2222222222222222,\"#7201a8\"],[0.3333333333333333,\"#9c179e\"],[0.4444444444444444,\"#bd3786\"],[0.5555555555555556,\"#d8576b\"],[0.6666666666666666,\"#ed7953\"],[0.7777777777777778,\"#fb9f3a\"],[0.8888888888888888,\"#fdca26\"],[1.0,\"#f0f921\"]]}],\"surface\":[{\"type\":\"surface\",\"colorbar\":{\"outlinewidth\":0,\"ticks\":\"\"},\"colorscale\":[[0.0,\"#0d0887\"],[0.1111111111111111,\"#46039f\"],[0.2222222222222222,\"#7201a8\"],[0.3333333333333333,\"#9c179e\"],[0.4444444444444444,\"#bd3786\"],[0.5555555555555556,\"#d8576b\"],[0.6666666666666666,\"#ed7953\"],[0.7777777777777778,\"#fb9f3a\"],[0.8888888888888888,\"#fdca26\"],[1.0,\"#f0f921\"]]}],\"mesh3d\":[{\"type\":\"mesh3d\",\"colorbar\":{\"outlinewidth\":0,\"ticks\":\"\"}}],\"scatter\":[{\"fillpattern\":{\"fillmode\":\"overlay\",\"size\":10,\"solidity\":0.2},\"type\":\"scatter\"}],\"parcoords\":[{\"type\":\"parcoords\",\"line\":{\"colorbar\":{\"outlinewidth\":0,\"ticks\":\"\"}}}],\"scatterpolargl\":[{\"type\":\"scatterpolargl\",\"marker\":{\"colorbar\":{\"outlinewidth\":0,\"ticks\":\"\"}}}],\"bar\":[{\"error_x\":{\"color\":\"#2a3f5f\"},\"error_y\":{\"color\":\"#2a3f5f\"},\"marker\":{\"line\":{\"color\":\"#E5ECF6\",\"width\":0.5},\"pattern\":{\"fillmode\":\"overlay\",\"size\":10,\"solidity\":0.2}},\"type\":\"bar\"}],\"scattergeo\":[{\"type\":\"scattergeo\",\"marker\":{\"colorbar\":{\"outlinewidth\":0,\"ticks\":\"\"}}}],\"scatterpolar\":[{\"type\":\"scatterpolar\",\"marker\":{\"colorbar\":{\"outlinewidth\":0,\"ticks\":\"\"}}}],\"histogram\":[{\"marker\":{\"pattern\":{\"fillmode\":\"overlay\",\"size\":10,\"solidity\":0.2}},\"type\":\"histogram\"}],\"scattergl\":[{\"type\":\"scattergl\",\"marker\":{\"colorbar\":{\"outlinewidth\":0,\"ticks\":\"\"}}}],\"scatter3d\":[{\"type\":\"scatter3d\",\"line\":{\"colorbar\":{\"outlinewidth\":0,\"ticks\":\"\"}},\"marker\":{\"colorbar\":{\"outlinewidth\":0,\"ticks\":\"\"}}}],\"scattermapbox\":[{\"type\":\"scattermapbox\",\"marker\":{\"colorbar\":{\"outlinewidth\":0,\"ticks\":\"\"}}}],\"scatterternary\":[{\"type\":\"scatterternary\",\"marker\":{\"colorbar\":{\"outlinewidth\":0,\"ticks\":\"\"}}}],\"scattercarpet\":[{\"type\":\"scattercarpet\",\"marker\":{\"colorbar\":{\"outlinewidth\":0,\"ticks\":\"\"}}}],\"carpet\":[{\"aaxis\":{\"endlinecolor\":\"#2a3f5f\",\"gridcolor\":\"white\",\"linecolor\":\"white\",\"minorgridcolor\":\"white\",\"startlinecolor\":\"#2a3f5f\"},\"baxis\":{\"endlinecolor\":\"#2a3f5f\",\"gridcolor\":\"white\",\"linecolor\":\"white\",\"minorgridcolor\":\"white\",\"startlinecolor\":\"#2a3f5f\"},\"type\":\"carpet\"}],\"table\":[{\"cells\":{\"fill\":{\"color\":\"#EBF0F8\"},\"line\":{\"color\":\"white\"}},\"header\":{\"fill\":{\"color\":\"#C8D4E3\"},\"line\":{\"color\":\"white\"}},\"type\":\"table\"}],\"barpolar\":[{\"marker\":{\"line\":{\"color\":\"#E5ECF6\",\"width\":0.5},\"pattern\":{\"fillmode\":\"overlay\",\"size\":10,\"solidity\":0.2}},\"type\":\"barpolar\"}],\"pie\":[{\"automargin\":true,\"type\":\"pie\"}]},\"layout\":{\"autotypenumbers\":\"strict\",\"colorway\":[\"#636efa\",\"#EF553B\",\"#00cc96\",\"#ab63fa\",\"#FFA15A\",\"#19d3f3\",\"#FF6692\",\"#B6E880\",\"#FF97FF\",\"#FECB52\"],\"font\":{\"color\":\"#2a3f5f\"},\"hovermode\":\"closest\",\"hoverlabel\":{\"align\":\"left\"},\"paper_bgcolor\":\"white\",\"plot_bgcolor\":\"#E5ECF6\",\"polar\":{\"bgcolor\":\"#E5ECF6\",\"angularaxis\":{\"gridcolor\":\"white\",\"linecolor\":\"white\",\"ticks\":\"\"},\"radialaxis\":{\"gridcolor\":\"white\",\"linecolor\":\"white\",\"ticks\":\"\"}},\"ternary\":{\"bgcolor\":\"#E5ECF6\",\"aaxis\":{\"gridcolor\":\"white\",\"linecolor\":\"white\",\"ticks\":\"\"},\"baxis\":{\"gridcolor\":\"white\",\"linecolor\":\"white\",\"ticks\":\"\"},\"caxis\":{\"gridcolor\":\"white\",\"linecolor\":\"white\",\"ticks\":\"\"}},\"coloraxis\":{\"colorbar\":{\"outlinewidth\":0,\"ticks\":\"\"}},\"colorscale\":{\"sequential\":[[0.0,\"#0d0887\"],[0.1111111111111111,\"#46039f\"],[0.2222222222222222,\"#7201a8\"],[0.3333333333333333,\"#9c179e\"],[0.4444444444444444,\"#bd3786\"],[0.5555555555555556,\"#d8576b\"],[0.6666666666666666,\"#ed7953\"],[0.7777777777777778,\"#fb9f3a\"],[0.8888888888888888,\"#fdca26\"],[1.0,\"#f0f921\"]],\"sequentialminus\":[[0.0,\"#0d0887\"],[0.1111111111111111,\"#46039f\"],[0.2222222222222222,\"#7201a8\"],[0.3333333333333333,\"#9c179e\"],[0.4444444444444444,\"#bd3786\"],[0.5555555555555556,\"#d8576b\"],[0.6666666666666666,\"#ed7953\"],[0.7777777777777778,\"#fb9f3a\"],[0.8888888888888888,\"#fdca26\"],[1.0,\"#f0f921\"]],\"diverging\":[[0,\"#8e0152\"],[0.1,\"#c51b7d\"],[0.2,\"#de77ae\"],[0.3,\"#f1b6da\"],[0.4,\"#fde0ef\"],[0.5,\"#f7f7f7\"],[0.6,\"#e6f5d0\"],[0.7,\"#b8e186\"],[0.8,\"#7fbc41\"],[0.9,\"#4d9221\"],[1,\"#276419\"]]},\"xaxis\":{\"gridcolor\":\"white\",\"linecolor\":\"white\",\"ticks\":\"\",\"title\":{\"standoff\":15},\"zerolinecolor\":\"white\",\"automargin\":true,\"zerolinewidth\":2},\"yaxis\":{\"gridcolor\":\"white\",\"linecolor\":\"white\",\"ticks\":\"\",\"title\":{\"standoff\":15},\"zerolinecolor\":\"white\",\"automargin\":true,\"zerolinewidth\":2},\"scene\":{\"xaxis\":{\"backgroundcolor\":\"#E5ECF6\",\"gridcolor\":\"white\",\"linecolor\":\"white\",\"showbackground\":true,\"ticks\":\"\",\"zerolinecolor\":\"white\",\"gridwidth\":2},\"yaxis\":{\"backgroundcolor\":\"#E5ECF6\",\"gridcolor\":\"white\",\"linecolor\":\"white\",\"showbackground\":true,\"ticks\":\"\",\"zerolinecolor\":\"white\",\"gridwidth\":2},\"zaxis\":{\"backgroundcolor\":\"#E5ECF6\",\"gridcolor\":\"white\",\"linecolor\":\"white\",\"showbackground\":true,\"ticks\":\"\",\"zerolinecolor\":\"white\",\"gridwidth\":2}},\"shapedefaults\":{\"line\":{\"color\":\"#2a3f5f\"}},\"annotationdefaults\":{\"arrowcolor\":\"#2a3f5f\",\"arrowhead\":0,\"arrowwidth\":1},\"geo\":{\"bgcolor\":\"white\",\"landcolor\":\"#E5ECF6\",\"subunitcolor\":\"white\",\"showland\":true,\"showlakes\":true,\"lakecolor\":\"white\"},\"title\":{\"x\":0.05},\"mapbox\":{\"style\":\"light\"}}},\"xaxis\":{\"anchor\":\"y\",\"domain\":[0.0,1.0],\"title\":{\"text\":\"x\"}},\"yaxis\":{\"anchor\":\"x\",\"domain\":[0.0,1.0],\"title\":{\"text\":\"y\"}},\"legend\":{\"title\":{\"text\":\"\"},\"tracegroupgap\":0},\"margin\":{\"t\":60}},                        {\"responsive\": true}                    ).then(function(){\n",
       "                            \n",
       "var gd = document.getElementById('fd412142-a241-4296-8cd3-69c71f1e39c5');\n",
       "var x = new MutationObserver(function (mutations, observer) {{\n",
       "        var display = window.getComputedStyle(gd).display;\n",
       "        if (!display || display === 'none') {{\n",
       "            console.log([gd, 'removed!']);\n",
       "            Plotly.purge(gd);\n",
       "            observer.disconnect();\n",
       "        }}\n",
       "}});\n",
       "\n",
       "// Listen for the removal of the full notebook cells\n",
       "var notebookContainer = gd.closest('#notebook-container');\n",
       "if (notebookContainer) {{\n",
       "    x.observe(notebookContainer, {childList: true});\n",
       "}}\n",
       "\n",
       "// Listen for the clearing of the current output cell\n",
       "var outputEl = gd.closest('.output');\n",
       "if (outputEl) {{\n",
       "    x.observe(outputEl, {childList: true});\n",
       "}}\n",
       "\n",
       "                        })                };                });            </script>        </div>"
      ]
     },
     "metadata": {},
     "output_type": "display_data"
    }
   ],
   "source": [
    "with open('data.pk', 'rb') as f:\n",
    "    data = pk.load(f)\n",
    "\n",
    "osoba = (np.array(data[1].copy())+1).astype(str)\n",
    "data = np.array(data[0].copy())\n",
    "\n",
    "tsne = TSNE(n_components=2, perplexity=4)\n",
    "x = tsne.fit_transform(data) \n",
    "\n",
    "fig = px.scatter(x=x[:,0], y=x[:,1], color = osoba)\n",
    "fig.update_layout(legend={'title_text':''})\n",
    "\n",
    "for i,os in enumerate(np.unique(osoba)):\n",
    "    fig.data[i].name = \"Osoba \" + str(i+1)\n",
    "fig.show()\n"
   ]
  },
  {
   "cell_type": "markdown",
   "id": "sought-fellowship",
   "metadata": {},
   "source": [
    "## 3. část - Vizualizace libovolného datasetu\n",
    "\n",
    "Poslední úloha je více otevřená. Můžete použít libovolný dataset a vytvořit libovolné vizualizace (alespoň 2).\n",
    "\n",
    "Čerpat můžete z vlastního zdroje nebo např.:\n",
    "- [Stanford Large Network Dataset Collection](http://snap.stanford.edu/data/index.html)\n",
    "- [UCI Network Data Repository](https://networkdata.ics.uci.edu/)\n",
    "\n",
    "Pokud vytvoříte složitější vizualizaci, nebo provedete zajímavou analýzu datasetu, tak můžete získat bonusový bod."
   ]
  },
  {
   "cell_type": "code",
   "execution_count": 13,
   "id": "6c4b9405",
   "metadata": {},
   "outputs": [],
   "source": [
    "df = pd.read_csv('titanic.csv')"
   ]
  },
  {
   "cell_type": "code",
   "execution_count": 14,
   "id": "intended-siemens",
   "metadata": {},
   "outputs": [
    {
     "data": {
      "application/vnd.plotly.v1+json": {
       "config": {
        "plotlyServerURL": "https://plot.ly"
       },
       "data": [
        {
         "alignmentgroup": "True",
         "bingroup": "x",
         "hovertemplate": "survived=Yes<br>pclass=1. Class<br>sex=female<br>Age=%{x}<br>count=%{y}<extra></extra>",
         "legendgroup": "Yes",
         "marker": {
          "color": "#636efa",
          "opacity": 0.7,
          "pattern": {
           "shape": ""
          }
         },
         "name": "Yes",
         "offsetgroup": "Yes",
         "orientation": "v",
         "showlegend": true,
         "type": "histogram",
         "x": [
          29,
          63,
          53,
          18,
          24,
          26,
          50,
          32,
          47,
          42,
          29,
          19,
          35,
          30,
          58,
          45,
          22,
          44,
          59,
          60,
          41,
          53,
          58,
          14,
          36,
          null,
          76,
          47,
          33,
          36,
          30,
          null,
          26,
          22,
          39,
          64,
          55,
          36,
          64,
          38,
          33,
          27,
          17,
          54,
          27,
          48,
          48,
          23,
          38,
          54,
          null,
          null,
          24,
          28,
          23,
          60,
          30,
          null,
          22,
          48,
          35,
          35,
          22,
          45,
          null,
          19,
          58,
          45,
          25,
          49,
          35,
          24,
          52,
          16,
          44,
          51,
          35,
          35,
          38,
          null,
          45,
          39,
          49,
          30,
          55,
          16,
          51,
          21,
          58,
          15,
          16,
          18,
          24,
          null,
          33,
          37,
          31,
          23,
          19,
          39,
          22,
          22,
          17,
          30,
          56,
          43,
          33,
          33,
          54,
          18,
          21,
          48,
          24,
          35,
          30,
          40,
          39,
          18,
          23,
          40,
          null,
          43,
          52,
          62,
          48,
          18,
          39,
          null,
          39,
          null,
          35,
          60,
          55,
          31,
          45,
          50,
          21,
          31,
          36
         ],
         "xaxis": "x5",
         "yaxis": "y5"
        },
        {
         "alignmentgroup": "True",
         "bingroup": "x",
         "hovertemplate": "survived=Yes<br>pclass=1. Class<br>sex=male<br>Age=%{x}<br>count=%{y}<extra></extra>",
         "legendgroup": "Yes",
         "marker": {
          "color": "#636efa",
          "opacity": 0.7,
          "pattern": {
           "shape": ""
          }
         },
         "name": "Yes",
         "offsetgroup": "Yes",
         "orientation": "v",
         "showlegend": false,
         "type": "histogram",
         "x": [
          0.9167,
          48,
          80,
          37,
          26,
          25,
          28,
          40,
          null,
          42,
          36,
          11,
          36,
          27,
          45,
          51,
          27,
          31,
          53,
          4,
          49,
          36,
          50,
          43,
          60,
          49,
          53,
          23,
          25,
          48,
          27,
          null,
          35,
          38,
          49,
          42,
          35,
          null,
          36,
          30,
          null,
          52,
          null,
          45,
          13,
          null,
          null,
          34,
          35,
          56,
          28,
          24,
          6,
          45,
          32,
          54,
          48,
          17,
          31,
          21,
          null
         ],
         "xaxis": "x6",
         "yaxis": "y6"
        },
        {
         "alignmentgroup": "True",
         "bingroup": "x",
         "hovertemplate": "survived=Yes<br>pclass=2. Class<br>sex=female<br>Age=%{x}<br>count=%{y}<extra></extra>",
         "legendgroup": "Yes",
         "marker": {
          "color": "#636efa",
          "opacity": 0.7,
          "pattern": {
           "shape": ""
          }
         },
         "name": "Yes",
         "offsetgroup": "Yes",
         "orientation": "v",
         "showlegend": false,
         "type": "histogram",
         "x": [
          28,
          36,
          36,
          19,
          4,
          12,
          36,
          19,
          24,
          15,
          40,
          20,
          36,
          42,
          22,
          35,
          25,
          45,
          28,
          8,
          31,
          22,
          48,
          28,
          24,
          18,
          34,
          34,
          27,
          30,
          29,
          34,
          24,
          6,
          7,
          45,
          24,
          24,
          48,
          55,
          20,
          54,
          29,
          17,
          24,
          23,
          24,
          null,
          45,
          1,
          3,
          22,
          17,
          null,
          34,
          42,
          24,
          13,
          41,
          14,
          29,
          50,
          21,
          19,
          32,
          2,
          8,
          33,
          30,
          28,
          24,
          50,
          21,
          25,
          18,
          20,
          30,
          30,
          40,
          50,
          28,
          27,
          31,
          31,
          12,
          40,
          32.5,
          29,
          4,
          29,
          0.9167,
          5,
          33,
          26
         ],
         "xaxis": "x3",
         "yaxis": "y3"
        },
        {
         "alignmentgroup": "True",
         "bingroup": "x",
         "hovertemplate": "survived=Yes<br>pclass=2. Class<br>sex=male<br>Age=%{x}<br>count=%{y}<extra></extra>",
         "legendgroup": "Yes",
         "marker": {
          "color": "#636efa",
          "opacity": 0.7,
          "pattern": {
           "shape": ""
          }
         },
         "name": "Yes",
         "offsetgroup": "Yes",
         "orientation": "v",
         "showlegend": false,
         "type": "histogram",
         "x": [
          32,
          1,
          34,
          0.8333,
          26,
          24,
          8,
          8,
          0.6667,
          62,
          42,
          1,
          19,
          2,
          3,
          20,
          22,
          null,
          29,
          30,
          0.8333,
          3,
          2,
          31,
          null
         ],
         "xaxis": "x4",
         "yaxis": "y4"
        },
        {
         "alignmentgroup": "True",
         "bingroup": "x",
         "hovertemplate": "survived=Yes<br>pclass=3. Class<br>sex=female<br>Age=%{x}<br>count=%{y}<extra></extra>",
         "legendgroup": "Yes",
         "marker": {
          "color": "#636efa",
          "opacity": 0.7,
          "pattern": {
           "shape": ""
          }
         },
         "name": "Yes",
         "offsetgroup": "Yes",
         "orientation": "v",
         "showlegend": false,
         "type": "histogram",
         "x": [
          35,
          16,
          18,
          18,
          19,
          17,
          5,
          38,
          45,
          13,
          33,
          0.75,
          0.75,
          5,
          24,
          18,
          22,
          16,
          22,
          36,
          17,
          30,
          null,
          36,
          0.1667,
          33,
          19,
          30,
          23,
          22,
          5,
          16,
          null,
          31,
          24,
          45,
          null,
          26,
          22,
          2,
          22,
          27,
          null,
          null,
          1,
          27,
          4,
          null,
          null,
          4,
          26,
          22,
          23,
          null,
          null,
          null,
          null,
          null,
          null,
          null,
          null,
          15,
          null,
          27,
          null,
          null,
          null,
          null,
          24,
          null,
          null,
          null,
          15,
          1,
          19,
          14,
          18,
          26,
          22,
          null,
          null,
          null,
          22,
          null,
          31,
          null,
          null,
          null,
          null,
          21,
          1,
          24,
          4,
          null,
          18,
          null,
          23,
          16,
          null,
          9,
          29,
          18,
          63,
          38,
          47,
          15
         ],
         "xaxis": "x",
         "yaxis": "y"
        },
        {
         "alignmentgroup": "True",
         "bingroup": "x",
         "hovertemplate": "survived=Yes<br>pclass=3. Class<br>sex=male<br>Age=%{x}<br>count=%{y}<extra></extra>",
         "legendgroup": "Yes",
         "marker": {
          "color": "#636efa",
          "opacity": 0.7,
          "pattern": {
           "shape": ""
          }
         },
         "name": "Yes",
         "offsetgroup": "Yes",
         "orientation": "v",
         "showlegend": false,
         "type": "histogram",
         "x": [
          25,
          20,
          0.8333,
          26,
          27,
          3,
          23,
          20,
          32,
          21,
          32,
          18,
          9,
          3,
          45,
          29,
          36.5,
          30,
          1,
          19,
          24,
          null,
          null,
          9,
          27,
          null,
          null,
          29,
          21,
          null,
          26,
          4,
          32,
          32,
          21,
          39,
          null,
          29,
          25,
          null,
          26,
          22,
          20,
          27,
          32,
          24,
          null,
          null,
          null,
          21,
          6,
          null,
          null,
          null,
          20,
          12,
          39,
          null,
          9,
          32,
          25,
          null,
          32,
          null,
          25,
          29,
          31,
          16,
          44,
          14,
          25,
          0.4167,
          25,
          7,
          22
         ],
         "xaxis": "x2",
         "yaxis": "y2"
        },
        {
         "alignmentgroup": "True",
         "bingroup": "x",
         "hovertemplate": "survived=No<br>pclass=1. Class<br>sex=female<br>Age=%{x}<br>count=%{y}<extra></extra>",
         "legendgroup": "No",
         "marker": {
          "color": "#EF553B",
          "opacity": 0.7,
          "pattern": {
           "shape": ""
          }
         },
         "name": "No",
         "offsetgroup": "No",
         "orientation": "v",
         "showlegend": true,
         "type": "histogram",
         "x": [
          2,
          25,
          36,
          50,
          63
         ],
         "xaxis": "x5",
         "yaxis": "y5"
        },
        {
         "alignmentgroup": "True",
         "bingroup": "x",
         "hovertemplate": "survived=No<br>pclass=1. Class<br>sex=male<br>Age=%{x}<br>count=%{y}<extra></extra>",
         "legendgroup": "No",
         "marker": {
          "color": "#EF553B",
          "opacity": 0.7,
          "pattern": {
           "shape": ""
          }
         },
         "name": "No",
         "offsetgroup": "No",
         "orientation": "v",
         "showlegend": false,
         "type": "histogram",
         "x": [
          30,
          39,
          71,
          47,
          null,
          24,
          36,
          25,
          45,
          42,
          41,
          48,
          null,
          45,
          null,
          33,
          28,
          17,
          49,
          36,
          46,
          null,
          27,
          null,
          47,
          37,
          null,
          70,
          39,
          31,
          50,
          39,
          null,
          30,
          19,
          64,
          null,
          null,
          37,
          47,
          24,
          71,
          38,
          46,
          null,
          45,
          40,
          55,
          42,
          null,
          55,
          42,
          null,
          46,
          50,
          32.5,
          58,
          41,
          null,
          null,
          42,
          29,
          30,
          30,
          19,
          46,
          54,
          28,
          65,
          44,
          55,
          47,
          37,
          58,
          64,
          65,
          28.5,
          null,
          45.5,
          23,
          29,
          18,
          47,
          38,
          22,
          null,
          31,
          null,
          46,
          36,
          55,
          33,
          61,
          50,
          56,
          56,
          24,
          null,
          57,
          62,
          null,
          67,
          61,
          52,
          49,
          40,
          61,
          47,
          64,
          60,
          54,
          21,
          57,
          50,
          27,
          51,
          null,
          62
         ],
         "xaxis": "x6",
         "yaxis": "y6"
        },
        {
         "alignmentgroup": "True",
         "bingroup": "x",
         "hovertemplate": "survived=No<br>pclass=2. Class<br>sex=female<br>Age=%{x}<br>count=%{y}<extra></extra>",
         "legendgroup": "No",
         "marker": {
          "color": "#EF553B",
          "opacity": 0.7,
          "pattern": {
           "shape": ""
          }
         },
         "name": "No",
         "offsetgroup": "No",
         "orientation": "v",
         "showlegend": false,
         "type": "histogram",
         "x": [
          44,
          29,
          30,
          null,
          38,
          18,
          60,
          22,
          26,
          57,
          27,
          24
         ],
         "xaxis": "x3",
         "yaxis": "y3"
        },
        {
         "alignmentgroup": "True",
         "bingroup": "x",
         "hovertemplate": "survived=No<br>pclass=2. Class<br>sex=male<br>Age=%{x}<br>count=%{y}<extra></extra>",
         "legendgroup": "No",
         "marker": {
          "color": "#EF553B",
          "opacity": 0.7,
          "pattern": {
           "shape": ""
          }
         },
         "name": "No",
         "offsetgroup": "No",
         "orientation": "v",
         "showlegend": false,
         "type": "histogram",
         "x": [
          30,
          30,
          18,
          25,
          34,
          57,
          18,
          23,
          28,
          51,
          28,
          23,
          26,
          42,
          27,
          60,
          25,
          25,
          42,
          null,
          19,
          54,
          52,
          37,
          29,
          29,
          28,
          31,
          21,
          null,
          18,
          32,
          17,
          29,
          25,
          18,
          54,
          42,
          23,
          21,
          18,
          40,
          18,
          36,
          null,
          35,
          38,
          34,
          16,
          26,
          47,
          21,
          21,
          24,
          24,
          34,
          30,
          52,
          30,
          44,
          28,
          30,
          43,
          49,
          24,
          32,
          21,
          23,
          36,
          50,
          44,
          21,
          63,
          33,
          42,
          47,
          24,
          22,
          32,
          34,
          35,
          57,
          null,
          31,
          30,
          null,
          25,
          36,
          24,
          61,
          50,
          null,
          31,
          null,
          30,
          40,
          32,
          30,
          46,
          39,
          48,
          70,
          27,
          54,
          39,
          16,
          62,
          32.5,
          36.5,
          26,
          19,
          28,
          39,
          23,
          28,
          null,
          19,
          null,
          41,
          43,
          34,
          27,
          36,
          34,
          23,
          19,
          26,
          25,
          27,
          59,
          35,
          25,
          41,
          25,
          18.5,
          14,
          23,
          29,
          40,
          30,
          23,
          null,
          27,
          36,
          66,
          null
         ],
         "xaxis": "x4",
         "yaxis": "y4"
        },
        {
         "alignmentgroup": "True",
         "bingroup": "x",
         "hovertemplate": "survived=No<br>pclass=3. Class<br>sex=female<br>Age=%{x}<br>count=%{y}<extra></extra>",
         "legendgroup": "No",
         "marker": {
          "color": "#EF553B",
          "opacity": 0.7,
          "pattern": {
           "shape": ""
          }
         },
         "name": "No",
         "offsetgroup": "No",
         "orientation": "v",
         "showlegend": false,
         "type": "histogram",
         "x": [
          40,
          6,
          2,
          38,
          9,
          11,
          39,
          18,
          17,
          18,
          45,
          27,
          9,
          null,
          null,
          32,
          20,
          18.5,
          18,
          21,
          30,
          21,
          null,
          37,
          30,
          22,
          28,
          24,
          null,
          21,
          9,
          48,
          10,
          16,
          43,
          24,
          17,
          null,
          18,
          23,
          28,
          null,
          27,
          25,
          null,
          null,
          20,
          21,
          null,
          22,
          1,
          36,
          37,
          null,
          null,
          null,
          null,
          null,
          25,
          45,
          30,
          26,
          null,
          30.5,
          35,
          19,
          null,
          null,
          null,
          null,
          29,
          null,
          31,
          23,
          20,
          null,
          3,
          8,
          29,
          41,
          3,
          26,
          null,
          28,
          18,
          null,
          39,
          22,
          null,
          47,
          2,
          41,
          null,
          null,
          null,
          null,
          null,
          9,
          2,
          45,
          22,
          2,
          29,
          10,
          30,
          18,
          31,
          14,
          14.5,
          null
         ],
         "xaxis": "x",
         "yaxis": "y"
        },
        {
         "alignmentgroup": "True",
         "bingroup": "x",
         "hovertemplate": "survived=No<br>pclass=3. Class<br>sex=male<br>Age=%{x}<br>count=%{y}<extra></extra>",
         "legendgroup": "No",
         "marker": {
          "color": "#EF553B",
          "opacity": 0.7,
          "pattern": {
           "shape": ""
          }
         },
         "name": "No",
         "offsetgroup": "No",
         "orientation": "v",
         "showlegend": false,
         "type": "histogram",
         "x": [
          42,
          13,
          16,
          30,
          26,
          26,
          20,
          24,
          25,
          35,
          18,
          32,
          4,
          39,
          26,
          20,
          26,
          25,
          24,
          35,
          5,
          9,
          13,
          40,
          21,
          23,
          30,
          23,
          20,
          32,
          40,
          26,
          22,
          19,
          26,
          22,
          null,
          20,
          21,
          18,
          26,
          6,
          null,
          40,
          21,
          29,
          22,
          22,
          35,
          19,
          18,
          38,
          17,
          17,
          21,
          21,
          null,
          28,
          24,
          28,
          24,
          21,
          29,
          26,
          18,
          20,
          24,
          36,
          24,
          31,
          31,
          70.5,
          43,
          35,
          27,
          19,
          30,
          59,
          19,
          44,
          17,
          22.5,
          19,
          0.3333,
          34,
          27,
          25,
          24,
          22,
          21,
          17,
          null,
          16,
          26,
          25,
          null,
          null,
          22,
          36,
          17,
          42,
          43,
          null,
          32,
          33,
          65,
          23,
          18,
          16,
          45,
          null,
          39,
          17,
          15,
          47,
          null,
          40.5,
          40.5,
          18,
          null,
          null,
          26,
          null,
          null,
          18,
          16,
          null,
          null,
          25,
          null,
          null,
          22,
          33,
          41,
          38,
          9,
          1,
          11,
          14,
          40,
          51,
          32,
          null,
          20,
          37,
          28,
          19,
          null,
          null,
          28,
          20,
          23.5,
          41,
          26,
          21,
          25,
          null,
          11,
          28,
          43,
          28,
          null,
          42,
          30,
          null,
          null,
          null,
          20,
          48,
          17,
          34,
          22,
          33,
          31,
          29,
          49,
          33,
          19,
          null,
          null,
          23,
          27,
          17,
          21,
          30,
          33,
          22,
          null,
          18.5,
          null,
          null,
          34.5,
          44,
          null,
          null,
          null,
          null,
          26,
          18,
          null,
          null,
          null,
          null,
          null,
          29,
          29,
          22,
          null,
          32,
          34.5,
          null,
          36,
          39,
          24,
          36,
          null,
          28,
          null,
          30,
          null,
          20.5,
          51,
          null,
          null,
          22,
          null,
          null,
          29,
          null,
          35,
          33,
          null,
          null,
          null,
          24,
          55.5,
          null,
          null,
          24,
          21,
          28,
          null,
          25,
          null,
          null,
          null,
          34,
          null,
          null,
          null,
          18,
          22,
          33,
          null,
          null,
          null,
          28,
          21,
          41,
          21,
          28.5,
          61,
          null,
          null,
          null,
          null,
          null,
          23,
          28,
          42,
          null,
          28,
          20,
          20,
          16,
          2,
          6,
          1,
          7,
          2,
          16,
          14,
          21,
          19,
          null,
          32,
          0.75,
          null,
          null,
          null,
          21,
          25,
          22,
          24,
          19,
          null,
          25,
          null,
          17,
          24,
          null,
          null,
          null,
          38,
          21,
          10,
          4,
          7,
          2,
          8,
          35,
          null,
          50,
          null,
          null,
          18,
          50,
          16,
          null,
          null,
          25,
          null,
          null,
          null,
          38.5,
          null,
          14.5,
          null,
          null,
          null,
          null,
          24,
          39,
          null,
          null,
          null,
          20,
          24.5,
          null,
          null,
          null,
          null,
          null,
          null,
          22,
          null,
          40,
          21,
          4,
          10,
          40,
          null,
          null,
          null,
          null,
          19,
          30,
          null,
          32,
          null,
          33,
          21,
          60.5,
          19,
          27,
          25,
          74,
          24,
          34,
          null,
          null,
          null,
          null,
          null,
          32,
          null,
          null,
          30.5,
          44,
          null,
          null,
          36,
          null,
          11.5,
          40.5,
          36,
          null,
          33,
          28,
          28,
          47,
          31,
          16,
          20,
          22,
          22,
          null,
          null,
          null,
          32.5,
          51,
          18,
          21,
          null,
          null,
          null,
          28.5,
          21,
          27,
          null,
          36,
          27,
          45.5,
          null,
          null,
          26.5,
          27,
          29
         ],
         "xaxis": "x2",
         "yaxis": "y2"
        }
       ],
       "layout": {
        "annotations": [
         {
          "font": {},
          "showarrow": false,
          "text": "Female",
          "x": 0.24,
          "xanchor": "center",
          "xref": "paper",
          "y": 0.9999999999999998,
          "yanchor": "bottom",
          "yref": "paper"
         },
         {
          "font": {},
          "showarrow": false,
          "text": "Male",
          "x": 0.74,
          "xanchor": "center",
          "xref": "paper",
          "y": 0.9999999999999998,
          "yanchor": "bottom",
          "yref": "paper"
         },
         {
          "font": {},
          "showarrow": false,
          "text": "3. class",
          "textangle": 90,
          "x": 0.98,
          "xanchor": "left",
          "xref": "paper",
          "y": 0.15666666666666665,
          "yanchor": "middle",
          "yref": "paper"
         },
         {
          "font": {},
          "showarrow": false,
          "text": "2. class",
          "textangle": 90,
          "x": 0.98,
          "xanchor": "left",
          "xref": "paper",
          "y": 0.4999999999999999,
          "yanchor": "middle",
          "yref": "paper"
         },
         {
          "font": {},
          "showarrow": false,
          "text": "1. class",
          "textangle": 90,
          "x": 0.98,
          "xanchor": "left",
          "xref": "paper",
          "y": 0.8433333333333332,
          "yanchor": "middle",
          "yref": "paper"
         }
        ],
        "barmode": "relative",
        "legend": {
         "title": {
          "text": "Survived"
         },
         "tracegroupgap": 0
        },
        "margin": {
         "t": 60
        },
        "template": {
         "data": {
          "bar": [
           {
            "error_x": {
             "color": "#2a3f5f"
            },
            "error_y": {
             "color": "#2a3f5f"
            },
            "marker": {
             "line": {
              "color": "#E5ECF6",
              "width": 0.5
             },
             "pattern": {
              "fillmode": "overlay",
              "size": 10,
              "solidity": 0.2
             }
            },
            "type": "bar"
           }
          ],
          "barpolar": [
           {
            "marker": {
             "line": {
              "color": "#E5ECF6",
              "width": 0.5
             },
             "pattern": {
              "fillmode": "overlay",
              "size": 10,
              "solidity": 0.2
             }
            },
            "type": "barpolar"
           }
          ],
          "carpet": [
           {
            "aaxis": {
             "endlinecolor": "#2a3f5f",
             "gridcolor": "white",
             "linecolor": "white",
             "minorgridcolor": "white",
             "startlinecolor": "#2a3f5f"
            },
            "baxis": {
             "endlinecolor": "#2a3f5f",
             "gridcolor": "white",
             "linecolor": "white",
             "minorgridcolor": "white",
             "startlinecolor": "#2a3f5f"
            },
            "type": "carpet"
           }
          ],
          "choropleth": [
           {
            "colorbar": {
             "outlinewidth": 0,
             "ticks": ""
            },
            "type": "choropleth"
           }
          ],
          "contour": [
           {
            "colorbar": {
             "outlinewidth": 0,
             "ticks": ""
            },
            "colorscale": [
             [
              0,
              "#0d0887"
             ],
             [
              0.1111111111111111,
              "#46039f"
             ],
             [
              0.2222222222222222,
              "#7201a8"
             ],
             [
              0.3333333333333333,
              "#9c179e"
             ],
             [
              0.4444444444444444,
              "#bd3786"
             ],
             [
              0.5555555555555556,
              "#d8576b"
             ],
             [
              0.6666666666666666,
              "#ed7953"
             ],
             [
              0.7777777777777778,
              "#fb9f3a"
             ],
             [
              0.8888888888888888,
              "#fdca26"
             ],
             [
              1,
              "#f0f921"
             ]
            ],
            "type": "contour"
           }
          ],
          "contourcarpet": [
           {
            "colorbar": {
             "outlinewidth": 0,
             "ticks": ""
            },
            "type": "contourcarpet"
           }
          ],
          "heatmap": [
           {
            "colorbar": {
             "outlinewidth": 0,
             "ticks": ""
            },
            "colorscale": [
             [
              0,
              "#0d0887"
             ],
             [
              0.1111111111111111,
              "#46039f"
             ],
             [
              0.2222222222222222,
              "#7201a8"
             ],
             [
              0.3333333333333333,
              "#9c179e"
             ],
             [
              0.4444444444444444,
              "#bd3786"
             ],
             [
              0.5555555555555556,
              "#d8576b"
             ],
             [
              0.6666666666666666,
              "#ed7953"
             ],
             [
              0.7777777777777778,
              "#fb9f3a"
             ],
             [
              0.8888888888888888,
              "#fdca26"
             ],
             [
              1,
              "#f0f921"
             ]
            ],
            "type": "heatmap"
           }
          ],
          "heatmapgl": [
           {
            "colorbar": {
             "outlinewidth": 0,
             "ticks": ""
            },
            "colorscale": [
             [
              0,
              "#0d0887"
             ],
             [
              0.1111111111111111,
              "#46039f"
             ],
             [
              0.2222222222222222,
              "#7201a8"
             ],
             [
              0.3333333333333333,
              "#9c179e"
             ],
             [
              0.4444444444444444,
              "#bd3786"
             ],
             [
              0.5555555555555556,
              "#d8576b"
             ],
             [
              0.6666666666666666,
              "#ed7953"
             ],
             [
              0.7777777777777778,
              "#fb9f3a"
             ],
             [
              0.8888888888888888,
              "#fdca26"
             ],
             [
              1,
              "#f0f921"
             ]
            ],
            "type": "heatmapgl"
           }
          ],
          "histogram": [
           {
            "marker": {
             "pattern": {
              "fillmode": "overlay",
              "size": 10,
              "solidity": 0.2
             }
            },
            "type": "histogram"
           }
          ],
          "histogram2d": [
           {
            "colorbar": {
             "outlinewidth": 0,
             "ticks": ""
            },
            "colorscale": [
             [
              0,
              "#0d0887"
             ],
             [
              0.1111111111111111,
              "#46039f"
             ],
             [
              0.2222222222222222,
              "#7201a8"
             ],
             [
              0.3333333333333333,
              "#9c179e"
             ],
             [
              0.4444444444444444,
              "#bd3786"
             ],
             [
              0.5555555555555556,
              "#d8576b"
             ],
             [
              0.6666666666666666,
              "#ed7953"
             ],
             [
              0.7777777777777778,
              "#fb9f3a"
             ],
             [
              0.8888888888888888,
              "#fdca26"
             ],
             [
              1,
              "#f0f921"
             ]
            ],
            "type": "histogram2d"
           }
          ],
          "histogram2dcontour": [
           {
            "colorbar": {
             "outlinewidth": 0,
             "ticks": ""
            },
            "colorscale": [
             [
              0,
              "#0d0887"
             ],
             [
              0.1111111111111111,
              "#46039f"
             ],
             [
              0.2222222222222222,
              "#7201a8"
             ],
             [
              0.3333333333333333,
              "#9c179e"
             ],
             [
              0.4444444444444444,
              "#bd3786"
             ],
             [
              0.5555555555555556,
              "#d8576b"
             ],
             [
              0.6666666666666666,
              "#ed7953"
             ],
             [
              0.7777777777777778,
              "#fb9f3a"
             ],
             [
              0.8888888888888888,
              "#fdca26"
             ],
             [
              1,
              "#f0f921"
             ]
            ],
            "type": "histogram2dcontour"
           }
          ],
          "mesh3d": [
           {
            "colorbar": {
             "outlinewidth": 0,
             "ticks": ""
            },
            "type": "mesh3d"
           }
          ],
          "parcoords": [
           {
            "line": {
             "colorbar": {
              "outlinewidth": 0,
              "ticks": ""
             }
            },
            "type": "parcoords"
           }
          ],
          "pie": [
           {
            "automargin": true,
            "type": "pie"
           }
          ],
          "scatter": [
           {
            "fillpattern": {
             "fillmode": "overlay",
             "size": 10,
             "solidity": 0.2
            },
            "type": "scatter"
           }
          ],
          "scatter3d": [
           {
            "line": {
             "colorbar": {
              "outlinewidth": 0,
              "ticks": ""
             }
            },
            "marker": {
             "colorbar": {
              "outlinewidth": 0,
              "ticks": ""
             }
            },
            "type": "scatter3d"
           }
          ],
          "scattercarpet": [
           {
            "marker": {
             "colorbar": {
              "outlinewidth": 0,
              "ticks": ""
             }
            },
            "type": "scattercarpet"
           }
          ],
          "scattergeo": [
           {
            "marker": {
             "colorbar": {
              "outlinewidth": 0,
              "ticks": ""
             }
            },
            "type": "scattergeo"
           }
          ],
          "scattergl": [
           {
            "marker": {
             "colorbar": {
              "outlinewidth": 0,
              "ticks": ""
             }
            },
            "type": "scattergl"
           }
          ],
          "scattermapbox": [
           {
            "marker": {
             "colorbar": {
              "outlinewidth": 0,
              "ticks": ""
             }
            },
            "type": "scattermapbox"
           }
          ],
          "scatterpolar": [
           {
            "marker": {
             "colorbar": {
              "outlinewidth": 0,
              "ticks": ""
             }
            },
            "type": "scatterpolar"
           }
          ],
          "scatterpolargl": [
           {
            "marker": {
             "colorbar": {
              "outlinewidth": 0,
              "ticks": ""
             }
            },
            "type": "scatterpolargl"
           }
          ],
          "scatterternary": [
           {
            "marker": {
             "colorbar": {
              "outlinewidth": 0,
              "ticks": ""
             }
            },
            "type": "scatterternary"
           }
          ],
          "surface": [
           {
            "colorbar": {
             "outlinewidth": 0,
             "ticks": ""
            },
            "colorscale": [
             [
              0,
              "#0d0887"
             ],
             [
              0.1111111111111111,
              "#46039f"
             ],
             [
              0.2222222222222222,
              "#7201a8"
             ],
             [
              0.3333333333333333,
              "#9c179e"
             ],
             [
              0.4444444444444444,
              "#bd3786"
             ],
             [
              0.5555555555555556,
              "#d8576b"
             ],
             [
              0.6666666666666666,
              "#ed7953"
             ],
             [
              0.7777777777777778,
              "#fb9f3a"
             ],
             [
              0.8888888888888888,
              "#fdca26"
             ],
             [
              1,
              "#f0f921"
             ]
            ],
            "type": "surface"
           }
          ],
          "table": [
           {
            "cells": {
             "fill": {
              "color": "#EBF0F8"
             },
             "line": {
              "color": "white"
             }
            },
            "header": {
             "fill": {
              "color": "#C8D4E3"
             },
             "line": {
              "color": "white"
             }
            },
            "type": "table"
           }
          ]
         },
         "layout": {
          "annotationdefaults": {
           "arrowcolor": "#2a3f5f",
           "arrowhead": 0,
           "arrowwidth": 1
          },
          "autotypenumbers": "strict",
          "coloraxis": {
           "colorbar": {
            "outlinewidth": 0,
            "ticks": ""
           }
          },
          "colorscale": {
           "diverging": [
            [
             0,
             "#8e0152"
            ],
            [
             0.1,
             "#c51b7d"
            ],
            [
             0.2,
             "#de77ae"
            ],
            [
             0.3,
             "#f1b6da"
            ],
            [
             0.4,
             "#fde0ef"
            ],
            [
             0.5,
             "#f7f7f7"
            ],
            [
             0.6,
             "#e6f5d0"
            ],
            [
             0.7,
             "#b8e186"
            ],
            [
             0.8,
             "#7fbc41"
            ],
            [
             0.9,
             "#4d9221"
            ],
            [
             1,
             "#276419"
            ]
           ],
           "sequential": [
            [
             0,
             "#0d0887"
            ],
            [
             0.1111111111111111,
             "#46039f"
            ],
            [
             0.2222222222222222,
             "#7201a8"
            ],
            [
             0.3333333333333333,
             "#9c179e"
            ],
            [
             0.4444444444444444,
             "#bd3786"
            ],
            [
             0.5555555555555556,
             "#d8576b"
            ],
            [
             0.6666666666666666,
             "#ed7953"
            ],
            [
             0.7777777777777778,
             "#fb9f3a"
            ],
            [
             0.8888888888888888,
             "#fdca26"
            ],
            [
             1,
             "#f0f921"
            ]
           ],
           "sequentialminus": [
            [
             0,
             "#0d0887"
            ],
            [
             0.1111111111111111,
             "#46039f"
            ],
            [
             0.2222222222222222,
             "#7201a8"
            ],
            [
             0.3333333333333333,
             "#9c179e"
            ],
            [
             0.4444444444444444,
             "#bd3786"
            ],
            [
             0.5555555555555556,
             "#d8576b"
            ],
            [
             0.6666666666666666,
             "#ed7953"
            ],
            [
             0.7777777777777778,
             "#fb9f3a"
            ],
            [
             0.8888888888888888,
             "#fdca26"
            ],
            [
             1,
             "#f0f921"
            ]
           ]
          },
          "colorway": [
           "#636efa",
           "#EF553B",
           "#00cc96",
           "#ab63fa",
           "#FFA15A",
           "#19d3f3",
           "#FF6692",
           "#B6E880",
           "#FF97FF",
           "#FECB52"
          ],
          "font": {
           "color": "#2a3f5f"
          },
          "geo": {
           "bgcolor": "white",
           "lakecolor": "white",
           "landcolor": "#E5ECF6",
           "showlakes": true,
           "showland": true,
           "subunitcolor": "white"
          },
          "hoverlabel": {
           "align": "left"
          },
          "hovermode": "closest",
          "mapbox": {
           "style": "light"
          },
          "paper_bgcolor": "white",
          "plot_bgcolor": "#E5ECF6",
          "polar": {
           "angularaxis": {
            "gridcolor": "white",
            "linecolor": "white",
            "ticks": ""
           },
           "bgcolor": "#E5ECF6",
           "radialaxis": {
            "gridcolor": "white",
            "linecolor": "white",
            "ticks": ""
           }
          },
          "scene": {
           "xaxis": {
            "backgroundcolor": "#E5ECF6",
            "gridcolor": "white",
            "gridwidth": 2,
            "linecolor": "white",
            "showbackground": true,
            "ticks": "",
            "zerolinecolor": "white"
           },
           "yaxis": {
            "backgroundcolor": "#E5ECF6",
            "gridcolor": "white",
            "gridwidth": 2,
            "linecolor": "white",
            "showbackground": true,
            "ticks": "",
            "zerolinecolor": "white"
           },
           "zaxis": {
            "backgroundcolor": "#E5ECF6",
            "gridcolor": "white",
            "gridwidth": 2,
            "linecolor": "white",
            "showbackground": true,
            "ticks": "",
            "zerolinecolor": "white"
           }
          },
          "shapedefaults": {
           "line": {
            "color": "#2a3f5f"
           }
          },
          "ternary": {
           "aaxis": {
            "gridcolor": "white",
            "linecolor": "white",
            "ticks": ""
           },
           "baxis": {
            "gridcolor": "white",
            "linecolor": "white",
            "ticks": ""
           },
           "bgcolor": "#E5ECF6",
           "caxis": {
            "gridcolor": "white",
            "linecolor": "white",
            "ticks": ""
           }
          },
          "title": {
           "x": 0.05
          },
          "xaxis": {
           "automargin": true,
           "gridcolor": "white",
           "linecolor": "white",
           "ticks": "",
           "title": {
            "standoff": 15
           },
           "zerolinecolor": "white",
           "zerolinewidth": 2
          },
          "yaxis": {
           "automargin": true,
           "gridcolor": "white",
           "linecolor": "white",
           "ticks": "",
           "title": {
            "standoff": 15
           },
           "zerolinecolor": "white",
           "zerolinewidth": 2
          }
         }
        },
        "xaxis": {
         "anchor": "y",
         "domain": [
          0,
          0.48
         ],
         "title": {
          "text": "Age"
         }
        },
        "xaxis2": {
         "anchor": "y2",
         "domain": [
          0.5,
          0.98
         ],
         "matches": "x",
         "title": {
          "text": "Age"
         }
        },
        "xaxis3": {
         "anchor": "y3",
         "domain": [
          0,
          0.48
         ],
         "matches": "x",
         "showticklabels": false
        },
        "xaxis4": {
         "anchor": "y4",
         "domain": [
          0.5,
          0.98
         ],
         "matches": "x",
         "showticklabels": false
        },
        "xaxis5": {
         "anchor": "y5",
         "domain": [
          0,
          0.48
         ],
         "matches": "x",
         "showticklabels": false
        },
        "xaxis6": {
         "anchor": "y6",
         "domain": [
          0.5,
          0.98
         ],
         "matches": "x",
         "showticklabels": false
        },
        "yaxis": {
         "anchor": "x",
         "domain": [
          0,
          0.3133333333333333
         ],
         "title": {
          "text": ""
         }
        },
        "yaxis2": {
         "anchor": "x2",
         "domain": [
          0,
          0.3133333333333333
         ],
         "matches": "y",
         "showticklabels": false,
         "title": {
          "text": ""
         }
        },
        "yaxis3": {
         "anchor": "x3",
         "domain": [
          0.34333333333333327,
          0.6566666666666665
         ],
         "matches": "y",
         "title": {
          "text": ""
         }
        },
        "yaxis4": {
         "anchor": "x4",
         "domain": [
          0.34333333333333327,
          0.6566666666666665
         ],
         "matches": "y",
         "showticklabels": false,
         "title": {
          "text": ""
         }
        },
        "yaxis5": {
         "anchor": "x5",
         "domain": [
          0.6866666666666665,
          0.9999999999999998
         ],
         "matches": "y",
         "title": {
          "text": ""
         }
        },
        "yaxis6": {
         "anchor": "x6",
         "domain": [
          0.6866666666666665,
          0.9999999999999998
         ],
         "matches": "y",
         "showticklabels": false,
         "title": {
          "text": ""
         }
        }
       }
      },
      "text/html": [
       "<div>                            <div id=\"00295daf-5299-4721-a3fc-3be6e8e7febf\" class=\"plotly-graph-div\" style=\"height:525px; width:100%;\"></div>            <script type=\"text/javascript\">                require([\"plotly\"], function(Plotly) {                    window.PLOTLYENV=window.PLOTLYENV || {};                                    if (document.getElementById(\"00295daf-5299-4721-a3fc-3be6e8e7febf\")) {                    Plotly.newPlot(                        \"00295daf-5299-4721-a3fc-3be6e8e7febf\",                        [{\"alignmentgroup\":\"True\",\"bingroup\":\"x\",\"hovertemplate\":\"survived=Yes<br>pclass=1. Class<br>sex=female<br>Age=%{x}<br>count=%{y}<extra></extra>\",\"legendgroup\":\"Yes\",\"marker\":{\"color\":\"#636efa\",\"opacity\":0.7,\"pattern\":{\"shape\":\"\"}},\"name\":\"Yes\",\"offsetgroup\":\"Yes\",\"orientation\":\"v\",\"showlegend\":true,\"x\":[29.0,63.0,53.0,18.0,24.0,26.0,50.0,32.0,47.0,42.0,29.0,19.0,35.0,30.0,58.0,45.0,22.0,44.0,59.0,60.0,41.0,53.0,58.0,14.0,36.0,null,76.0,47.0,33.0,36.0,30.0,null,26.0,22.0,39.0,64.0,55.0,36.0,64.0,38.0,33.0,27.0,17.0,54.0,27.0,48.0,48.0,23.0,38.0,54.0,null,null,24.0,28.0,23.0,60.0,30.0,null,22.0,48.0,35.0,35.0,22.0,45.0,null,19.0,58.0,45.0,25.0,49.0,35.0,24.0,52.0,16.0,44.0,51.0,35.0,35.0,38.0,null,45.0,39.0,49.0,30.0,55.0,16.0,51.0,21.0,58.0,15.0,16.0,18.0,24.0,null,33.0,37.0,31.0,23.0,19.0,39.0,22.0,22.0,17.0,30.0,56.0,43.0,33.0,33.0,54.0,18.0,21.0,48.0,24.0,35.0,30.0,40.0,39.0,18.0,23.0,40.0,null,43.0,52.0,62.0,48.0,18.0,39.0,null,39.0,null,35.0,60.0,55.0,31.0,45.0,50.0,21.0,31.0,36.0],\"xaxis\":\"x5\",\"yaxis\":\"y5\",\"type\":\"histogram\"},{\"alignmentgroup\":\"True\",\"bingroup\":\"x\",\"hovertemplate\":\"survived=Yes<br>pclass=1. Class<br>sex=male<br>Age=%{x}<br>count=%{y}<extra></extra>\",\"legendgroup\":\"Yes\",\"marker\":{\"color\":\"#636efa\",\"opacity\":0.7,\"pattern\":{\"shape\":\"\"}},\"name\":\"Yes\",\"offsetgroup\":\"Yes\",\"orientation\":\"v\",\"showlegend\":false,\"x\":[0.9167,48.0,80.0,37.0,26.0,25.0,28.0,40.0,null,42.0,36.0,11.0,36.0,27.0,45.0,51.0,27.0,31.0,53.0,4.0,49.0,36.0,50.0,43.0,60.0,49.0,53.0,23.0,25.0,48.0,27.0,null,35.0,38.0,49.0,42.0,35.0,null,36.0,30.0,null,52.0,null,45.0,13.0,null,null,34.0,35.0,56.0,28.0,24.0,6.0,45.0,32.0,54.0,48.0,17.0,31.0,21.0,null],\"xaxis\":\"x6\",\"yaxis\":\"y6\",\"type\":\"histogram\"},{\"alignmentgroup\":\"True\",\"bingroup\":\"x\",\"hovertemplate\":\"survived=Yes<br>pclass=2. Class<br>sex=female<br>Age=%{x}<br>count=%{y}<extra></extra>\",\"legendgroup\":\"Yes\",\"marker\":{\"color\":\"#636efa\",\"opacity\":0.7,\"pattern\":{\"shape\":\"\"}},\"name\":\"Yes\",\"offsetgroup\":\"Yes\",\"orientation\":\"v\",\"showlegend\":false,\"x\":[28.0,36.0,36.0,19.0,4.0,12.0,36.0,19.0,24.0,15.0,40.0,20.0,36.0,42.0,22.0,35.0,25.0,45.0,28.0,8.0,31.0,22.0,48.0,28.0,24.0,18.0,34.0,34.0,27.0,30.0,29.0,34.0,24.0,6.0,7.0,45.0,24.0,24.0,48.0,55.0,20.0,54.0,29.0,17.0,24.0,23.0,24.0,null,45.0,1.0,3.0,22.0,17.0,null,34.0,42.0,24.0,13.0,41.0,14.0,29.0,50.0,21.0,19.0,32.0,2.0,8.0,33.0,30.0,28.0,24.0,50.0,21.0,25.0,18.0,20.0,30.0,30.0,40.0,50.0,28.0,27.0,31.0,31.0,12.0,40.0,32.5,29.0,4.0,29.0,0.9167,5.0,33.0,26.0],\"xaxis\":\"x3\",\"yaxis\":\"y3\",\"type\":\"histogram\"},{\"alignmentgroup\":\"True\",\"bingroup\":\"x\",\"hovertemplate\":\"survived=Yes<br>pclass=2. Class<br>sex=male<br>Age=%{x}<br>count=%{y}<extra></extra>\",\"legendgroup\":\"Yes\",\"marker\":{\"color\":\"#636efa\",\"opacity\":0.7,\"pattern\":{\"shape\":\"\"}},\"name\":\"Yes\",\"offsetgroup\":\"Yes\",\"orientation\":\"v\",\"showlegend\":false,\"x\":[32.0,1.0,34.0,0.8333,26.0,24.0,8.0,8.0,0.6667,62.0,42.0,1.0,19.0,2.0,3.0,20.0,22.0,null,29.0,30.0,0.8333,3.0,2.0,31.0,null],\"xaxis\":\"x4\",\"yaxis\":\"y4\",\"type\":\"histogram\"},{\"alignmentgroup\":\"True\",\"bingroup\":\"x\",\"hovertemplate\":\"survived=Yes<br>pclass=3. Class<br>sex=female<br>Age=%{x}<br>count=%{y}<extra></extra>\",\"legendgroup\":\"Yes\",\"marker\":{\"color\":\"#636efa\",\"opacity\":0.7,\"pattern\":{\"shape\":\"\"}},\"name\":\"Yes\",\"offsetgroup\":\"Yes\",\"orientation\":\"v\",\"showlegend\":false,\"x\":[35.0,16.0,18.0,18.0,19.0,17.0,5.0,38.0,45.0,13.0,33.0,0.75,0.75,5.0,24.0,18.0,22.0,16.0,22.0,36.0,17.0,30.0,null,36.0,0.1667,33.0,19.0,30.0,23.0,22.0,5.0,16.0,null,31.0,24.0,45.0,null,26.0,22.0,2.0,22.0,27.0,null,null,1.0,27.0,4.0,null,null,4.0,26.0,22.0,23.0,null,null,null,null,null,null,null,null,15.0,null,27.0,null,null,null,null,24.0,null,null,null,15.0,1.0,19.0,14.0,18.0,26.0,22.0,null,null,null,22.0,null,31.0,null,null,null,null,21.0,1.0,24.0,4.0,null,18.0,null,23.0,16.0,null,9.0,29.0,18.0,63.0,38.0,47.0,15.0],\"xaxis\":\"x\",\"yaxis\":\"y\",\"type\":\"histogram\"},{\"alignmentgroup\":\"True\",\"bingroup\":\"x\",\"hovertemplate\":\"survived=Yes<br>pclass=3. Class<br>sex=male<br>Age=%{x}<br>count=%{y}<extra></extra>\",\"legendgroup\":\"Yes\",\"marker\":{\"color\":\"#636efa\",\"opacity\":0.7,\"pattern\":{\"shape\":\"\"}},\"name\":\"Yes\",\"offsetgroup\":\"Yes\",\"orientation\":\"v\",\"showlegend\":false,\"x\":[25.0,20.0,0.8333,26.0,27.0,3.0,23.0,20.0,32.0,21.0,32.0,18.0,9.0,3.0,45.0,29.0,36.5,30.0,1.0,19.0,24.0,null,null,9.0,27.0,null,null,29.0,21.0,null,26.0,4.0,32.0,32.0,21.0,39.0,null,29.0,25.0,null,26.0,22.0,20.0,27.0,32.0,24.0,null,null,null,21.0,6.0,null,null,null,20.0,12.0,39.0,null,9.0,32.0,25.0,null,32.0,null,25.0,29.0,31.0,16.0,44.0,14.0,25.0,0.4167,25.0,7.0,22.0],\"xaxis\":\"x2\",\"yaxis\":\"y2\",\"type\":\"histogram\"},{\"alignmentgroup\":\"True\",\"bingroup\":\"x\",\"hovertemplate\":\"survived=No<br>pclass=1. Class<br>sex=female<br>Age=%{x}<br>count=%{y}<extra></extra>\",\"legendgroup\":\"No\",\"marker\":{\"color\":\"#EF553B\",\"opacity\":0.7,\"pattern\":{\"shape\":\"\"}},\"name\":\"No\",\"offsetgroup\":\"No\",\"orientation\":\"v\",\"showlegend\":true,\"x\":[2.0,25.0,36.0,50.0,63.0],\"xaxis\":\"x5\",\"yaxis\":\"y5\",\"type\":\"histogram\"},{\"alignmentgroup\":\"True\",\"bingroup\":\"x\",\"hovertemplate\":\"survived=No<br>pclass=1. Class<br>sex=male<br>Age=%{x}<br>count=%{y}<extra></extra>\",\"legendgroup\":\"No\",\"marker\":{\"color\":\"#EF553B\",\"opacity\":0.7,\"pattern\":{\"shape\":\"\"}},\"name\":\"No\",\"offsetgroup\":\"No\",\"orientation\":\"v\",\"showlegend\":false,\"x\":[30.0,39.0,71.0,47.0,null,24.0,36.0,25.0,45.0,42.0,41.0,48.0,null,45.0,null,33.0,28.0,17.0,49.0,36.0,46.0,null,27.0,null,47.0,37.0,null,70.0,39.0,31.0,50.0,39.0,null,30.0,19.0,64.0,null,null,37.0,47.0,24.0,71.0,38.0,46.0,null,45.0,40.0,55.0,42.0,null,55.0,42.0,null,46.0,50.0,32.5,58.0,41.0,null,null,42.0,29.0,30.0,30.0,19.0,46.0,54.0,28.0,65.0,44.0,55.0,47.0,37.0,58.0,64.0,65.0,28.5,null,45.5,23.0,29.0,18.0,47.0,38.0,22.0,null,31.0,null,46.0,36.0,55.0,33.0,61.0,50.0,56.0,56.0,24.0,null,57.0,62.0,null,67.0,61.0,52.0,49.0,40.0,61.0,47.0,64.0,60.0,54.0,21.0,57.0,50.0,27.0,51.0,null,62.0],\"xaxis\":\"x6\",\"yaxis\":\"y6\",\"type\":\"histogram\"},{\"alignmentgroup\":\"True\",\"bingroup\":\"x\",\"hovertemplate\":\"survived=No<br>pclass=2. Class<br>sex=female<br>Age=%{x}<br>count=%{y}<extra></extra>\",\"legendgroup\":\"No\",\"marker\":{\"color\":\"#EF553B\",\"opacity\":0.7,\"pattern\":{\"shape\":\"\"}},\"name\":\"No\",\"offsetgroup\":\"No\",\"orientation\":\"v\",\"showlegend\":false,\"x\":[44.0,29.0,30.0,null,38.0,18.0,60.0,22.0,26.0,57.0,27.0,24.0],\"xaxis\":\"x3\",\"yaxis\":\"y3\",\"type\":\"histogram\"},{\"alignmentgroup\":\"True\",\"bingroup\":\"x\",\"hovertemplate\":\"survived=No<br>pclass=2. Class<br>sex=male<br>Age=%{x}<br>count=%{y}<extra></extra>\",\"legendgroup\":\"No\",\"marker\":{\"color\":\"#EF553B\",\"opacity\":0.7,\"pattern\":{\"shape\":\"\"}},\"name\":\"No\",\"offsetgroup\":\"No\",\"orientation\":\"v\",\"showlegend\":false,\"x\":[30.0,30.0,18.0,25.0,34.0,57.0,18.0,23.0,28.0,51.0,28.0,23.0,26.0,42.0,27.0,60.0,25.0,25.0,42.0,null,19.0,54.0,52.0,37.0,29.0,29.0,28.0,31.0,21.0,null,18.0,32.0,17.0,29.0,25.0,18.0,54.0,42.0,23.0,21.0,18.0,40.0,18.0,36.0,null,35.0,38.0,34.0,16.0,26.0,47.0,21.0,21.0,24.0,24.0,34.0,30.0,52.0,30.0,44.0,28.0,30.0,43.0,49.0,24.0,32.0,21.0,23.0,36.0,50.0,44.0,21.0,63.0,33.0,42.0,47.0,24.0,22.0,32.0,34.0,35.0,57.0,null,31.0,30.0,null,25.0,36.0,24.0,61.0,50.0,null,31.0,null,30.0,40.0,32.0,30.0,46.0,39.0,48.0,70.0,27.0,54.0,39.0,16.0,62.0,32.5,36.5,26.0,19.0,28.0,39.0,23.0,28.0,null,19.0,null,41.0,43.0,34.0,27.0,36.0,34.0,23.0,19.0,26.0,25.0,27.0,59.0,35.0,25.0,41.0,25.0,18.5,14.0,23.0,29.0,40.0,30.0,23.0,null,27.0,36.0,66.0,null],\"xaxis\":\"x4\",\"yaxis\":\"y4\",\"type\":\"histogram\"},{\"alignmentgroup\":\"True\",\"bingroup\":\"x\",\"hovertemplate\":\"survived=No<br>pclass=3. Class<br>sex=female<br>Age=%{x}<br>count=%{y}<extra></extra>\",\"legendgroup\":\"No\",\"marker\":{\"color\":\"#EF553B\",\"opacity\":0.7,\"pattern\":{\"shape\":\"\"}},\"name\":\"No\",\"offsetgroup\":\"No\",\"orientation\":\"v\",\"showlegend\":false,\"x\":[40.0,6.0,2.0,38.0,9.0,11.0,39.0,18.0,17.0,18.0,45.0,27.0,9.0,null,null,32.0,20.0,18.5,18.0,21.0,30.0,21.0,null,37.0,30.0,22.0,28.0,24.0,null,21.0,9.0,48.0,10.0,16.0,43.0,24.0,17.0,null,18.0,23.0,28.0,null,27.0,25.0,null,null,20.0,21.0,null,22.0,1.0,36.0,37.0,null,null,null,null,null,25.0,45.0,30.0,26.0,null,30.5,35.0,19.0,null,null,null,null,29.0,null,31.0,23.0,20.0,null,3.0,8.0,29.0,41.0,3.0,26.0,null,28.0,18.0,null,39.0,22.0,null,47.0,2.0,41.0,null,null,null,null,null,9.0,2.0,45.0,22.0,2.0,29.0,10.0,30.0,18.0,31.0,14.0,14.5,null],\"xaxis\":\"x\",\"yaxis\":\"y\",\"type\":\"histogram\"},{\"alignmentgroup\":\"True\",\"bingroup\":\"x\",\"hovertemplate\":\"survived=No<br>pclass=3. Class<br>sex=male<br>Age=%{x}<br>count=%{y}<extra></extra>\",\"legendgroup\":\"No\",\"marker\":{\"color\":\"#EF553B\",\"opacity\":0.7,\"pattern\":{\"shape\":\"\"}},\"name\":\"No\",\"offsetgroup\":\"No\",\"orientation\":\"v\",\"showlegend\":false,\"x\":[42.0,13.0,16.0,30.0,26.0,26.0,20.0,24.0,25.0,35.0,18.0,32.0,4.0,39.0,26.0,20.0,26.0,25.0,24.0,35.0,5.0,9.0,13.0,40.0,21.0,23.0,30.0,23.0,20.0,32.0,40.0,26.0,22.0,19.0,26.0,22.0,null,20.0,21.0,18.0,26.0,6.0,null,40.0,21.0,29.0,22.0,22.0,35.0,19.0,18.0,38.0,17.0,17.0,21.0,21.0,null,28.0,24.0,28.0,24.0,21.0,29.0,26.0,18.0,20.0,24.0,36.0,24.0,31.0,31.0,70.5,43.0,35.0,27.0,19.0,30.0,59.0,19.0,44.0,17.0,22.5,19.0,0.3333,34.0,27.0,25.0,24.0,22.0,21.0,17.0,null,16.0,26.0,25.0,null,null,22.0,36.0,17.0,42.0,43.0,null,32.0,33.0,65.0,23.0,18.0,16.0,45.0,null,39.0,17.0,15.0,47.0,null,40.5,40.5,18.0,null,null,26.0,null,null,18.0,16.0,null,null,25.0,null,null,22.0,33.0,41.0,38.0,9.0,1.0,11.0,14.0,40.0,51.0,32.0,null,20.0,37.0,28.0,19.0,null,null,28.0,20.0,23.5,41.0,26.0,21.0,25.0,null,11.0,28.0,43.0,28.0,null,42.0,30.0,null,null,null,20.0,48.0,17.0,34.0,22.0,33.0,31.0,29.0,49.0,33.0,19.0,null,null,23.0,27.0,17.0,21.0,30.0,33.0,22.0,null,18.5,null,null,34.5,44.0,null,null,null,null,26.0,18.0,null,null,null,null,null,29.0,29.0,22.0,null,32.0,34.5,null,36.0,39.0,24.0,36.0,null,28.0,null,30.0,null,20.5,51.0,null,null,22.0,null,null,29.0,null,35.0,33.0,null,null,null,24.0,55.5,null,null,24.0,21.0,28.0,null,25.0,null,null,null,34.0,null,null,null,18.0,22.0,33.0,null,null,null,28.0,21.0,41.0,21.0,28.5,61.0,null,null,null,null,null,23.0,28.0,42.0,null,28.0,20.0,20.0,16.0,2.0,6.0,1.0,7.0,2.0,16.0,14.0,21.0,19.0,null,32.0,0.75,null,null,null,21.0,25.0,22.0,24.0,19.0,null,25.0,null,17.0,24.0,null,null,null,38.0,21.0,10.0,4.0,7.0,2.0,8.0,35.0,null,50.0,null,null,18.0,50.0,16.0,null,null,25.0,null,null,null,38.5,null,14.5,null,null,null,null,24.0,39.0,null,null,null,20.0,24.5,null,null,null,null,null,null,22.0,null,40.0,21.0,4.0,10.0,40.0,null,null,null,null,19.0,30.0,null,32.0,null,33.0,21.0,60.5,19.0,27.0,25.0,74.0,24.0,34.0,null,null,null,null,null,32.0,null,null,30.5,44.0,null,null,36.0,null,11.5,40.5,36.0,null,33.0,28.0,28.0,47.0,31.0,16.0,20.0,22.0,22.0,null,null,null,32.5,51.0,18.0,21.0,null,null,null,28.5,21.0,27.0,null,36.0,27.0,45.5,null,null,26.5,27.0,29.0],\"xaxis\":\"x2\",\"yaxis\":\"y2\",\"type\":\"histogram\"}],                        {\"template\":{\"data\":{\"histogram2dcontour\":[{\"type\":\"histogram2dcontour\",\"colorbar\":{\"outlinewidth\":0,\"ticks\":\"\"},\"colorscale\":[[0.0,\"#0d0887\"],[0.1111111111111111,\"#46039f\"],[0.2222222222222222,\"#7201a8\"],[0.3333333333333333,\"#9c179e\"],[0.4444444444444444,\"#bd3786\"],[0.5555555555555556,\"#d8576b\"],[0.6666666666666666,\"#ed7953\"],[0.7777777777777778,\"#fb9f3a\"],[0.8888888888888888,\"#fdca26\"],[1.0,\"#f0f921\"]]}],\"choropleth\":[{\"type\":\"choropleth\",\"colorbar\":{\"outlinewidth\":0,\"ticks\":\"\"}}],\"histogram2d\":[{\"type\":\"histogram2d\",\"colorbar\":{\"outlinewidth\":0,\"ticks\":\"\"},\"colorscale\":[[0.0,\"#0d0887\"],[0.1111111111111111,\"#46039f\"],[0.2222222222222222,\"#7201a8\"],[0.3333333333333333,\"#9c179e\"],[0.4444444444444444,\"#bd3786\"],[0.5555555555555556,\"#d8576b\"],[0.6666666666666666,\"#ed7953\"],[0.7777777777777778,\"#fb9f3a\"],[0.8888888888888888,\"#fdca26\"],[1.0,\"#f0f921\"]]}],\"heatmap\":[{\"type\":\"heatmap\",\"colorbar\":{\"outlinewidth\":0,\"ticks\":\"\"},\"colorscale\":[[0.0,\"#0d0887\"],[0.1111111111111111,\"#46039f\"],[0.2222222222222222,\"#7201a8\"],[0.3333333333333333,\"#9c179e\"],[0.4444444444444444,\"#bd3786\"],[0.5555555555555556,\"#d8576b\"],[0.6666666666666666,\"#ed7953\"],[0.7777777777777778,\"#fb9f3a\"],[0.8888888888888888,\"#fdca26\"],[1.0,\"#f0f921\"]]}],\"heatmapgl\":[{\"type\":\"heatmapgl\",\"colorbar\":{\"outlinewidth\":0,\"ticks\":\"\"},\"colorscale\":[[0.0,\"#0d0887\"],[0.1111111111111111,\"#46039f\"],[0.2222222222222222,\"#7201a8\"],[0.3333333333333333,\"#9c179e\"],[0.4444444444444444,\"#bd3786\"],[0.5555555555555556,\"#d8576b\"],[0.6666666666666666,\"#ed7953\"],[0.7777777777777778,\"#fb9f3a\"],[0.8888888888888888,\"#fdca26\"],[1.0,\"#f0f921\"]]}],\"contourcarpet\":[{\"type\":\"contourcarpet\",\"colorbar\":{\"outlinewidth\":0,\"ticks\":\"\"}}],\"contour\":[{\"type\":\"contour\",\"colorbar\":{\"outlinewidth\":0,\"ticks\":\"\"},\"colorscale\":[[0.0,\"#0d0887\"],[0.1111111111111111,\"#46039f\"],[0.2222222222222222,\"#7201a8\"],[0.3333333333333333,\"#9c179e\"],[0.4444444444444444,\"#bd3786\"],[0.5555555555555556,\"#d8576b\"],[0.6666666666666666,\"#ed7953\"],[0.7777777777777778,\"#fb9f3a\"],[0.8888888888888888,\"#fdca26\"],[1.0,\"#f0f921\"]]}],\"surface\":[{\"type\":\"surface\",\"colorbar\":{\"outlinewidth\":0,\"ticks\":\"\"},\"colorscale\":[[0.0,\"#0d0887\"],[0.1111111111111111,\"#46039f\"],[0.2222222222222222,\"#7201a8\"],[0.3333333333333333,\"#9c179e\"],[0.4444444444444444,\"#bd3786\"],[0.5555555555555556,\"#d8576b\"],[0.6666666666666666,\"#ed7953\"],[0.7777777777777778,\"#fb9f3a\"],[0.8888888888888888,\"#fdca26\"],[1.0,\"#f0f921\"]]}],\"mesh3d\":[{\"type\":\"mesh3d\",\"colorbar\":{\"outlinewidth\":0,\"ticks\":\"\"}}],\"scatter\":[{\"fillpattern\":{\"fillmode\":\"overlay\",\"size\":10,\"solidity\":0.2},\"type\":\"scatter\"}],\"parcoords\":[{\"type\":\"parcoords\",\"line\":{\"colorbar\":{\"outlinewidth\":0,\"ticks\":\"\"}}}],\"scatterpolargl\":[{\"type\":\"scatterpolargl\",\"marker\":{\"colorbar\":{\"outlinewidth\":0,\"ticks\":\"\"}}}],\"bar\":[{\"error_x\":{\"color\":\"#2a3f5f\"},\"error_y\":{\"color\":\"#2a3f5f\"},\"marker\":{\"line\":{\"color\":\"#E5ECF6\",\"width\":0.5},\"pattern\":{\"fillmode\":\"overlay\",\"size\":10,\"solidity\":0.2}},\"type\":\"bar\"}],\"scattergeo\":[{\"type\":\"scattergeo\",\"marker\":{\"colorbar\":{\"outlinewidth\":0,\"ticks\":\"\"}}}],\"scatterpolar\":[{\"type\":\"scatterpolar\",\"marker\":{\"colorbar\":{\"outlinewidth\":0,\"ticks\":\"\"}}}],\"histogram\":[{\"marker\":{\"pattern\":{\"fillmode\":\"overlay\",\"size\":10,\"solidity\":0.2}},\"type\":\"histogram\"}],\"scattergl\":[{\"type\":\"scattergl\",\"marker\":{\"colorbar\":{\"outlinewidth\":0,\"ticks\":\"\"}}}],\"scatter3d\":[{\"type\":\"scatter3d\",\"line\":{\"colorbar\":{\"outlinewidth\":0,\"ticks\":\"\"}},\"marker\":{\"colorbar\":{\"outlinewidth\":0,\"ticks\":\"\"}}}],\"scattermapbox\":[{\"type\":\"scattermapbox\",\"marker\":{\"colorbar\":{\"outlinewidth\":0,\"ticks\":\"\"}}}],\"scatterternary\":[{\"type\":\"scatterternary\",\"marker\":{\"colorbar\":{\"outlinewidth\":0,\"ticks\":\"\"}}}],\"scattercarpet\":[{\"type\":\"scattercarpet\",\"marker\":{\"colorbar\":{\"outlinewidth\":0,\"ticks\":\"\"}}}],\"carpet\":[{\"aaxis\":{\"endlinecolor\":\"#2a3f5f\",\"gridcolor\":\"white\",\"linecolor\":\"white\",\"minorgridcolor\":\"white\",\"startlinecolor\":\"#2a3f5f\"},\"baxis\":{\"endlinecolor\":\"#2a3f5f\",\"gridcolor\":\"white\",\"linecolor\":\"white\",\"minorgridcolor\":\"white\",\"startlinecolor\":\"#2a3f5f\"},\"type\":\"carpet\"}],\"table\":[{\"cells\":{\"fill\":{\"color\":\"#EBF0F8\"},\"line\":{\"color\":\"white\"}},\"header\":{\"fill\":{\"color\":\"#C8D4E3\"},\"line\":{\"color\":\"white\"}},\"type\":\"table\"}],\"barpolar\":[{\"marker\":{\"line\":{\"color\":\"#E5ECF6\",\"width\":0.5},\"pattern\":{\"fillmode\":\"overlay\",\"size\":10,\"solidity\":0.2}},\"type\":\"barpolar\"}],\"pie\":[{\"automargin\":true,\"type\":\"pie\"}]},\"layout\":{\"autotypenumbers\":\"strict\",\"colorway\":[\"#636efa\",\"#EF553B\",\"#00cc96\",\"#ab63fa\",\"#FFA15A\",\"#19d3f3\",\"#FF6692\",\"#B6E880\",\"#FF97FF\",\"#FECB52\"],\"font\":{\"color\":\"#2a3f5f\"},\"hovermode\":\"closest\",\"hoverlabel\":{\"align\":\"left\"},\"paper_bgcolor\":\"white\",\"plot_bgcolor\":\"#E5ECF6\",\"polar\":{\"bgcolor\":\"#E5ECF6\",\"angularaxis\":{\"gridcolor\":\"white\",\"linecolor\":\"white\",\"ticks\":\"\"},\"radialaxis\":{\"gridcolor\":\"white\",\"linecolor\":\"white\",\"ticks\":\"\"}},\"ternary\":{\"bgcolor\":\"#E5ECF6\",\"aaxis\":{\"gridcolor\":\"white\",\"linecolor\":\"white\",\"ticks\":\"\"},\"baxis\":{\"gridcolor\":\"white\",\"linecolor\":\"white\",\"ticks\":\"\"},\"caxis\":{\"gridcolor\":\"white\",\"linecolor\":\"white\",\"ticks\":\"\"}},\"coloraxis\":{\"colorbar\":{\"outlinewidth\":0,\"ticks\":\"\"}},\"colorscale\":{\"sequential\":[[0.0,\"#0d0887\"],[0.1111111111111111,\"#46039f\"],[0.2222222222222222,\"#7201a8\"],[0.3333333333333333,\"#9c179e\"],[0.4444444444444444,\"#bd3786\"],[0.5555555555555556,\"#d8576b\"],[0.6666666666666666,\"#ed7953\"],[0.7777777777777778,\"#fb9f3a\"],[0.8888888888888888,\"#fdca26\"],[1.0,\"#f0f921\"]],\"sequentialminus\":[[0.0,\"#0d0887\"],[0.1111111111111111,\"#46039f\"],[0.2222222222222222,\"#7201a8\"],[0.3333333333333333,\"#9c179e\"],[0.4444444444444444,\"#bd3786\"],[0.5555555555555556,\"#d8576b\"],[0.6666666666666666,\"#ed7953\"],[0.7777777777777778,\"#fb9f3a\"],[0.8888888888888888,\"#fdca26\"],[1.0,\"#f0f921\"]],\"diverging\":[[0,\"#8e0152\"],[0.1,\"#c51b7d\"],[0.2,\"#de77ae\"],[0.3,\"#f1b6da\"],[0.4,\"#fde0ef\"],[0.5,\"#f7f7f7\"],[0.6,\"#e6f5d0\"],[0.7,\"#b8e186\"],[0.8,\"#7fbc41\"],[0.9,\"#4d9221\"],[1,\"#276419\"]]},\"xaxis\":{\"gridcolor\":\"white\",\"linecolor\":\"white\",\"ticks\":\"\",\"title\":{\"standoff\":15},\"zerolinecolor\":\"white\",\"automargin\":true,\"zerolinewidth\":2},\"yaxis\":{\"gridcolor\":\"white\",\"linecolor\":\"white\",\"ticks\":\"\",\"title\":{\"standoff\":15},\"zerolinecolor\":\"white\",\"automargin\":true,\"zerolinewidth\":2},\"scene\":{\"xaxis\":{\"backgroundcolor\":\"#E5ECF6\",\"gridcolor\":\"white\",\"linecolor\":\"white\",\"showbackground\":true,\"ticks\":\"\",\"zerolinecolor\":\"white\",\"gridwidth\":2},\"yaxis\":{\"backgroundcolor\":\"#E5ECF6\",\"gridcolor\":\"white\",\"linecolor\":\"white\",\"showbackground\":true,\"ticks\":\"\",\"zerolinecolor\":\"white\",\"gridwidth\":2},\"zaxis\":{\"backgroundcolor\":\"#E5ECF6\",\"gridcolor\":\"white\",\"linecolor\":\"white\",\"showbackground\":true,\"ticks\":\"\",\"zerolinecolor\":\"white\",\"gridwidth\":2}},\"shapedefaults\":{\"line\":{\"color\":\"#2a3f5f\"}},\"annotationdefaults\":{\"arrowcolor\":\"#2a3f5f\",\"arrowhead\":0,\"arrowwidth\":1},\"geo\":{\"bgcolor\":\"white\",\"landcolor\":\"#E5ECF6\",\"subunitcolor\":\"white\",\"showland\":true,\"showlakes\":true,\"lakecolor\":\"white\"},\"title\":{\"x\":0.05},\"mapbox\":{\"style\":\"light\"}}},\"xaxis\":{\"anchor\":\"y\",\"domain\":[0.0,0.48],\"title\":{\"text\":\"Age\"}},\"yaxis\":{\"anchor\":\"x\",\"domain\":[0.0,0.3133333333333333],\"title\":{\"text\":\"\"}},\"xaxis2\":{\"anchor\":\"y2\",\"domain\":[0.5,0.98],\"matches\":\"x\",\"title\":{\"text\":\"Age\"}},\"yaxis2\":{\"anchor\":\"x2\",\"domain\":[0.0,0.3133333333333333],\"matches\":\"y\",\"showticklabels\":false,\"title\":{\"text\":\"\"}},\"xaxis3\":{\"anchor\":\"y3\",\"domain\":[0.0,0.48],\"matches\":\"x\",\"showticklabels\":false},\"yaxis3\":{\"anchor\":\"x3\",\"domain\":[0.34333333333333327,0.6566666666666665],\"matches\":\"y\",\"title\":{\"text\":\"\"}},\"xaxis4\":{\"anchor\":\"y4\",\"domain\":[0.5,0.98],\"matches\":\"x\",\"showticklabels\":false},\"yaxis4\":{\"anchor\":\"x4\",\"domain\":[0.34333333333333327,0.6566666666666665],\"matches\":\"y\",\"showticklabels\":false,\"title\":{\"text\":\"\"}},\"xaxis5\":{\"anchor\":\"y5\",\"domain\":[0.0,0.48],\"matches\":\"x\",\"showticklabels\":false},\"yaxis5\":{\"anchor\":\"x5\",\"domain\":[0.6866666666666665,0.9999999999999998],\"matches\":\"y\",\"title\":{\"text\":\"\"}},\"xaxis6\":{\"anchor\":\"y6\",\"domain\":[0.5,0.98],\"matches\":\"x\",\"showticklabels\":false},\"yaxis6\":{\"anchor\":\"x6\",\"domain\":[0.6866666666666665,0.9999999999999998],\"matches\":\"y\",\"showticklabels\":false,\"title\":{\"text\":\"\"}},\"annotations\":[{\"font\":{},\"showarrow\":false,\"text\":\"Female\",\"x\":0.24,\"xanchor\":\"center\",\"xref\":\"paper\",\"y\":0.9999999999999998,\"yanchor\":\"bottom\",\"yref\":\"paper\"},{\"font\":{},\"showarrow\":false,\"text\":\"Male\",\"x\":0.74,\"xanchor\":\"center\",\"xref\":\"paper\",\"y\":0.9999999999999998,\"yanchor\":\"bottom\",\"yref\":\"paper\"},{\"font\":{},\"showarrow\":false,\"text\":\"3. class\",\"textangle\":90,\"x\":0.98,\"xanchor\":\"left\",\"xref\":\"paper\",\"y\":0.15666666666666665,\"yanchor\":\"middle\",\"yref\":\"paper\"},{\"font\":{},\"showarrow\":false,\"text\":\"2. class\",\"textangle\":90,\"x\":0.98,\"xanchor\":\"left\",\"xref\":\"paper\",\"y\":0.4999999999999999,\"yanchor\":\"middle\",\"yref\":\"paper\"},{\"font\":{},\"showarrow\":false,\"text\":\"1. class\",\"textangle\":90,\"x\":0.98,\"xanchor\":\"left\",\"xref\":\"paper\",\"y\":0.8433333333333332,\"yanchor\":\"middle\",\"yref\":\"paper\"}],\"legend\":{\"title\":{\"text\":\"Survived\"},\"tracegroupgap\":0},\"margin\":{\"t\":60},\"barmode\":\"relative\"},                        {\"responsive\": true}                    ).then(function(){\n",
       "                            \n",
       "var gd = document.getElementById('00295daf-5299-4721-a3fc-3be6e8e7febf');\n",
       "var x = new MutationObserver(function (mutations, observer) {{\n",
       "        var display = window.getComputedStyle(gd).display;\n",
       "        if (!display || display === 'none') {{\n",
       "            console.log([gd, 'removed!']);\n",
       "            Plotly.purge(gd);\n",
       "            observer.disconnect();\n",
       "        }}\n",
       "}});\n",
       "\n",
       "// Listen for the removal of the full notebook cells\n",
       "var notebookContainer = gd.closest('#notebook-container');\n",
       "if (notebookContainer) {{\n",
       "    x.observe(notebookContainer, {childList: true});\n",
       "}}\n",
       "\n",
       "// Listen for the clearing of the current output cell\n",
       "var outputEl = gd.closest('.output');\n",
       "if (outputEl) {{\n",
       "    x.observe(outputEl, {childList: true});\n",
       "}}\n",
       "\n",
       "                        })                };                });            </script>        </div>"
      ]
     },
     "metadata": {},
     "output_type": "display_data"
    }
   ],
   "source": [
    "df2 = df.copy()\n",
    "df2['survived'] = df2['survived'].replace([0,1],['No','Yes'])\n",
    "df2=df2.dropna(subset=['pclass'])\n",
    "df2.pclass = df2.pclass.replace([1,2,3],['1. Class', '2. Class', '3. Class'])\n",
    "df2 = df2.rename(columns={'age': 'Age'})\n",
    "fig = px.histogram(df2, x = \"Age\", color = \"survived\", facet_row = \"pclass\", facet_col ='sex', opacity = 0.7)\n",
    "fig.update_layout(legend=dict(title=\"Survived\"))\n",
    "fig.update_yaxes(title='')\n",
    "\n",
    "\n",
    "fig.for_each_annotation(lambda a: a.update(text=a.text.split(\"=\")[1].capitalize()))\n",
    "fig.show()"
   ]
  },
  {
   "cell_type": "code",
   "execution_count": 15,
   "id": "b5e7f29f",
   "metadata": {},
   "outputs": [
    {
     "name": "stdout",
     "output_type": "stream",
     "text": [
      "TOTAL: 1309\n"
     ]
    },
    {
     "data": {
      "application/vnd.plotly.v1+json": {
       "config": {
        "plotlyServerURL": "https://plot.ly"
       },
       "data": [
        {
         "customdata": [
          [
           "Child",
           "2542"
          ],
          [
           "Adult",
           "98930"
          ],
          [
           "Child",
           "3600"
          ],
          [
           "Adult",
           "113866"
          ]
         ],
         "hovertemplate": "Device: %{customdata[0]}<br>Total Products: %{width}<br>Percentage%: %{y}<br>Area: %{customdata[1]}",
         "name": "Survived",
         "offset": 0,
         "textfont": {
          "color": "white"
         },
         "textposition": "inside",
         "texttemplate": [
          "31",
          "130",
          "50",
          "289"
         ],
         "type": "bar",
         "width": [
          82,
          761,
          72,
          394
         ],
         "x": [
          0,
          82,
          843,
          915
         ],
         "y": [
          37.80487804878049,
          17.082785808147175,
          69.44444444444444,
          73.3502538071066
         ]
        },
        {
         "customdata": [
          [
           "Child",
           "4182"
          ],
          [
           "Adult",
           "480191"
          ],
          [
           "Child",
           "1584"
          ],
          [
           "Adult",
           "41370"
          ]
         ],
         "hovertemplate": "Device: %{customdata[0]}<br>Total Products: %{width}<br>Percentage%: %{y}<br>Area: %{customdata[1]}",
         "name": "Dead",
         "offset": 0,
         "textfont": {
          "color": "white"
         },
         "textposition": "inside",
         "texttemplate": [
          "51",
          "631",
          "22",
          "105"
         ],
         "type": "bar",
         "width": [
          82,
          761,
          72,
          394
         ],
         "x": [
          0,
          82,
          843,
          915
         ],
         "y": [
          62.19512195121951,
          82.91721419185282,
          30.555555555555557,
          26.649746192893403
         ]
        }
       ],
       "layout": {
        "barmode": "stack",
        "template": {
         "data": {
          "bar": [
           {
            "error_x": {
             "color": "#2a3f5f"
            },
            "error_y": {
             "color": "#2a3f5f"
            },
            "marker": {
             "line": {
              "color": "#E5ECF6",
              "width": 0.5
             },
             "pattern": {
              "fillmode": "overlay",
              "size": 10,
              "solidity": 0.2
             }
            },
            "type": "bar"
           }
          ],
          "barpolar": [
           {
            "marker": {
             "line": {
              "color": "#E5ECF6",
              "width": 0.5
             },
             "pattern": {
              "fillmode": "overlay",
              "size": 10,
              "solidity": 0.2
             }
            },
            "type": "barpolar"
           }
          ],
          "carpet": [
           {
            "aaxis": {
             "endlinecolor": "#2a3f5f",
             "gridcolor": "white",
             "linecolor": "white",
             "minorgridcolor": "white",
             "startlinecolor": "#2a3f5f"
            },
            "baxis": {
             "endlinecolor": "#2a3f5f",
             "gridcolor": "white",
             "linecolor": "white",
             "minorgridcolor": "white",
             "startlinecolor": "#2a3f5f"
            },
            "type": "carpet"
           }
          ],
          "choropleth": [
           {
            "colorbar": {
             "outlinewidth": 0,
             "ticks": ""
            },
            "type": "choropleth"
           }
          ],
          "contour": [
           {
            "colorbar": {
             "outlinewidth": 0,
             "ticks": ""
            },
            "colorscale": [
             [
              0,
              "#0d0887"
             ],
             [
              0.1111111111111111,
              "#46039f"
             ],
             [
              0.2222222222222222,
              "#7201a8"
             ],
             [
              0.3333333333333333,
              "#9c179e"
             ],
             [
              0.4444444444444444,
              "#bd3786"
             ],
             [
              0.5555555555555556,
              "#d8576b"
             ],
             [
              0.6666666666666666,
              "#ed7953"
             ],
             [
              0.7777777777777778,
              "#fb9f3a"
             ],
             [
              0.8888888888888888,
              "#fdca26"
             ],
             [
              1,
              "#f0f921"
             ]
            ],
            "type": "contour"
           }
          ],
          "contourcarpet": [
           {
            "colorbar": {
             "outlinewidth": 0,
             "ticks": ""
            },
            "type": "contourcarpet"
           }
          ],
          "heatmap": [
           {
            "colorbar": {
             "outlinewidth": 0,
             "ticks": ""
            },
            "colorscale": [
             [
              0,
              "#0d0887"
             ],
             [
              0.1111111111111111,
              "#46039f"
             ],
             [
              0.2222222222222222,
              "#7201a8"
             ],
             [
              0.3333333333333333,
              "#9c179e"
             ],
             [
              0.4444444444444444,
              "#bd3786"
             ],
             [
              0.5555555555555556,
              "#d8576b"
             ],
             [
              0.6666666666666666,
              "#ed7953"
             ],
             [
              0.7777777777777778,
              "#fb9f3a"
             ],
             [
              0.8888888888888888,
              "#fdca26"
             ],
             [
              1,
              "#f0f921"
             ]
            ],
            "type": "heatmap"
           }
          ],
          "heatmapgl": [
           {
            "colorbar": {
             "outlinewidth": 0,
             "ticks": ""
            },
            "colorscale": [
             [
              0,
              "#0d0887"
             ],
             [
              0.1111111111111111,
              "#46039f"
             ],
             [
              0.2222222222222222,
              "#7201a8"
             ],
             [
              0.3333333333333333,
              "#9c179e"
             ],
             [
              0.4444444444444444,
              "#bd3786"
             ],
             [
              0.5555555555555556,
              "#d8576b"
             ],
             [
              0.6666666666666666,
              "#ed7953"
             ],
             [
              0.7777777777777778,
              "#fb9f3a"
             ],
             [
              0.8888888888888888,
              "#fdca26"
             ],
             [
              1,
              "#f0f921"
             ]
            ],
            "type": "heatmapgl"
           }
          ],
          "histogram": [
           {
            "marker": {
             "pattern": {
              "fillmode": "overlay",
              "size": 10,
              "solidity": 0.2
             }
            },
            "type": "histogram"
           }
          ],
          "histogram2d": [
           {
            "colorbar": {
             "outlinewidth": 0,
             "ticks": ""
            },
            "colorscale": [
             [
              0,
              "#0d0887"
             ],
             [
              0.1111111111111111,
              "#46039f"
             ],
             [
              0.2222222222222222,
              "#7201a8"
             ],
             [
              0.3333333333333333,
              "#9c179e"
             ],
             [
              0.4444444444444444,
              "#bd3786"
             ],
             [
              0.5555555555555556,
              "#d8576b"
             ],
             [
              0.6666666666666666,
              "#ed7953"
             ],
             [
              0.7777777777777778,
              "#fb9f3a"
             ],
             [
              0.8888888888888888,
              "#fdca26"
             ],
             [
              1,
              "#f0f921"
             ]
            ],
            "type": "histogram2d"
           }
          ],
          "histogram2dcontour": [
           {
            "colorbar": {
             "outlinewidth": 0,
             "ticks": ""
            },
            "colorscale": [
             [
              0,
              "#0d0887"
             ],
             [
              0.1111111111111111,
              "#46039f"
             ],
             [
              0.2222222222222222,
              "#7201a8"
             ],
             [
              0.3333333333333333,
              "#9c179e"
             ],
             [
              0.4444444444444444,
              "#bd3786"
             ],
             [
              0.5555555555555556,
              "#d8576b"
             ],
             [
              0.6666666666666666,
              "#ed7953"
             ],
             [
              0.7777777777777778,
              "#fb9f3a"
             ],
             [
              0.8888888888888888,
              "#fdca26"
             ],
             [
              1,
              "#f0f921"
             ]
            ],
            "type": "histogram2dcontour"
           }
          ],
          "mesh3d": [
           {
            "colorbar": {
             "outlinewidth": 0,
             "ticks": ""
            },
            "type": "mesh3d"
           }
          ],
          "parcoords": [
           {
            "line": {
             "colorbar": {
              "outlinewidth": 0,
              "ticks": ""
             }
            },
            "type": "parcoords"
           }
          ],
          "pie": [
           {
            "automargin": true,
            "type": "pie"
           }
          ],
          "scatter": [
           {
            "fillpattern": {
             "fillmode": "overlay",
             "size": 10,
             "solidity": 0.2
            },
            "type": "scatter"
           }
          ],
          "scatter3d": [
           {
            "line": {
             "colorbar": {
              "outlinewidth": 0,
              "ticks": ""
             }
            },
            "marker": {
             "colorbar": {
              "outlinewidth": 0,
              "ticks": ""
             }
            },
            "type": "scatter3d"
           }
          ],
          "scattercarpet": [
           {
            "marker": {
             "colorbar": {
              "outlinewidth": 0,
              "ticks": ""
             }
            },
            "type": "scattercarpet"
           }
          ],
          "scattergeo": [
           {
            "marker": {
             "colorbar": {
              "outlinewidth": 0,
              "ticks": ""
             }
            },
            "type": "scattergeo"
           }
          ],
          "scattergl": [
           {
            "marker": {
             "colorbar": {
              "outlinewidth": 0,
              "ticks": ""
             }
            },
            "type": "scattergl"
           }
          ],
          "scattermapbox": [
           {
            "marker": {
             "colorbar": {
              "outlinewidth": 0,
              "ticks": ""
             }
            },
            "type": "scattermapbox"
           }
          ],
          "scatterpolar": [
           {
            "marker": {
             "colorbar": {
              "outlinewidth": 0,
              "ticks": ""
             }
            },
            "type": "scatterpolar"
           }
          ],
          "scatterpolargl": [
           {
            "marker": {
             "colorbar": {
              "outlinewidth": 0,
              "ticks": ""
             }
            },
            "type": "scatterpolargl"
           }
          ],
          "scatterternary": [
           {
            "marker": {
             "colorbar": {
              "outlinewidth": 0,
              "ticks": ""
             }
            },
            "type": "scatterternary"
           }
          ],
          "surface": [
           {
            "colorbar": {
             "outlinewidth": 0,
             "ticks": ""
            },
            "colorscale": [
             [
              0,
              "#0d0887"
             ],
             [
              0.1111111111111111,
              "#46039f"
             ],
             [
              0.2222222222222222,
              "#7201a8"
             ],
             [
              0.3333333333333333,
              "#9c179e"
             ],
             [
              0.4444444444444444,
              "#bd3786"
             ],
             [
              0.5555555555555556,
              "#d8576b"
             ],
             [
              0.6666666666666666,
              "#ed7953"
             ],
             [
              0.7777777777777778,
              "#fb9f3a"
             ],
             [
              0.8888888888888888,
              "#fdca26"
             ],
             [
              1,
              "#f0f921"
             ]
            ],
            "type": "surface"
           }
          ],
          "table": [
           {
            "cells": {
             "fill": {
              "color": "#EBF0F8"
             },
             "line": {
              "color": "white"
             }
            },
            "header": {
             "fill": {
              "color": "#C8D4E3"
             },
             "line": {
              "color": "white"
             }
            },
            "type": "table"
           }
          ]
         },
         "layout": {
          "annotationdefaults": {
           "arrowcolor": "#2a3f5f",
           "arrowhead": 0,
           "arrowwidth": 1
          },
          "autotypenumbers": "strict",
          "coloraxis": {
           "colorbar": {
            "outlinewidth": 0,
            "ticks": ""
           }
          },
          "colorscale": {
           "diverging": [
            [
             0,
             "#8e0152"
            ],
            [
             0.1,
             "#c51b7d"
            ],
            [
             0.2,
             "#de77ae"
            ],
            [
             0.3,
             "#f1b6da"
            ],
            [
             0.4,
             "#fde0ef"
            ],
            [
             0.5,
             "#f7f7f7"
            ],
            [
             0.6,
             "#e6f5d0"
            ],
            [
             0.7,
             "#b8e186"
            ],
            [
             0.8,
             "#7fbc41"
            ],
            [
             0.9,
             "#4d9221"
            ],
            [
             1,
             "#276419"
            ]
           ],
           "sequential": [
            [
             0,
             "#0d0887"
            ],
            [
             0.1111111111111111,
             "#46039f"
            ],
            [
             0.2222222222222222,
             "#7201a8"
            ],
            [
             0.3333333333333333,
             "#9c179e"
            ],
            [
             0.4444444444444444,
             "#bd3786"
            ],
            [
             0.5555555555555556,
             "#d8576b"
            ],
            [
             0.6666666666666666,
             "#ed7953"
            ],
            [
             0.7777777777777778,
             "#fb9f3a"
            ],
            [
             0.8888888888888888,
             "#fdca26"
            ],
            [
             1,
             "#f0f921"
            ]
           ],
           "sequentialminus": [
            [
             0,
             "#0d0887"
            ],
            [
             0.1111111111111111,
             "#46039f"
            ],
            [
             0.2222222222222222,
             "#7201a8"
            ],
            [
             0.3333333333333333,
             "#9c179e"
            ],
            [
             0.4444444444444444,
             "#bd3786"
            ],
            [
             0.5555555555555556,
             "#d8576b"
            ],
            [
             0.6666666666666666,
             "#ed7953"
            ],
            [
             0.7777777777777778,
             "#fb9f3a"
            ],
            [
             0.8888888888888888,
             "#fdca26"
            ],
            [
             1,
             "#f0f921"
            ]
           ]
          },
          "colorway": [
           "#636efa",
           "#EF553B",
           "#00cc96",
           "#ab63fa",
           "#FFA15A",
           "#19d3f3",
           "#FF6692",
           "#B6E880",
           "#FF97FF",
           "#FECB52"
          ],
          "font": {
           "color": "#2a3f5f"
          },
          "geo": {
           "bgcolor": "white",
           "lakecolor": "white",
           "landcolor": "#E5ECF6",
           "showlakes": true,
           "showland": true,
           "subunitcolor": "white"
          },
          "hoverlabel": {
           "align": "left"
          },
          "hovermode": "closest",
          "mapbox": {
           "style": "light"
          },
          "paper_bgcolor": "white",
          "plot_bgcolor": "#E5ECF6",
          "polar": {
           "angularaxis": {
            "gridcolor": "white",
            "linecolor": "white",
            "ticks": ""
           },
           "bgcolor": "#E5ECF6",
           "radialaxis": {
            "gridcolor": "white",
            "linecolor": "white",
            "ticks": ""
           }
          },
          "scene": {
           "xaxis": {
            "backgroundcolor": "#E5ECF6",
            "gridcolor": "white",
            "gridwidth": 2,
            "linecolor": "white",
            "showbackground": true,
            "ticks": "",
            "zerolinecolor": "white"
           },
           "yaxis": {
            "backgroundcolor": "#E5ECF6",
            "gridcolor": "white",
            "gridwidth": 2,
            "linecolor": "white",
            "showbackground": true,
            "ticks": "",
            "zerolinecolor": "white"
           },
           "zaxis": {
            "backgroundcolor": "#E5ECF6",
            "gridcolor": "white",
            "gridwidth": 2,
            "linecolor": "white",
            "showbackground": true,
            "ticks": "",
            "zerolinecolor": "white"
           }
          },
          "shapedefaults": {
           "line": {
            "color": "#2a3f5f"
           }
          },
          "ternary": {
           "aaxis": {
            "gridcolor": "white",
            "linecolor": "white",
            "ticks": ""
           },
           "baxis": {
            "gridcolor": "white",
            "linecolor": "white",
            "ticks": ""
           },
           "bgcolor": "#E5ECF6",
           "caxis": {
            "gridcolor": "white",
            "linecolor": "white",
            "ticks": ""
           }
          },
          "title": {
           "x": 0.05
          },
          "xaxis": {
           "automargin": true,
           "gridcolor": "white",
           "linecolor": "white",
           "ticks": "",
           "title": {
            "standoff": 15
           },
           "zerolinecolor": "white",
           "zerolinewidth": 2
          },
          "yaxis": {
           "automargin": true,
           "gridcolor": "white",
           "linecolor": "white",
           "ticks": "",
           "title": {
            "standoff": 15
           },
           "zerolinecolor": "white",
           "zerolinewidth": 2
          }
         }
        },
        "title": {
         "text": "Titanic"
        },
        "uniformtext": {
         "minsize": 10,
         "mode": "hide"
        },
        "xaxis": {
         "range": [
          0,
          1309
         ],
         "ticktext": [
          "Child<br>82",
          "Adult<br>761",
          "Child<br>72",
          "Adult<br>394"
         ],
         "tickvals": [
          41,
          462.5,
          879,
          1112
         ]
        }
       }
      },
      "text/html": [
       "<div>                            <div id=\"9e82729d-cfbe-4df8-aef6-2908d7fb67ee\" class=\"plotly-graph-div\" style=\"height:525px; width:100%;\"></div>            <script type=\"text/javascript\">                require([\"plotly\"], function(Plotly) {                    window.PLOTLYENV=window.PLOTLYENV || {};                                    if (document.getElementById(\"9e82729d-cfbe-4df8-aef6-2908d7fb67ee\")) {                    Plotly.newPlot(                        \"9e82729d-cfbe-4df8-aef6-2908d7fb67ee\",                        [{\"customdata\":[[\"Child\",\"2542\"],[\"Adult\",\"98930\"],[\"Child\",\"3600\"],[\"Adult\",\"113866\"]],\"hovertemplate\":\"Device: %{customdata[0]}<br>Total Products: %{width}<br>Percentage%: %{y}<br>Area: %{customdata[1]}\",\"name\":\"Survived\",\"offset\":0,\"textfont\":{\"color\":\"white\"},\"textposition\":\"inside\",\"texttemplate\":[\"31\",\"130\",\"50\",\"289\"],\"width\":[82,761,72,394],\"x\":[0,82,843,915],\"y\":[37.80487804878049,17.082785808147175,69.44444444444444,73.3502538071066],\"type\":\"bar\"},{\"customdata\":[[\"Child\",\"4182\"],[\"Adult\",\"480191\"],[\"Child\",\"1584\"],[\"Adult\",\"41370\"]],\"hovertemplate\":\"Device: %{customdata[0]}<br>Total Products: %{width}<br>Percentage%: %{y}<br>Area: %{customdata[1]}\",\"name\":\"Dead\",\"offset\":0,\"textfont\":{\"color\":\"white\"},\"textposition\":\"inside\",\"texttemplate\":[\"51\",\"631\",\"22\",\"105\"],\"width\":[82,761,72,394],\"x\":[0,82,843,915],\"y\":[62.19512195121951,82.91721419185282,30.555555555555557,26.649746192893403],\"type\":\"bar\"}],                        {\"template\":{\"data\":{\"histogram2dcontour\":[{\"type\":\"histogram2dcontour\",\"colorbar\":{\"outlinewidth\":0,\"ticks\":\"\"},\"colorscale\":[[0.0,\"#0d0887\"],[0.1111111111111111,\"#46039f\"],[0.2222222222222222,\"#7201a8\"],[0.3333333333333333,\"#9c179e\"],[0.4444444444444444,\"#bd3786\"],[0.5555555555555556,\"#d8576b\"],[0.6666666666666666,\"#ed7953\"],[0.7777777777777778,\"#fb9f3a\"],[0.8888888888888888,\"#fdca26\"],[1.0,\"#f0f921\"]]}],\"choropleth\":[{\"type\":\"choropleth\",\"colorbar\":{\"outlinewidth\":0,\"ticks\":\"\"}}],\"histogram2d\":[{\"type\":\"histogram2d\",\"colorbar\":{\"outlinewidth\":0,\"ticks\":\"\"},\"colorscale\":[[0.0,\"#0d0887\"],[0.1111111111111111,\"#46039f\"],[0.2222222222222222,\"#7201a8\"],[0.3333333333333333,\"#9c179e\"],[0.4444444444444444,\"#bd3786\"],[0.5555555555555556,\"#d8576b\"],[0.6666666666666666,\"#ed7953\"],[0.7777777777777778,\"#fb9f3a\"],[0.8888888888888888,\"#fdca26\"],[1.0,\"#f0f921\"]]}],\"heatmap\":[{\"type\":\"heatmap\",\"colorbar\":{\"outlinewidth\":0,\"ticks\":\"\"},\"colorscale\":[[0.0,\"#0d0887\"],[0.1111111111111111,\"#46039f\"],[0.2222222222222222,\"#7201a8\"],[0.3333333333333333,\"#9c179e\"],[0.4444444444444444,\"#bd3786\"],[0.5555555555555556,\"#d8576b\"],[0.6666666666666666,\"#ed7953\"],[0.7777777777777778,\"#fb9f3a\"],[0.8888888888888888,\"#fdca26\"],[1.0,\"#f0f921\"]]}],\"heatmapgl\":[{\"type\":\"heatmapgl\",\"colorbar\":{\"outlinewidth\":0,\"ticks\":\"\"},\"colorscale\":[[0.0,\"#0d0887\"],[0.1111111111111111,\"#46039f\"],[0.2222222222222222,\"#7201a8\"],[0.3333333333333333,\"#9c179e\"],[0.4444444444444444,\"#bd3786\"],[0.5555555555555556,\"#d8576b\"],[0.6666666666666666,\"#ed7953\"],[0.7777777777777778,\"#fb9f3a\"],[0.8888888888888888,\"#fdca26\"],[1.0,\"#f0f921\"]]}],\"contourcarpet\":[{\"type\":\"contourcarpet\",\"colorbar\":{\"outlinewidth\":0,\"ticks\":\"\"}}],\"contour\":[{\"type\":\"contour\",\"colorbar\":{\"outlinewidth\":0,\"ticks\":\"\"},\"colorscale\":[[0.0,\"#0d0887\"],[0.1111111111111111,\"#46039f\"],[0.2222222222222222,\"#7201a8\"],[0.3333333333333333,\"#9c179e\"],[0.4444444444444444,\"#bd3786\"],[0.5555555555555556,\"#d8576b\"],[0.6666666666666666,\"#ed7953\"],[0.7777777777777778,\"#fb9f3a\"],[0.8888888888888888,\"#fdca26\"],[1.0,\"#f0f921\"]]}],\"surface\":[{\"type\":\"surface\",\"colorbar\":{\"outlinewidth\":0,\"ticks\":\"\"},\"colorscale\":[[0.0,\"#0d0887\"],[0.1111111111111111,\"#46039f\"],[0.2222222222222222,\"#7201a8\"],[0.3333333333333333,\"#9c179e\"],[0.4444444444444444,\"#bd3786\"],[0.5555555555555556,\"#d8576b\"],[0.6666666666666666,\"#ed7953\"],[0.7777777777777778,\"#fb9f3a\"],[0.8888888888888888,\"#fdca26\"],[1.0,\"#f0f921\"]]}],\"mesh3d\":[{\"type\":\"mesh3d\",\"colorbar\":{\"outlinewidth\":0,\"ticks\":\"\"}}],\"scatter\":[{\"fillpattern\":{\"fillmode\":\"overlay\",\"size\":10,\"solidity\":0.2},\"type\":\"scatter\"}],\"parcoords\":[{\"type\":\"parcoords\",\"line\":{\"colorbar\":{\"outlinewidth\":0,\"ticks\":\"\"}}}],\"scatterpolargl\":[{\"type\":\"scatterpolargl\",\"marker\":{\"colorbar\":{\"outlinewidth\":0,\"ticks\":\"\"}}}],\"bar\":[{\"error_x\":{\"color\":\"#2a3f5f\"},\"error_y\":{\"color\":\"#2a3f5f\"},\"marker\":{\"line\":{\"color\":\"#E5ECF6\",\"width\":0.5},\"pattern\":{\"fillmode\":\"overlay\",\"size\":10,\"solidity\":0.2}},\"type\":\"bar\"}],\"scattergeo\":[{\"type\":\"scattergeo\",\"marker\":{\"colorbar\":{\"outlinewidth\":0,\"ticks\":\"\"}}}],\"scatterpolar\":[{\"type\":\"scatterpolar\",\"marker\":{\"colorbar\":{\"outlinewidth\":0,\"ticks\":\"\"}}}],\"histogram\":[{\"marker\":{\"pattern\":{\"fillmode\":\"overlay\",\"size\":10,\"solidity\":0.2}},\"type\":\"histogram\"}],\"scattergl\":[{\"type\":\"scattergl\",\"marker\":{\"colorbar\":{\"outlinewidth\":0,\"ticks\":\"\"}}}],\"scatter3d\":[{\"type\":\"scatter3d\",\"line\":{\"colorbar\":{\"outlinewidth\":0,\"ticks\":\"\"}},\"marker\":{\"colorbar\":{\"outlinewidth\":0,\"ticks\":\"\"}}}],\"scattermapbox\":[{\"type\":\"scattermapbox\",\"marker\":{\"colorbar\":{\"outlinewidth\":0,\"ticks\":\"\"}}}],\"scatterternary\":[{\"type\":\"scatterternary\",\"marker\":{\"colorbar\":{\"outlinewidth\":0,\"ticks\":\"\"}}}],\"scattercarpet\":[{\"type\":\"scattercarpet\",\"marker\":{\"colorbar\":{\"outlinewidth\":0,\"ticks\":\"\"}}}],\"carpet\":[{\"aaxis\":{\"endlinecolor\":\"#2a3f5f\",\"gridcolor\":\"white\",\"linecolor\":\"white\",\"minorgridcolor\":\"white\",\"startlinecolor\":\"#2a3f5f\"},\"baxis\":{\"endlinecolor\":\"#2a3f5f\",\"gridcolor\":\"white\",\"linecolor\":\"white\",\"minorgridcolor\":\"white\",\"startlinecolor\":\"#2a3f5f\"},\"type\":\"carpet\"}],\"table\":[{\"cells\":{\"fill\":{\"color\":\"#EBF0F8\"},\"line\":{\"color\":\"white\"}},\"header\":{\"fill\":{\"color\":\"#C8D4E3\"},\"line\":{\"color\":\"white\"}},\"type\":\"table\"}],\"barpolar\":[{\"marker\":{\"line\":{\"color\":\"#E5ECF6\",\"width\":0.5},\"pattern\":{\"fillmode\":\"overlay\",\"size\":10,\"solidity\":0.2}},\"type\":\"barpolar\"}],\"pie\":[{\"automargin\":true,\"type\":\"pie\"}]},\"layout\":{\"autotypenumbers\":\"strict\",\"colorway\":[\"#636efa\",\"#EF553B\",\"#00cc96\",\"#ab63fa\",\"#FFA15A\",\"#19d3f3\",\"#FF6692\",\"#B6E880\",\"#FF97FF\",\"#FECB52\"],\"font\":{\"color\":\"#2a3f5f\"},\"hovermode\":\"closest\",\"hoverlabel\":{\"align\":\"left\"},\"paper_bgcolor\":\"white\",\"plot_bgcolor\":\"#E5ECF6\",\"polar\":{\"bgcolor\":\"#E5ECF6\",\"angularaxis\":{\"gridcolor\":\"white\",\"linecolor\":\"white\",\"ticks\":\"\"},\"radialaxis\":{\"gridcolor\":\"white\",\"linecolor\":\"white\",\"ticks\":\"\"}},\"ternary\":{\"bgcolor\":\"#E5ECF6\",\"aaxis\":{\"gridcolor\":\"white\",\"linecolor\":\"white\",\"ticks\":\"\"},\"baxis\":{\"gridcolor\":\"white\",\"linecolor\":\"white\",\"ticks\":\"\"},\"caxis\":{\"gridcolor\":\"white\",\"linecolor\":\"white\",\"ticks\":\"\"}},\"coloraxis\":{\"colorbar\":{\"outlinewidth\":0,\"ticks\":\"\"}},\"colorscale\":{\"sequential\":[[0.0,\"#0d0887\"],[0.1111111111111111,\"#46039f\"],[0.2222222222222222,\"#7201a8\"],[0.3333333333333333,\"#9c179e\"],[0.4444444444444444,\"#bd3786\"],[0.5555555555555556,\"#d8576b\"],[0.6666666666666666,\"#ed7953\"],[0.7777777777777778,\"#fb9f3a\"],[0.8888888888888888,\"#fdca26\"],[1.0,\"#f0f921\"]],\"sequentialminus\":[[0.0,\"#0d0887\"],[0.1111111111111111,\"#46039f\"],[0.2222222222222222,\"#7201a8\"],[0.3333333333333333,\"#9c179e\"],[0.4444444444444444,\"#bd3786\"],[0.5555555555555556,\"#d8576b\"],[0.6666666666666666,\"#ed7953\"],[0.7777777777777778,\"#fb9f3a\"],[0.8888888888888888,\"#fdca26\"],[1.0,\"#f0f921\"]],\"diverging\":[[0,\"#8e0152\"],[0.1,\"#c51b7d\"],[0.2,\"#de77ae\"],[0.3,\"#f1b6da\"],[0.4,\"#fde0ef\"],[0.5,\"#f7f7f7\"],[0.6,\"#e6f5d0\"],[0.7,\"#b8e186\"],[0.8,\"#7fbc41\"],[0.9,\"#4d9221\"],[1,\"#276419\"]]},\"xaxis\":{\"gridcolor\":\"white\",\"linecolor\":\"white\",\"ticks\":\"\",\"title\":{\"standoff\":15},\"zerolinecolor\":\"white\",\"automargin\":true,\"zerolinewidth\":2},\"yaxis\":{\"gridcolor\":\"white\",\"linecolor\":\"white\",\"ticks\":\"\",\"title\":{\"standoff\":15},\"zerolinecolor\":\"white\",\"automargin\":true,\"zerolinewidth\":2},\"scene\":{\"xaxis\":{\"backgroundcolor\":\"#E5ECF6\",\"gridcolor\":\"white\",\"linecolor\":\"white\",\"showbackground\":true,\"ticks\":\"\",\"zerolinecolor\":\"white\",\"gridwidth\":2},\"yaxis\":{\"backgroundcolor\":\"#E5ECF6\",\"gridcolor\":\"white\",\"linecolor\":\"white\",\"showbackground\":true,\"ticks\":\"\",\"zerolinecolor\":\"white\",\"gridwidth\":2},\"zaxis\":{\"backgroundcolor\":\"#E5ECF6\",\"gridcolor\":\"white\",\"linecolor\":\"white\",\"showbackground\":true,\"ticks\":\"\",\"zerolinecolor\":\"white\",\"gridwidth\":2}},\"shapedefaults\":{\"line\":{\"color\":\"#2a3f5f\"}},\"annotationdefaults\":{\"arrowcolor\":\"#2a3f5f\",\"arrowhead\":0,\"arrowwidth\":1},\"geo\":{\"bgcolor\":\"white\",\"landcolor\":\"#E5ECF6\",\"subunitcolor\":\"white\",\"showland\":true,\"showlakes\":true,\"lakecolor\":\"white\"},\"title\":{\"x\":0.05},\"mapbox\":{\"style\":\"light\"}}},\"xaxis\":{\"tickvals\":[41.0,462.5,879.0,1112.0],\"ticktext\":[\"Child<br>82\",\"Adult<br>761\",\"Child<br>72\",\"Adult<br>394\"],\"range\":[0,1309]},\"title\":{\"text\":\"Titanic\"},\"uniformtext\":{\"mode\":\"hide\",\"minsize\":10},\"barmode\":\"stack\"},                        {\"responsive\": true}                    ).then(function(){\n",
       "                            \n",
       "var gd = document.getElementById('9e82729d-cfbe-4df8-aef6-2908d7fb67ee');\n",
       "var x = new MutationObserver(function (mutations, observer) {{\n",
       "        var display = window.getComputedStyle(gd).display;\n",
       "        if (!display || display === 'none') {{\n",
       "            console.log([gd, 'removed!']);\n",
       "            Plotly.purge(gd);\n",
       "            observer.disconnect();\n",
       "        }}\n",
       "}});\n",
       "\n",
       "// Listen for the removal of the full notebook cells\n",
       "var notebookContainer = gd.closest('#notebook-container');\n",
       "if (notebookContainer) {{\n",
       "    x.observe(notebookContainer, {childList: true});\n",
       "}}\n",
       "\n",
       "// Listen for the clearing of the current output cell\n",
       "var outputEl = gd.closest('.output');\n",
       "if (outputEl) {{\n",
       "    x.observe(outputEl, {childList: true});\n",
       "}}\n",
       "\n",
       "                        })                };                });            </script>        </div>"
      ]
     },
     "metadata": {},
     "output_type": "display_data"
    }
   ],
   "source": [
    "df3 = df.copy()\n",
    "df3=df3.dropna(subset=['pclass'])\n",
    "\n",
    "\n",
    "df3['survived'] = df3['survived'].replace([0,1],['No','Yes'])\n",
    "df3 = df3.drop(columns=['name','sibsp','ticket','fare','cabin','embarked','boat','body','home.dest', 'parch'])\n",
    "df3['age'] = np.where(df3[\"age\"] < 18, 'child', 'adult')\n",
    "df3 = df3.groupby(['survived', 'sex', 'pclass','age']).size().reset_index(name = 'count')\n",
    "\n",
    "total_passengers = int(pd.Series(df3['count'].sum(), index=['count']))\n",
    "print(\"TOTAL: \" + str(total_passengers))\n",
    "child_male = df3.loc[(df3[\"sex\"] == 'male') & (df3[\"age\"] == 'child'), 'count'].sum()\n",
    "child_female = df3.loc[(df3[\"sex\"] == 'female') & (df3[\"age\"] == 'child'), 'count'].sum()\n",
    "adult_male = df3.loc[(df3[\"sex\"] == 'male') & (df3[\"age\"] == 'adult'), 'count'].sum()\n",
    "adult_female = df3.loc[(df3[\"sex\"] == 'female') & (df3[\"age\"] == 'adult'), 'count'].sum()\n",
    "\n",
    "age = [\"Child\",\"Adult\",\"Child\",\"Adult\"]\n",
    "widths = np.array([child_male,adult_male,child_female,adult_female])\n",
    "\n",
    "child_male_1 = df3.loc[(df3[\"sex\"] == 'male') & (df3[\"age\"] == 'child') & (df3[\"survived\"] == 'Yes'), 'count'].sum()\n",
    "child_female_1 = df3.loc[(df3[\"sex\"] == 'female') & (df3[\"age\"] == 'child') & (df3[\"survived\"] == 'Yes'), 'count'].sum()\n",
    "adult_male_1 = df3.loc[(df3[\"sex\"] == 'male') & (df3[\"age\"] == 'adult') & (df3[\"survived\"] == 'Yes'), 'count'].sum()\n",
    "adult_female_1 = df3.loc[(df3[\"sex\"] == 'female') & (df3[\"age\"] == 'adult') & (df3[\"survived\"] == 'Yes'), 'count'].sum()\n",
    "child_male_0 = df3.loc[(df3[\"sex\"] == 'male') & (df3[\"age\"] == 'child') & (df3[\"survived\"] == 'No'), 'count'].sum()\n",
    "child_female_0 = df3.loc[(df3[\"sex\"] == 'female') & (df3[\"age\"] == 'child') & (df3[\"survived\"] == 'No'), 'count'].sum()\n",
    "adult_male_0 = df3.loc[(df3[\"sex\"] == 'male') & (df3[\"age\"] == 'adult') & (df3[\"survived\"] == 'No'), 'count'].sum()\n",
    "adult_female_0 = df3.loc[(df3[\"sex\"] == 'female') & (df3[\"age\"] == 'adult') & (df3[\"survived\"] == 'No'), 'count'].sum()\n",
    "\n",
    "       \n",
    "data = {\n",
    "    \"Survived\": [child_male_1,adult_male_1,child_female_1,adult_female_1],\n",
    "    \"Dead\": [child_male_0,adult_male_0,child_female_0,adult_female_0]\n",
    "}\n",
    "data_percentage = {\n",
    "    \"Survived\": [child_male_1/child_male*100,adult_male_1/adult_male*100,child_female_1/child_female*100,adult_female_1/adult_female*100],\n",
    "    \"Dead\": [child_male_0/child_male*100,adult_male_0/adult_male*100,child_female_0/child_female*100,adult_female_0/adult_female*100]\n",
    "}\n",
    "fig = go.Figure()\n",
    "for key in data:\n",
    "    fig.add_trace(go.Bar(\n",
    "        name=key,\n",
    "        y=data_percentage[key],\n",
    "        x=np.cumsum(widths)-widths,\n",
    "        width=widths,\n",
    "        offset=0,\n",
    "        customdata=np.transpose([age, widths*data[key]]),\n",
    "        texttemplate=data[key],\n",
    "        textposition=\"inside\",\n",
    "        textfont_color=\"white\",\n",
    "        hovertemplate=\"<br>\".join([\n",
    "            \"Device: %{customdata[0]}\",\n",
    "            \"Total Products: %{width}\",\n",
    "            \"Percentage%: %{y}\",\n",
    "            \"Area: %{customdata[1]}\",\n",
    "        ])\n",
    "    ))\n",
    "    \n",
    "    \n",
    "fig.update_xaxes(\n",
    "    tickvals=np.cumsum(widths)-widths/2,\n",
    "    ticktext= [\"%s<br>%d\" % (l, w) for l, w in zip(age, widths)]\n",
    ")\n",
    "fig.update_xaxes(range=[0,total_passengers])\n",
    "\n",
    "\n",
    "fig.update_layout(\n",
    "    title_text=\"Titanic\",\n",
    "    barmode=\"stack\",\n",
    "    uniformtext=dict(mode=\"hide\", minsize=10),\n",
    ")"
   ]
  },
  {
   "cell_type": "code",
   "execution_count": 16,
   "id": "6d148bda",
   "metadata": {},
   "outputs": [
    {
     "data": {
      "application/vnd.plotly.v1+json": {
       "config": {
        "plotlyServerURL": "https://plot.ly"
       },
       "data": [
        {
         "branchvalues": "total",
         "customdata": [
          [
           "No"
          ],
          [
           "No"
          ],
          [
           "No"
          ],
          [
           "No"
          ],
          [
           "Yes"
          ],
          [
           "Yes"
          ],
          [
           "Yes"
          ],
          [
           "Yes"
          ],
          [
           "(?)"
          ],
          [
           "(?)"
          ],
          [
           "(?)"
          ],
          [
           "(?)"
          ],
          [
           "(?)"
          ],
          [
           "(?)"
          ]
         ],
         "domain": {
          "x": [
           0,
           1
          ],
          "y": [
           0,
           1
          ]
         },
         "hovertemplate": "labels=%{label}<br>count=%{value}<br>parent=%{parent}<br>id=%{id}<br>survived=%{customdata[0]}<extra></extra>",
         "ids": [
          "Female/Adult/No",
          "Male/Adult/No",
          "Female/Child/No",
          "Male/Child/No",
          "Female/Adult/Yes",
          "Male/Adult/Yes",
          "Female/Child/Yes",
          "Male/Child/Yes",
          "Female/Adult",
          "Male/Adult",
          "Female/Child",
          "Male/Child",
          "Female",
          "Male"
         ],
         "labels": [
          "No",
          "No",
          "No",
          "No",
          "Yes",
          "Yes",
          "Yes",
          "Yes",
          "Adult",
          "Adult",
          "Child",
          "Child",
          "Female",
          "Male"
         ],
         "marker": {
          "colors": [
           "salmon",
           "salmon",
           "salmon",
           "salmon",
           "seagreen",
           "seagreen",
           "seagreen",
           "seagreen",
           "lightgrey",
           "lightgrey",
           "lightgrey",
           "lightgrey",
           "lightgrey",
           "lightgrey"
          ]
         },
         "name": "",
         "parents": [
          "Female/Adult",
          "Male/Adult",
          "Female/Child",
          "Male/Child",
          "Female/Adult",
          "Male/Adult",
          "Female/Child",
          "Male/Child",
          "Female",
          "Male",
          "Female",
          "Male",
          "",
          ""
         ],
         "textinfo": "label+text+value",
         "type": "treemap",
         "values": [
          105,
          631,
          22,
          51,
          289,
          130,
          50,
          31,
          394,
          761,
          72,
          82,
          466,
          843
         ]
        }
       ],
       "layout": {
        "legend": {
         "tracegroupgap": 0
        },
        "margin": {
         "b": 25,
         "l": 25,
         "r": 25,
         "t": 70
        },
        "template": {
         "data": {
          "bar": [
           {
            "error_x": {
             "color": "#2a3f5f"
            },
            "error_y": {
             "color": "#2a3f5f"
            },
            "marker": {
             "line": {
              "color": "#E5ECF6",
              "width": 0.5
             },
             "pattern": {
              "fillmode": "overlay",
              "size": 10,
              "solidity": 0.2
             }
            },
            "type": "bar"
           }
          ],
          "barpolar": [
           {
            "marker": {
             "line": {
              "color": "#E5ECF6",
              "width": 0.5
             },
             "pattern": {
              "fillmode": "overlay",
              "size": 10,
              "solidity": 0.2
             }
            },
            "type": "barpolar"
           }
          ],
          "carpet": [
           {
            "aaxis": {
             "endlinecolor": "#2a3f5f",
             "gridcolor": "white",
             "linecolor": "white",
             "minorgridcolor": "white",
             "startlinecolor": "#2a3f5f"
            },
            "baxis": {
             "endlinecolor": "#2a3f5f",
             "gridcolor": "white",
             "linecolor": "white",
             "minorgridcolor": "white",
             "startlinecolor": "#2a3f5f"
            },
            "type": "carpet"
           }
          ],
          "choropleth": [
           {
            "colorbar": {
             "outlinewidth": 0,
             "ticks": ""
            },
            "type": "choropleth"
           }
          ],
          "contour": [
           {
            "colorbar": {
             "outlinewidth": 0,
             "ticks": ""
            },
            "colorscale": [
             [
              0,
              "#0d0887"
             ],
             [
              0.1111111111111111,
              "#46039f"
             ],
             [
              0.2222222222222222,
              "#7201a8"
             ],
             [
              0.3333333333333333,
              "#9c179e"
             ],
             [
              0.4444444444444444,
              "#bd3786"
             ],
             [
              0.5555555555555556,
              "#d8576b"
             ],
             [
              0.6666666666666666,
              "#ed7953"
             ],
             [
              0.7777777777777778,
              "#fb9f3a"
             ],
             [
              0.8888888888888888,
              "#fdca26"
             ],
             [
              1,
              "#f0f921"
             ]
            ],
            "type": "contour"
           }
          ],
          "contourcarpet": [
           {
            "colorbar": {
             "outlinewidth": 0,
             "ticks": ""
            },
            "type": "contourcarpet"
           }
          ],
          "heatmap": [
           {
            "colorbar": {
             "outlinewidth": 0,
             "ticks": ""
            },
            "colorscale": [
             [
              0,
              "#0d0887"
             ],
             [
              0.1111111111111111,
              "#46039f"
             ],
             [
              0.2222222222222222,
              "#7201a8"
             ],
             [
              0.3333333333333333,
              "#9c179e"
             ],
             [
              0.4444444444444444,
              "#bd3786"
             ],
             [
              0.5555555555555556,
              "#d8576b"
             ],
             [
              0.6666666666666666,
              "#ed7953"
             ],
             [
              0.7777777777777778,
              "#fb9f3a"
             ],
             [
              0.8888888888888888,
              "#fdca26"
             ],
             [
              1,
              "#f0f921"
             ]
            ],
            "type": "heatmap"
           }
          ],
          "heatmapgl": [
           {
            "colorbar": {
             "outlinewidth": 0,
             "ticks": ""
            },
            "colorscale": [
             [
              0,
              "#0d0887"
             ],
             [
              0.1111111111111111,
              "#46039f"
             ],
             [
              0.2222222222222222,
              "#7201a8"
             ],
             [
              0.3333333333333333,
              "#9c179e"
             ],
             [
              0.4444444444444444,
              "#bd3786"
             ],
             [
              0.5555555555555556,
              "#d8576b"
             ],
             [
              0.6666666666666666,
              "#ed7953"
             ],
             [
              0.7777777777777778,
              "#fb9f3a"
             ],
             [
              0.8888888888888888,
              "#fdca26"
             ],
             [
              1,
              "#f0f921"
             ]
            ],
            "type": "heatmapgl"
           }
          ],
          "histogram": [
           {
            "marker": {
             "pattern": {
              "fillmode": "overlay",
              "size": 10,
              "solidity": 0.2
             }
            },
            "type": "histogram"
           }
          ],
          "histogram2d": [
           {
            "colorbar": {
             "outlinewidth": 0,
             "ticks": ""
            },
            "colorscale": [
             [
              0,
              "#0d0887"
             ],
             [
              0.1111111111111111,
              "#46039f"
             ],
             [
              0.2222222222222222,
              "#7201a8"
             ],
             [
              0.3333333333333333,
              "#9c179e"
             ],
             [
              0.4444444444444444,
              "#bd3786"
             ],
             [
              0.5555555555555556,
              "#d8576b"
             ],
             [
              0.6666666666666666,
              "#ed7953"
             ],
             [
              0.7777777777777778,
              "#fb9f3a"
             ],
             [
              0.8888888888888888,
              "#fdca26"
             ],
             [
              1,
              "#f0f921"
             ]
            ],
            "type": "histogram2d"
           }
          ],
          "histogram2dcontour": [
           {
            "colorbar": {
             "outlinewidth": 0,
             "ticks": ""
            },
            "colorscale": [
             [
              0,
              "#0d0887"
             ],
             [
              0.1111111111111111,
              "#46039f"
             ],
             [
              0.2222222222222222,
              "#7201a8"
             ],
             [
              0.3333333333333333,
              "#9c179e"
             ],
             [
              0.4444444444444444,
              "#bd3786"
             ],
             [
              0.5555555555555556,
              "#d8576b"
             ],
             [
              0.6666666666666666,
              "#ed7953"
             ],
             [
              0.7777777777777778,
              "#fb9f3a"
             ],
             [
              0.8888888888888888,
              "#fdca26"
             ],
             [
              1,
              "#f0f921"
             ]
            ],
            "type": "histogram2dcontour"
           }
          ],
          "mesh3d": [
           {
            "colorbar": {
             "outlinewidth": 0,
             "ticks": ""
            },
            "type": "mesh3d"
           }
          ],
          "parcoords": [
           {
            "line": {
             "colorbar": {
              "outlinewidth": 0,
              "ticks": ""
             }
            },
            "type": "parcoords"
           }
          ],
          "pie": [
           {
            "automargin": true,
            "type": "pie"
           }
          ],
          "scatter": [
           {
            "fillpattern": {
             "fillmode": "overlay",
             "size": 10,
             "solidity": 0.2
            },
            "type": "scatter"
           }
          ],
          "scatter3d": [
           {
            "line": {
             "colorbar": {
              "outlinewidth": 0,
              "ticks": ""
             }
            },
            "marker": {
             "colorbar": {
              "outlinewidth": 0,
              "ticks": ""
             }
            },
            "type": "scatter3d"
           }
          ],
          "scattercarpet": [
           {
            "marker": {
             "colorbar": {
              "outlinewidth": 0,
              "ticks": ""
             }
            },
            "type": "scattercarpet"
           }
          ],
          "scattergeo": [
           {
            "marker": {
             "colorbar": {
              "outlinewidth": 0,
              "ticks": ""
             }
            },
            "type": "scattergeo"
           }
          ],
          "scattergl": [
           {
            "marker": {
             "colorbar": {
              "outlinewidth": 0,
              "ticks": ""
             }
            },
            "type": "scattergl"
           }
          ],
          "scattermapbox": [
           {
            "marker": {
             "colorbar": {
              "outlinewidth": 0,
              "ticks": ""
             }
            },
            "type": "scattermapbox"
           }
          ],
          "scatterpolar": [
           {
            "marker": {
             "colorbar": {
              "outlinewidth": 0,
              "ticks": ""
             }
            },
            "type": "scatterpolar"
           }
          ],
          "scatterpolargl": [
           {
            "marker": {
             "colorbar": {
              "outlinewidth": 0,
              "ticks": ""
             }
            },
            "type": "scatterpolargl"
           }
          ],
          "scatterternary": [
           {
            "marker": {
             "colorbar": {
              "outlinewidth": 0,
              "ticks": ""
             }
            },
            "type": "scatterternary"
           }
          ],
          "surface": [
           {
            "colorbar": {
             "outlinewidth": 0,
             "ticks": ""
            },
            "colorscale": [
             [
              0,
              "#0d0887"
             ],
             [
              0.1111111111111111,
              "#46039f"
             ],
             [
              0.2222222222222222,
              "#7201a8"
             ],
             [
              0.3333333333333333,
              "#9c179e"
             ],
             [
              0.4444444444444444,
              "#bd3786"
             ],
             [
              0.5555555555555556,
              "#d8576b"
             ],
             [
              0.6666666666666666,
              "#ed7953"
             ],
             [
              0.7777777777777778,
              "#fb9f3a"
             ],
             [
              0.8888888888888888,
              "#fdca26"
             ],
             [
              1,
              "#f0f921"
             ]
            ],
            "type": "surface"
           }
          ],
          "table": [
           {
            "cells": {
             "fill": {
              "color": "#EBF0F8"
             },
             "line": {
              "color": "white"
             }
            },
            "header": {
             "fill": {
              "color": "#C8D4E3"
             },
             "line": {
              "color": "white"
             }
            },
            "type": "table"
           }
          ]
         },
         "layout": {
          "annotationdefaults": {
           "arrowcolor": "#2a3f5f",
           "arrowhead": 0,
           "arrowwidth": 1
          },
          "autotypenumbers": "strict",
          "coloraxis": {
           "colorbar": {
            "outlinewidth": 0,
            "ticks": ""
           }
          },
          "colorscale": {
           "diverging": [
            [
             0,
             "#8e0152"
            ],
            [
             0.1,
             "#c51b7d"
            ],
            [
             0.2,
             "#de77ae"
            ],
            [
             0.3,
             "#f1b6da"
            ],
            [
             0.4,
             "#fde0ef"
            ],
            [
             0.5,
             "#f7f7f7"
            ],
            [
             0.6,
             "#e6f5d0"
            ],
            [
             0.7,
             "#b8e186"
            ],
            [
             0.8,
             "#7fbc41"
            ],
            [
             0.9,
             "#4d9221"
            ],
            [
             1,
             "#276419"
            ]
           ],
           "sequential": [
            [
             0,
             "#0d0887"
            ],
            [
             0.1111111111111111,
             "#46039f"
            ],
            [
             0.2222222222222222,
             "#7201a8"
            ],
            [
             0.3333333333333333,
             "#9c179e"
            ],
            [
             0.4444444444444444,
             "#bd3786"
            ],
            [
             0.5555555555555556,
             "#d8576b"
            ],
            [
             0.6666666666666666,
             "#ed7953"
            ],
            [
             0.7777777777777778,
             "#fb9f3a"
            ],
            [
             0.8888888888888888,
             "#fdca26"
            ],
            [
             1,
             "#f0f921"
            ]
           ],
           "sequentialminus": [
            [
             0,
             "#0d0887"
            ],
            [
             0.1111111111111111,
             "#46039f"
            ],
            [
             0.2222222222222222,
             "#7201a8"
            ],
            [
             0.3333333333333333,
             "#9c179e"
            ],
            [
             0.4444444444444444,
             "#bd3786"
            ],
            [
             0.5555555555555556,
             "#d8576b"
            ],
            [
             0.6666666666666666,
             "#ed7953"
            ],
            [
             0.7777777777777778,
             "#fb9f3a"
            ],
            [
             0.8888888888888888,
             "#fdca26"
            ],
            [
             1,
             "#f0f921"
            ]
           ]
          },
          "colorway": [
           "#636efa",
           "#EF553B",
           "#00cc96",
           "#ab63fa",
           "#FFA15A",
           "#19d3f3",
           "#FF6692",
           "#B6E880",
           "#FF97FF",
           "#FECB52"
          ],
          "font": {
           "color": "#2a3f5f"
          },
          "geo": {
           "bgcolor": "white",
           "lakecolor": "white",
           "landcolor": "#E5ECF6",
           "showlakes": true,
           "showland": true,
           "subunitcolor": "white"
          },
          "hoverlabel": {
           "align": "left"
          },
          "hovermode": "closest",
          "mapbox": {
           "style": "light"
          },
          "paper_bgcolor": "white",
          "plot_bgcolor": "#E5ECF6",
          "polar": {
           "angularaxis": {
            "gridcolor": "white",
            "linecolor": "white",
            "ticks": ""
           },
           "bgcolor": "#E5ECF6",
           "radialaxis": {
            "gridcolor": "white",
            "linecolor": "white",
            "ticks": ""
           }
          },
          "scene": {
           "xaxis": {
            "backgroundcolor": "#E5ECF6",
            "gridcolor": "white",
            "gridwidth": 2,
            "linecolor": "white",
            "showbackground": true,
            "ticks": "",
            "zerolinecolor": "white"
           },
           "yaxis": {
            "backgroundcolor": "#E5ECF6",
            "gridcolor": "white",
            "gridwidth": 2,
            "linecolor": "white",
            "showbackground": true,
            "ticks": "",
            "zerolinecolor": "white"
           },
           "zaxis": {
            "backgroundcolor": "#E5ECF6",
            "gridcolor": "white",
            "gridwidth": 2,
            "linecolor": "white",
            "showbackground": true,
            "ticks": "",
            "zerolinecolor": "white"
           }
          },
          "shapedefaults": {
           "line": {
            "color": "#2a3f5f"
           }
          },
          "ternary": {
           "aaxis": {
            "gridcolor": "white",
            "linecolor": "white",
            "ticks": ""
           },
           "baxis": {
            "gridcolor": "white",
            "linecolor": "white",
            "ticks": ""
           },
           "bgcolor": "#E5ECF6",
           "caxis": {
            "gridcolor": "white",
            "linecolor": "white",
            "ticks": ""
           }
          },
          "title": {
           "x": 0.05
          },
          "xaxis": {
           "automargin": true,
           "gridcolor": "white",
           "linecolor": "white",
           "ticks": "",
           "title": {
            "standoff": 15
           },
           "zerolinecolor": "white",
           "zerolinewidth": 2
          },
          "yaxis": {
           "automargin": true,
           "gridcolor": "white",
           "linecolor": "white",
           "ticks": "",
           "title": {
            "standoff": 15
           },
           "zerolinecolor": "white",
           "zerolinewidth": 2
          }
         }
        }
       }
      },
      "text/html": [
       "<div>                            <div id=\"c6ae5ab4-5eeb-4906-93df-a3dc13c1d691\" class=\"plotly-graph-div\" style=\"height:525px; width:100%;\"></div>            <script type=\"text/javascript\">                require([\"plotly\"], function(Plotly) {                    window.PLOTLYENV=window.PLOTLYENV || {};                                    if (document.getElementById(\"c6ae5ab4-5eeb-4906-93df-a3dc13c1d691\")) {                    Plotly.newPlot(                        \"c6ae5ab4-5eeb-4906-93df-a3dc13c1d691\",                        [{\"branchvalues\":\"total\",\"customdata\":[[\"No\"],[\"No\"],[\"No\"],[\"No\"],[\"Yes\"],[\"Yes\"],[\"Yes\"],[\"Yes\"],[\"(?)\"],[\"(?)\"],[\"(?)\"],[\"(?)\"],[\"(?)\"],[\"(?)\"]],\"domain\":{\"x\":[0.0,1.0],\"y\":[0.0,1.0]},\"hovertemplate\":\"labels=%{label}<br>count=%{value}<br>parent=%{parent}<br>id=%{id}<br>survived=%{customdata[0]}<extra></extra>\",\"ids\":[\"Female/Adult/No\",\"Male/Adult/No\",\"Female/Child/No\",\"Male/Child/No\",\"Female/Adult/Yes\",\"Male/Adult/Yes\",\"Female/Child/Yes\",\"Male/Child/Yes\",\"Female/Adult\",\"Male/Adult\",\"Female/Child\",\"Male/Child\",\"Female\",\"Male\"],\"labels\":[\"No\",\"No\",\"No\",\"No\",\"Yes\",\"Yes\",\"Yes\",\"Yes\",\"Adult\",\"Adult\",\"Child\",\"Child\",\"Female\",\"Male\"],\"marker\":{\"colors\":[\"salmon\",\"salmon\",\"salmon\",\"salmon\",\"seagreen\",\"seagreen\",\"seagreen\",\"seagreen\",\"lightgrey\",\"lightgrey\",\"lightgrey\",\"lightgrey\",\"lightgrey\",\"lightgrey\"]},\"name\":\"\",\"parents\":[\"Female/Adult\",\"Male/Adult\",\"Female/Child\",\"Male/Child\",\"Female/Adult\",\"Male/Adult\",\"Female/Child\",\"Male/Child\",\"Female\",\"Male\",\"Female\",\"Male\",\"\",\"\"],\"values\":[105,631,22,51,289,130,50,31,394,761,72,82,466,843],\"type\":\"treemap\",\"textinfo\":\"label+text+value\"}],                        {\"template\":{\"data\":{\"histogram2dcontour\":[{\"type\":\"histogram2dcontour\",\"colorbar\":{\"outlinewidth\":0,\"ticks\":\"\"},\"colorscale\":[[0.0,\"#0d0887\"],[0.1111111111111111,\"#46039f\"],[0.2222222222222222,\"#7201a8\"],[0.3333333333333333,\"#9c179e\"],[0.4444444444444444,\"#bd3786\"],[0.5555555555555556,\"#d8576b\"],[0.6666666666666666,\"#ed7953\"],[0.7777777777777778,\"#fb9f3a\"],[0.8888888888888888,\"#fdca26\"],[1.0,\"#f0f921\"]]}],\"choropleth\":[{\"type\":\"choropleth\",\"colorbar\":{\"outlinewidth\":0,\"ticks\":\"\"}}],\"histogram2d\":[{\"type\":\"histogram2d\",\"colorbar\":{\"outlinewidth\":0,\"ticks\":\"\"},\"colorscale\":[[0.0,\"#0d0887\"],[0.1111111111111111,\"#46039f\"],[0.2222222222222222,\"#7201a8\"],[0.3333333333333333,\"#9c179e\"],[0.4444444444444444,\"#bd3786\"],[0.5555555555555556,\"#d8576b\"],[0.6666666666666666,\"#ed7953\"],[0.7777777777777778,\"#fb9f3a\"],[0.8888888888888888,\"#fdca26\"],[1.0,\"#f0f921\"]]}],\"heatmap\":[{\"type\":\"heatmap\",\"colorbar\":{\"outlinewidth\":0,\"ticks\":\"\"},\"colorscale\":[[0.0,\"#0d0887\"],[0.1111111111111111,\"#46039f\"],[0.2222222222222222,\"#7201a8\"],[0.3333333333333333,\"#9c179e\"],[0.4444444444444444,\"#bd3786\"],[0.5555555555555556,\"#d8576b\"],[0.6666666666666666,\"#ed7953\"],[0.7777777777777778,\"#fb9f3a\"],[0.8888888888888888,\"#fdca26\"],[1.0,\"#f0f921\"]]}],\"heatmapgl\":[{\"type\":\"heatmapgl\",\"colorbar\":{\"outlinewidth\":0,\"ticks\":\"\"},\"colorscale\":[[0.0,\"#0d0887\"],[0.1111111111111111,\"#46039f\"],[0.2222222222222222,\"#7201a8\"],[0.3333333333333333,\"#9c179e\"],[0.4444444444444444,\"#bd3786\"],[0.5555555555555556,\"#d8576b\"],[0.6666666666666666,\"#ed7953\"],[0.7777777777777778,\"#fb9f3a\"],[0.8888888888888888,\"#fdca26\"],[1.0,\"#f0f921\"]]}],\"contourcarpet\":[{\"type\":\"contourcarpet\",\"colorbar\":{\"outlinewidth\":0,\"ticks\":\"\"}}],\"contour\":[{\"type\":\"contour\",\"colorbar\":{\"outlinewidth\":0,\"ticks\":\"\"},\"colorscale\":[[0.0,\"#0d0887\"],[0.1111111111111111,\"#46039f\"],[0.2222222222222222,\"#7201a8\"],[0.3333333333333333,\"#9c179e\"],[0.4444444444444444,\"#bd3786\"],[0.5555555555555556,\"#d8576b\"],[0.6666666666666666,\"#ed7953\"],[0.7777777777777778,\"#fb9f3a\"],[0.8888888888888888,\"#fdca26\"],[1.0,\"#f0f921\"]]}],\"surface\":[{\"type\":\"surface\",\"colorbar\":{\"outlinewidth\":0,\"ticks\":\"\"},\"colorscale\":[[0.0,\"#0d0887\"],[0.1111111111111111,\"#46039f\"],[0.2222222222222222,\"#7201a8\"],[0.3333333333333333,\"#9c179e\"],[0.4444444444444444,\"#bd3786\"],[0.5555555555555556,\"#d8576b\"],[0.6666666666666666,\"#ed7953\"],[0.7777777777777778,\"#fb9f3a\"],[0.8888888888888888,\"#fdca26\"],[1.0,\"#f0f921\"]]}],\"mesh3d\":[{\"type\":\"mesh3d\",\"colorbar\":{\"outlinewidth\":0,\"ticks\":\"\"}}],\"scatter\":[{\"fillpattern\":{\"fillmode\":\"overlay\",\"size\":10,\"solidity\":0.2},\"type\":\"scatter\"}],\"parcoords\":[{\"type\":\"parcoords\",\"line\":{\"colorbar\":{\"outlinewidth\":0,\"ticks\":\"\"}}}],\"scatterpolargl\":[{\"type\":\"scatterpolargl\",\"marker\":{\"colorbar\":{\"outlinewidth\":0,\"ticks\":\"\"}}}],\"bar\":[{\"error_x\":{\"color\":\"#2a3f5f\"},\"error_y\":{\"color\":\"#2a3f5f\"},\"marker\":{\"line\":{\"color\":\"#E5ECF6\",\"width\":0.5},\"pattern\":{\"fillmode\":\"overlay\",\"size\":10,\"solidity\":0.2}},\"type\":\"bar\"}],\"scattergeo\":[{\"type\":\"scattergeo\",\"marker\":{\"colorbar\":{\"outlinewidth\":0,\"ticks\":\"\"}}}],\"scatterpolar\":[{\"type\":\"scatterpolar\",\"marker\":{\"colorbar\":{\"outlinewidth\":0,\"ticks\":\"\"}}}],\"histogram\":[{\"marker\":{\"pattern\":{\"fillmode\":\"overlay\",\"size\":10,\"solidity\":0.2}},\"type\":\"histogram\"}],\"scattergl\":[{\"type\":\"scattergl\",\"marker\":{\"colorbar\":{\"outlinewidth\":0,\"ticks\":\"\"}}}],\"scatter3d\":[{\"type\":\"scatter3d\",\"line\":{\"colorbar\":{\"outlinewidth\":0,\"ticks\":\"\"}},\"marker\":{\"colorbar\":{\"outlinewidth\":0,\"ticks\":\"\"}}}],\"scattermapbox\":[{\"type\":\"scattermapbox\",\"marker\":{\"colorbar\":{\"outlinewidth\":0,\"ticks\":\"\"}}}],\"scatterternary\":[{\"type\":\"scatterternary\",\"marker\":{\"colorbar\":{\"outlinewidth\":0,\"ticks\":\"\"}}}],\"scattercarpet\":[{\"type\":\"scattercarpet\",\"marker\":{\"colorbar\":{\"outlinewidth\":0,\"ticks\":\"\"}}}],\"carpet\":[{\"aaxis\":{\"endlinecolor\":\"#2a3f5f\",\"gridcolor\":\"white\",\"linecolor\":\"white\",\"minorgridcolor\":\"white\",\"startlinecolor\":\"#2a3f5f\"},\"baxis\":{\"endlinecolor\":\"#2a3f5f\",\"gridcolor\":\"white\",\"linecolor\":\"white\",\"minorgridcolor\":\"white\",\"startlinecolor\":\"#2a3f5f\"},\"type\":\"carpet\"}],\"table\":[{\"cells\":{\"fill\":{\"color\":\"#EBF0F8\"},\"line\":{\"color\":\"white\"}},\"header\":{\"fill\":{\"color\":\"#C8D4E3\"},\"line\":{\"color\":\"white\"}},\"type\":\"table\"}],\"barpolar\":[{\"marker\":{\"line\":{\"color\":\"#E5ECF6\",\"width\":0.5},\"pattern\":{\"fillmode\":\"overlay\",\"size\":10,\"solidity\":0.2}},\"type\":\"barpolar\"}],\"pie\":[{\"automargin\":true,\"type\":\"pie\"}]},\"layout\":{\"autotypenumbers\":\"strict\",\"colorway\":[\"#636efa\",\"#EF553B\",\"#00cc96\",\"#ab63fa\",\"#FFA15A\",\"#19d3f3\",\"#FF6692\",\"#B6E880\",\"#FF97FF\",\"#FECB52\"],\"font\":{\"color\":\"#2a3f5f\"},\"hovermode\":\"closest\",\"hoverlabel\":{\"align\":\"left\"},\"paper_bgcolor\":\"white\",\"plot_bgcolor\":\"#E5ECF6\",\"polar\":{\"bgcolor\":\"#E5ECF6\",\"angularaxis\":{\"gridcolor\":\"white\",\"linecolor\":\"white\",\"ticks\":\"\"},\"radialaxis\":{\"gridcolor\":\"white\",\"linecolor\":\"white\",\"ticks\":\"\"}},\"ternary\":{\"bgcolor\":\"#E5ECF6\",\"aaxis\":{\"gridcolor\":\"white\",\"linecolor\":\"white\",\"ticks\":\"\"},\"baxis\":{\"gridcolor\":\"white\",\"linecolor\":\"white\",\"ticks\":\"\"},\"caxis\":{\"gridcolor\":\"white\",\"linecolor\":\"white\",\"ticks\":\"\"}},\"coloraxis\":{\"colorbar\":{\"outlinewidth\":0,\"ticks\":\"\"}},\"colorscale\":{\"sequential\":[[0.0,\"#0d0887\"],[0.1111111111111111,\"#46039f\"],[0.2222222222222222,\"#7201a8\"],[0.3333333333333333,\"#9c179e\"],[0.4444444444444444,\"#bd3786\"],[0.5555555555555556,\"#d8576b\"],[0.6666666666666666,\"#ed7953\"],[0.7777777777777778,\"#fb9f3a\"],[0.8888888888888888,\"#fdca26\"],[1.0,\"#f0f921\"]],\"sequentialminus\":[[0.0,\"#0d0887\"],[0.1111111111111111,\"#46039f\"],[0.2222222222222222,\"#7201a8\"],[0.3333333333333333,\"#9c179e\"],[0.4444444444444444,\"#bd3786\"],[0.5555555555555556,\"#d8576b\"],[0.6666666666666666,\"#ed7953\"],[0.7777777777777778,\"#fb9f3a\"],[0.8888888888888888,\"#fdca26\"],[1.0,\"#f0f921\"]],\"diverging\":[[0,\"#8e0152\"],[0.1,\"#c51b7d\"],[0.2,\"#de77ae\"],[0.3,\"#f1b6da\"],[0.4,\"#fde0ef\"],[0.5,\"#f7f7f7\"],[0.6,\"#e6f5d0\"],[0.7,\"#b8e186\"],[0.8,\"#7fbc41\"],[0.9,\"#4d9221\"],[1,\"#276419\"]]},\"xaxis\":{\"gridcolor\":\"white\",\"linecolor\":\"white\",\"ticks\":\"\",\"title\":{\"standoff\":15},\"zerolinecolor\":\"white\",\"automargin\":true,\"zerolinewidth\":2},\"yaxis\":{\"gridcolor\":\"white\",\"linecolor\":\"white\",\"ticks\":\"\",\"title\":{\"standoff\":15},\"zerolinecolor\":\"white\",\"automargin\":true,\"zerolinewidth\":2},\"scene\":{\"xaxis\":{\"backgroundcolor\":\"#E5ECF6\",\"gridcolor\":\"white\",\"linecolor\":\"white\",\"showbackground\":true,\"ticks\":\"\",\"zerolinecolor\":\"white\",\"gridwidth\":2},\"yaxis\":{\"backgroundcolor\":\"#E5ECF6\",\"gridcolor\":\"white\",\"linecolor\":\"white\",\"showbackground\":true,\"ticks\":\"\",\"zerolinecolor\":\"white\",\"gridwidth\":2},\"zaxis\":{\"backgroundcolor\":\"#E5ECF6\",\"gridcolor\":\"white\",\"linecolor\":\"white\",\"showbackground\":true,\"ticks\":\"\",\"zerolinecolor\":\"white\",\"gridwidth\":2}},\"shapedefaults\":{\"line\":{\"color\":\"#2a3f5f\"}},\"annotationdefaults\":{\"arrowcolor\":\"#2a3f5f\",\"arrowhead\":0,\"arrowwidth\":1},\"geo\":{\"bgcolor\":\"white\",\"landcolor\":\"#E5ECF6\",\"subunitcolor\":\"white\",\"showland\":true,\"showlakes\":true,\"lakecolor\":\"white\"},\"title\":{\"x\":0.05},\"mapbox\":{\"style\":\"light\"}}},\"legend\":{\"tracegroupgap\":0},\"margin\":{\"t\":70,\"l\":25,\"r\":25,\"b\":25}},                        {\"responsive\": true}                    ).then(function(){\n",
       "                            \n",
       "var gd = document.getElementById('c6ae5ab4-5eeb-4906-93df-a3dc13c1d691');\n",
       "var x = new MutationObserver(function (mutations, observer) {{\n",
       "        var display = window.getComputedStyle(gd).display;\n",
       "        if (!display || display === 'none') {{\n",
       "            console.log([gd, 'removed!']);\n",
       "            Plotly.purge(gd);\n",
       "            observer.disconnect();\n",
       "        }}\n",
       "}});\n",
       "\n",
       "// Listen for the removal of the full notebook cells\n",
       "var notebookContainer = gd.closest('#notebook-container');\n",
       "if (notebookContainer) {{\n",
       "    x.observe(notebookContainer, {childList: true});\n",
       "}}\n",
       "\n",
       "// Listen for the clearing of the current output cell\n",
       "var outputEl = gd.closest('.output');\n",
       "if (outputEl) {{\n",
       "    x.observe(outputEl, {childList: true});\n",
       "}}\n",
       "\n",
       "                        })                };                });            </script>        </div>"
      ]
     },
     "metadata": {},
     "output_type": "display_data"
    }
   ],
   "source": [
    "df4 = df.copy()\n",
    "df4=df4.dropna(subset=['pclass'])\n",
    "\n",
    "sex = ['Male', 'Female']\n",
    "survived = ['No', 'Yes']\n",
    "class_ = ['1. Class', '2. Class', '3. Class']\n",
    "\n",
    "df4['survived'] = df4['survived'].replace([0,1],survived)\n",
    "df4['sex'] = df4['sex'].replace(['male','female'],sex)\n",
    "df4['age'] = np.where(df4[\"age\"] < 18, 'Child', 'Adult')\n",
    "df4.pclass = df4.pclass.replace([1,2,3],class_)\n",
    "df4 = df4.drop(columns=['name','sibsp','ticket','fare','cabin','embarked','boat','body','home.dest', 'parch'])\n",
    "df4 = df4.groupby(['survived', 'sex', 'pclass','age']).size().reset_index(name = 'count')\n",
    "\n",
    "fig = px.treemap(df4, path=['sex', 'age','survived'], \n",
    "                 values='count', color='survived',\n",
    "                  color_discrete_map={'(?)':'lightgrey', 'Yes':'seagreen', 'No':'salmon'})\n",
    "fig.update_layout(margin = dict(t=70, l=25, r=25, b=25))\n",
    "fig.data[0].textinfo = 'label+text+value'\n",
    "fig.show()\n"
   ]
  },
  {
   "cell_type": "code",
   "execution_count": 27,
   "id": "904b5569",
   "metadata": {},
   "outputs": [
    {
     "data": {
      "application/vnd.plotly.v1+json": {
       "config": {
        "plotlyServerURL": "https://plot.ly"
       },
       "data": [],
       "layout": {
        "annotations": [
         {
          "font": {
           "color": "black",
           "size": 16
          },
          "showarrow": false,
          "text": "1. Class",
          "x": 0.05,
          "xref": "paper",
          "y": 0.1,
          "yref": "paper"
         },
         {
          "font": {
           "color": "black",
           "size": 16
          },
          "showarrow": false,
          "text": "2. Class",
          "x": 0.22100000000000003,
          "xref": "paper",
          "y": 0.1,
          "yref": "paper"
         },
         {
          "font": {
           "color": "black",
           "size": 16
          },
          "showarrow": false,
          "text": "3. Class",
          "x": 0.392,
          "xref": "paper",
          "y": 0.1,
          "yref": "paper"
         },
         {
          "font": {
           "color": "black",
           "size": 16
          },
          "showarrow": false,
          "text": "1. Class",
          "x": 0.5930000000000001,
          "xref": "paper",
          "y": 0.1,
          "yref": "paper"
         },
         {
          "font": {
           "color": "black",
           "size": 16
          },
          "showarrow": false,
          "text": "2. Class",
          "x": 0.7640000000000001,
          "xref": "paper",
          "y": 0.1,
          "yref": "paper"
         },
         {
          "font": {
           "color": "black",
           "size": 16
          },
          "showarrow": false,
          "text": "3. Class",
          "x": 0.9350000000000002,
          "xref": "paper",
          "y": 0.1,
          "yref": "paper"
         },
         {
          "font": {
           "color": "red",
           "size": 18
          },
          "showarrow": false,
          "text": "Male",
          "x": 0.24,
          "xref": "paper",
          "y": 0.025,
          "yref": "paper"
         },
         {
          "font": {
           "color": "red",
           "size": 18
          },
          "showarrow": false,
          "text": "Female",
          "x": 0.77,
          "xref": "paper",
          "y": 0.025,
          "yref": "paper"
         }
        ],
        "images": [
         {
          "sizex": 1,
          "sizey": 1,
          "source": "https://img.icons8.com/material/24/000000/standing-man.png",
          "x": 0,
          "xref": "x",
          "y": 2.5,
          "yref": "y"
         },
         {
          "sizex": 1,
          "sizey": 1,
          "source": "https://img.icons8.com/material/24/000000/standing-man.png",
          "x": 1,
          "xref": "x",
          "y": 2.5,
          "yref": "y"
         },
         {
          "sizex": 1,
          "sizey": 1,
          "source": "https://img.icons8.com/material/24/000000/standing-man.png",
          "x": 2,
          "xref": "x",
          "y": 2.5,
          "yref": "y"
         },
         {
          "sizex": 1,
          "sizey": 1,
          "source": "https://img.icons8.com/material/24/000000/standing-man.png",
          "x": 3,
          "xref": "x",
          "y": 2.5,
          "yref": "y"
         },
         {
          "sizex": 1,
          "sizey": 1,
          "source": "https://img.icons8.com/material/24/000000/standing-man.png",
          "x": 4,
          "xref": "x",
          "y": 2.5,
          "yref": "y"
         },
         {
          "sizex": 1,
          "sizey": 1,
          "source": "https://img.icons8.com/material/24/000000/standing-man.png",
          "x": 5,
          "xref": "x",
          "y": 2.5,
          "yref": "y"
         },
         {
          "sizex": 1,
          "sizey": 1,
          "source": "https://img.icons8.com/material/24/000000/standing-man.png",
          "x": 6,
          "xref": "x",
          "y": 2.5,
          "yref": "y"
         },
         {
          "sizex": 1,
          "sizey": 1,
          "source": "https://img.icons8.com/material/24/000000/standing-man.png",
          "x": 0,
          "xref": "x",
          "y": 3.5,
          "yref": "y"
         },
         {
          "sizex": 1,
          "sizey": 1,
          "source": "https://img.icons8.com/material/24/000000/standing-man.png",
          "x": 1,
          "xref": "x",
          "y": 3.5,
          "yref": "y"
         },
         {
          "sizex": 1,
          "sizey": 1,
          "source": "https://img.icons8.com/material/24/000000/standing-man.png",
          "x": 2,
          "xref": "x",
          "y": 3.5,
          "yref": "y"
         },
         {
          "sizex": 1,
          "sizey": 1,
          "source": "https://img.icons8.com/material/24/000000/standing-man.png",
          "x": 3,
          "xref": "x",
          "y": 3.5,
          "yref": "y"
         },
         {
          "sizex": 1,
          "sizey": 1,
          "source": "https://img.icons8.com/material/24/000000/standing-man.png",
          "x": 4,
          "xref": "x",
          "y": 3.5,
          "yref": "y"
         },
         {
          "sizex": 1,
          "sizey": 1,
          "source": "https://img.icons8.com/material/24/000000/standing-man.png",
          "x": 5,
          "xref": "x",
          "y": 3.5,
          "yref": "y"
         },
         {
          "sizex": 1,
          "sizey": 1,
          "source": "https://img.icons8.com/material/24/000000/standing-man.png",
          "x": 6,
          "xref": "x",
          "y": 3.5,
          "yref": "y"
         },
         {
          "sizex": 1,
          "sizey": 1,
          "source": "https://img.icons8.com/material/24/000000/standing-man.png",
          "x": 0,
          "xref": "x",
          "y": 4.5,
          "yref": "y"
         },
         {
          "sizex": 1,
          "sizey": 1,
          "source": "https://img.icons8.com/material/24/000000/standing-man.png",
          "x": 1,
          "xref": "x",
          "y": 4.5,
          "yref": "y"
         },
         {
          "sizex": 1,
          "sizey": 1,
          "source": "https://img.icons8.com/material/24/000000/standing-man.png",
          "x": 2,
          "xref": "x",
          "y": 4.5,
          "yref": "y"
         },
         {
          "sizex": 1,
          "sizey": 1,
          "source": "https://img.icons8.com/material/24/000000/standing-man.png",
          "x": 3,
          "xref": "x",
          "y": 4.5,
          "yref": "y"
         },
         {
          "sizex": 1,
          "sizey": 1,
          "source": "https://img.icons8.com/material/24/000000/standing-man.png",
          "x": 4,
          "xref": "x",
          "y": 4.5,
          "yref": "y"
         },
         {
          "sizex": 1,
          "sizey": 1,
          "source": "https://img.icons8.com/material/24/000000/standing-man.png",
          "x": 5,
          "xref": "x",
          "y": 4.5,
          "yref": "y"
         },
         {
          "sizex": 1,
          "sizey": 1,
          "source": "https://img.icons8.com/material-outlined/24/000000/standing-man.png",
          "x": 6,
          "xref": "x",
          "y": 4.5,
          "yref": "y"
         },
         {
          "sizex": 1,
          "sizey": 1,
          "source": "https://img.icons8.com/material-outlined/24/000000/standing-man.png",
          "x": 0,
          "xref": "x",
          "y": 5.5,
          "yref": "y"
         },
         {
          "sizex": 1,
          "sizey": 1,
          "source": "https://img.icons8.com/material-outlined/24/000000/standing-man.png",
          "x": 1,
          "xref": "x",
          "y": 5.5,
          "yref": "y"
         },
         {
          "sizex": 1,
          "sizey": 1,
          "source": "https://img.icons8.com/material-outlined/24/000000/standing-man.png",
          "x": 2,
          "xref": "x",
          "y": 5.5,
          "yref": "y"
         },
         {
          "sizex": 1,
          "sizey": 1,
          "source": "https://img.icons8.com/material-outlined/24/000000/standing-man.png",
          "x": 3,
          "xref": "x",
          "y": 5.5,
          "yref": "y"
         },
         {
          "sizex": 1,
          "sizey": 1,
          "source": "https://img.icons8.com/material-outlined/24/000000/standing-man.png",
          "x": 4,
          "xref": "x",
          "y": 5.5,
          "yref": "y"
         },
         {
          "sizex": 1,
          "sizey": 1,
          "source": "https://img.icons8.com/material-outlined/24/000000/standing-man.png",
          "x": 5,
          "xref": "x",
          "y": 5.5,
          "yref": "y"
         },
         {
          "sizex": 1,
          "sizey": 1,
          "source": "https://img.icons8.com/material-outlined/24/000000/standing-man.png",
          "x": 6,
          "xref": "x",
          "y": 5.5,
          "yref": "y"
         },
         {
          "sizex": 1,
          "sizey": 1,
          "source": "https://img.icons8.com/material-outlined/24/000000/standing-man.png",
          "x": 0,
          "xref": "x",
          "y": 6.5,
          "yref": "y"
         },
         {
          "sizex": 1,
          "sizey": 1,
          "source": "https://img.icons8.com/material-outlined/24/000000/standing-man.png",
          "x": 1,
          "xref": "x",
          "y": 6.5,
          "yref": "y"
         },
         {
          "sizex": 1,
          "sizey": 1,
          "source": "https://img.icons8.com/material-outlined/24/000000/standing-man.png",
          "x": 2,
          "xref": "x",
          "y": 6.5,
          "yref": "y"
         },
         {
          "sizex": 1,
          "sizey": 1,
          "source": "https://img.icons8.com/material-outlined/24/000000/standing-man.png",
          "x": 3,
          "xref": "x",
          "y": 6.5,
          "yref": "y"
         },
         {
          "sizex": 1,
          "sizey": 1,
          "source": "https://img.icons8.com/material-outlined/24/000000/standing-man.png",
          "x": 4,
          "xref": "x",
          "y": 6.5,
          "yref": "y"
         },
         {
          "sizex": 1,
          "sizey": 1,
          "source": "https://img.icons8.com/material-outlined/24/000000/standing-man.png",
          "x": 5,
          "xref": "x",
          "y": 6.5,
          "yref": "y"
         },
         {
          "sizex": 1,
          "sizey": 1,
          "source": "https://img.icons8.com/material-outlined/24/000000/standing-man.png",
          "x": 6,
          "xref": "x",
          "y": 6.5,
          "yref": "y"
         },
         {
          "sizex": 1,
          "sizey": 1,
          "source": "https://img.icons8.com/material-outlined/24/000000/standing-man.png",
          "x": 0,
          "xref": "x",
          "y": 7.5,
          "yref": "y"
         },
         {
          "sizex": 1,
          "sizey": 1,
          "source": "https://img.icons8.com/material-outlined/24/000000/standing-man.png",
          "x": 1,
          "xref": "x",
          "y": 7.5,
          "yref": "y"
         },
         {
          "sizex": 1,
          "sizey": 1,
          "source": "https://img.icons8.com/material-outlined/24/000000/standing-man.png",
          "x": 2,
          "xref": "x",
          "y": 7.5,
          "yref": "y"
         },
         {
          "sizex": 1,
          "sizey": 1,
          "source": "https://img.icons8.com/material-outlined/24/000000/standing-man.png",
          "x": 3,
          "xref": "x",
          "y": 7.5,
          "yref": "y"
         },
         {
          "sizex": 1,
          "sizey": 1,
          "source": "https://img.icons8.com/material-outlined/24/000000/standing-man.png",
          "x": 4,
          "xref": "x",
          "y": 7.5,
          "yref": "y"
         },
         {
          "sizex": 1,
          "sizey": 1,
          "source": "https://img.icons8.com/material-outlined/24/000000/standing-man.png",
          "x": 5,
          "xref": "x",
          "y": 7.5,
          "yref": "y"
         },
         {
          "sizex": 1,
          "sizey": 1,
          "source": "https://img.icons8.com/material-outlined/24/000000/standing-man.png",
          "x": 6,
          "xref": "x",
          "y": 7.5,
          "yref": "y"
         },
         {
          "sizex": 1,
          "sizey": 1,
          "source": "https://img.icons8.com/material-outlined/24/000000/standing-man.png",
          "x": 0,
          "xref": "x",
          "y": 8.5,
          "yref": "y"
         },
         {
          "sizex": 1,
          "sizey": 1,
          "source": "https://img.icons8.com/material-outlined/24/000000/standing-man.png",
          "x": 1,
          "xref": "x",
          "y": 8.5,
          "yref": "y"
         },
         {
          "sizex": 1,
          "sizey": 1,
          "source": "https://img.icons8.com/material-outlined/24/000000/standing-man.png",
          "x": 2,
          "xref": "x",
          "y": 8.5,
          "yref": "y"
         },
         {
          "sizex": 1,
          "sizey": 1,
          "source": "https://img.icons8.com/material-outlined/24/000000/standing-man.png",
          "x": 3,
          "xref": "x",
          "y": 8.5,
          "yref": "y"
         },
         {
          "sizex": 1,
          "sizey": 1,
          "source": "https://img.icons8.com/material-outlined/24/000000/standing-man.png",
          "x": 4,
          "xref": "x",
          "y": 8.5,
          "yref": "y"
         },
         {
          "sizex": 1,
          "sizey": 1,
          "source": "https://img.icons8.com/material-outlined/24/000000/standing-man.png",
          "x": 5,
          "xref": "x",
          "y": 8.5,
          "yref": "y"
         },
         {
          "sizex": 1,
          "sizey": 1,
          "source": "https://img.icons8.com/material-outlined/24/000000/standing-man.png",
          "x": 6,
          "xref": "x",
          "y": 8.5,
          "yref": "y"
         },
         {
          "sizex": 1,
          "sizey": 1,
          "source": "https://img.icons8.com/material-outlined/24/000000/standing-man.png",
          "x": 0,
          "xref": "x",
          "y": 9.5,
          "yref": "y"
         },
         {
          "sizex": 1,
          "sizey": 1,
          "source": "https://img.icons8.com/material-outlined/24/000000/standing-man.png",
          "x": 1,
          "xref": "x",
          "y": 9.5,
          "yref": "y"
         },
         {
          "sizex": 1,
          "sizey": 1,
          "source": "https://img.icons8.com/material-outlined/24/000000/standing-man.png",
          "x": 2,
          "xref": "x",
          "y": 9.5,
          "yref": "y"
         },
         {
          "sizex": 1,
          "sizey": 1,
          "source": "https://img.icons8.com/material-outlined/24/000000/standing-man.png",
          "x": 3,
          "xref": "x",
          "y": 9.5,
          "yref": "y"
         },
         {
          "sizex": 1,
          "sizey": 1,
          "source": "https://img.icons8.com/material-outlined/24/000000/standing-man.png",
          "x": 4,
          "xref": "x",
          "y": 9.5,
          "yref": "y"
         },
         {
          "sizex": 1,
          "sizey": 1,
          "source": "https://img.icons8.com/material-outlined/24/000000/standing-man.png",
          "x": 5,
          "xref": "x",
          "y": 9.5,
          "yref": "y"
         },
         {
          "sizex": 1,
          "sizey": 1,
          "source": "https://img.icons8.com/material-outlined/24/000000/standing-man.png",
          "x": 6,
          "xref": "x",
          "y": 9.5,
          "yref": "y"
         },
         {
          "sizex": 1,
          "sizey": 1,
          "source": "https://img.icons8.com/material-outlined/24/000000/standing-man.png",
          "x": 0,
          "xref": "x",
          "y": 10.5,
          "yref": "y"
         },
         {
          "sizex": 1,
          "sizey": 1,
          "source": "https://img.icons8.com/material-outlined/24/000000/standing-man.png",
          "x": 1,
          "xref": "x",
          "y": 10.5,
          "yref": "y"
         },
         {
          "sizex": 1,
          "sizey": 1,
          "source": "https://img.icons8.com/material-outlined/24/000000/standing-man.png",
          "x": 2,
          "xref": "x",
          "y": 10.5,
          "yref": "y"
         },
         {
          "sizex": 1,
          "sizey": 1,
          "source": "https://img.icons8.com/material/24/000000/standing-man.png",
          "x": 8,
          "xref": "x",
          "y": 2.5,
          "yref": "y"
         },
         {
          "sizex": 1,
          "sizey": 1,
          "source": "https://img.icons8.com/material/24/000000/standing-man.png",
          "x": 9,
          "xref": "x",
          "y": 2.5,
          "yref": "y"
         },
         {
          "sizex": 1,
          "sizey": 1,
          "source": "https://img.icons8.com/material/24/000000/standing-man.png",
          "x": 10,
          "xref": "x",
          "y": 2.5,
          "yref": "y"
         },
         {
          "sizex": 1,
          "sizey": 1,
          "source": "https://img.icons8.com/material/24/000000/standing-man.png",
          "x": 11,
          "xref": "x",
          "y": 2.5,
          "yref": "y"
         },
         {
          "sizex": 1,
          "sizey": 1,
          "source": "https://img.icons8.com/material/24/000000/standing-man.png",
          "x": 12,
          "xref": "x",
          "y": 2.5,
          "yref": "y"
         },
         {
          "sizex": 1,
          "sizey": 1,
          "source": "https://img.icons8.com/material/24/000000/standing-man.png",
          "x": 13,
          "xref": "x",
          "y": 2.5,
          "yref": "y"
         },
         {
          "sizex": 1,
          "sizey": 1,
          "source": "https://img.icons8.com/material/24/000000/standing-man.png",
          "x": 14,
          "xref": "x",
          "y": 2.5,
          "yref": "y"
         },
         {
          "sizex": 1,
          "sizey": 1,
          "source": "https://img.icons8.com/material/24/000000/standing-man.png",
          "x": 8,
          "xref": "x",
          "y": 3.5,
          "yref": "y"
         },
         {
          "sizex": 1,
          "sizey": 1,
          "source": "https://img.icons8.com/material-outlined/24/000000/standing-man.png",
          "x": 9,
          "xref": "x",
          "y": 3.5,
          "yref": "y"
         },
         {
          "sizex": 1,
          "sizey": 1,
          "source": "https://img.icons8.com/material-outlined/24/000000/standing-man.png",
          "x": 10,
          "xref": "x",
          "y": 3.5,
          "yref": "y"
         },
         {
          "sizex": 1,
          "sizey": 1,
          "source": "https://img.icons8.com/material-outlined/24/000000/standing-man.png",
          "x": 11,
          "xref": "x",
          "y": 3.5,
          "yref": "y"
         },
         {
          "sizex": 1,
          "sizey": 1,
          "source": "https://img.icons8.com/material-outlined/24/000000/standing-man.png",
          "x": 12,
          "xref": "x",
          "y": 3.5,
          "yref": "y"
         },
         {
          "sizex": 1,
          "sizey": 1,
          "source": "https://img.icons8.com/material-outlined/24/000000/standing-man.png",
          "x": 13,
          "xref": "x",
          "y": 3.5,
          "yref": "y"
         },
         {
          "sizex": 1,
          "sizey": 1,
          "source": "https://img.icons8.com/material-outlined/24/000000/standing-man.png",
          "x": 14,
          "xref": "x",
          "y": 3.5,
          "yref": "y"
         },
         {
          "sizex": 1,
          "sizey": 1,
          "source": "https://img.icons8.com/material-outlined/24/000000/standing-man.png",
          "x": 8,
          "xref": "x",
          "y": 4.5,
          "yref": "y"
         },
         {
          "sizex": 1,
          "sizey": 1,
          "source": "https://img.icons8.com/material-outlined/24/000000/standing-man.png",
          "x": 9,
          "xref": "x",
          "y": 4.5,
          "yref": "y"
         },
         {
          "sizex": 1,
          "sizey": 1,
          "source": "https://img.icons8.com/material-outlined/24/000000/standing-man.png",
          "x": 10,
          "xref": "x",
          "y": 4.5,
          "yref": "y"
         },
         {
          "sizex": 1,
          "sizey": 1,
          "source": "https://img.icons8.com/material-outlined/24/000000/standing-man.png",
          "x": 11,
          "xref": "x",
          "y": 4.5,
          "yref": "y"
         },
         {
          "sizex": 1,
          "sizey": 1,
          "source": "https://img.icons8.com/material-outlined/24/000000/standing-man.png",
          "x": 12,
          "xref": "x",
          "y": 4.5,
          "yref": "y"
         },
         {
          "sizex": 1,
          "sizey": 1,
          "source": "https://img.icons8.com/material-outlined/24/000000/standing-man.png",
          "x": 13,
          "xref": "x",
          "y": 4.5,
          "yref": "y"
         },
         {
          "sizex": 1,
          "sizey": 1,
          "source": "https://img.icons8.com/material-outlined/24/000000/standing-man.png",
          "x": 14,
          "xref": "x",
          "y": 4.5,
          "yref": "y"
         },
         {
          "sizex": 1,
          "sizey": 1,
          "source": "https://img.icons8.com/material-outlined/24/000000/standing-man.png",
          "x": 8,
          "xref": "x",
          "y": 5.5,
          "yref": "y"
         },
         {
          "sizex": 1,
          "sizey": 1,
          "source": "https://img.icons8.com/material-outlined/24/000000/standing-man.png",
          "x": 9,
          "xref": "x",
          "y": 5.5,
          "yref": "y"
         },
         {
          "sizex": 1,
          "sizey": 1,
          "source": "https://img.icons8.com/material-outlined/24/000000/standing-man.png",
          "x": 10,
          "xref": "x",
          "y": 5.5,
          "yref": "y"
         },
         {
          "sizex": 1,
          "sizey": 1,
          "source": "https://img.icons8.com/material-outlined/24/000000/standing-man.png",
          "x": 11,
          "xref": "x",
          "y": 5.5,
          "yref": "y"
         },
         {
          "sizex": 1,
          "sizey": 1,
          "source": "https://img.icons8.com/material-outlined/24/000000/standing-man.png",
          "x": 12,
          "xref": "x",
          "y": 5.5,
          "yref": "y"
         },
         {
          "sizex": 1,
          "sizey": 1,
          "source": "https://img.icons8.com/material-outlined/24/000000/standing-man.png",
          "x": 13,
          "xref": "x",
          "y": 5.5,
          "yref": "y"
         },
         {
          "sizex": 1,
          "sizey": 1,
          "source": "https://img.icons8.com/material-outlined/24/000000/standing-man.png",
          "x": 14,
          "xref": "x",
          "y": 5.5,
          "yref": "y"
         },
         {
          "sizex": 1,
          "sizey": 1,
          "source": "https://img.icons8.com/material-outlined/24/000000/standing-man.png",
          "x": 8,
          "xref": "x",
          "y": 6.5,
          "yref": "y"
         },
         {
          "sizex": 1,
          "sizey": 1,
          "source": "https://img.icons8.com/material-outlined/24/000000/standing-man.png",
          "x": 9,
          "xref": "x",
          "y": 6.5,
          "yref": "y"
         },
         {
          "sizex": 1,
          "sizey": 1,
          "source": "https://img.icons8.com/material-outlined/24/000000/standing-man.png",
          "x": 10,
          "xref": "x",
          "y": 6.5,
          "yref": "y"
         },
         {
          "sizex": 1,
          "sizey": 1,
          "source": "https://img.icons8.com/material-outlined/24/000000/standing-man.png",
          "x": 11,
          "xref": "x",
          "y": 6.5,
          "yref": "y"
         },
         {
          "sizex": 1,
          "sizey": 1,
          "source": "https://img.icons8.com/material-outlined/24/000000/standing-man.png",
          "x": 12,
          "xref": "x",
          "y": 6.5,
          "yref": "y"
         },
         {
          "sizex": 1,
          "sizey": 1,
          "source": "https://img.icons8.com/material-outlined/24/000000/standing-man.png",
          "x": 13,
          "xref": "x",
          "y": 6.5,
          "yref": "y"
         },
         {
          "sizex": 1,
          "sizey": 1,
          "source": "https://img.icons8.com/material-outlined/24/000000/standing-man.png",
          "x": 14,
          "xref": "x",
          "y": 6.5,
          "yref": "y"
         },
         {
          "sizex": 1,
          "sizey": 1,
          "source": "https://img.icons8.com/material-outlined/24/000000/standing-man.png",
          "x": 8,
          "xref": "x",
          "y": 7.5,
          "yref": "y"
         },
         {
          "sizex": 1,
          "sizey": 1,
          "source": "https://img.icons8.com/material-outlined/24/000000/standing-man.png",
          "x": 9,
          "xref": "x",
          "y": 7.5,
          "yref": "y"
         },
         {
          "sizex": 1,
          "sizey": 1,
          "source": "https://img.icons8.com/material-outlined/24/000000/standing-man.png",
          "x": 10,
          "xref": "x",
          "y": 7.5,
          "yref": "y"
         },
         {
          "sizex": 1,
          "sizey": 1,
          "source": "https://img.icons8.com/material-outlined/24/000000/standing-man.png",
          "x": 11,
          "xref": "x",
          "y": 7.5,
          "yref": "y"
         },
         {
          "sizex": 1,
          "sizey": 1,
          "source": "https://img.icons8.com/material-outlined/24/000000/standing-man.png",
          "x": 12,
          "xref": "x",
          "y": 7.5,
          "yref": "y"
         },
         {
          "sizex": 1,
          "sizey": 1,
          "source": "https://img.icons8.com/material-outlined/24/000000/standing-man.png",
          "x": 13,
          "xref": "x",
          "y": 7.5,
          "yref": "y"
         },
         {
          "sizex": 1,
          "sizey": 1,
          "source": "https://img.icons8.com/material-outlined/24/000000/standing-man.png",
          "x": 14,
          "xref": "x",
          "y": 7.5,
          "yref": "y"
         },
         {
          "sizex": 1,
          "sizey": 1,
          "source": "https://img.icons8.com/material-outlined/24/000000/standing-man.png",
          "x": 8,
          "xref": "x",
          "y": 8.5,
          "yref": "y"
         },
         {
          "sizex": 1,
          "sizey": 1,
          "source": "https://img.icons8.com/material-outlined/24/000000/standing-man.png",
          "x": 9,
          "xref": "x",
          "y": 8.5,
          "yref": "y"
         },
         {
          "sizex": 1,
          "sizey": 1,
          "source": "https://img.icons8.com/material-outlined/24/000000/standing-man.png",
          "x": 10,
          "xref": "x",
          "y": 8.5,
          "yref": "y"
         },
         {
          "sizex": 1,
          "sizey": 1,
          "source": "https://img.icons8.com/material-outlined/24/000000/standing-man.png",
          "x": 11,
          "xref": "x",
          "y": 8.5,
          "yref": "y"
         },
         {
          "sizex": 1,
          "sizey": 1,
          "source": "https://img.icons8.com/material-outlined/24/000000/standing-man.png",
          "x": 12,
          "xref": "x",
          "y": 8.5,
          "yref": "y"
         },
         {
          "sizex": 1,
          "sizey": 1,
          "source": "https://img.icons8.com/material-outlined/24/000000/standing-man.png",
          "x": 13,
          "xref": "x",
          "y": 8.5,
          "yref": "y"
         },
         {
          "sizex": 1,
          "sizey": 1,
          "source": "https://img.icons8.com/material-outlined/24/000000/standing-man.png",
          "x": 14,
          "xref": "x",
          "y": 8.5,
          "yref": "y"
         },
         {
          "sizex": 1,
          "sizey": 1,
          "source": "https://img.icons8.com/material-outlined/24/000000/standing-man.png",
          "x": 8,
          "xref": "x",
          "y": 9.5,
          "yref": "y"
         },
         {
          "sizex": 1,
          "sizey": 1,
          "source": "https://img.icons8.com/material-outlined/24/000000/standing-man.png",
          "x": 9,
          "xref": "x",
          "y": 9.5,
          "yref": "y"
         },
         {
          "sizex": 1,
          "sizey": 1,
          "source": "https://img.icons8.com/material-outlined/24/000000/standing-man.png",
          "x": 10,
          "xref": "x",
          "y": 9.5,
          "yref": "y"
         },
         {
          "sizex": 1,
          "sizey": 1,
          "source": "https://img.icons8.com/material-outlined/24/000000/standing-man.png",
          "x": 11,
          "xref": "x",
          "y": 9.5,
          "yref": "y"
         },
         {
          "sizex": 1,
          "sizey": 1,
          "source": "https://img.icons8.com/material-outlined/24/000000/standing-man.png",
          "x": 12,
          "xref": "x",
          "y": 9.5,
          "yref": "y"
         },
         {
          "sizex": 1,
          "sizey": 1,
          "source": "https://img.icons8.com/material-outlined/24/000000/standing-man.png",
          "x": 13,
          "xref": "x",
          "y": 9.5,
          "yref": "y"
         },
         {
          "sizex": 1,
          "sizey": 1,
          "source": "https://img.icons8.com/material-outlined/24/000000/standing-man.png",
          "x": 14,
          "xref": "x",
          "y": 9.5,
          "yref": "y"
         },
         {
          "sizex": 1,
          "sizey": 1,
          "source": "https://img.icons8.com/material/24/000000/standing-man.png",
          "x": 16,
          "xref": "x",
          "y": 2.5,
          "yref": "y"
         },
         {
          "sizex": 1,
          "sizey": 1,
          "source": "https://img.icons8.com/material/24/000000/standing-man.png",
          "x": 17,
          "xref": "x",
          "y": 2.5,
          "yref": "y"
         },
         {
          "sizex": 1,
          "sizey": 1,
          "source": "https://img.icons8.com/material/24/000000/standing-man.png",
          "x": 18,
          "xref": "x",
          "y": 2.5,
          "yref": "y"
         },
         {
          "sizex": 1,
          "sizey": 1,
          "source": "https://img.icons8.com/material/24/000000/standing-man.png",
          "x": 19,
          "xref": "x",
          "y": 2.5,
          "yref": "y"
         },
         {
          "sizex": 1,
          "sizey": 1,
          "source": "https://img.icons8.com/material/24/000000/standing-man.png",
          "x": 20,
          "xref": "x",
          "y": 2.5,
          "yref": "y"
         },
         {
          "sizex": 1,
          "sizey": 1,
          "source": "https://img.icons8.com/material/24/000000/standing-man.png",
          "x": 21,
          "xref": "x",
          "y": 2.5,
          "yref": "y"
         },
         {
          "sizex": 1,
          "sizey": 1,
          "source": "https://img.icons8.com/material/24/000000/standing-man.png",
          "x": 22,
          "xref": "x",
          "y": 2.5,
          "yref": "y"
         },
         {
          "sizex": 1,
          "sizey": 1,
          "source": "https://img.icons8.com/material/24/000000/standing-man.png",
          "x": 16,
          "xref": "x",
          "y": 3.5,
          "yref": "y"
         },
         {
          "sizex": 1,
          "sizey": 1,
          "source": "https://img.icons8.com/material/24/000000/standing-man.png",
          "x": 17,
          "xref": "x",
          "y": 3.5,
          "yref": "y"
         },
         {
          "sizex": 1,
          "sizey": 1,
          "source": "https://img.icons8.com/material/24/000000/standing-man.png",
          "x": 18,
          "xref": "x",
          "y": 3.5,
          "yref": "y"
         },
         {
          "sizex": 1,
          "sizey": 1,
          "source": "https://img.icons8.com/material/24/000000/standing-man.png",
          "x": 19,
          "xref": "x",
          "y": 3.5,
          "yref": "y"
         },
         {
          "sizex": 1,
          "sizey": 1,
          "source": "https://img.icons8.com/material/24/000000/standing-man.png",
          "x": 20,
          "xref": "x",
          "y": 3.5,
          "yref": "y"
         },
         {
          "sizex": 1,
          "sizey": 1,
          "source": "https://img.icons8.com/material/24/000000/standing-man.png",
          "x": 21,
          "xref": "x",
          "y": 3.5,
          "yref": "y"
         },
         {
          "sizex": 1,
          "sizey": 1,
          "source": "https://img.icons8.com/material/24/000000/standing-man.png",
          "x": 22,
          "xref": "x",
          "y": 3.5,
          "yref": "y"
         },
         {
          "sizex": 1,
          "sizey": 1,
          "source": "https://img.icons8.com/material/24/000000/standing-man.png",
          "x": 16,
          "xref": "x",
          "y": 4.5,
          "yref": "y"
         },
         {
          "sizex": 1,
          "sizey": 1,
          "source": "https://img.icons8.com/material/24/000000/standing-man.png",
          "x": 17,
          "xref": "x",
          "y": 4.5,
          "yref": "y"
         },
         {
          "sizex": 1,
          "sizey": 1,
          "source": "https://img.icons8.com/material/24/000000/standing-man.png",
          "x": 18,
          "xref": "x",
          "y": 4.5,
          "yref": "y"
         },
         {
          "sizex": 1,
          "sizey": 1,
          "source": "https://img.icons8.com/material/24/000000/standing-man.png",
          "x": 19,
          "xref": "x",
          "y": 4.5,
          "yref": "y"
         },
         {
          "sizex": 1,
          "sizey": 1,
          "source": "https://img.icons8.com/material/24/000000/standing-man.png",
          "x": 20,
          "xref": "x",
          "y": 4.5,
          "yref": "y"
         },
         {
          "sizex": 1,
          "sizey": 1,
          "source": "https://img.icons8.com/material/24/000000/standing-man.png",
          "x": 21,
          "xref": "x",
          "y": 4.5,
          "yref": "y"
         },
         {
          "sizex": 1,
          "sizey": 1,
          "source": "https://img.icons8.com/material/24/000000/standing-man.png",
          "x": 22,
          "xref": "x",
          "y": 4.5,
          "yref": "y"
         },
         {
          "sizex": 1,
          "sizey": 1,
          "source": "https://img.icons8.com/material/24/000000/standing-man.png",
          "x": 16,
          "xref": "x",
          "y": 5.5,
          "yref": "y"
         },
         {
          "sizex": 1,
          "sizey": 1,
          "source": "https://img.icons8.com/material/24/000000/standing-man.png",
          "x": 17,
          "xref": "x",
          "y": 5.5,
          "yref": "y"
         },
         {
          "sizex": 1,
          "sizey": 1,
          "source": "https://img.icons8.com/material/24/000000/standing-man.png",
          "x": 18,
          "xref": "x",
          "y": 5.5,
          "yref": "y"
         },
         {
          "sizex": 1,
          "sizey": 1,
          "source": "https://img.icons8.com/material/24/000000/standing-man.png",
          "x": 19,
          "xref": "x",
          "y": 5.5,
          "yref": "y"
         },
         {
          "sizex": 1,
          "sizey": 1,
          "source": "https://img.icons8.com/material-outlined/24/000000/standing-man.png",
          "x": 20,
          "xref": "x",
          "y": 5.5,
          "yref": "y"
         },
         {
          "sizex": 1,
          "sizey": 1,
          "source": "https://img.icons8.com/material-outlined/24/000000/standing-man.png",
          "x": 21,
          "xref": "x",
          "y": 5.5,
          "yref": "y"
         },
         {
          "sizex": 1,
          "sizey": 1,
          "source": "https://img.icons8.com/material-outlined/24/000000/standing-man.png",
          "x": 22,
          "xref": "x",
          "y": 5.5,
          "yref": "y"
         },
         {
          "sizex": 1,
          "sizey": 1,
          "source": "https://img.icons8.com/material-outlined/24/000000/standing-man.png",
          "x": 16,
          "xref": "x",
          "y": 6.5,
          "yref": "y"
         },
         {
          "sizex": 1,
          "sizey": 1,
          "source": "https://img.icons8.com/material-outlined/24/000000/standing-man.png",
          "x": 17,
          "xref": "x",
          "y": 6.5,
          "yref": "y"
         },
         {
          "sizex": 1,
          "sizey": 1,
          "source": "https://img.icons8.com/material-outlined/24/000000/standing-man.png",
          "x": 18,
          "xref": "x",
          "y": 6.5,
          "yref": "y"
         },
         {
          "sizex": 1,
          "sizey": 1,
          "source": "https://img.icons8.com/material-outlined/24/000000/standing-man.png",
          "x": 19,
          "xref": "x",
          "y": 6.5,
          "yref": "y"
         },
         {
          "sizex": 1,
          "sizey": 1,
          "source": "https://img.icons8.com/material-outlined/24/000000/standing-man.png",
          "x": 20,
          "xref": "x",
          "y": 6.5,
          "yref": "y"
         },
         {
          "sizex": 1,
          "sizey": 1,
          "source": "https://img.icons8.com/material-outlined/24/000000/standing-man.png",
          "x": 21,
          "xref": "x",
          "y": 6.5,
          "yref": "y"
         },
         {
          "sizex": 1,
          "sizey": 1,
          "source": "https://img.icons8.com/material-outlined/24/000000/standing-man.png",
          "x": 22,
          "xref": "x",
          "y": 6.5,
          "yref": "y"
         },
         {
          "sizex": 1,
          "sizey": 1,
          "source": "https://img.icons8.com/material-outlined/24/000000/standing-man.png",
          "x": 16,
          "xref": "x",
          "y": 7.5,
          "yref": "y"
         },
         {
          "sizex": 1,
          "sizey": 1,
          "source": "https://img.icons8.com/material-outlined/24/000000/standing-man.png",
          "x": 17,
          "xref": "x",
          "y": 7.5,
          "yref": "y"
         },
         {
          "sizex": 1,
          "sizey": 1,
          "source": "https://img.icons8.com/material-outlined/24/000000/standing-man.png",
          "x": 18,
          "xref": "x",
          "y": 7.5,
          "yref": "y"
         },
         {
          "sizex": 1,
          "sizey": 1,
          "source": "https://img.icons8.com/material-outlined/24/000000/standing-man.png",
          "x": 19,
          "xref": "x",
          "y": 7.5,
          "yref": "y"
         },
         {
          "sizex": 1,
          "sizey": 1,
          "source": "https://img.icons8.com/material-outlined/24/000000/standing-man.png",
          "x": 20,
          "xref": "x",
          "y": 7.5,
          "yref": "y"
         },
         {
          "sizex": 1,
          "sizey": 1,
          "source": "https://img.icons8.com/material-outlined/24/000000/standing-man.png",
          "x": 21,
          "xref": "x",
          "y": 7.5,
          "yref": "y"
         },
         {
          "sizex": 1,
          "sizey": 1,
          "source": "https://img.icons8.com/material-outlined/24/000000/standing-man.png",
          "x": 22,
          "xref": "x",
          "y": 7.5,
          "yref": "y"
         },
         {
          "sizex": 1,
          "sizey": 1,
          "source": "https://img.icons8.com/material-outlined/24/000000/standing-man.png",
          "x": 16,
          "xref": "x",
          "y": 8.5,
          "yref": "y"
         },
         {
          "sizex": 1,
          "sizey": 1,
          "source": "https://img.icons8.com/material-outlined/24/000000/standing-man.png",
          "x": 17,
          "xref": "x",
          "y": 8.5,
          "yref": "y"
         },
         {
          "sizex": 1,
          "sizey": 1,
          "source": "https://img.icons8.com/material-outlined/24/000000/standing-man.png",
          "x": 18,
          "xref": "x",
          "y": 8.5,
          "yref": "y"
         },
         {
          "sizex": 1,
          "sizey": 1,
          "source": "https://img.icons8.com/material-outlined/24/000000/standing-man.png",
          "x": 19,
          "xref": "x",
          "y": 8.5,
          "yref": "y"
         },
         {
          "sizex": 1,
          "sizey": 1,
          "source": "https://img.icons8.com/material-outlined/24/000000/standing-man.png",
          "x": 20,
          "xref": "x",
          "y": 8.5,
          "yref": "y"
         },
         {
          "sizex": 1,
          "sizey": 1,
          "source": "https://img.icons8.com/material-outlined/24/000000/standing-man.png",
          "x": 21,
          "xref": "x",
          "y": 8.5,
          "yref": "y"
         },
         {
          "sizex": 1,
          "sizey": 1,
          "source": "https://img.icons8.com/material-outlined/24/000000/standing-man.png",
          "x": 22,
          "xref": "x",
          "y": 8.5,
          "yref": "y"
         },
         {
          "sizex": 1,
          "sizey": 1,
          "source": "https://img.icons8.com/material-outlined/24/000000/standing-man.png",
          "x": 16,
          "xref": "x",
          "y": 9.5,
          "yref": "y"
         },
         {
          "sizex": 1,
          "sizey": 1,
          "source": "https://img.icons8.com/material-outlined/24/000000/standing-man.png",
          "x": 17,
          "xref": "x",
          "y": 9.5,
          "yref": "y"
         },
         {
          "sizex": 1,
          "sizey": 1,
          "source": "https://img.icons8.com/material-outlined/24/000000/standing-man.png",
          "x": 18,
          "xref": "x",
          "y": 9.5,
          "yref": "y"
         },
         {
          "sizex": 1,
          "sizey": 1,
          "source": "https://img.icons8.com/material-outlined/24/000000/standing-man.png",
          "x": 19,
          "xref": "x",
          "y": 9.5,
          "yref": "y"
         },
         {
          "sizex": 1,
          "sizey": 1,
          "source": "https://img.icons8.com/material-outlined/24/000000/standing-man.png",
          "x": 20,
          "xref": "x",
          "y": 9.5,
          "yref": "y"
         },
         {
          "sizex": 1,
          "sizey": 1,
          "source": "https://img.icons8.com/material-outlined/24/000000/standing-man.png",
          "x": 21,
          "xref": "x",
          "y": 9.5,
          "yref": "y"
         },
         {
          "sizex": 1,
          "sizey": 1,
          "source": "https://img.icons8.com/material-outlined/24/000000/standing-man.png",
          "x": 22,
          "xref": "x",
          "y": 9.5,
          "yref": "y"
         },
         {
          "sizex": 1,
          "sizey": 1,
          "source": "https://img.icons8.com/material-outlined/24/000000/standing-man.png",
          "x": 16,
          "xref": "x",
          "y": 10.5,
          "yref": "y"
         },
         {
          "sizex": 1,
          "sizey": 1,
          "source": "https://img.icons8.com/material-outlined/24/000000/standing-man.png",
          "x": 17,
          "xref": "x",
          "y": 10.5,
          "yref": "y"
         },
         {
          "sizex": 1,
          "sizey": 1,
          "source": "https://img.icons8.com/material-outlined/24/000000/standing-man.png",
          "x": 18,
          "xref": "x",
          "y": 10.5,
          "yref": "y"
         },
         {
          "sizex": 1,
          "sizey": 1,
          "source": "https://img.icons8.com/material-outlined/24/000000/standing-man.png",
          "x": 19,
          "xref": "x",
          "y": 10.5,
          "yref": "y"
         },
         {
          "sizex": 1,
          "sizey": 1,
          "source": "https://img.icons8.com/material-outlined/24/000000/standing-man.png",
          "x": 20,
          "xref": "x",
          "y": 10.5,
          "yref": "y"
         },
         {
          "sizex": 1,
          "sizey": 1,
          "source": "https://img.icons8.com/material-outlined/24/000000/standing-man.png",
          "x": 21,
          "xref": "x",
          "y": 10.5,
          "yref": "y"
         },
         {
          "sizex": 1,
          "sizey": 1,
          "source": "https://img.icons8.com/material-outlined/24/000000/standing-man.png",
          "x": 22,
          "xref": "x",
          "y": 10.5,
          "yref": "y"
         },
         {
          "sizex": 1,
          "sizey": 1,
          "source": "https://img.icons8.com/material-outlined/24/000000/standing-man.png",
          "x": 16,
          "xref": "x",
          "y": 11.5,
          "yref": "y"
         },
         {
          "sizex": 1,
          "sizey": 1,
          "source": "https://img.icons8.com/material-outlined/24/000000/standing-man.png",
          "x": 17,
          "xref": "x",
          "y": 11.5,
          "yref": "y"
         },
         {
          "sizex": 1,
          "sizey": 1,
          "source": "https://img.icons8.com/material-outlined/24/000000/standing-man.png",
          "x": 18,
          "xref": "x",
          "y": 11.5,
          "yref": "y"
         },
         {
          "sizex": 1,
          "sizey": 1,
          "source": "https://img.icons8.com/material-outlined/24/000000/standing-man.png",
          "x": 19,
          "xref": "x",
          "y": 11.5,
          "yref": "y"
         },
         {
          "sizex": 1,
          "sizey": 1,
          "source": "https://img.icons8.com/material-outlined/24/000000/standing-man.png",
          "x": 20,
          "xref": "x",
          "y": 11.5,
          "yref": "y"
         },
         {
          "sizex": 1,
          "sizey": 1,
          "source": "https://img.icons8.com/material-outlined/24/000000/standing-man.png",
          "x": 21,
          "xref": "x",
          "y": 11.5,
          "yref": "y"
         },
         {
          "sizex": 1,
          "sizey": 1,
          "source": "https://img.icons8.com/material-outlined/24/000000/standing-man.png",
          "x": 22,
          "xref": "x",
          "y": 11.5,
          "yref": "y"
         },
         {
          "sizex": 1,
          "sizey": 1,
          "source": "https://img.icons8.com/material-outlined/24/000000/standing-man.png",
          "x": 16,
          "xref": "x",
          "y": 12.5,
          "yref": "y"
         },
         {
          "sizex": 1,
          "sizey": 1,
          "source": "https://img.icons8.com/material-outlined/24/000000/standing-man.png",
          "x": 17,
          "xref": "x",
          "y": 12.5,
          "yref": "y"
         },
         {
          "sizex": 1,
          "sizey": 1,
          "source": "https://img.icons8.com/material-outlined/24/000000/standing-man.png",
          "x": 18,
          "xref": "x",
          "y": 12.5,
          "yref": "y"
         },
         {
          "sizex": 1,
          "sizey": 1,
          "source": "https://img.icons8.com/material-outlined/24/000000/standing-man.png",
          "x": 19,
          "xref": "x",
          "y": 12.5,
          "yref": "y"
         },
         {
          "sizex": 1,
          "sizey": 1,
          "source": "https://img.icons8.com/material-outlined/24/000000/standing-man.png",
          "x": 20,
          "xref": "x",
          "y": 12.5,
          "yref": "y"
         },
         {
          "sizex": 1,
          "sizey": 1,
          "source": "https://img.icons8.com/material-outlined/24/000000/standing-man.png",
          "x": 21,
          "xref": "x",
          "y": 12.5,
          "yref": "y"
         },
         {
          "sizex": 1,
          "sizey": 1,
          "source": "https://img.icons8.com/material-outlined/24/000000/standing-man.png",
          "x": 22,
          "xref": "x",
          "y": 12.5,
          "yref": "y"
         },
         {
          "sizex": 1,
          "sizey": 1,
          "source": "https://img.icons8.com/material-outlined/24/000000/standing-man.png",
          "x": 16,
          "xref": "x",
          "y": 13.5,
          "yref": "y"
         },
         {
          "sizex": 1,
          "sizey": 1,
          "source": "https://img.icons8.com/material-outlined/24/000000/standing-man.png",
          "x": 17,
          "xref": "x",
          "y": 13.5,
          "yref": "y"
         },
         {
          "sizex": 1,
          "sizey": 1,
          "source": "https://img.icons8.com/material-outlined/24/000000/standing-man.png",
          "x": 18,
          "xref": "x",
          "y": 13.5,
          "yref": "y"
         },
         {
          "sizex": 1,
          "sizey": 1,
          "source": "https://img.icons8.com/material-outlined/24/000000/standing-man.png",
          "x": 19,
          "xref": "x",
          "y": 13.5,
          "yref": "y"
         },
         {
          "sizex": 1,
          "sizey": 1,
          "source": "https://img.icons8.com/material-outlined/24/000000/standing-man.png",
          "x": 20,
          "xref": "x",
          "y": 13.5,
          "yref": "y"
         },
         {
          "sizex": 1,
          "sizey": 1,
          "source": "https://img.icons8.com/material-outlined/24/000000/standing-man.png",
          "x": 21,
          "xref": "x",
          "y": 13.5,
          "yref": "y"
         },
         {
          "sizex": 1,
          "sizey": 1,
          "source": "https://img.icons8.com/material-outlined/24/000000/standing-man.png",
          "x": 22,
          "xref": "x",
          "y": 13.5,
          "yref": "y"
         },
         {
          "sizex": 1,
          "sizey": 1,
          "source": "https://img.icons8.com/material-outlined/24/000000/standing-man.png",
          "x": 16,
          "xref": "x",
          "y": 14.5,
          "yref": "y"
         },
         {
          "sizex": 1,
          "sizey": 1,
          "source": "https://img.icons8.com/material-outlined/24/000000/standing-man.png",
          "x": 17,
          "xref": "x",
          "y": 14.5,
          "yref": "y"
         },
         {
          "sizex": 1,
          "sizey": 1,
          "source": "https://img.icons8.com/material-outlined/24/000000/standing-man.png",
          "x": 18,
          "xref": "x",
          "y": 14.5,
          "yref": "y"
         },
         {
          "sizex": 1,
          "sizey": 1,
          "source": "https://img.icons8.com/material-outlined/24/000000/standing-man.png",
          "x": 19,
          "xref": "x",
          "y": 14.5,
          "yref": "y"
         },
         {
          "sizex": 1,
          "sizey": 1,
          "source": "https://img.icons8.com/material-outlined/24/000000/standing-man.png",
          "x": 20,
          "xref": "x",
          "y": 14.5,
          "yref": "y"
         },
         {
          "sizex": 1,
          "sizey": 1,
          "source": "https://img.icons8.com/material-outlined/24/000000/standing-man.png",
          "x": 21,
          "xref": "x",
          "y": 14.5,
          "yref": "y"
         },
         {
          "sizex": 1,
          "sizey": 1,
          "source": "https://img.icons8.com/material-outlined/24/000000/standing-man.png",
          "x": 22,
          "xref": "x",
          "y": 14.5,
          "yref": "y"
         },
         {
          "sizex": 1,
          "sizey": 1,
          "source": "https://img.icons8.com/material-outlined/24/000000/standing-man.png",
          "x": 16,
          "xref": "x",
          "y": 15.5,
          "yref": "y"
         },
         {
          "sizex": 1,
          "sizey": 1,
          "source": "https://img.icons8.com/material-outlined/24/000000/standing-man.png",
          "x": 17,
          "xref": "x",
          "y": 15.5,
          "yref": "y"
         },
         {
          "sizex": 1,
          "sizey": 1,
          "source": "https://img.icons8.com/material-outlined/24/000000/standing-man.png",
          "x": 18,
          "xref": "x",
          "y": 15.5,
          "yref": "y"
         },
         {
          "sizex": 1,
          "sizey": 1,
          "source": "https://img.icons8.com/material-outlined/24/000000/standing-man.png",
          "x": 19,
          "xref": "x",
          "y": 15.5,
          "yref": "y"
         },
         {
          "sizex": 1,
          "sizey": 1,
          "source": "https://img.icons8.com/material-outlined/24/000000/standing-man.png",
          "x": 20,
          "xref": "x",
          "y": 15.5,
          "yref": "y"
         },
         {
          "sizex": 1,
          "sizey": 1,
          "source": "https://img.icons8.com/material-outlined/24/000000/standing-man.png",
          "x": 21,
          "xref": "x",
          "y": 15.5,
          "yref": "y"
         },
         {
          "sizex": 1,
          "sizey": 1,
          "source": "https://img.icons8.com/material-outlined/24/000000/standing-man.png",
          "x": 22,
          "xref": "x",
          "y": 15.5,
          "yref": "y"
         },
         {
          "sizex": 1,
          "sizey": 1,
          "source": "https://img.icons8.com/material-outlined/24/000000/standing-man.png",
          "x": 16,
          "xref": "x",
          "y": 16.5,
          "yref": "y"
         },
         {
          "sizex": 1,
          "sizey": 1,
          "source": "https://img.icons8.com/material-outlined/24/000000/standing-man.png",
          "x": 17,
          "xref": "x",
          "y": 16.5,
          "yref": "y"
         },
         {
          "sizex": 1,
          "sizey": 1,
          "source": "https://img.icons8.com/material-outlined/24/000000/standing-man.png",
          "x": 18,
          "xref": "x",
          "y": 16.5,
          "yref": "y"
         },
         {
          "sizex": 1,
          "sizey": 1,
          "source": "https://img.icons8.com/material-outlined/24/000000/standing-man.png",
          "x": 19,
          "xref": "x",
          "y": 16.5,
          "yref": "y"
         },
         {
          "sizex": 1,
          "sizey": 1,
          "source": "https://img.icons8.com/material-outlined/24/000000/standing-man.png",
          "x": 20,
          "xref": "x",
          "y": 16.5,
          "yref": "y"
         },
         {
          "sizex": 1,
          "sizey": 1,
          "source": "https://img.icons8.com/material-outlined/24/000000/standing-man.png",
          "x": 21,
          "xref": "x",
          "y": 16.5,
          "yref": "y"
         },
         {
          "sizex": 1,
          "sizey": 1,
          "source": "https://img.icons8.com/material-outlined/24/000000/standing-man.png",
          "x": 22,
          "xref": "x",
          "y": 16.5,
          "yref": "y"
         },
         {
          "sizex": 1,
          "sizey": 1,
          "source": "https://img.icons8.com/material-outlined/24/000000/standing-man.png",
          "x": 16,
          "xref": "x",
          "y": 17.5,
          "yref": "y"
         },
         {
          "sizex": 1,
          "sizey": 1,
          "source": "https://img.icons8.com/material-outlined/24/000000/standing-man.png",
          "x": 17,
          "xref": "x",
          "y": 17.5,
          "yref": "y"
         },
         {
          "sizex": 1,
          "sizey": 1,
          "source": "https://img.icons8.com/material-outlined/24/000000/standing-man.png",
          "x": 18,
          "xref": "x",
          "y": 17.5,
          "yref": "y"
         },
         {
          "sizex": 1,
          "sizey": 1,
          "source": "https://img.icons8.com/material-outlined/24/000000/standing-man.png",
          "x": 19,
          "xref": "x",
          "y": 17.5,
          "yref": "y"
         },
         {
          "sizex": 1,
          "sizey": 1,
          "source": "https://img.icons8.com/material-outlined/24/000000/standing-man.png",
          "x": 20,
          "xref": "x",
          "y": 17.5,
          "yref": "y"
         },
         {
          "sizex": 1,
          "sizey": 1,
          "source": "https://img.icons8.com/material-outlined/24/000000/standing-man.png",
          "x": 21,
          "xref": "x",
          "y": 17.5,
          "yref": "y"
         },
         {
          "sizex": 1,
          "sizey": 1,
          "source": "https://img.icons8.com/material-outlined/24/000000/standing-man.png",
          "x": 22,
          "xref": "x",
          "y": 17.5,
          "yref": "y"
         },
         {
          "sizex": 1,
          "sizey": 1,
          "source": "https://img.icons8.com/material-outlined/24/000000/standing-man.png",
          "x": 16,
          "xref": "x",
          "y": 18.5,
          "yref": "y"
         },
         {
          "sizex": 1,
          "sizey": 1,
          "source": "https://img.icons8.com/material-outlined/24/000000/standing-man.png",
          "x": 17,
          "xref": "x",
          "y": 18.5,
          "yref": "y"
         },
         {
          "sizex": 1,
          "sizey": 1,
          "source": "https://img.icons8.com/material-outlined/24/000000/standing-man.png",
          "x": 18,
          "xref": "x",
          "y": 18.5,
          "yref": "y"
         },
         {
          "sizex": 1,
          "sizey": 1,
          "source": "https://img.icons8.com/material-outlined/24/000000/standing-man.png",
          "x": 19,
          "xref": "x",
          "y": 18.5,
          "yref": "y"
         },
         {
          "sizex": 1,
          "sizey": 1,
          "source": "https://img.icons8.com/material-outlined/24/000000/standing-man.png",
          "x": 20,
          "xref": "x",
          "y": 18.5,
          "yref": "y"
         },
         {
          "sizex": 1,
          "sizey": 1,
          "source": "https://img.icons8.com/material-outlined/24/000000/standing-man.png",
          "x": 21,
          "xref": "x",
          "y": 18.5,
          "yref": "y"
         },
         {
          "sizex": 1,
          "sizey": 1,
          "source": "https://img.icons8.com/material-outlined/24/000000/standing-man.png",
          "x": 22,
          "xref": "x",
          "y": 18.5,
          "yref": "y"
         },
         {
          "sizex": 1,
          "sizey": 1,
          "source": "https://img.icons8.com/material-outlined/24/000000/standing-man.png",
          "x": 16,
          "xref": "x",
          "y": 19.5,
          "yref": "y"
         },
         {
          "sizex": 1,
          "sizey": 1,
          "source": "https://img.icons8.com/material-outlined/24/000000/standing-man.png",
          "x": 17,
          "xref": "x",
          "y": 19.5,
          "yref": "y"
         },
         {
          "sizex": 1,
          "sizey": 1,
          "source": "https://img.icons8.com/material-outlined/24/000000/standing-man.png",
          "x": 18,
          "xref": "x",
          "y": 19.5,
          "yref": "y"
         },
         {
          "sizex": 1,
          "sizey": 1,
          "source": "https://img.icons8.com/material-outlined/24/000000/standing-man.png",
          "x": 19,
          "xref": "x",
          "y": 19.5,
          "yref": "y"
         },
         {
          "sizex": 1,
          "sizey": 1,
          "source": "https://img.icons8.com/material-outlined/24/000000/standing-man.png",
          "x": 20,
          "xref": "x",
          "y": 19.5,
          "yref": "y"
         },
         {
          "sizex": 1,
          "sizey": 1,
          "source": "https://img.icons8.com/material-outlined/24/000000/standing-man.png",
          "x": 21,
          "xref": "x",
          "y": 19.5,
          "yref": "y"
         },
         {
          "sizex": 1,
          "sizey": 1,
          "source": "https://img.icons8.com/material-outlined/24/000000/standing-man.png",
          "x": 22,
          "xref": "x",
          "y": 19.5,
          "yref": "y"
         },
         {
          "sizex": 1,
          "sizey": 1,
          "source": "https://img.icons8.com/material-outlined/24/000000/standing-man.png",
          "x": 16,
          "xref": "x",
          "y": 20.5,
          "yref": "y"
         },
         {
          "sizex": 1,
          "sizey": 1,
          "source": "https://img.icons8.com/material-outlined/24/000000/standing-man.png",
          "x": 17,
          "xref": "x",
          "y": 20.5,
          "yref": "y"
         },
         {
          "sizex": 1,
          "sizey": 1,
          "source": "https://img.icons8.com/material-outlined/24/000000/standing-man.png",
          "x": 18,
          "xref": "x",
          "y": 20.5,
          "yref": "y"
         },
         {
          "sizex": 1,
          "sizey": 1,
          "source": "https://img.icons8.com/material-outlined/24/000000/standing-man.png",
          "x": 19,
          "xref": "x",
          "y": 20.5,
          "yref": "y"
         },
         {
          "sizex": 1,
          "sizey": 1,
          "source": "https://img.icons8.com/material-outlined/24/000000/standing-man.png",
          "x": 20,
          "xref": "x",
          "y": 20.5,
          "yref": "y"
         },
         {
          "sizex": 1,
          "sizey": 1,
          "source": "https://img.icons8.com/material-outlined/24/000000/standing-man.png",
          "x": 21,
          "xref": "x",
          "y": 20.5,
          "yref": "y"
         },
         {
          "sizex": 1,
          "sizey": 1,
          "source": "https://img.icons8.com/material-outlined/24/000000/standing-man.png",
          "x": 22,
          "xref": "x",
          "y": 20.5,
          "yref": "y"
         },
         {
          "sizex": 1,
          "sizey": 1,
          "source": "https://img.icons8.com/material-outlined/24/000000/standing-man.png",
          "x": 16,
          "xref": "x",
          "y": 21.5,
          "yref": "y"
         },
         {
          "sizex": 1,
          "sizey": 1,
          "source": "https://img.icons8.com/material-outlined/24/000000/standing-man.png",
          "x": 17,
          "xref": "x",
          "y": 21.5,
          "yref": "y"
         },
         {
          "sizex": 1,
          "sizey": 1,
          "source": "https://img.icons8.com/material-outlined/24/000000/standing-man.png",
          "x": 18,
          "xref": "x",
          "y": 21.5,
          "yref": "y"
         },
         {
          "sizex": 1,
          "sizey": 1,
          "source": "https://img.icons8.com/material-outlined/24/000000/standing-man.png",
          "x": 19,
          "xref": "x",
          "y": 21.5,
          "yref": "y"
         },
         {
          "sizex": 1,
          "sizey": 1,
          "source": "https://img.icons8.com/material-outlined/24/000000/standing-man.png",
          "x": 20,
          "xref": "x",
          "y": 21.5,
          "yref": "y"
         },
         {
          "sizex": 1,
          "sizey": 1,
          "source": "https://img.icons8.com/material-outlined/24/000000/standing-man.png",
          "x": 21,
          "xref": "x",
          "y": 21.5,
          "yref": "y"
         },
         {
          "sizex": 1,
          "sizey": 1,
          "source": "https://img.icons8.com/material-outlined/24/000000/standing-man.png",
          "x": 22,
          "xref": "x",
          "y": 21.5,
          "yref": "y"
         },
         {
          "sizex": 1,
          "sizey": 1,
          "source": "https://img.icons8.com/material-outlined/24/000000/standing-man.png",
          "x": 16,
          "xref": "x",
          "y": 22.5,
          "yref": "y"
         },
         {
          "sizex": 1,
          "sizey": 1,
          "source": "https://img.icons8.com/material-outlined/24/000000/standing-man.png",
          "x": 17,
          "xref": "x",
          "y": 22.5,
          "yref": "y"
         },
         {
          "sizex": 1,
          "sizey": 1,
          "source": "https://img.icons8.com/material-outlined/24/000000/standing-man.png",
          "x": 18,
          "xref": "x",
          "y": 22.5,
          "yref": "y"
         },
         {
          "sizex": 1,
          "sizey": 1,
          "source": "https://img.icons8.com/material-outlined/24/000000/standing-man.png",
          "x": 19,
          "xref": "x",
          "y": 22.5,
          "yref": "y"
         },
         {
          "sizex": 1,
          "sizey": 1,
          "source": "https://img.icons8.com/material-outlined/24/000000/standing-man.png",
          "x": 20,
          "xref": "x",
          "y": 22.5,
          "yref": "y"
         },
         {
          "sizex": 1,
          "sizey": 1,
          "source": "https://img.icons8.com/material-outlined/24/000000/standing-man.png",
          "x": 21,
          "xref": "x",
          "y": 22.5,
          "yref": "y"
         },
         {
          "sizex": 1,
          "sizey": 1,
          "source": "https://img.icons8.com/material-outlined/24/000000/standing-man.png",
          "x": 22,
          "xref": "x",
          "y": 22.5,
          "yref": "y"
         },
         {
          "sizex": 1,
          "sizey": 1,
          "source": "https://img.icons8.com/material-outlined/24/000000/standing-man.png",
          "x": 16,
          "xref": "x",
          "y": 23.5,
          "yref": "y"
         },
         {
          "sizex": 1,
          "sizey": 1,
          "source": "https://img.icons8.com/material-outlined/24/000000/standing-man.png",
          "x": 17,
          "xref": "x",
          "y": 23.5,
          "yref": "y"
         },
         {
          "sizex": 1,
          "sizey": 1,
          "source": "https://img.icons8.com/material-outlined/24/000000/standing-man.png",
          "x": 18,
          "xref": "x",
          "y": 23.5,
          "yref": "y"
         },
         {
          "sizex": 1,
          "sizey": 1,
          "source": "https://img.icons8.com/material-outlined/24/000000/standing-man.png",
          "x": 19,
          "xref": "x",
          "y": 23.5,
          "yref": "y"
         },
         {
          "sizex": 1,
          "sizey": 1,
          "source": "https://img.icons8.com/material-outlined/24/000000/standing-man.png",
          "x": 20,
          "xref": "x",
          "y": 23.5,
          "yref": "y"
         },
         {
          "sizex": 1,
          "sizey": 1,
          "source": "https://img.icons8.com/material-outlined/24/000000/standing-man.png",
          "x": 21,
          "xref": "x",
          "y": 23.5,
          "yref": "y"
         },
         {
          "sizex": 1,
          "sizey": 1,
          "source": "https://img.icons8.com/material-outlined/24/000000/standing-man.png",
          "x": 22,
          "xref": "x",
          "y": 23.5,
          "yref": "y"
         },
         {
          "sizex": 1,
          "sizey": 1,
          "source": "https://img.icons8.com/material-outlined/24/000000/standing-man.png",
          "x": 16,
          "xref": "x",
          "y": 24.5,
          "yref": "y"
         },
         {
          "sizex": 1,
          "sizey": 1,
          "source": "https://img.icons8.com/material-outlined/24/000000/standing-man.png",
          "x": 17,
          "xref": "x",
          "y": 24.5,
          "yref": "y"
         },
         {
          "sizex": 1,
          "sizey": 1,
          "source": "https://img.icons8.com/material-outlined/24/000000/standing-man.png",
          "x": 18,
          "xref": "x",
          "y": 24.5,
          "yref": "y"
         },
         {
          "sizex": 1,
          "sizey": 1,
          "source": "https://img.icons8.com/material-outlined/24/000000/standing-man.png",
          "x": 19,
          "xref": "x",
          "y": 24.5,
          "yref": "y"
         },
         {
          "sizex": 1,
          "sizey": 1,
          "source": "https://img.icons8.com/material-outlined/24/000000/standing-man.png",
          "x": 20,
          "xref": "x",
          "y": 24.5,
          "yref": "y"
         },
         {
          "sizex": 1,
          "sizey": 1,
          "source": "https://img.icons8.com/material-outlined/24/000000/standing-man.png",
          "x": 21,
          "xref": "x",
          "y": 24.5,
          "yref": "y"
         },
         {
          "sizex": 1,
          "sizey": 1,
          "source": "https://img.icons8.com/material-outlined/24/000000/standing-man.png",
          "x": 22,
          "xref": "x",
          "y": 24.5,
          "yref": "y"
         },
         {
          "sizex": 1,
          "sizey": 1,
          "source": "https://img.icons8.com/material-outlined/24/000000/standing-man.png",
          "x": 16,
          "xref": "x",
          "y": 25.5,
          "yref": "y"
         },
         {
          "sizex": 1,
          "sizey": 1,
          "source": "https://img.icons8.com/material-outlined/24/000000/standing-man.png",
          "x": 17,
          "xref": "x",
          "y": 25.5,
          "yref": "y"
         },
         {
          "sizex": 1,
          "sizey": 1,
          "source": "https://img.icons8.com/material-outlined/24/000000/standing-man.png",
          "x": 18,
          "xref": "x",
          "y": 25.5,
          "yref": "y"
         },
         {
          "sizex": 1,
          "sizey": 1,
          "source": "https://img.icons8.com/material/24/000000/standing-man.png",
          "x": 25.2,
          "xref": "x",
          "y": 2.5,
          "yref": "y"
         },
         {
          "sizex": 1,
          "sizey": 1,
          "source": "https://img.icons8.com/material/24/000000/standing-man.png",
          "x": 26.2,
          "xref": "x",
          "y": 2.5,
          "yref": "y"
         },
         {
          "sizex": 1,
          "sizey": 1,
          "source": "https://img.icons8.com/material/24/000000/standing-man.png",
          "x": 27.2,
          "xref": "x",
          "y": 2.5,
          "yref": "y"
         },
         {
          "sizex": 1,
          "sizey": 1,
          "source": "https://img.icons8.com/material/24/000000/standing-man.png",
          "x": 28.2,
          "xref": "x",
          "y": 2.5,
          "yref": "y"
         },
         {
          "sizex": 1,
          "sizey": 1,
          "source": "https://img.icons8.com/material/24/000000/standing-man.png",
          "x": 29.2,
          "xref": "x",
          "y": 2.5,
          "yref": "y"
         },
         {
          "sizex": 1,
          "sizey": 1,
          "source": "https://img.icons8.com/material/24/000000/standing-man.png",
          "x": 30.2,
          "xref": "x",
          "y": 2.5,
          "yref": "y"
         },
         {
          "sizex": 1,
          "sizey": 1,
          "source": "https://img.icons8.com/material/24/000000/standing-man.png",
          "x": 31.2,
          "xref": "x",
          "y": 2.5,
          "yref": "y"
         },
         {
          "sizex": 1,
          "sizey": 1,
          "source": "https://img.icons8.com/material/24/000000/standing-man.png",
          "x": 25.2,
          "xref": "x",
          "y": 3.5,
          "yref": "y"
         },
         {
          "sizex": 1,
          "sizey": 1,
          "source": "https://img.icons8.com/material/24/000000/standing-man.png",
          "x": 26.2,
          "xref": "x",
          "y": 3.5,
          "yref": "y"
         },
         {
          "sizex": 1,
          "sizey": 1,
          "source": "https://img.icons8.com/material/24/000000/standing-man.png",
          "x": 27.2,
          "xref": "x",
          "y": 3.5,
          "yref": "y"
         },
         {
          "sizex": 1,
          "sizey": 1,
          "source": "https://img.icons8.com/material/24/000000/standing-man.png",
          "x": 28.2,
          "xref": "x",
          "y": 3.5,
          "yref": "y"
         },
         {
          "sizex": 1,
          "sizey": 1,
          "source": "https://img.icons8.com/material/24/000000/standing-man.png",
          "x": 29.2,
          "xref": "x",
          "y": 3.5,
          "yref": "y"
         },
         {
          "sizex": 1,
          "sizey": 1,
          "source": "https://img.icons8.com/material/24/000000/standing-man.png",
          "x": 30.2,
          "xref": "x",
          "y": 3.5,
          "yref": "y"
         },
         {
          "sizex": 1,
          "sizey": 1,
          "source": "https://img.icons8.com/material/24/000000/standing-man.png",
          "x": 31.2,
          "xref": "x",
          "y": 3.5,
          "yref": "y"
         },
         {
          "sizex": 1,
          "sizey": 1,
          "source": "https://img.icons8.com/material/24/000000/standing-man.png",
          "x": 25.2,
          "xref": "x",
          "y": 4.5,
          "yref": "y"
         },
         {
          "sizex": 1,
          "sizey": 1,
          "source": "https://img.icons8.com/material/24/000000/standing-man.png",
          "x": 26.2,
          "xref": "x",
          "y": 4.5,
          "yref": "y"
         },
         {
          "sizex": 1,
          "sizey": 1,
          "source": "https://img.icons8.com/material/24/000000/standing-man.png",
          "x": 27.2,
          "xref": "x",
          "y": 4.5,
          "yref": "y"
         },
         {
          "sizex": 1,
          "sizey": 1,
          "source": "https://img.icons8.com/material/24/000000/standing-man.png",
          "x": 28.2,
          "xref": "x",
          "y": 4.5,
          "yref": "y"
         },
         {
          "sizex": 1,
          "sizey": 1,
          "source": "https://img.icons8.com/material/24/000000/standing-man.png",
          "x": 29.2,
          "xref": "x",
          "y": 4.5,
          "yref": "y"
         },
         {
          "sizex": 1,
          "sizey": 1,
          "source": "https://img.icons8.com/material/24/000000/standing-man.png",
          "x": 30.2,
          "xref": "x",
          "y": 4.5,
          "yref": "y"
         },
         {
          "sizex": 1,
          "sizey": 1,
          "source": "https://img.icons8.com/material/24/000000/standing-man.png",
          "x": 31.2,
          "xref": "x",
          "y": 4.5,
          "yref": "y"
         },
         {
          "sizex": 1,
          "sizey": 1,
          "source": "https://img.icons8.com/material/24/000000/standing-man.png",
          "x": 25.2,
          "xref": "x",
          "y": 5.5,
          "yref": "y"
         },
         {
          "sizex": 1,
          "sizey": 1,
          "source": "https://img.icons8.com/material/24/000000/standing-man.png",
          "x": 26.2,
          "xref": "x",
          "y": 5.5,
          "yref": "y"
         },
         {
          "sizex": 1,
          "sizey": 1,
          "source": "https://img.icons8.com/material/24/000000/standing-man.png",
          "x": 27.2,
          "xref": "x",
          "y": 5.5,
          "yref": "y"
         },
         {
          "sizex": 1,
          "sizey": 1,
          "source": "https://img.icons8.com/material/24/000000/standing-man.png",
          "x": 28.2,
          "xref": "x",
          "y": 5.5,
          "yref": "y"
         },
         {
          "sizex": 1,
          "sizey": 1,
          "source": "https://img.icons8.com/material/24/000000/standing-man.png",
          "x": 29.2,
          "xref": "x",
          "y": 5.5,
          "yref": "y"
         },
         {
          "sizex": 1,
          "sizey": 1,
          "source": "https://img.icons8.com/material/24/000000/standing-man.png",
          "x": 30.2,
          "xref": "x",
          "y": 5.5,
          "yref": "y"
         },
         {
          "sizex": 1,
          "sizey": 1,
          "source": "https://img.icons8.com/material/24/000000/standing-man.png",
          "x": 31.2,
          "xref": "x",
          "y": 5.5,
          "yref": "y"
         },
         {
          "sizex": 1,
          "sizey": 1,
          "source": "https://img.icons8.com/material/24/000000/standing-man.png",
          "x": 25.2,
          "xref": "x",
          "y": 6.5,
          "yref": "y"
         },
         {
          "sizex": 1,
          "sizey": 1,
          "source": "https://img.icons8.com/material/24/000000/standing-man.png",
          "x": 26.2,
          "xref": "x",
          "y": 6.5,
          "yref": "y"
         },
         {
          "sizex": 1,
          "sizey": 1,
          "source": "https://img.icons8.com/material/24/000000/standing-man.png",
          "x": 27.2,
          "xref": "x",
          "y": 6.5,
          "yref": "y"
         },
         {
          "sizex": 1,
          "sizey": 1,
          "source": "https://img.icons8.com/material/24/000000/standing-man.png",
          "x": 28.2,
          "xref": "x",
          "y": 6.5,
          "yref": "y"
         },
         {
          "sizex": 1,
          "sizey": 1,
          "source": "https://img.icons8.com/material/24/000000/standing-man.png",
          "x": 29.2,
          "xref": "x",
          "y": 6.5,
          "yref": "y"
         },
         {
          "sizex": 1,
          "sizey": 1,
          "source": "https://img.icons8.com/material/24/000000/standing-man.png",
          "x": 30.2,
          "xref": "x",
          "y": 6.5,
          "yref": "y"
         },
         {
          "sizex": 1,
          "sizey": 1,
          "source": "https://img.icons8.com/material/24/000000/standing-man.png",
          "x": 31.2,
          "xref": "x",
          "y": 6.5,
          "yref": "y"
         },
         {
          "sizex": 1,
          "sizey": 1,
          "source": "https://img.icons8.com/material/24/000000/standing-man.png",
          "x": 25.2,
          "xref": "x",
          "y": 7.5,
          "yref": "y"
         },
         {
          "sizex": 1,
          "sizey": 1,
          "source": "https://img.icons8.com/material/24/000000/standing-man.png",
          "x": 26.2,
          "xref": "x",
          "y": 7.5,
          "yref": "y"
         },
         {
          "sizex": 1,
          "sizey": 1,
          "source": "https://img.icons8.com/material/24/000000/standing-man.png",
          "x": 27.2,
          "xref": "x",
          "y": 7.5,
          "yref": "y"
         },
         {
          "sizex": 1,
          "sizey": 1,
          "source": "https://img.icons8.com/material/24/000000/standing-man.png",
          "x": 28.2,
          "xref": "x",
          "y": 7.5,
          "yref": "y"
         },
         {
          "sizex": 1,
          "sizey": 1,
          "source": "https://img.icons8.com/material/24/000000/standing-man.png",
          "x": 29.2,
          "xref": "x",
          "y": 7.5,
          "yref": "y"
         },
         {
          "sizex": 1,
          "sizey": 1,
          "source": "https://img.icons8.com/material/24/000000/standing-man.png",
          "x": 30.2,
          "xref": "x",
          "y": 7.5,
          "yref": "y"
         },
         {
          "sizex": 1,
          "sizey": 1,
          "source": "https://img.icons8.com/material/24/000000/standing-man.png",
          "x": 31.2,
          "xref": "x",
          "y": 7.5,
          "yref": "y"
         },
         {
          "sizex": 1,
          "sizey": 1,
          "source": "https://img.icons8.com/material/24/000000/standing-man.png",
          "x": 25.2,
          "xref": "x",
          "y": 8.5,
          "yref": "y"
         },
         {
          "sizex": 1,
          "sizey": 1,
          "source": "https://img.icons8.com/material/24/000000/standing-man.png",
          "x": 26.2,
          "xref": "x",
          "y": 8.5,
          "yref": "y"
         },
         {
          "sizex": 1,
          "sizey": 1,
          "source": "https://img.icons8.com/material/24/000000/standing-man.png",
          "x": 27.2,
          "xref": "x",
          "y": 8.5,
          "yref": "y"
         },
         {
          "sizex": 1,
          "sizey": 1,
          "source": "https://img.icons8.com/material/24/000000/standing-man.png",
          "x": 28.2,
          "xref": "x",
          "y": 8.5,
          "yref": "y"
         },
         {
          "sizex": 1,
          "sizey": 1,
          "source": "https://img.icons8.com/material-outlined/24/000000/standing-man.png",
          "x": 29.2,
          "xref": "x",
          "y": 8.5,
          "yref": "y"
         },
         {
          "sizex": 1,
          "sizey": 1,
          "source": "https://img.icons8.com/material/24/000000/standing-man.png",
          "x": 33.2,
          "xref": "x",
          "y": 2.5,
          "yref": "y"
         },
         {
          "sizex": 1,
          "sizey": 1,
          "source": "https://img.icons8.com/material/24/000000/standing-man.png",
          "x": 34.2,
          "xref": "x",
          "y": 2.5,
          "yref": "y"
         },
         {
          "sizex": 1,
          "sizey": 1,
          "source": "https://img.icons8.com/material/24/000000/standing-man.png",
          "x": 35.2,
          "xref": "x",
          "y": 2.5,
          "yref": "y"
         },
         {
          "sizex": 1,
          "sizey": 1,
          "source": "https://img.icons8.com/material/24/000000/standing-man.png",
          "x": 36.2,
          "xref": "x",
          "y": 2.5,
          "yref": "y"
         },
         {
          "sizex": 1,
          "sizey": 1,
          "source": "https://img.icons8.com/material/24/000000/standing-man.png",
          "x": 37.2,
          "xref": "x",
          "y": 2.5,
          "yref": "y"
         },
         {
          "sizex": 1,
          "sizey": 1,
          "source": "https://img.icons8.com/material/24/000000/standing-man.png",
          "x": 38.2,
          "xref": "x",
          "y": 2.5,
          "yref": "y"
         },
         {
          "sizex": 1,
          "sizey": 1,
          "source": "https://img.icons8.com/material/24/000000/standing-man.png",
          "x": 39.2,
          "xref": "x",
          "y": 2.5,
          "yref": "y"
         },
         {
          "sizex": 1,
          "sizey": 1,
          "source": "https://img.icons8.com/material/24/000000/standing-man.png",
          "x": 33.2,
          "xref": "x",
          "y": 3.5,
          "yref": "y"
         },
         {
          "sizex": 1,
          "sizey": 1,
          "source": "https://img.icons8.com/material/24/000000/standing-man.png",
          "x": 34.2,
          "xref": "x",
          "y": 3.5,
          "yref": "y"
         },
         {
          "sizex": 1,
          "sizey": 1,
          "source": "https://img.icons8.com/material/24/000000/standing-man.png",
          "x": 35.2,
          "xref": "x",
          "y": 3.5,
          "yref": "y"
         },
         {
          "sizex": 1,
          "sizey": 1,
          "source": "https://img.icons8.com/material/24/000000/standing-man.png",
          "x": 36.2,
          "xref": "x",
          "y": 3.5,
          "yref": "y"
         },
         {
          "sizex": 1,
          "sizey": 1,
          "source": "https://img.icons8.com/material/24/000000/standing-man.png",
          "x": 37.2,
          "xref": "x",
          "y": 3.5,
          "yref": "y"
         },
         {
          "sizex": 1,
          "sizey": 1,
          "source": "https://img.icons8.com/material/24/000000/standing-man.png",
          "x": 38.2,
          "xref": "x",
          "y": 3.5,
          "yref": "y"
         },
         {
          "sizex": 1,
          "sizey": 1,
          "source": "https://img.icons8.com/material/24/000000/standing-man.png",
          "x": 39.2,
          "xref": "x",
          "y": 3.5,
          "yref": "y"
         },
         {
          "sizex": 1,
          "sizey": 1,
          "source": "https://img.icons8.com/material/24/000000/standing-man.png",
          "x": 33.2,
          "xref": "x",
          "y": 4.5,
          "yref": "y"
         },
         {
          "sizex": 1,
          "sizey": 1,
          "source": "https://img.icons8.com/material/24/000000/standing-man.png",
          "x": 34.2,
          "xref": "x",
          "y": 4.5,
          "yref": "y"
         },
         {
          "sizex": 1,
          "sizey": 1,
          "source": "https://img.icons8.com/material/24/000000/standing-man.png",
          "x": 35.2,
          "xref": "x",
          "y": 4.5,
          "yref": "y"
         },
         {
          "sizex": 1,
          "sizey": 1,
          "source": "https://img.icons8.com/material/24/000000/standing-man.png",
          "x": 36.2,
          "xref": "x",
          "y": 4.5,
          "yref": "y"
         },
         {
          "sizex": 1,
          "sizey": 1,
          "source": "https://img.icons8.com/material/24/000000/standing-man.png",
          "x": 37.2,
          "xref": "x",
          "y": 4.5,
          "yref": "y"
         },
         {
          "sizex": 1,
          "sizey": 1,
          "source": "https://img.icons8.com/material/24/000000/standing-man.png",
          "x": 38.2,
          "xref": "x",
          "y": 4.5,
          "yref": "y"
         },
         {
          "sizex": 1,
          "sizey": 1,
          "source": "https://img.icons8.com/material/24/000000/standing-man.png",
          "x": 39.2,
          "xref": "x",
          "y": 4.5,
          "yref": "y"
         },
         {
          "sizex": 1,
          "sizey": 1,
          "source": "https://img.icons8.com/material/24/000000/standing-man.png",
          "x": 33.2,
          "xref": "x",
          "y": 5.5,
          "yref": "y"
         },
         {
          "sizex": 1,
          "sizey": 1,
          "source": "https://img.icons8.com/material/24/000000/standing-man.png",
          "x": 34.2,
          "xref": "x",
          "y": 5.5,
          "yref": "y"
         },
         {
          "sizex": 1,
          "sizey": 1,
          "source": "https://img.icons8.com/material/24/000000/standing-man.png",
          "x": 35.2,
          "xref": "x",
          "y": 5.5,
          "yref": "y"
         },
         {
          "sizex": 1,
          "sizey": 1,
          "source": "https://img.icons8.com/material/24/000000/standing-man.png",
          "x": 36.2,
          "xref": "x",
          "y": 5.5,
          "yref": "y"
         },
         {
          "sizex": 1,
          "sizey": 1,
          "source": "https://img.icons8.com/material/24/000000/standing-man.png",
          "x": 37.2,
          "xref": "x",
          "y": 5.5,
          "yref": "y"
         },
         {
          "sizex": 1,
          "sizey": 1,
          "source": "https://img.icons8.com/material/24/000000/standing-man.png",
          "x": 38.2,
          "xref": "x",
          "y": 5.5,
          "yref": "y"
         },
         {
          "sizex": 1,
          "sizey": 1,
          "source": "https://img.icons8.com/material/24/000000/standing-man.png",
          "x": 39.2,
          "xref": "x",
          "y": 5.5,
          "yref": "y"
         },
         {
          "sizex": 1,
          "sizey": 1,
          "source": "https://img.icons8.com/material/24/000000/standing-man.png",
          "x": 33.2,
          "xref": "x",
          "y": 6.5,
          "yref": "y"
         },
         {
          "sizex": 1,
          "sizey": 1,
          "source": "https://img.icons8.com/material/24/000000/standing-man.png",
          "x": 34.2,
          "xref": "x",
          "y": 6.5,
          "yref": "y"
         },
         {
          "sizex": 1,
          "sizey": 1,
          "source": "https://img.icons8.com/material/24/000000/standing-man.png",
          "x": 35.2,
          "xref": "x",
          "y": 6.5,
          "yref": "y"
         },
         {
          "sizex": 1,
          "sizey": 1,
          "source": "https://img.icons8.com/material-outlined/24/000000/standing-man.png",
          "x": 36.2,
          "xref": "x",
          "y": 6.5,
          "yref": "y"
         },
         {
          "sizex": 1,
          "sizey": 1,
          "source": "https://img.icons8.com/material-outlined/24/000000/standing-man.png",
          "x": 37.2,
          "xref": "x",
          "y": 6.5,
          "yref": "y"
         },
         {
          "sizex": 1,
          "sizey": 1,
          "source": "https://img.icons8.com/material-outlined/24/000000/standing-man.png",
          "x": 38.2,
          "xref": "x",
          "y": 6.5,
          "yref": "y"
         },
         {
          "sizex": 1,
          "sizey": 1,
          "source": "https://img.icons8.com/material-outlined/24/000000/standing-man.png",
          "x": 39.2,
          "xref": "x",
          "y": 6.5,
          "yref": "y"
         },
         {
          "sizex": 1,
          "sizey": 1,
          "source": "https://img.icons8.com/material/24/000000/standing-man.png",
          "x": 41.2,
          "xref": "x",
          "y": 2.5,
          "yref": "y"
         },
         {
          "sizex": 1,
          "sizey": 1,
          "source": "https://img.icons8.com/material/24/000000/standing-man.png",
          "x": 42.2,
          "xref": "x",
          "y": 2.5,
          "yref": "y"
         },
         {
          "sizex": 1,
          "sizey": 1,
          "source": "https://img.icons8.com/material/24/000000/standing-man.png",
          "x": 43.2,
          "xref": "x",
          "y": 2.5,
          "yref": "y"
         },
         {
          "sizex": 1,
          "sizey": 1,
          "source": "https://img.icons8.com/material/24/000000/standing-man.png",
          "x": 44.2,
          "xref": "x",
          "y": 2.5,
          "yref": "y"
         },
         {
          "sizex": 1,
          "sizey": 1,
          "source": "https://img.icons8.com/material/24/000000/standing-man.png",
          "x": 45.2,
          "xref": "x",
          "y": 2.5,
          "yref": "y"
         },
         {
          "sizex": 1,
          "sizey": 1,
          "source": "https://img.icons8.com/material/24/000000/standing-man.png",
          "x": 46.2,
          "xref": "x",
          "y": 2.5,
          "yref": "y"
         },
         {
          "sizex": 1,
          "sizey": 1,
          "source": "https://img.icons8.com/material/24/000000/standing-man.png",
          "x": 47.2,
          "xref": "x",
          "y": 2.5,
          "yref": "y"
         },
         {
          "sizex": 1,
          "sizey": 1,
          "source": "https://img.icons8.com/material/24/000000/standing-man.png",
          "x": 41.2,
          "xref": "x",
          "y": 3.5,
          "yref": "y"
         },
         {
          "sizex": 1,
          "sizey": 1,
          "source": "https://img.icons8.com/material/24/000000/standing-man.png",
          "x": 42.2,
          "xref": "x",
          "y": 3.5,
          "yref": "y"
         },
         {
          "sizex": 1,
          "sizey": 1,
          "source": "https://img.icons8.com/material/24/000000/standing-man.png",
          "x": 43.2,
          "xref": "x",
          "y": 3.5,
          "yref": "y"
         },
         {
          "sizex": 1,
          "sizey": 1,
          "source": "https://img.icons8.com/material/24/000000/standing-man.png",
          "x": 44.2,
          "xref": "x",
          "y": 3.5,
          "yref": "y"
         },
         {
          "sizex": 1,
          "sizey": 1,
          "source": "https://img.icons8.com/material/24/000000/standing-man.png",
          "x": 45.2,
          "xref": "x",
          "y": 3.5,
          "yref": "y"
         },
         {
          "sizex": 1,
          "sizey": 1,
          "source": "https://img.icons8.com/material/24/000000/standing-man.png",
          "x": 46.2,
          "xref": "x",
          "y": 3.5,
          "yref": "y"
         },
         {
          "sizex": 1,
          "sizey": 1,
          "source": "https://img.icons8.com/material/24/000000/standing-man.png",
          "x": 47.2,
          "xref": "x",
          "y": 3.5,
          "yref": "y"
         },
         {
          "sizex": 1,
          "sizey": 1,
          "source": "https://img.icons8.com/material/24/000000/standing-man.png",
          "x": 41.2,
          "xref": "x",
          "y": 4.5,
          "yref": "y"
         },
         {
          "sizex": 1,
          "sizey": 1,
          "source": "https://img.icons8.com/material/24/000000/standing-man.png",
          "x": 42.2,
          "xref": "x",
          "y": 4.5,
          "yref": "y"
         },
         {
          "sizex": 1,
          "sizey": 1,
          "source": "https://img.icons8.com/material/24/000000/standing-man.png",
          "x": 43.2,
          "xref": "x",
          "y": 4.5,
          "yref": "y"
         },
         {
          "sizex": 1,
          "sizey": 1,
          "source": "https://img.icons8.com/material/24/000000/standing-man.png",
          "x": 44.2,
          "xref": "x",
          "y": 4.5,
          "yref": "y"
         },
         {
          "sizex": 1,
          "sizey": 1,
          "source": "https://img.icons8.com/material/24/000000/standing-man.png",
          "x": 45.2,
          "xref": "x",
          "y": 4.5,
          "yref": "y"
         },
         {
          "sizex": 1,
          "sizey": 1,
          "source": "https://img.icons8.com/material/24/000000/standing-man.png",
          "x": 46.2,
          "xref": "x",
          "y": 4.5,
          "yref": "y"
         },
         {
          "sizex": 1,
          "sizey": 1,
          "source": "https://img.icons8.com/material/24/000000/standing-man.png",
          "x": 47.2,
          "xref": "x",
          "y": 4.5,
          "yref": "y"
         },
         {
          "sizex": 1,
          "sizey": 1,
          "source": "https://img.icons8.com/material/24/000000/standing-man.png",
          "x": 41.2,
          "xref": "x",
          "y": 5.5,
          "yref": "y"
         },
         {
          "sizex": 1,
          "sizey": 1,
          "source": "https://img.icons8.com/material/24/000000/standing-man.png",
          "x": 42.2,
          "xref": "x",
          "y": 5.5,
          "yref": "y"
         },
         {
          "sizex": 1,
          "sizey": 1,
          "source": "https://img.icons8.com/material/24/000000/standing-man.png",
          "x": 43.2,
          "xref": "x",
          "y": 5.5,
          "yref": "y"
         },
         {
          "sizex": 1,
          "sizey": 1,
          "source": "https://img.icons8.com/material/24/000000/standing-man.png",
          "x": 44.2,
          "xref": "x",
          "y": 5.5,
          "yref": "y"
         },
         {
          "sizex": 1,
          "sizey": 1,
          "source": "https://img.icons8.com/material/24/000000/standing-man.png",
          "x": 45.2,
          "xref": "x",
          "y": 5.5,
          "yref": "y"
         },
         {
          "sizex": 1,
          "sizey": 1,
          "source": "https://img.icons8.com/material/24/000000/standing-man.png",
          "x": 46.2,
          "xref": "x",
          "y": 5.5,
          "yref": "y"
         },
         {
          "sizex": 1,
          "sizey": 1,
          "source": "https://img.icons8.com/material/24/000000/standing-man.png",
          "x": 47.2,
          "xref": "x",
          "y": 5.5,
          "yref": "y"
         },
         {
          "sizex": 1,
          "sizey": 1,
          "source": "https://img.icons8.com/material/24/000000/standing-man.png",
          "x": 41.2,
          "xref": "x",
          "y": 6.5,
          "yref": "y"
         },
         {
          "sizex": 1,
          "sizey": 1,
          "source": "https://img.icons8.com/material/24/000000/standing-man.png",
          "x": 42.2,
          "xref": "x",
          "y": 6.5,
          "yref": "y"
         },
         {
          "sizex": 1,
          "sizey": 1,
          "source": "https://img.icons8.com/material/24/000000/standing-man.png",
          "x": 43.2,
          "xref": "x",
          "y": 6.5,
          "yref": "y"
         },
         {
          "sizex": 1,
          "sizey": 1,
          "source": "https://img.icons8.com/material/24/000000/standing-man.png",
          "x": 44.2,
          "xref": "x",
          "y": 6.5,
          "yref": "y"
         },
         {
          "sizex": 1,
          "sizey": 1,
          "source": "https://img.icons8.com/material/24/000000/standing-man.png",
          "x": 45.2,
          "xref": "x",
          "y": 6.5,
          "yref": "y"
         },
         {
          "sizex": 1,
          "sizey": 1,
          "source": "https://img.icons8.com/material/24/000000/standing-man.png",
          "x": 46.2,
          "xref": "x",
          "y": 6.5,
          "yref": "y"
         },
         {
          "sizex": 1,
          "sizey": 1,
          "source": "https://img.icons8.com/material/24/000000/standing-man.png",
          "x": 47.2,
          "xref": "x",
          "y": 6.5,
          "yref": "y"
         },
         {
          "sizex": 1,
          "sizey": 1,
          "source": "https://img.icons8.com/material-outlined/24/000000/standing-man.png",
          "x": 41.2,
          "xref": "x",
          "y": 7.5,
          "yref": "y"
         },
         {
          "sizex": 1,
          "sizey": 1,
          "source": "https://img.icons8.com/material-outlined/24/000000/standing-man.png",
          "x": 42.2,
          "xref": "x",
          "y": 7.5,
          "yref": "y"
         },
         {
          "sizex": 1,
          "sizey": 1,
          "source": "https://img.icons8.com/material-outlined/24/000000/standing-man.png",
          "x": 43.2,
          "xref": "x",
          "y": 7.5,
          "yref": "y"
         },
         {
          "sizex": 1,
          "sizey": 1,
          "source": "https://img.icons8.com/material-outlined/24/000000/standing-man.png",
          "x": 44.2,
          "xref": "x",
          "y": 7.5,
          "yref": "y"
         },
         {
          "sizex": 1,
          "sizey": 1,
          "source": "https://img.icons8.com/material-outlined/24/000000/standing-man.png",
          "x": 45.2,
          "xref": "x",
          "y": 7.5,
          "yref": "y"
         },
         {
          "sizex": 1,
          "sizey": 1,
          "source": "https://img.icons8.com/material-outlined/24/000000/standing-man.png",
          "x": 46.2,
          "xref": "x",
          "y": 7.5,
          "yref": "y"
         },
         {
          "sizex": 1,
          "sizey": 1,
          "source": "https://img.icons8.com/material-outlined/24/000000/standing-man.png",
          "x": 47.2,
          "xref": "x",
          "y": 7.5,
          "yref": "y"
         },
         {
          "sizex": 1,
          "sizey": 1,
          "source": "https://img.icons8.com/material-outlined/24/000000/standing-man.png",
          "x": 41.2,
          "xref": "x",
          "y": 8.5,
          "yref": "y"
         },
         {
          "sizex": 1,
          "sizey": 1,
          "source": "https://img.icons8.com/material-outlined/24/000000/standing-man.png",
          "x": 42.2,
          "xref": "x",
          "y": 8.5,
          "yref": "y"
         },
         {
          "sizex": 1,
          "sizey": 1,
          "source": "https://img.icons8.com/material-outlined/24/000000/standing-man.png",
          "x": 43.2,
          "xref": "x",
          "y": 8.5,
          "yref": "y"
         },
         {
          "sizex": 1,
          "sizey": 1,
          "source": "https://img.icons8.com/material-outlined/24/000000/standing-man.png",
          "x": 44.2,
          "xref": "x",
          "y": 8.5,
          "yref": "y"
         },
         {
          "sizex": 1,
          "sizey": 1,
          "source": "https://img.icons8.com/material-outlined/24/000000/standing-man.png",
          "x": 45.2,
          "xref": "x",
          "y": 8.5,
          "yref": "y"
         },
         {
          "sizex": 1,
          "sizey": 1,
          "source": "https://img.icons8.com/material-outlined/24/000000/standing-man.png",
          "x": 46.2,
          "xref": "x",
          "y": 8.5,
          "yref": "y"
         },
         {
          "sizex": 1,
          "sizey": 1,
          "source": "https://img.icons8.com/material-outlined/24/000000/standing-man.png",
          "x": 47.2,
          "xref": "x",
          "y": 8.5,
          "yref": "y"
         },
         {
          "sizex": 1,
          "sizey": 1,
          "source": "https://img.icons8.com/material-outlined/24/000000/standing-man.png",
          "x": 41.2,
          "xref": "x",
          "y": 9.5,
          "yref": "y"
         },
         {
          "sizex": 1,
          "sizey": 1,
          "source": "https://img.icons8.com/material-outlined/24/000000/standing-man.png",
          "x": 42.2,
          "xref": "x",
          "y": 9.5,
          "yref": "y"
         },
         {
          "sizex": 1,
          "sizey": 1,
          "source": "https://img.icons8.com/material-outlined/24/000000/standing-man.png",
          "x": 43.2,
          "xref": "x",
          "y": 9.5,
          "yref": "y"
         },
         {
          "sizex": 1,
          "sizey": 1,
          "source": "https://img.icons8.com/material-outlined/24/000000/standing-man.png",
          "x": 44.2,
          "xref": "x",
          "y": 9.5,
          "yref": "y"
         },
         {
          "sizex": 1,
          "sizey": 1,
          "source": "https://img.icons8.com/material-outlined/24/000000/standing-man.png",
          "x": 45.2,
          "xref": "x",
          "y": 9.5,
          "yref": "y"
         },
         {
          "sizex": 1,
          "sizey": 1,
          "source": "https://img.icons8.com/material-outlined/24/000000/standing-man.png",
          "x": 46.2,
          "xref": "x",
          "y": 9.5,
          "yref": "y"
         },
         {
          "sizex": 1,
          "sizey": 1,
          "source": "https://img.icons8.com/material-outlined/24/000000/standing-man.png",
          "x": 47.2,
          "xref": "x",
          "y": 9.5,
          "yref": "y"
         },
         {
          "sizex": 1,
          "sizey": 1,
          "source": "https://img.icons8.com/material-outlined/24/000000/standing-man.png",
          "x": 41.2,
          "xref": "x",
          "y": 10.5,
          "yref": "y"
         },
         {
          "sizex": 1,
          "sizey": 1,
          "source": "https://img.icons8.com/material-outlined/24/000000/standing-man.png",
          "x": 42.2,
          "xref": "x",
          "y": 10.5,
          "yref": "y"
         },
         {
          "sizex": 1,
          "sizey": 1,
          "source": "https://img.icons8.com/material-outlined/24/000000/standing-man.png",
          "x": 43.2,
          "xref": "x",
          "y": 10.5,
          "yref": "y"
         },
         {
          "sizex": 1,
          "sizey": 1,
          "source": "https://img.icons8.com/material-outlined/24/000000/standing-man.png",
          "x": 44.2,
          "xref": "x",
          "y": 10.5,
          "yref": "y"
         },
         {
          "sizex": 1,
          "sizey": 1,
          "source": "https://img.icons8.com/material-outlined/24/000000/standing-man.png",
          "x": 45.2,
          "xref": "x",
          "y": 10.5,
          "yref": "y"
         },
         {
          "sizex": 1,
          "sizey": 1,
          "source": "https://img.icons8.com/material-outlined/24/000000/standing-man.png",
          "x": 46.2,
          "xref": "x",
          "y": 10.5,
          "yref": "y"
         },
         {
          "sizex": 1,
          "sizey": 1,
          "source": "https://img.icons8.com/material-outlined/24/000000/standing-man.png",
          "x": 47.2,
          "xref": "x",
          "y": 10.5,
          "yref": "y"
         },
         {
          "sizex": 1,
          "sizey": 1,
          "source": "https://img.icons8.com/material-outlined/24/000000/standing-man.png",
          "x": 41.2,
          "xref": "x",
          "y": 11.5,
          "yref": "y"
         },
         {
          "sizex": 1,
          "sizey": 1,
          "source": "https://img.icons8.com/material-outlined/24/000000/standing-man.png",
          "x": 42.2,
          "xref": "x",
          "y": 11.5,
          "yref": "y"
         },
         {
          "sizex": 1,
          "sizey": 1,
          "source": "https://img.icons8.com/material-outlined/24/000000/standing-man.png",
          "x": 43.2,
          "xref": "x",
          "y": 11.5,
          "yref": "y"
         },
         {
          "sizex": 1,
          "sizey": 1,
          "source": "https://img.icons8.com/material-outlined/24/000000/standing-man.png",
          "x": 44.2,
          "xref": "x",
          "y": 11.5,
          "yref": "y"
         },
         {
          "sizex": 1,
          "sizey": 1,
          "source": "https://img.icons8.com/material-outlined/24/000000/standing-man.png",
          "x": 45.2,
          "xref": "x",
          "y": 11.5,
          "yref": "y"
         },
         {
          "sizex": 1,
          "sizey": 1,
          "source": "https://img.icons8.com/material-outlined/24/000000/standing-man.png",
          "x": 46.2,
          "xref": "x",
          "y": 11.5,
          "yref": "y"
         },
         {
          "sizex": 1,
          "sizey": 1,
          "source": "https://img.icons8.com/material-outlined/24/000000/standing-man.png",
          "x": 47.2,
          "xref": "x",
          "y": 11.5,
          "yref": "y"
         },
         {
          "sizex": 1,
          "sizey": 1,
          "source": "https://img.icons8.com/material-outlined/24/000000/standing-man.png",
          "x": 41.2,
          "xref": "x",
          "y": 12.5,
          "yref": "y"
         }
        ],
        "margin": {
         "b": 25,
         "l": 25,
         "r": 25,
         "t": 70
        },
        "showlegend": false,
        "template": {
         "data": {
          "bar": [
           {
            "error_x": {
             "color": "#2a3f5f"
            },
            "error_y": {
             "color": "#2a3f5f"
            },
            "marker": {
             "line": {
              "color": "#E5ECF6",
              "width": 0.5
             },
             "pattern": {
              "fillmode": "overlay",
              "size": 10,
              "solidity": 0.2
             }
            },
            "type": "bar"
           }
          ],
          "barpolar": [
           {
            "marker": {
             "line": {
              "color": "#E5ECF6",
              "width": 0.5
             },
             "pattern": {
              "fillmode": "overlay",
              "size": 10,
              "solidity": 0.2
             }
            },
            "type": "barpolar"
           }
          ],
          "carpet": [
           {
            "aaxis": {
             "endlinecolor": "#2a3f5f",
             "gridcolor": "white",
             "linecolor": "white",
             "minorgridcolor": "white",
             "startlinecolor": "#2a3f5f"
            },
            "baxis": {
             "endlinecolor": "#2a3f5f",
             "gridcolor": "white",
             "linecolor": "white",
             "minorgridcolor": "white",
             "startlinecolor": "#2a3f5f"
            },
            "type": "carpet"
           }
          ],
          "choropleth": [
           {
            "colorbar": {
             "outlinewidth": 0,
             "ticks": ""
            },
            "type": "choropleth"
           }
          ],
          "contour": [
           {
            "colorbar": {
             "outlinewidth": 0,
             "ticks": ""
            },
            "colorscale": [
             [
              0,
              "#0d0887"
             ],
             [
              0.1111111111111111,
              "#46039f"
             ],
             [
              0.2222222222222222,
              "#7201a8"
             ],
             [
              0.3333333333333333,
              "#9c179e"
             ],
             [
              0.4444444444444444,
              "#bd3786"
             ],
             [
              0.5555555555555556,
              "#d8576b"
             ],
             [
              0.6666666666666666,
              "#ed7953"
             ],
             [
              0.7777777777777778,
              "#fb9f3a"
             ],
             [
              0.8888888888888888,
              "#fdca26"
             ],
             [
              1,
              "#f0f921"
             ]
            ],
            "type": "contour"
           }
          ],
          "contourcarpet": [
           {
            "colorbar": {
             "outlinewidth": 0,
             "ticks": ""
            },
            "type": "contourcarpet"
           }
          ],
          "heatmap": [
           {
            "colorbar": {
             "outlinewidth": 0,
             "ticks": ""
            },
            "colorscale": [
             [
              0,
              "#0d0887"
             ],
             [
              0.1111111111111111,
              "#46039f"
             ],
             [
              0.2222222222222222,
              "#7201a8"
             ],
             [
              0.3333333333333333,
              "#9c179e"
             ],
             [
              0.4444444444444444,
              "#bd3786"
             ],
             [
              0.5555555555555556,
              "#d8576b"
             ],
             [
              0.6666666666666666,
              "#ed7953"
             ],
             [
              0.7777777777777778,
              "#fb9f3a"
             ],
             [
              0.8888888888888888,
              "#fdca26"
             ],
             [
              1,
              "#f0f921"
             ]
            ],
            "type": "heatmap"
           }
          ],
          "heatmapgl": [
           {
            "colorbar": {
             "outlinewidth": 0,
             "ticks": ""
            },
            "colorscale": [
             [
              0,
              "#0d0887"
             ],
             [
              0.1111111111111111,
              "#46039f"
             ],
             [
              0.2222222222222222,
              "#7201a8"
             ],
             [
              0.3333333333333333,
              "#9c179e"
             ],
             [
              0.4444444444444444,
              "#bd3786"
             ],
             [
              0.5555555555555556,
              "#d8576b"
             ],
             [
              0.6666666666666666,
              "#ed7953"
             ],
             [
              0.7777777777777778,
              "#fb9f3a"
             ],
             [
              0.8888888888888888,
              "#fdca26"
             ],
             [
              1,
              "#f0f921"
             ]
            ],
            "type": "heatmapgl"
           }
          ],
          "histogram": [
           {
            "marker": {
             "pattern": {
              "fillmode": "overlay",
              "size": 10,
              "solidity": 0.2
             }
            },
            "type": "histogram"
           }
          ],
          "histogram2d": [
           {
            "colorbar": {
             "outlinewidth": 0,
             "ticks": ""
            },
            "colorscale": [
             [
              0,
              "#0d0887"
             ],
             [
              0.1111111111111111,
              "#46039f"
             ],
             [
              0.2222222222222222,
              "#7201a8"
             ],
             [
              0.3333333333333333,
              "#9c179e"
             ],
             [
              0.4444444444444444,
              "#bd3786"
             ],
             [
              0.5555555555555556,
              "#d8576b"
             ],
             [
              0.6666666666666666,
              "#ed7953"
             ],
             [
              0.7777777777777778,
              "#fb9f3a"
             ],
             [
              0.8888888888888888,
              "#fdca26"
             ],
             [
              1,
              "#f0f921"
             ]
            ],
            "type": "histogram2d"
           }
          ],
          "histogram2dcontour": [
           {
            "colorbar": {
             "outlinewidth": 0,
             "ticks": ""
            },
            "colorscale": [
             [
              0,
              "#0d0887"
             ],
             [
              0.1111111111111111,
              "#46039f"
             ],
             [
              0.2222222222222222,
              "#7201a8"
             ],
             [
              0.3333333333333333,
              "#9c179e"
             ],
             [
              0.4444444444444444,
              "#bd3786"
             ],
             [
              0.5555555555555556,
              "#d8576b"
             ],
             [
              0.6666666666666666,
              "#ed7953"
             ],
             [
              0.7777777777777778,
              "#fb9f3a"
             ],
             [
              0.8888888888888888,
              "#fdca26"
             ],
             [
              1,
              "#f0f921"
             ]
            ],
            "type": "histogram2dcontour"
           }
          ],
          "mesh3d": [
           {
            "colorbar": {
             "outlinewidth": 0,
             "ticks": ""
            },
            "type": "mesh3d"
           }
          ],
          "parcoords": [
           {
            "line": {
             "colorbar": {
              "outlinewidth": 0,
              "ticks": ""
             }
            },
            "type": "parcoords"
           }
          ],
          "pie": [
           {
            "automargin": true,
            "type": "pie"
           }
          ],
          "scatter": [
           {
            "fillpattern": {
             "fillmode": "overlay",
             "size": 10,
             "solidity": 0.2
            },
            "type": "scatter"
           }
          ],
          "scatter3d": [
           {
            "line": {
             "colorbar": {
              "outlinewidth": 0,
              "ticks": ""
             }
            },
            "marker": {
             "colorbar": {
              "outlinewidth": 0,
              "ticks": ""
             }
            },
            "type": "scatter3d"
           }
          ],
          "scattercarpet": [
           {
            "marker": {
             "colorbar": {
              "outlinewidth": 0,
              "ticks": ""
             }
            },
            "type": "scattercarpet"
           }
          ],
          "scattergeo": [
           {
            "marker": {
             "colorbar": {
              "outlinewidth": 0,
              "ticks": ""
             }
            },
            "type": "scattergeo"
           }
          ],
          "scattergl": [
           {
            "marker": {
             "colorbar": {
              "outlinewidth": 0,
              "ticks": ""
             }
            },
            "type": "scattergl"
           }
          ],
          "scattermapbox": [
           {
            "marker": {
             "colorbar": {
              "outlinewidth": 0,
              "ticks": ""
             }
            },
            "type": "scattermapbox"
           }
          ],
          "scatterpolar": [
           {
            "marker": {
             "colorbar": {
              "outlinewidth": 0,
              "ticks": ""
             }
            },
            "type": "scatterpolar"
           }
          ],
          "scatterpolargl": [
           {
            "marker": {
             "colorbar": {
              "outlinewidth": 0,
              "ticks": ""
             }
            },
            "type": "scatterpolargl"
           }
          ],
          "scatterternary": [
           {
            "marker": {
             "colorbar": {
              "outlinewidth": 0,
              "ticks": ""
             }
            },
            "type": "scatterternary"
           }
          ],
          "surface": [
           {
            "colorbar": {
             "outlinewidth": 0,
             "ticks": ""
            },
            "colorscale": [
             [
              0,
              "#0d0887"
             ],
             [
              0.1111111111111111,
              "#46039f"
             ],
             [
              0.2222222222222222,
              "#7201a8"
             ],
             [
              0.3333333333333333,
              "#9c179e"
             ],
             [
              0.4444444444444444,
              "#bd3786"
             ],
             [
              0.5555555555555556,
              "#d8576b"
             ],
             [
              0.6666666666666666,
              "#ed7953"
             ],
             [
              0.7777777777777778,
              "#fb9f3a"
             ],
             [
              0.8888888888888888,
              "#fdca26"
             ],
             [
              1,
              "#f0f921"
             ]
            ],
            "type": "surface"
           }
          ],
          "table": [
           {
            "cells": {
             "fill": {
              "color": "#EBF0F8"
             },
             "line": {
              "color": "white"
             }
            },
            "header": {
             "fill": {
              "color": "#C8D4E3"
             },
             "line": {
              "color": "white"
             }
            },
            "type": "table"
           }
          ]
         },
         "layout": {
          "annotationdefaults": {
           "arrowcolor": "#2a3f5f",
           "arrowhead": 0,
           "arrowwidth": 1
          },
          "autotypenumbers": "strict",
          "coloraxis": {
           "colorbar": {
            "outlinewidth": 0,
            "ticks": ""
           }
          },
          "colorscale": {
           "diverging": [
            [
             0,
             "#8e0152"
            ],
            [
             0.1,
             "#c51b7d"
            ],
            [
             0.2,
             "#de77ae"
            ],
            [
             0.3,
             "#f1b6da"
            ],
            [
             0.4,
             "#fde0ef"
            ],
            [
             0.5,
             "#f7f7f7"
            ],
            [
             0.6,
             "#e6f5d0"
            ],
            [
             0.7,
             "#b8e186"
            ],
            [
             0.8,
             "#7fbc41"
            ],
            [
             0.9,
             "#4d9221"
            ],
            [
             1,
             "#276419"
            ]
           ],
           "sequential": [
            [
             0,
             "#0d0887"
            ],
            [
             0.1111111111111111,
             "#46039f"
            ],
            [
             0.2222222222222222,
             "#7201a8"
            ],
            [
             0.3333333333333333,
             "#9c179e"
            ],
            [
             0.4444444444444444,
             "#bd3786"
            ],
            [
             0.5555555555555556,
             "#d8576b"
            ],
            [
             0.6666666666666666,
             "#ed7953"
            ],
            [
             0.7777777777777778,
             "#fb9f3a"
            ],
            [
             0.8888888888888888,
             "#fdca26"
            ],
            [
             1,
             "#f0f921"
            ]
           ],
           "sequentialminus": [
            [
             0,
             "#0d0887"
            ],
            [
             0.1111111111111111,
             "#46039f"
            ],
            [
             0.2222222222222222,
             "#7201a8"
            ],
            [
             0.3333333333333333,
             "#9c179e"
            ],
            [
             0.4444444444444444,
             "#bd3786"
            ],
            [
             0.5555555555555556,
             "#d8576b"
            ],
            [
             0.6666666666666666,
             "#ed7953"
            ],
            [
             0.7777777777777778,
             "#fb9f3a"
            ],
            [
             0.8888888888888888,
             "#fdca26"
            ],
            [
             1,
             "#f0f921"
            ]
           ]
          },
          "colorway": [
           "#636efa",
           "#EF553B",
           "#00cc96",
           "#ab63fa",
           "#FFA15A",
           "#19d3f3",
           "#FF6692",
           "#B6E880",
           "#FF97FF",
           "#FECB52"
          ],
          "font": {
           "color": "#2a3f5f"
          },
          "geo": {
           "bgcolor": "white",
           "lakecolor": "white",
           "landcolor": "#E5ECF6",
           "showlakes": true,
           "showland": true,
           "subunitcolor": "white"
          },
          "hoverlabel": {
           "align": "left"
          },
          "hovermode": "closest",
          "mapbox": {
           "style": "light"
          },
          "paper_bgcolor": "white",
          "plot_bgcolor": "#E5ECF6",
          "polar": {
           "angularaxis": {
            "gridcolor": "white",
            "linecolor": "white",
            "ticks": ""
           },
           "bgcolor": "#E5ECF6",
           "radialaxis": {
            "gridcolor": "white",
            "linecolor": "white",
            "ticks": ""
           }
          },
          "scene": {
           "xaxis": {
            "backgroundcolor": "#E5ECF6",
            "gridcolor": "white",
            "gridwidth": 2,
            "linecolor": "white",
            "showbackground": true,
            "ticks": "",
            "zerolinecolor": "white"
           },
           "yaxis": {
            "backgroundcolor": "#E5ECF6",
            "gridcolor": "white",
            "gridwidth": 2,
            "linecolor": "white",
            "showbackground": true,
            "ticks": "",
            "zerolinecolor": "white"
           },
           "zaxis": {
            "backgroundcolor": "#E5ECF6",
            "gridcolor": "white",
            "gridwidth": 2,
            "linecolor": "white",
            "showbackground": true,
            "ticks": "",
            "zerolinecolor": "white"
           }
          },
          "shapedefaults": {
           "line": {
            "color": "#2a3f5f"
           }
          },
          "ternary": {
           "aaxis": {
            "gridcolor": "white",
            "linecolor": "white",
            "ticks": ""
           },
           "baxis": {
            "gridcolor": "white",
            "linecolor": "white",
            "ticks": ""
           },
           "bgcolor": "#E5ECF6",
           "caxis": {
            "gridcolor": "white",
            "linecolor": "white",
            "ticks": ""
           }
          },
          "title": {
           "x": 0.05
          },
          "xaxis": {
           "automargin": true,
           "gridcolor": "white",
           "linecolor": "white",
           "ticks": "",
           "title": {
            "standoff": 15
           },
           "zerolinecolor": "white",
           "zerolinewidth": 2
          },
          "yaxis": {
           "automargin": true,
           "gridcolor": "white",
           "linecolor": "white",
           "ticks": "",
           "title": {
            "standoff": 15
           },
           "zerolinecolor": "white",
           "zerolinewidth": 2
          }
         }
        },
        "xaxis": {
         "range": [
          -1,
          50
         ],
         "visible": false
        },
        "yaxis": {
         "range": [
          -1,
          25
         ],
         "scaleanchor": "x",
         "scaleratio": 1,
         "visible": false
        }
       }
      },
      "text/html": [
       "<div>                            <div id=\"ea08207b-9848-43a2-8c89-e55a9c35bace\" class=\"plotly-graph-div\" style=\"height:525px; width:100%;\"></div>            <script type=\"text/javascript\">                require([\"plotly\"], function(Plotly) {                    window.PLOTLYENV=window.PLOTLYENV || {};                                    if (document.getElementById(\"ea08207b-9848-43a2-8c89-e55a9c35bace\")) {                    Plotly.newPlot(                        \"ea08207b-9848-43a2-8c89-e55a9c35bace\",                        [],                        {\"template\":{\"data\":{\"histogram2dcontour\":[{\"type\":\"histogram2dcontour\",\"colorbar\":{\"outlinewidth\":0,\"ticks\":\"\"},\"colorscale\":[[0.0,\"#0d0887\"],[0.1111111111111111,\"#46039f\"],[0.2222222222222222,\"#7201a8\"],[0.3333333333333333,\"#9c179e\"],[0.4444444444444444,\"#bd3786\"],[0.5555555555555556,\"#d8576b\"],[0.6666666666666666,\"#ed7953\"],[0.7777777777777778,\"#fb9f3a\"],[0.8888888888888888,\"#fdca26\"],[1.0,\"#f0f921\"]]}],\"choropleth\":[{\"type\":\"choropleth\",\"colorbar\":{\"outlinewidth\":0,\"ticks\":\"\"}}],\"histogram2d\":[{\"type\":\"histogram2d\",\"colorbar\":{\"outlinewidth\":0,\"ticks\":\"\"},\"colorscale\":[[0.0,\"#0d0887\"],[0.1111111111111111,\"#46039f\"],[0.2222222222222222,\"#7201a8\"],[0.3333333333333333,\"#9c179e\"],[0.4444444444444444,\"#bd3786\"],[0.5555555555555556,\"#d8576b\"],[0.6666666666666666,\"#ed7953\"],[0.7777777777777778,\"#fb9f3a\"],[0.8888888888888888,\"#fdca26\"],[1.0,\"#f0f921\"]]}],\"heatmap\":[{\"type\":\"heatmap\",\"colorbar\":{\"outlinewidth\":0,\"ticks\":\"\"},\"colorscale\":[[0.0,\"#0d0887\"],[0.1111111111111111,\"#46039f\"],[0.2222222222222222,\"#7201a8\"],[0.3333333333333333,\"#9c179e\"],[0.4444444444444444,\"#bd3786\"],[0.5555555555555556,\"#d8576b\"],[0.6666666666666666,\"#ed7953\"],[0.7777777777777778,\"#fb9f3a\"],[0.8888888888888888,\"#fdca26\"],[1.0,\"#f0f921\"]]}],\"heatmapgl\":[{\"type\":\"heatmapgl\",\"colorbar\":{\"outlinewidth\":0,\"ticks\":\"\"},\"colorscale\":[[0.0,\"#0d0887\"],[0.1111111111111111,\"#46039f\"],[0.2222222222222222,\"#7201a8\"],[0.3333333333333333,\"#9c179e\"],[0.4444444444444444,\"#bd3786\"],[0.5555555555555556,\"#d8576b\"],[0.6666666666666666,\"#ed7953\"],[0.7777777777777778,\"#fb9f3a\"],[0.8888888888888888,\"#fdca26\"],[1.0,\"#f0f921\"]]}],\"contourcarpet\":[{\"type\":\"contourcarpet\",\"colorbar\":{\"outlinewidth\":0,\"ticks\":\"\"}}],\"contour\":[{\"type\":\"contour\",\"colorbar\":{\"outlinewidth\":0,\"ticks\":\"\"},\"colorscale\":[[0.0,\"#0d0887\"],[0.1111111111111111,\"#46039f\"],[0.2222222222222222,\"#7201a8\"],[0.3333333333333333,\"#9c179e\"],[0.4444444444444444,\"#bd3786\"],[0.5555555555555556,\"#d8576b\"],[0.6666666666666666,\"#ed7953\"],[0.7777777777777778,\"#fb9f3a\"],[0.8888888888888888,\"#fdca26\"],[1.0,\"#f0f921\"]]}],\"surface\":[{\"type\":\"surface\",\"colorbar\":{\"outlinewidth\":0,\"ticks\":\"\"},\"colorscale\":[[0.0,\"#0d0887\"],[0.1111111111111111,\"#46039f\"],[0.2222222222222222,\"#7201a8\"],[0.3333333333333333,\"#9c179e\"],[0.4444444444444444,\"#bd3786\"],[0.5555555555555556,\"#d8576b\"],[0.6666666666666666,\"#ed7953\"],[0.7777777777777778,\"#fb9f3a\"],[0.8888888888888888,\"#fdca26\"],[1.0,\"#f0f921\"]]}],\"mesh3d\":[{\"type\":\"mesh3d\",\"colorbar\":{\"outlinewidth\":0,\"ticks\":\"\"}}],\"scatter\":[{\"fillpattern\":{\"fillmode\":\"overlay\",\"size\":10,\"solidity\":0.2},\"type\":\"scatter\"}],\"parcoords\":[{\"type\":\"parcoords\",\"line\":{\"colorbar\":{\"outlinewidth\":0,\"ticks\":\"\"}}}],\"scatterpolargl\":[{\"type\":\"scatterpolargl\",\"marker\":{\"colorbar\":{\"outlinewidth\":0,\"ticks\":\"\"}}}],\"bar\":[{\"error_x\":{\"color\":\"#2a3f5f\"},\"error_y\":{\"color\":\"#2a3f5f\"},\"marker\":{\"line\":{\"color\":\"#E5ECF6\",\"width\":0.5},\"pattern\":{\"fillmode\":\"overlay\",\"size\":10,\"solidity\":0.2}},\"type\":\"bar\"}],\"scattergeo\":[{\"type\":\"scattergeo\",\"marker\":{\"colorbar\":{\"outlinewidth\":0,\"ticks\":\"\"}}}],\"scatterpolar\":[{\"type\":\"scatterpolar\",\"marker\":{\"colorbar\":{\"outlinewidth\":0,\"ticks\":\"\"}}}],\"histogram\":[{\"marker\":{\"pattern\":{\"fillmode\":\"overlay\",\"size\":10,\"solidity\":0.2}},\"type\":\"histogram\"}],\"scattergl\":[{\"type\":\"scattergl\",\"marker\":{\"colorbar\":{\"outlinewidth\":0,\"ticks\":\"\"}}}],\"scatter3d\":[{\"type\":\"scatter3d\",\"line\":{\"colorbar\":{\"outlinewidth\":0,\"ticks\":\"\"}},\"marker\":{\"colorbar\":{\"outlinewidth\":0,\"ticks\":\"\"}}}],\"scattermapbox\":[{\"type\":\"scattermapbox\",\"marker\":{\"colorbar\":{\"outlinewidth\":0,\"ticks\":\"\"}}}],\"scatterternary\":[{\"type\":\"scatterternary\",\"marker\":{\"colorbar\":{\"outlinewidth\":0,\"ticks\":\"\"}}}],\"scattercarpet\":[{\"type\":\"scattercarpet\",\"marker\":{\"colorbar\":{\"outlinewidth\":0,\"ticks\":\"\"}}}],\"carpet\":[{\"aaxis\":{\"endlinecolor\":\"#2a3f5f\",\"gridcolor\":\"white\",\"linecolor\":\"white\",\"minorgridcolor\":\"white\",\"startlinecolor\":\"#2a3f5f\"},\"baxis\":{\"endlinecolor\":\"#2a3f5f\",\"gridcolor\":\"white\",\"linecolor\":\"white\",\"minorgridcolor\":\"white\",\"startlinecolor\":\"#2a3f5f\"},\"type\":\"carpet\"}],\"table\":[{\"cells\":{\"fill\":{\"color\":\"#EBF0F8\"},\"line\":{\"color\":\"white\"}},\"header\":{\"fill\":{\"color\":\"#C8D4E3\"},\"line\":{\"color\":\"white\"}},\"type\":\"table\"}],\"barpolar\":[{\"marker\":{\"line\":{\"color\":\"#E5ECF6\",\"width\":0.5},\"pattern\":{\"fillmode\":\"overlay\",\"size\":10,\"solidity\":0.2}},\"type\":\"barpolar\"}],\"pie\":[{\"automargin\":true,\"type\":\"pie\"}]},\"layout\":{\"autotypenumbers\":\"strict\",\"colorway\":[\"#636efa\",\"#EF553B\",\"#00cc96\",\"#ab63fa\",\"#FFA15A\",\"#19d3f3\",\"#FF6692\",\"#B6E880\",\"#FF97FF\",\"#FECB52\"],\"font\":{\"color\":\"#2a3f5f\"},\"hovermode\":\"closest\",\"hoverlabel\":{\"align\":\"left\"},\"paper_bgcolor\":\"white\",\"plot_bgcolor\":\"#E5ECF6\",\"polar\":{\"bgcolor\":\"#E5ECF6\",\"angularaxis\":{\"gridcolor\":\"white\",\"linecolor\":\"white\",\"ticks\":\"\"},\"radialaxis\":{\"gridcolor\":\"white\",\"linecolor\":\"white\",\"ticks\":\"\"}},\"ternary\":{\"bgcolor\":\"#E5ECF6\",\"aaxis\":{\"gridcolor\":\"white\",\"linecolor\":\"white\",\"ticks\":\"\"},\"baxis\":{\"gridcolor\":\"white\",\"linecolor\":\"white\",\"ticks\":\"\"},\"caxis\":{\"gridcolor\":\"white\",\"linecolor\":\"white\",\"ticks\":\"\"}},\"coloraxis\":{\"colorbar\":{\"outlinewidth\":0,\"ticks\":\"\"}},\"colorscale\":{\"sequential\":[[0.0,\"#0d0887\"],[0.1111111111111111,\"#46039f\"],[0.2222222222222222,\"#7201a8\"],[0.3333333333333333,\"#9c179e\"],[0.4444444444444444,\"#bd3786\"],[0.5555555555555556,\"#d8576b\"],[0.6666666666666666,\"#ed7953\"],[0.7777777777777778,\"#fb9f3a\"],[0.8888888888888888,\"#fdca26\"],[1.0,\"#f0f921\"]],\"sequentialminus\":[[0.0,\"#0d0887\"],[0.1111111111111111,\"#46039f\"],[0.2222222222222222,\"#7201a8\"],[0.3333333333333333,\"#9c179e\"],[0.4444444444444444,\"#bd3786\"],[0.5555555555555556,\"#d8576b\"],[0.6666666666666666,\"#ed7953\"],[0.7777777777777778,\"#fb9f3a\"],[0.8888888888888888,\"#fdca26\"],[1.0,\"#f0f921\"]],\"diverging\":[[0,\"#8e0152\"],[0.1,\"#c51b7d\"],[0.2,\"#de77ae\"],[0.3,\"#f1b6da\"],[0.4,\"#fde0ef\"],[0.5,\"#f7f7f7\"],[0.6,\"#e6f5d0\"],[0.7,\"#b8e186\"],[0.8,\"#7fbc41\"],[0.9,\"#4d9221\"],[1,\"#276419\"]]},\"xaxis\":{\"gridcolor\":\"white\",\"linecolor\":\"white\",\"ticks\":\"\",\"title\":{\"standoff\":15},\"zerolinecolor\":\"white\",\"automargin\":true,\"zerolinewidth\":2},\"yaxis\":{\"gridcolor\":\"white\",\"linecolor\":\"white\",\"ticks\":\"\",\"title\":{\"standoff\":15},\"zerolinecolor\":\"white\",\"automargin\":true,\"zerolinewidth\":2},\"scene\":{\"xaxis\":{\"backgroundcolor\":\"#E5ECF6\",\"gridcolor\":\"white\",\"linecolor\":\"white\",\"showbackground\":true,\"ticks\":\"\",\"zerolinecolor\":\"white\",\"gridwidth\":2},\"yaxis\":{\"backgroundcolor\":\"#E5ECF6\",\"gridcolor\":\"white\",\"linecolor\":\"white\",\"showbackground\":true,\"ticks\":\"\",\"zerolinecolor\":\"white\",\"gridwidth\":2},\"zaxis\":{\"backgroundcolor\":\"#E5ECF6\",\"gridcolor\":\"white\",\"linecolor\":\"white\",\"showbackground\":true,\"ticks\":\"\",\"zerolinecolor\":\"white\",\"gridwidth\":2}},\"shapedefaults\":{\"line\":{\"color\":\"#2a3f5f\"}},\"annotationdefaults\":{\"arrowcolor\":\"#2a3f5f\",\"arrowhead\":0,\"arrowwidth\":1},\"geo\":{\"bgcolor\":\"white\",\"landcolor\":\"#E5ECF6\",\"subunitcolor\":\"white\",\"showland\":true,\"showlakes\":true,\"lakecolor\":\"white\"},\"title\":{\"x\":0.05},\"mapbox\":{\"style\":\"light\"}}},\"yaxis\":{\"scaleanchor\":\"x\",\"scaleratio\":1,\"visible\":false,\"range\":[-1,25]},\"xaxis\":{\"visible\":false,\"range\":[-1,50]},\"showlegend\":false,\"margin\":{\"t\":70,\"l\":25,\"r\":25,\"b\":25},\"images\":[{\"sizex\":1,\"sizey\":1,\"source\":\"https://img.icons8.com/material/24/000000/standing-man.png\",\"x\":0,\"xref\":\"x\",\"y\":2.5,\"yref\":\"y\"},{\"sizex\":1,\"sizey\":1,\"source\":\"https://img.icons8.com/material/24/000000/standing-man.png\",\"x\":1,\"xref\":\"x\",\"y\":2.5,\"yref\":\"y\"},{\"sizex\":1,\"sizey\":1,\"source\":\"https://img.icons8.com/material/24/000000/standing-man.png\",\"x\":2,\"xref\":\"x\",\"y\":2.5,\"yref\":\"y\"},{\"sizex\":1,\"sizey\":1,\"source\":\"https://img.icons8.com/material/24/000000/standing-man.png\",\"x\":3,\"xref\":\"x\",\"y\":2.5,\"yref\":\"y\"},{\"sizex\":1,\"sizey\":1,\"source\":\"https://img.icons8.com/material/24/000000/standing-man.png\",\"x\":4,\"xref\":\"x\",\"y\":2.5,\"yref\":\"y\"},{\"sizex\":1,\"sizey\":1,\"source\":\"https://img.icons8.com/material/24/000000/standing-man.png\",\"x\":5,\"xref\":\"x\",\"y\":2.5,\"yref\":\"y\"},{\"sizex\":1,\"sizey\":1,\"source\":\"https://img.icons8.com/material/24/000000/standing-man.png\",\"x\":6,\"xref\":\"x\",\"y\":2.5,\"yref\":\"y\"},{\"sizex\":1,\"sizey\":1,\"source\":\"https://img.icons8.com/material/24/000000/standing-man.png\",\"x\":0,\"xref\":\"x\",\"y\":3.5,\"yref\":\"y\"},{\"sizex\":1,\"sizey\":1,\"source\":\"https://img.icons8.com/material/24/000000/standing-man.png\",\"x\":1,\"xref\":\"x\",\"y\":3.5,\"yref\":\"y\"},{\"sizex\":1,\"sizey\":1,\"source\":\"https://img.icons8.com/material/24/000000/standing-man.png\",\"x\":2,\"xref\":\"x\",\"y\":3.5,\"yref\":\"y\"},{\"sizex\":1,\"sizey\":1,\"source\":\"https://img.icons8.com/material/24/000000/standing-man.png\",\"x\":3,\"xref\":\"x\",\"y\":3.5,\"yref\":\"y\"},{\"sizex\":1,\"sizey\":1,\"source\":\"https://img.icons8.com/material/24/000000/standing-man.png\",\"x\":4,\"xref\":\"x\",\"y\":3.5,\"yref\":\"y\"},{\"sizex\":1,\"sizey\":1,\"source\":\"https://img.icons8.com/material/24/000000/standing-man.png\",\"x\":5,\"xref\":\"x\",\"y\":3.5,\"yref\":\"y\"},{\"sizex\":1,\"sizey\":1,\"source\":\"https://img.icons8.com/material/24/000000/standing-man.png\",\"x\":6,\"xref\":\"x\",\"y\":3.5,\"yref\":\"y\"},{\"sizex\":1,\"sizey\":1,\"source\":\"https://img.icons8.com/material/24/000000/standing-man.png\",\"x\":0,\"xref\":\"x\",\"y\":4.5,\"yref\":\"y\"},{\"sizex\":1,\"sizey\":1,\"source\":\"https://img.icons8.com/material/24/000000/standing-man.png\",\"x\":1,\"xref\":\"x\",\"y\":4.5,\"yref\":\"y\"},{\"sizex\":1,\"sizey\":1,\"source\":\"https://img.icons8.com/material/24/000000/standing-man.png\",\"x\":2,\"xref\":\"x\",\"y\":4.5,\"yref\":\"y\"},{\"sizex\":1,\"sizey\":1,\"source\":\"https://img.icons8.com/material/24/000000/standing-man.png\",\"x\":3,\"xref\":\"x\",\"y\":4.5,\"yref\":\"y\"},{\"sizex\":1,\"sizey\":1,\"source\":\"https://img.icons8.com/material/24/000000/standing-man.png\",\"x\":4,\"xref\":\"x\",\"y\":4.5,\"yref\":\"y\"},{\"sizex\":1,\"sizey\":1,\"source\":\"https://img.icons8.com/material/24/000000/standing-man.png\",\"x\":5,\"xref\":\"x\",\"y\":4.5,\"yref\":\"y\"},{\"sizex\":1,\"sizey\":1,\"source\":\"https://img.icons8.com/material-outlined/24/000000/standing-man.png\",\"x\":6,\"xref\":\"x\",\"y\":4.5,\"yref\":\"y\"},{\"sizex\":1,\"sizey\":1,\"source\":\"https://img.icons8.com/material-outlined/24/000000/standing-man.png\",\"x\":0,\"xref\":\"x\",\"y\":5.5,\"yref\":\"y\"},{\"sizex\":1,\"sizey\":1,\"source\":\"https://img.icons8.com/material-outlined/24/000000/standing-man.png\",\"x\":1,\"xref\":\"x\",\"y\":5.5,\"yref\":\"y\"},{\"sizex\":1,\"sizey\":1,\"source\":\"https://img.icons8.com/material-outlined/24/000000/standing-man.png\",\"x\":2,\"xref\":\"x\",\"y\":5.5,\"yref\":\"y\"},{\"sizex\":1,\"sizey\":1,\"source\":\"https://img.icons8.com/material-outlined/24/000000/standing-man.png\",\"x\":3,\"xref\":\"x\",\"y\":5.5,\"yref\":\"y\"},{\"sizex\":1,\"sizey\":1,\"source\":\"https://img.icons8.com/material-outlined/24/000000/standing-man.png\",\"x\":4,\"xref\":\"x\",\"y\":5.5,\"yref\":\"y\"},{\"sizex\":1,\"sizey\":1,\"source\":\"https://img.icons8.com/material-outlined/24/000000/standing-man.png\",\"x\":5,\"xref\":\"x\",\"y\":5.5,\"yref\":\"y\"},{\"sizex\":1,\"sizey\":1,\"source\":\"https://img.icons8.com/material-outlined/24/000000/standing-man.png\",\"x\":6,\"xref\":\"x\",\"y\":5.5,\"yref\":\"y\"},{\"sizex\":1,\"sizey\":1,\"source\":\"https://img.icons8.com/material-outlined/24/000000/standing-man.png\",\"x\":0,\"xref\":\"x\",\"y\":6.5,\"yref\":\"y\"},{\"sizex\":1,\"sizey\":1,\"source\":\"https://img.icons8.com/material-outlined/24/000000/standing-man.png\",\"x\":1,\"xref\":\"x\",\"y\":6.5,\"yref\":\"y\"},{\"sizex\":1,\"sizey\":1,\"source\":\"https://img.icons8.com/material-outlined/24/000000/standing-man.png\",\"x\":2,\"xref\":\"x\",\"y\":6.5,\"yref\":\"y\"},{\"sizex\":1,\"sizey\":1,\"source\":\"https://img.icons8.com/material-outlined/24/000000/standing-man.png\",\"x\":3,\"xref\":\"x\",\"y\":6.5,\"yref\":\"y\"},{\"sizex\":1,\"sizey\":1,\"source\":\"https://img.icons8.com/material-outlined/24/000000/standing-man.png\",\"x\":4,\"xref\":\"x\",\"y\":6.5,\"yref\":\"y\"},{\"sizex\":1,\"sizey\":1,\"source\":\"https://img.icons8.com/material-outlined/24/000000/standing-man.png\",\"x\":5,\"xref\":\"x\",\"y\":6.5,\"yref\":\"y\"},{\"sizex\":1,\"sizey\":1,\"source\":\"https://img.icons8.com/material-outlined/24/000000/standing-man.png\",\"x\":6,\"xref\":\"x\",\"y\":6.5,\"yref\":\"y\"},{\"sizex\":1,\"sizey\":1,\"source\":\"https://img.icons8.com/material-outlined/24/000000/standing-man.png\",\"x\":0,\"xref\":\"x\",\"y\":7.5,\"yref\":\"y\"},{\"sizex\":1,\"sizey\":1,\"source\":\"https://img.icons8.com/material-outlined/24/000000/standing-man.png\",\"x\":1,\"xref\":\"x\",\"y\":7.5,\"yref\":\"y\"},{\"sizex\":1,\"sizey\":1,\"source\":\"https://img.icons8.com/material-outlined/24/000000/standing-man.png\",\"x\":2,\"xref\":\"x\",\"y\":7.5,\"yref\":\"y\"},{\"sizex\":1,\"sizey\":1,\"source\":\"https://img.icons8.com/material-outlined/24/000000/standing-man.png\",\"x\":3,\"xref\":\"x\",\"y\":7.5,\"yref\":\"y\"},{\"sizex\":1,\"sizey\":1,\"source\":\"https://img.icons8.com/material-outlined/24/000000/standing-man.png\",\"x\":4,\"xref\":\"x\",\"y\":7.5,\"yref\":\"y\"},{\"sizex\":1,\"sizey\":1,\"source\":\"https://img.icons8.com/material-outlined/24/000000/standing-man.png\",\"x\":5,\"xref\":\"x\",\"y\":7.5,\"yref\":\"y\"},{\"sizex\":1,\"sizey\":1,\"source\":\"https://img.icons8.com/material-outlined/24/000000/standing-man.png\",\"x\":6,\"xref\":\"x\",\"y\":7.5,\"yref\":\"y\"},{\"sizex\":1,\"sizey\":1,\"source\":\"https://img.icons8.com/material-outlined/24/000000/standing-man.png\",\"x\":0,\"xref\":\"x\",\"y\":8.5,\"yref\":\"y\"},{\"sizex\":1,\"sizey\":1,\"source\":\"https://img.icons8.com/material-outlined/24/000000/standing-man.png\",\"x\":1,\"xref\":\"x\",\"y\":8.5,\"yref\":\"y\"},{\"sizex\":1,\"sizey\":1,\"source\":\"https://img.icons8.com/material-outlined/24/000000/standing-man.png\",\"x\":2,\"xref\":\"x\",\"y\":8.5,\"yref\":\"y\"},{\"sizex\":1,\"sizey\":1,\"source\":\"https://img.icons8.com/material-outlined/24/000000/standing-man.png\",\"x\":3,\"xref\":\"x\",\"y\":8.5,\"yref\":\"y\"},{\"sizex\":1,\"sizey\":1,\"source\":\"https://img.icons8.com/material-outlined/24/000000/standing-man.png\",\"x\":4,\"xref\":\"x\",\"y\":8.5,\"yref\":\"y\"},{\"sizex\":1,\"sizey\":1,\"source\":\"https://img.icons8.com/material-outlined/24/000000/standing-man.png\",\"x\":5,\"xref\":\"x\",\"y\":8.5,\"yref\":\"y\"},{\"sizex\":1,\"sizey\":1,\"source\":\"https://img.icons8.com/material-outlined/24/000000/standing-man.png\",\"x\":6,\"xref\":\"x\",\"y\":8.5,\"yref\":\"y\"},{\"sizex\":1,\"sizey\":1,\"source\":\"https://img.icons8.com/material-outlined/24/000000/standing-man.png\",\"x\":0,\"xref\":\"x\",\"y\":9.5,\"yref\":\"y\"},{\"sizex\":1,\"sizey\":1,\"source\":\"https://img.icons8.com/material-outlined/24/000000/standing-man.png\",\"x\":1,\"xref\":\"x\",\"y\":9.5,\"yref\":\"y\"},{\"sizex\":1,\"sizey\":1,\"source\":\"https://img.icons8.com/material-outlined/24/000000/standing-man.png\",\"x\":2,\"xref\":\"x\",\"y\":9.5,\"yref\":\"y\"},{\"sizex\":1,\"sizey\":1,\"source\":\"https://img.icons8.com/material-outlined/24/000000/standing-man.png\",\"x\":3,\"xref\":\"x\",\"y\":9.5,\"yref\":\"y\"},{\"sizex\":1,\"sizey\":1,\"source\":\"https://img.icons8.com/material-outlined/24/000000/standing-man.png\",\"x\":4,\"xref\":\"x\",\"y\":9.5,\"yref\":\"y\"},{\"sizex\":1,\"sizey\":1,\"source\":\"https://img.icons8.com/material-outlined/24/000000/standing-man.png\",\"x\":5,\"xref\":\"x\",\"y\":9.5,\"yref\":\"y\"},{\"sizex\":1,\"sizey\":1,\"source\":\"https://img.icons8.com/material-outlined/24/000000/standing-man.png\",\"x\":6,\"xref\":\"x\",\"y\":9.5,\"yref\":\"y\"},{\"sizex\":1,\"sizey\":1,\"source\":\"https://img.icons8.com/material-outlined/24/000000/standing-man.png\",\"x\":0,\"xref\":\"x\",\"y\":10.5,\"yref\":\"y\"},{\"sizex\":1,\"sizey\":1,\"source\":\"https://img.icons8.com/material-outlined/24/000000/standing-man.png\",\"x\":1,\"xref\":\"x\",\"y\":10.5,\"yref\":\"y\"},{\"sizex\":1,\"sizey\":1,\"source\":\"https://img.icons8.com/material-outlined/24/000000/standing-man.png\",\"x\":2,\"xref\":\"x\",\"y\":10.5,\"yref\":\"y\"},{\"sizex\":1,\"sizey\":1,\"source\":\"https://img.icons8.com/material/24/000000/standing-man.png\",\"x\":8,\"xref\":\"x\",\"y\":2.5,\"yref\":\"y\"},{\"sizex\":1,\"sizey\":1,\"source\":\"https://img.icons8.com/material/24/000000/standing-man.png\",\"x\":9,\"xref\":\"x\",\"y\":2.5,\"yref\":\"y\"},{\"sizex\":1,\"sizey\":1,\"source\":\"https://img.icons8.com/material/24/000000/standing-man.png\",\"x\":10,\"xref\":\"x\",\"y\":2.5,\"yref\":\"y\"},{\"sizex\":1,\"sizey\":1,\"source\":\"https://img.icons8.com/material/24/000000/standing-man.png\",\"x\":11,\"xref\":\"x\",\"y\":2.5,\"yref\":\"y\"},{\"sizex\":1,\"sizey\":1,\"source\":\"https://img.icons8.com/material/24/000000/standing-man.png\",\"x\":12,\"xref\":\"x\",\"y\":2.5,\"yref\":\"y\"},{\"sizex\":1,\"sizey\":1,\"source\":\"https://img.icons8.com/material/24/000000/standing-man.png\",\"x\":13,\"xref\":\"x\",\"y\":2.5,\"yref\":\"y\"},{\"sizex\":1,\"sizey\":1,\"source\":\"https://img.icons8.com/material/24/000000/standing-man.png\",\"x\":14,\"xref\":\"x\",\"y\":2.5,\"yref\":\"y\"},{\"sizex\":1,\"sizey\":1,\"source\":\"https://img.icons8.com/material/24/000000/standing-man.png\",\"x\":8,\"xref\":\"x\",\"y\":3.5,\"yref\":\"y\"},{\"sizex\":1,\"sizey\":1,\"source\":\"https://img.icons8.com/material-outlined/24/000000/standing-man.png\",\"x\":9,\"xref\":\"x\",\"y\":3.5,\"yref\":\"y\"},{\"sizex\":1,\"sizey\":1,\"source\":\"https://img.icons8.com/material-outlined/24/000000/standing-man.png\",\"x\":10,\"xref\":\"x\",\"y\":3.5,\"yref\":\"y\"},{\"sizex\":1,\"sizey\":1,\"source\":\"https://img.icons8.com/material-outlined/24/000000/standing-man.png\",\"x\":11,\"xref\":\"x\",\"y\":3.5,\"yref\":\"y\"},{\"sizex\":1,\"sizey\":1,\"source\":\"https://img.icons8.com/material-outlined/24/000000/standing-man.png\",\"x\":12,\"xref\":\"x\",\"y\":3.5,\"yref\":\"y\"},{\"sizex\":1,\"sizey\":1,\"source\":\"https://img.icons8.com/material-outlined/24/000000/standing-man.png\",\"x\":13,\"xref\":\"x\",\"y\":3.5,\"yref\":\"y\"},{\"sizex\":1,\"sizey\":1,\"source\":\"https://img.icons8.com/material-outlined/24/000000/standing-man.png\",\"x\":14,\"xref\":\"x\",\"y\":3.5,\"yref\":\"y\"},{\"sizex\":1,\"sizey\":1,\"source\":\"https://img.icons8.com/material-outlined/24/000000/standing-man.png\",\"x\":8,\"xref\":\"x\",\"y\":4.5,\"yref\":\"y\"},{\"sizex\":1,\"sizey\":1,\"source\":\"https://img.icons8.com/material-outlined/24/000000/standing-man.png\",\"x\":9,\"xref\":\"x\",\"y\":4.5,\"yref\":\"y\"},{\"sizex\":1,\"sizey\":1,\"source\":\"https://img.icons8.com/material-outlined/24/000000/standing-man.png\",\"x\":10,\"xref\":\"x\",\"y\":4.5,\"yref\":\"y\"},{\"sizex\":1,\"sizey\":1,\"source\":\"https://img.icons8.com/material-outlined/24/000000/standing-man.png\",\"x\":11,\"xref\":\"x\",\"y\":4.5,\"yref\":\"y\"},{\"sizex\":1,\"sizey\":1,\"source\":\"https://img.icons8.com/material-outlined/24/000000/standing-man.png\",\"x\":12,\"xref\":\"x\",\"y\":4.5,\"yref\":\"y\"},{\"sizex\":1,\"sizey\":1,\"source\":\"https://img.icons8.com/material-outlined/24/000000/standing-man.png\",\"x\":13,\"xref\":\"x\",\"y\":4.5,\"yref\":\"y\"},{\"sizex\":1,\"sizey\":1,\"source\":\"https://img.icons8.com/material-outlined/24/000000/standing-man.png\",\"x\":14,\"xref\":\"x\",\"y\":4.5,\"yref\":\"y\"},{\"sizex\":1,\"sizey\":1,\"source\":\"https://img.icons8.com/material-outlined/24/000000/standing-man.png\",\"x\":8,\"xref\":\"x\",\"y\":5.5,\"yref\":\"y\"},{\"sizex\":1,\"sizey\":1,\"source\":\"https://img.icons8.com/material-outlined/24/000000/standing-man.png\",\"x\":9,\"xref\":\"x\",\"y\":5.5,\"yref\":\"y\"},{\"sizex\":1,\"sizey\":1,\"source\":\"https://img.icons8.com/material-outlined/24/000000/standing-man.png\",\"x\":10,\"xref\":\"x\",\"y\":5.5,\"yref\":\"y\"},{\"sizex\":1,\"sizey\":1,\"source\":\"https://img.icons8.com/material-outlined/24/000000/standing-man.png\",\"x\":11,\"xref\":\"x\",\"y\":5.5,\"yref\":\"y\"},{\"sizex\":1,\"sizey\":1,\"source\":\"https://img.icons8.com/material-outlined/24/000000/standing-man.png\",\"x\":12,\"xref\":\"x\",\"y\":5.5,\"yref\":\"y\"},{\"sizex\":1,\"sizey\":1,\"source\":\"https://img.icons8.com/material-outlined/24/000000/standing-man.png\",\"x\":13,\"xref\":\"x\",\"y\":5.5,\"yref\":\"y\"},{\"sizex\":1,\"sizey\":1,\"source\":\"https://img.icons8.com/material-outlined/24/000000/standing-man.png\",\"x\":14,\"xref\":\"x\",\"y\":5.5,\"yref\":\"y\"},{\"sizex\":1,\"sizey\":1,\"source\":\"https://img.icons8.com/material-outlined/24/000000/standing-man.png\",\"x\":8,\"xref\":\"x\",\"y\":6.5,\"yref\":\"y\"},{\"sizex\":1,\"sizey\":1,\"source\":\"https://img.icons8.com/material-outlined/24/000000/standing-man.png\",\"x\":9,\"xref\":\"x\",\"y\":6.5,\"yref\":\"y\"},{\"sizex\":1,\"sizey\":1,\"source\":\"https://img.icons8.com/material-outlined/24/000000/standing-man.png\",\"x\":10,\"xref\":\"x\",\"y\":6.5,\"yref\":\"y\"},{\"sizex\":1,\"sizey\":1,\"source\":\"https://img.icons8.com/material-outlined/24/000000/standing-man.png\",\"x\":11,\"xref\":\"x\",\"y\":6.5,\"yref\":\"y\"},{\"sizex\":1,\"sizey\":1,\"source\":\"https://img.icons8.com/material-outlined/24/000000/standing-man.png\",\"x\":12,\"xref\":\"x\",\"y\":6.5,\"yref\":\"y\"},{\"sizex\":1,\"sizey\":1,\"source\":\"https://img.icons8.com/material-outlined/24/000000/standing-man.png\",\"x\":13,\"xref\":\"x\",\"y\":6.5,\"yref\":\"y\"},{\"sizex\":1,\"sizey\":1,\"source\":\"https://img.icons8.com/material-outlined/24/000000/standing-man.png\",\"x\":14,\"xref\":\"x\",\"y\":6.5,\"yref\":\"y\"},{\"sizex\":1,\"sizey\":1,\"source\":\"https://img.icons8.com/material-outlined/24/000000/standing-man.png\",\"x\":8,\"xref\":\"x\",\"y\":7.5,\"yref\":\"y\"},{\"sizex\":1,\"sizey\":1,\"source\":\"https://img.icons8.com/material-outlined/24/000000/standing-man.png\",\"x\":9,\"xref\":\"x\",\"y\":7.5,\"yref\":\"y\"},{\"sizex\":1,\"sizey\":1,\"source\":\"https://img.icons8.com/material-outlined/24/000000/standing-man.png\",\"x\":10,\"xref\":\"x\",\"y\":7.5,\"yref\":\"y\"},{\"sizex\":1,\"sizey\":1,\"source\":\"https://img.icons8.com/material-outlined/24/000000/standing-man.png\",\"x\":11,\"xref\":\"x\",\"y\":7.5,\"yref\":\"y\"},{\"sizex\":1,\"sizey\":1,\"source\":\"https://img.icons8.com/material-outlined/24/000000/standing-man.png\",\"x\":12,\"xref\":\"x\",\"y\":7.5,\"yref\":\"y\"},{\"sizex\":1,\"sizey\":1,\"source\":\"https://img.icons8.com/material-outlined/24/000000/standing-man.png\",\"x\":13,\"xref\":\"x\",\"y\":7.5,\"yref\":\"y\"},{\"sizex\":1,\"sizey\":1,\"source\":\"https://img.icons8.com/material-outlined/24/000000/standing-man.png\",\"x\":14,\"xref\":\"x\",\"y\":7.5,\"yref\":\"y\"},{\"sizex\":1,\"sizey\":1,\"source\":\"https://img.icons8.com/material-outlined/24/000000/standing-man.png\",\"x\":8,\"xref\":\"x\",\"y\":8.5,\"yref\":\"y\"},{\"sizex\":1,\"sizey\":1,\"source\":\"https://img.icons8.com/material-outlined/24/000000/standing-man.png\",\"x\":9,\"xref\":\"x\",\"y\":8.5,\"yref\":\"y\"},{\"sizex\":1,\"sizey\":1,\"source\":\"https://img.icons8.com/material-outlined/24/000000/standing-man.png\",\"x\":10,\"xref\":\"x\",\"y\":8.5,\"yref\":\"y\"},{\"sizex\":1,\"sizey\":1,\"source\":\"https://img.icons8.com/material-outlined/24/000000/standing-man.png\",\"x\":11,\"xref\":\"x\",\"y\":8.5,\"yref\":\"y\"},{\"sizex\":1,\"sizey\":1,\"source\":\"https://img.icons8.com/material-outlined/24/000000/standing-man.png\",\"x\":12,\"xref\":\"x\",\"y\":8.5,\"yref\":\"y\"},{\"sizex\":1,\"sizey\":1,\"source\":\"https://img.icons8.com/material-outlined/24/000000/standing-man.png\",\"x\":13,\"xref\":\"x\",\"y\":8.5,\"yref\":\"y\"},{\"sizex\":1,\"sizey\":1,\"source\":\"https://img.icons8.com/material-outlined/24/000000/standing-man.png\",\"x\":14,\"xref\":\"x\",\"y\":8.5,\"yref\":\"y\"},{\"sizex\":1,\"sizey\":1,\"source\":\"https://img.icons8.com/material-outlined/24/000000/standing-man.png\",\"x\":8,\"xref\":\"x\",\"y\":9.5,\"yref\":\"y\"},{\"sizex\":1,\"sizey\":1,\"source\":\"https://img.icons8.com/material-outlined/24/000000/standing-man.png\",\"x\":9,\"xref\":\"x\",\"y\":9.5,\"yref\":\"y\"},{\"sizex\":1,\"sizey\":1,\"source\":\"https://img.icons8.com/material-outlined/24/000000/standing-man.png\",\"x\":10,\"xref\":\"x\",\"y\":9.5,\"yref\":\"y\"},{\"sizex\":1,\"sizey\":1,\"source\":\"https://img.icons8.com/material-outlined/24/000000/standing-man.png\",\"x\":11,\"xref\":\"x\",\"y\":9.5,\"yref\":\"y\"},{\"sizex\":1,\"sizey\":1,\"source\":\"https://img.icons8.com/material-outlined/24/000000/standing-man.png\",\"x\":12,\"xref\":\"x\",\"y\":9.5,\"yref\":\"y\"},{\"sizex\":1,\"sizey\":1,\"source\":\"https://img.icons8.com/material-outlined/24/000000/standing-man.png\",\"x\":13,\"xref\":\"x\",\"y\":9.5,\"yref\":\"y\"},{\"sizex\":1,\"sizey\":1,\"source\":\"https://img.icons8.com/material-outlined/24/000000/standing-man.png\",\"x\":14,\"xref\":\"x\",\"y\":9.5,\"yref\":\"y\"},{\"sizex\":1,\"sizey\":1,\"source\":\"https://img.icons8.com/material/24/000000/standing-man.png\",\"x\":16,\"xref\":\"x\",\"y\":2.5,\"yref\":\"y\"},{\"sizex\":1,\"sizey\":1,\"source\":\"https://img.icons8.com/material/24/000000/standing-man.png\",\"x\":17,\"xref\":\"x\",\"y\":2.5,\"yref\":\"y\"},{\"sizex\":1,\"sizey\":1,\"source\":\"https://img.icons8.com/material/24/000000/standing-man.png\",\"x\":18,\"xref\":\"x\",\"y\":2.5,\"yref\":\"y\"},{\"sizex\":1,\"sizey\":1,\"source\":\"https://img.icons8.com/material/24/000000/standing-man.png\",\"x\":19,\"xref\":\"x\",\"y\":2.5,\"yref\":\"y\"},{\"sizex\":1,\"sizey\":1,\"source\":\"https://img.icons8.com/material/24/000000/standing-man.png\",\"x\":20,\"xref\":\"x\",\"y\":2.5,\"yref\":\"y\"},{\"sizex\":1,\"sizey\":1,\"source\":\"https://img.icons8.com/material/24/000000/standing-man.png\",\"x\":21,\"xref\":\"x\",\"y\":2.5,\"yref\":\"y\"},{\"sizex\":1,\"sizey\":1,\"source\":\"https://img.icons8.com/material/24/000000/standing-man.png\",\"x\":22,\"xref\":\"x\",\"y\":2.5,\"yref\":\"y\"},{\"sizex\":1,\"sizey\":1,\"source\":\"https://img.icons8.com/material/24/000000/standing-man.png\",\"x\":16,\"xref\":\"x\",\"y\":3.5,\"yref\":\"y\"},{\"sizex\":1,\"sizey\":1,\"source\":\"https://img.icons8.com/material/24/000000/standing-man.png\",\"x\":17,\"xref\":\"x\",\"y\":3.5,\"yref\":\"y\"},{\"sizex\":1,\"sizey\":1,\"source\":\"https://img.icons8.com/material/24/000000/standing-man.png\",\"x\":18,\"xref\":\"x\",\"y\":3.5,\"yref\":\"y\"},{\"sizex\":1,\"sizey\":1,\"source\":\"https://img.icons8.com/material/24/000000/standing-man.png\",\"x\":19,\"xref\":\"x\",\"y\":3.5,\"yref\":\"y\"},{\"sizex\":1,\"sizey\":1,\"source\":\"https://img.icons8.com/material/24/000000/standing-man.png\",\"x\":20,\"xref\":\"x\",\"y\":3.5,\"yref\":\"y\"},{\"sizex\":1,\"sizey\":1,\"source\":\"https://img.icons8.com/material/24/000000/standing-man.png\",\"x\":21,\"xref\":\"x\",\"y\":3.5,\"yref\":\"y\"},{\"sizex\":1,\"sizey\":1,\"source\":\"https://img.icons8.com/material/24/000000/standing-man.png\",\"x\":22,\"xref\":\"x\",\"y\":3.5,\"yref\":\"y\"},{\"sizex\":1,\"sizey\":1,\"source\":\"https://img.icons8.com/material/24/000000/standing-man.png\",\"x\":16,\"xref\":\"x\",\"y\":4.5,\"yref\":\"y\"},{\"sizex\":1,\"sizey\":1,\"source\":\"https://img.icons8.com/material/24/000000/standing-man.png\",\"x\":17,\"xref\":\"x\",\"y\":4.5,\"yref\":\"y\"},{\"sizex\":1,\"sizey\":1,\"source\":\"https://img.icons8.com/material/24/000000/standing-man.png\",\"x\":18,\"xref\":\"x\",\"y\":4.5,\"yref\":\"y\"},{\"sizex\":1,\"sizey\":1,\"source\":\"https://img.icons8.com/material/24/000000/standing-man.png\",\"x\":19,\"xref\":\"x\",\"y\":4.5,\"yref\":\"y\"},{\"sizex\":1,\"sizey\":1,\"source\":\"https://img.icons8.com/material/24/000000/standing-man.png\",\"x\":20,\"xref\":\"x\",\"y\":4.5,\"yref\":\"y\"},{\"sizex\":1,\"sizey\":1,\"source\":\"https://img.icons8.com/material/24/000000/standing-man.png\",\"x\":21,\"xref\":\"x\",\"y\":4.5,\"yref\":\"y\"},{\"sizex\":1,\"sizey\":1,\"source\":\"https://img.icons8.com/material/24/000000/standing-man.png\",\"x\":22,\"xref\":\"x\",\"y\":4.5,\"yref\":\"y\"},{\"sizex\":1,\"sizey\":1,\"source\":\"https://img.icons8.com/material/24/000000/standing-man.png\",\"x\":16,\"xref\":\"x\",\"y\":5.5,\"yref\":\"y\"},{\"sizex\":1,\"sizey\":1,\"source\":\"https://img.icons8.com/material/24/000000/standing-man.png\",\"x\":17,\"xref\":\"x\",\"y\":5.5,\"yref\":\"y\"},{\"sizex\":1,\"sizey\":1,\"source\":\"https://img.icons8.com/material/24/000000/standing-man.png\",\"x\":18,\"xref\":\"x\",\"y\":5.5,\"yref\":\"y\"},{\"sizex\":1,\"sizey\":1,\"source\":\"https://img.icons8.com/material/24/000000/standing-man.png\",\"x\":19,\"xref\":\"x\",\"y\":5.5,\"yref\":\"y\"},{\"sizex\":1,\"sizey\":1,\"source\":\"https://img.icons8.com/material-outlined/24/000000/standing-man.png\",\"x\":20,\"xref\":\"x\",\"y\":5.5,\"yref\":\"y\"},{\"sizex\":1,\"sizey\":1,\"source\":\"https://img.icons8.com/material-outlined/24/000000/standing-man.png\",\"x\":21,\"xref\":\"x\",\"y\":5.5,\"yref\":\"y\"},{\"sizex\":1,\"sizey\":1,\"source\":\"https://img.icons8.com/material-outlined/24/000000/standing-man.png\",\"x\":22,\"xref\":\"x\",\"y\":5.5,\"yref\":\"y\"},{\"sizex\":1,\"sizey\":1,\"source\":\"https://img.icons8.com/material-outlined/24/000000/standing-man.png\",\"x\":16,\"xref\":\"x\",\"y\":6.5,\"yref\":\"y\"},{\"sizex\":1,\"sizey\":1,\"source\":\"https://img.icons8.com/material-outlined/24/000000/standing-man.png\",\"x\":17,\"xref\":\"x\",\"y\":6.5,\"yref\":\"y\"},{\"sizex\":1,\"sizey\":1,\"source\":\"https://img.icons8.com/material-outlined/24/000000/standing-man.png\",\"x\":18,\"xref\":\"x\",\"y\":6.5,\"yref\":\"y\"},{\"sizex\":1,\"sizey\":1,\"source\":\"https://img.icons8.com/material-outlined/24/000000/standing-man.png\",\"x\":19,\"xref\":\"x\",\"y\":6.5,\"yref\":\"y\"},{\"sizex\":1,\"sizey\":1,\"source\":\"https://img.icons8.com/material-outlined/24/000000/standing-man.png\",\"x\":20,\"xref\":\"x\",\"y\":6.5,\"yref\":\"y\"},{\"sizex\":1,\"sizey\":1,\"source\":\"https://img.icons8.com/material-outlined/24/000000/standing-man.png\",\"x\":21,\"xref\":\"x\",\"y\":6.5,\"yref\":\"y\"},{\"sizex\":1,\"sizey\":1,\"source\":\"https://img.icons8.com/material-outlined/24/000000/standing-man.png\",\"x\":22,\"xref\":\"x\",\"y\":6.5,\"yref\":\"y\"},{\"sizex\":1,\"sizey\":1,\"source\":\"https://img.icons8.com/material-outlined/24/000000/standing-man.png\",\"x\":16,\"xref\":\"x\",\"y\":7.5,\"yref\":\"y\"},{\"sizex\":1,\"sizey\":1,\"source\":\"https://img.icons8.com/material-outlined/24/000000/standing-man.png\",\"x\":17,\"xref\":\"x\",\"y\":7.5,\"yref\":\"y\"},{\"sizex\":1,\"sizey\":1,\"source\":\"https://img.icons8.com/material-outlined/24/000000/standing-man.png\",\"x\":18,\"xref\":\"x\",\"y\":7.5,\"yref\":\"y\"},{\"sizex\":1,\"sizey\":1,\"source\":\"https://img.icons8.com/material-outlined/24/000000/standing-man.png\",\"x\":19,\"xref\":\"x\",\"y\":7.5,\"yref\":\"y\"},{\"sizex\":1,\"sizey\":1,\"source\":\"https://img.icons8.com/material-outlined/24/000000/standing-man.png\",\"x\":20,\"xref\":\"x\",\"y\":7.5,\"yref\":\"y\"},{\"sizex\":1,\"sizey\":1,\"source\":\"https://img.icons8.com/material-outlined/24/000000/standing-man.png\",\"x\":21,\"xref\":\"x\",\"y\":7.5,\"yref\":\"y\"},{\"sizex\":1,\"sizey\":1,\"source\":\"https://img.icons8.com/material-outlined/24/000000/standing-man.png\",\"x\":22,\"xref\":\"x\",\"y\":7.5,\"yref\":\"y\"},{\"sizex\":1,\"sizey\":1,\"source\":\"https://img.icons8.com/material-outlined/24/000000/standing-man.png\",\"x\":16,\"xref\":\"x\",\"y\":8.5,\"yref\":\"y\"},{\"sizex\":1,\"sizey\":1,\"source\":\"https://img.icons8.com/material-outlined/24/000000/standing-man.png\",\"x\":17,\"xref\":\"x\",\"y\":8.5,\"yref\":\"y\"},{\"sizex\":1,\"sizey\":1,\"source\":\"https://img.icons8.com/material-outlined/24/000000/standing-man.png\",\"x\":18,\"xref\":\"x\",\"y\":8.5,\"yref\":\"y\"},{\"sizex\":1,\"sizey\":1,\"source\":\"https://img.icons8.com/material-outlined/24/000000/standing-man.png\",\"x\":19,\"xref\":\"x\",\"y\":8.5,\"yref\":\"y\"},{\"sizex\":1,\"sizey\":1,\"source\":\"https://img.icons8.com/material-outlined/24/000000/standing-man.png\",\"x\":20,\"xref\":\"x\",\"y\":8.5,\"yref\":\"y\"},{\"sizex\":1,\"sizey\":1,\"source\":\"https://img.icons8.com/material-outlined/24/000000/standing-man.png\",\"x\":21,\"xref\":\"x\",\"y\":8.5,\"yref\":\"y\"},{\"sizex\":1,\"sizey\":1,\"source\":\"https://img.icons8.com/material-outlined/24/000000/standing-man.png\",\"x\":22,\"xref\":\"x\",\"y\":8.5,\"yref\":\"y\"},{\"sizex\":1,\"sizey\":1,\"source\":\"https://img.icons8.com/material-outlined/24/000000/standing-man.png\",\"x\":16,\"xref\":\"x\",\"y\":9.5,\"yref\":\"y\"},{\"sizex\":1,\"sizey\":1,\"source\":\"https://img.icons8.com/material-outlined/24/000000/standing-man.png\",\"x\":17,\"xref\":\"x\",\"y\":9.5,\"yref\":\"y\"},{\"sizex\":1,\"sizey\":1,\"source\":\"https://img.icons8.com/material-outlined/24/000000/standing-man.png\",\"x\":18,\"xref\":\"x\",\"y\":9.5,\"yref\":\"y\"},{\"sizex\":1,\"sizey\":1,\"source\":\"https://img.icons8.com/material-outlined/24/000000/standing-man.png\",\"x\":19,\"xref\":\"x\",\"y\":9.5,\"yref\":\"y\"},{\"sizex\":1,\"sizey\":1,\"source\":\"https://img.icons8.com/material-outlined/24/000000/standing-man.png\",\"x\":20,\"xref\":\"x\",\"y\":9.5,\"yref\":\"y\"},{\"sizex\":1,\"sizey\":1,\"source\":\"https://img.icons8.com/material-outlined/24/000000/standing-man.png\",\"x\":21,\"xref\":\"x\",\"y\":9.5,\"yref\":\"y\"},{\"sizex\":1,\"sizey\":1,\"source\":\"https://img.icons8.com/material-outlined/24/000000/standing-man.png\",\"x\":22,\"xref\":\"x\",\"y\":9.5,\"yref\":\"y\"},{\"sizex\":1,\"sizey\":1,\"source\":\"https://img.icons8.com/material-outlined/24/000000/standing-man.png\",\"x\":16,\"xref\":\"x\",\"y\":10.5,\"yref\":\"y\"},{\"sizex\":1,\"sizey\":1,\"source\":\"https://img.icons8.com/material-outlined/24/000000/standing-man.png\",\"x\":17,\"xref\":\"x\",\"y\":10.5,\"yref\":\"y\"},{\"sizex\":1,\"sizey\":1,\"source\":\"https://img.icons8.com/material-outlined/24/000000/standing-man.png\",\"x\":18,\"xref\":\"x\",\"y\":10.5,\"yref\":\"y\"},{\"sizex\":1,\"sizey\":1,\"source\":\"https://img.icons8.com/material-outlined/24/000000/standing-man.png\",\"x\":19,\"xref\":\"x\",\"y\":10.5,\"yref\":\"y\"},{\"sizex\":1,\"sizey\":1,\"source\":\"https://img.icons8.com/material-outlined/24/000000/standing-man.png\",\"x\":20,\"xref\":\"x\",\"y\":10.5,\"yref\":\"y\"},{\"sizex\":1,\"sizey\":1,\"source\":\"https://img.icons8.com/material-outlined/24/000000/standing-man.png\",\"x\":21,\"xref\":\"x\",\"y\":10.5,\"yref\":\"y\"},{\"sizex\":1,\"sizey\":1,\"source\":\"https://img.icons8.com/material-outlined/24/000000/standing-man.png\",\"x\":22,\"xref\":\"x\",\"y\":10.5,\"yref\":\"y\"},{\"sizex\":1,\"sizey\":1,\"source\":\"https://img.icons8.com/material-outlined/24/000000/standing-man.png\",\"x\":16,\"xref\":\"x\",\"y\":11.5,\"yref\":\"y\"},{\"sizex\":1,\"sizey\":1,\"source\":\"https://img.icons8.com/material-outlined/24/000000/standing-man.png\",\"x\":17,\"xref\":\"x\",\"y\":11.5,\"yref\":\"y\"},{\"sizex\":1,\"sizey\":1,\"source\":\"https://img.icons8.com/material-outlined/24/000000/standing-man.png\",\"x\":18,\"xref\":\"x\",\"y\":11.5,\"yref\":\"y\"},{\"sizex\":1,\"sizey\":1,\"source\":\"https://img.icons8.com/material-outlined/24/000000/standing-man.png\",\"x\":19,\"xref\":\"x\",\"y\":11.5,\"yref\":\"y\"},{\"sizex\":1,\"sizey\":1,\"source\":\"https://img.icons8.com/material-outlined/24/000000/standing-man.png\",\"x\":20,\"xref\":\"x\",\"y\":11.5,\"yref\":\"y\"},{\"sizex\":1,\"sizey\":1,\"source\":\"https://img.icons8.com/material-outlined/24/000000/standing-man.png\",\"x\":21,\"xref\":\"x\",\"y\":11.5,\"yref\":\"y\"},{\"sizex\":1,\"sizey\":1,\"source\":\"https://img.icons8.com/material-outlined/24/000000/standing-man.png\",\"x\":22,\"xref\":\"x\",\"y\":11.5,\"yref\":\"y\"},{\"sizex\":1,\"sizey\":1,\"source\":\"https://img.icons8.com/material-outlined/24/000000/standing-man.png\",\"x\":16,\"xref\":\"x\",\"y\":12.5,\"yref\":\"y\"},{\"sizex\":1,\"sizey\":1,\"source\":\"https://img.icons8.com/material-outlined/24/000000/standing-man.png\",\"x\":17,\"xref\":\"x\",\"y\":12.5,\"yref\":\"y\"},{\"sizex\":1,\"sizey\":1,\"source\":\"https://img.icons8.com/material-outlined/24/000000/standing-man.png\",\"x\":18,\"xref\":\"x\",\"y\":12.5,\"yref\":\"y\"},{\"sizex\":1,\"sizey\":1,\"source\":\"https://img.icons8.com/material-outlined/24/000000/standing-man.png\",\"x\":19,\"xref\":\"x\",\"y\":12.5,\"yref\":\"y\"},{\"sizex\":1,\"sizey\":1,\"source\":\"https://img.icons8.com/material-outlined/24/000000/standing-man.png\",\"x\":20,\"xref\":\"x\",\"y\":12.5,\"yref\":\"y\"},{\"sizex\":1,\"sizey\":1,\"source\":\"https://img.icons8.com/material-outlined/24/000000/standing-man.png\",\"x\":21,\"xref\":\"x\",\"y\":12.5,\"yref\":\"y\"},{\"sizex\":1,\"sizey\":1,\"source\":\"https://img.icons8.com/material-outlined/24/000000/standing-man.png\",\"x\":22,\"xref\":\"x\",\"y\":12.5,\"yref\":\"y\"},{\"sizex\":1,\"sizey\":1,\"source\":\"https://img.icons8.com/material-outlined/24/000000/standing-man.png\",\"x\":16,\"xref\":\"x\",\"y\":13.5,\"yref\":\"y\"},{\"sizex\":1,\"sizey\":1,\"source\":\"https://img.icons8.com/material-outlined/24/000000/standing-man.png\",\"x\":17,\"xref\":\"x\",\"y\":13.5,\"yref\":\"y\"},{\"sizex\":1,\"sizey\":1,\"source\":\"https://img.icons8.com/material-outlined/24/000000/standing-man.png\",\"x\":18,\"xref\":\"x\",\"y\":13.5,\"yref\":\"y\"},{\"sizex\":1,\"sizey\":1,\"source\":\"https://img.icons8.com/material-outlined/24/000000/standing-man.png\",\"x\":19,\"xref\":\"x\",\"y\":13.5,\"yref\":\"y\"},{\"sizex\":1,\"sizey\":1,\"source\":\"https://img.icons8.com/material-outlined/24/000000/standing-man.png\",\"x\":20,\"xref\":\"x\",\"y\":13.5,\"yref\":\"y\"},{\"sizex\":1,\"sizey\":1,\"source\":\"https://img.icons8.com/material-outlined/24/000000/standing-man.png\",\"x\":21,\"xref\":\"x\",\"y\":13.5,\"yref\":\"y\"},{\"sizex\":1,\"sizey\":1,\"source\":\"https://img.icons8.com/material-outlined/24/000000/standing-man.png\",\"x\":22,\"xref\":\"x\",\"y\":13.5,\"yref\":\"y\"},{\"sizex\":1,\"sizey\":1,\"source\":\"https://img.icons8.com/material-outlined/24/000000/standing-man.png\",\"x\":16,\"xref\":\"x\",\"y\":14.5,\"yref\":\"y\"},{\"sizex\":1,\"sizey\":1,\"source\":\"https://img.icons8.com/material-outlined/24/000000/standing-man.png\",\"x\":17,\"xref\":\"x\",\"y\":14.5,\"yref\":\"y\"},{\"sizex\":1,\"sizey\":1,\"source\":\"https://img.icons8.com/material-outlined/24/000000/standing-man.png\",\"x\":18,\"xref\":\"x\",\"y\":14.5,\"yref\":\"y\"},{\"sizex\":1,\"sizey\":1,\"source\":\"https://img.icons8.com/material-outlined/24/000000/standing-man.png\",\"x\":19,\"xref\":\"x\",\"y\":14.5,\"yref\":\"y\"},{\"sizex\":1,\"sizey\":1,\"source\":\"https://img.icons8.com/material-outlined/24/000000/standing-man.png\",\"x\":20,\"xref\":\"x\",\"y\":14.5,\"yref\":\"y\"},{\"sizex\":1,\"sizey\":1,\"source\":\"https://img.icons8.com/material-outlined/24/000000/standing-man.png\",\"x\":21,\"xref\":\"x\",\"y\":14.5,\"yref\":\"y\"},{\"sizex\":1,\"sizey\":1,\"source\":\"https://img.icons8.com/material-outlined/24/000000/standing-man.png\",\"x\":22,\"xref\":\"x\",\"y\":14.5,\"yref\":\"y\"},{\"sizex\":1,\"sizey\":1,\"source\":\"https://img.icons8.com/material-outlined/24/000000/standing-man.png\",\"x\":16,\"xref\":\"x\",\"y\":15.5,\"yref\":\"y\"},{\"sizex\":1,\"sizey\":1,\"source\":\"https://img.icons8.com/material-outlined/24/000000/standing-man.png\",\"x\":17,\"xref\":\"x\",\"y\":15.5,\"yref\":\"y\"},{\"sizex\":1,\"sizey\":1,\"source\":\"https://img.icons8.com/material-outlined/24/000000/standing-man.png\",\"x\":18,\"xref\":\"x\",\"y\":15.5,\"yref\":\"y\"},{\"sizex\":1,\"sizey\":1,\"source\":\"https://img.icons8.com/material-outlined/24/000000/standing-man.png\",\"x\":19,\"xref\":\"x\",\"y\":15.5,\"yref\":\"y\"},{\"sizex\":1,\"sizey\":1,\"source\":\"https://img.icons8.com/material-outlined/24/000000/standing-man.png\",\"x\":20,\"xref\":\"x\",\"y\":15.5,\"yref\":\"y\"},{\"sizex\":1,\"sizey\":1,\"source\":\"https://img.icons8.com/material-outlined/24/000000/standing-man.png\",\"x\":21,\"xref\":\"x\",\"y\":15.5,\"yref\":\"y\"},{\"sizex\":1,\"sizey\":1,\"source\":\"https://img.icons8.com/material-outlined/24/000000/standing-man.png\",\"x\":22,\"xref\":\"x\",\"y\":15.5,\"yref\":\"y\"},{\"sizex\":1,\"sizey\":1,\"source\":\"https://img.icons8.com/material-outlined/24/000000/standing-man.png\",\"x\":16,\"xref\":\"x\",\"y\":16.5,\"yref\":\"y\"},{\"sizex\":1,\"sizey\":1,\"source\":\"https://img.icons8.com/material-outlined/24/000000/standing-man.png\",\"x\":17,\"xref\":\"x\",\"y\":16.5,\"yref\":\"y\"},{\"sizex\":1,\"sizey\":1,\"source\":\"https://img.icons8.com/material-outlined/24/000000/standing-man.png\",\"x\":18,\"xref\":\"x\",\"y\":16.5,\"yref\":\"y\"},{\"sizex\":1,\"sizey\":1,\"source\":\"https://img.icons8.com/material-outlined/24/000000/standing-man.png\",\"x\":19,\"xref\":\"x\",\"y\":16.5,\"yref\":\"y\"},{\"sizex\":1,\"sizey\":1,\"source\":\"https://img.icons8.com/material-outlined/24/000000/standing-man.png\",\"x\":20,\"xref\":\"x\",\"y\":16.5,\"yref\":\"y\"},{\"sizex\":1,\"sizey\":1,\"source\":\"https://img.icons8.com/material-outlined/24/000000/standing-man.png\",\"x\":21,\"xref\":\"x\",\"y\":16.5,\"yref\":\"y\"},{\"sizex\":1,\"sizey\":1,\"source\":\"https://img.icons8.com/material-outlined/24/000000/standing-man.png\",\"x\":22,\"xref\":\"x\",\"y\":16.5,\"yref\":\"y\"},{\"sizex\":1,\"sizey\":1,\"source\":\"https://img.icons8.com/material-outlined/24/000000/standing-man.png\",\"x\":16,\"xref\":\"x\",\"y\":17.5,\"yref\":\"y\"},{\"sizex\":1,\"sizey\":1,\"source\":\"https://img.icons8.com/material-outlined/24/000000/standing-man.png\",\"x\":17,\"xref\":\"x\",\"y\":17.5,\"yref\":\"y\"},{\"sizex\":1,\"sizey\":1,\"source\":\"https://img.icons8.com/material-outlined/24/000000/standing-man.png\",\"x\":18,\"xref\":\"x\",\"y\":17.5,\"yref\":\"y\"},{\"sizex\":1,\"sizey\":1,\"source\":\"https://img.icons8.com/material-outlined/24/000000/standing-man.png\",\"x\":19,\"xref\":\"x\",\"y\":17.5,\"yref\":\"y\"},{\"sizex\":1,\"sizey\":1,\"source\":\"https://img.icons8.com/material-outlined/24/000000/standing-man.png\",\"x\":20,\"xref\":\"x\",\"y\":17.5,\"yref\":\"y\"},{\"sizex\":1,\"sizey\":1,\"source\":\"https://img.icons8.com/material-outlined/24/000000/standing-man.png\",\"x\":21,\"xref\":\"x\",\"y\":17.5,\"yref\":\"y\"},{\"sizex\":1,\"sizey\":1,\"source\":\"https://img.icons8.com/material-outlined/24/000000/standing-man.png\",\"x\":22,\"xref\":\"x\",\"y\":17.5,\"yref\":\"y\"},{\"sizex\":1,\"sizey\":1,\"source\":\"https://img.icons8.com/material-outlined/24/000000/standing-man.png\",\"x\":16,\"xref\":\"x\",\"y\":18.5,\"yref\":\"y\"},{\"sizex\":1,\"sizey\":1,\"source\":\"https://img.icons8.com/material-outlined/24/000000/standing-man.png\",\"x\":17,\"xref\":\"x\",\"y\":18.5,\"yref\":\"y\"},{\"sizex\":1,\"sizey\":1,\"source\":\"https://img.icons8.com/material-outlined/24/000000/standing-man.png\",\"x\":18,\"xref\":\"x\",\"y\":18.5,\"yref\":\"y\"},{\"sizex\":1,\"sizey\":1,\"source\":\"https://img.icons8.com/material-outlined/24/000000/standing-man.png\",\"x\":19,\"xref\":\"x\",\"y\":18.5,\"yref\":\"y\"},{\"sizex\":1,\"sizey\":1,\"source\":\"https://img.icons8.com/material-outlined/24/000000/standing-man.png\",\"x\":20,\"xref\":\"x\",\"y\":18.5,\"yref\":\"y\"},{\"sizex\":1,\"sizey\":1,\"source\":\"https://img.icons8.com/material-outlined/24/000000/standing-man.png\",\"x\":21,\"xref\":\"x\",\"y\":18.5,\"yref\":\"y\"},{\"sizex\":1,\"sizey\":1,\"source\":\"https://img.icons8.com/material-outlined/24/000000/standing-man.png\",\"x\":22,\"xref\":\"x\",\"y\":18.5,\"yref\":\"y\"},{\"sizex\":1,\"sizey\":1,\"source\":\"https://img.icons8.com/material-outlined/24/000000/standing-man.png\",\"x\":16,\"xref\":\"x\",\"y\":19.5,\"yref\":\"y\"},{\"sizex\":1,\"sizey\":1,\"source\":\"https://img.icons8.com/material-outlined/24/000000/standing-man.png\",\"x\":17,\"xref\":\"x\",\"y\":19.5,\"yref\":\"y\"},{\"sizex\":1,\"sizey\":1,\"source\":\"https://img.icons8.com/material-outlined/24/000000/standing-man.png\",\"x\":18,\"xref\":\"x\",\"y\":19.5,\"yref\":\"y\"},{\"sizex\":1,\"sizey\":1,\"source\":\"https://img.icons8.com/material-outlined/24/000000/standing-man.png\",\"x\":19,\"xref\":\"x\",\"y\":19.5,\"yref\":\"y\"},{\"sizex\":1,\"sizey\":1,\"source\":\"https://img.icons8.com/material-outlined/24/000000/standing-man.png\",\"x\":20,\"xref\":\"x\",\"y\":19.5,\"yref\":\"y\"},{\"sizex\":1,\"sizey\":1,\"source\":\"https://img.icons8.com/material-outlined/24/000000/standing-man.png\",\"x\":21,\"xref\":\"x\",\"y\":19.5,\"yref\":\"y\"},{\"sizex\":1,\"sizey\":1,\"source\":\"https://img.icons8.com/material-outlined/24/000000/standing-man.png\",\"x\":22,\"xref\":\"x\",\"y\":19.5,\"yref\":\"y\"},{\"sizex\":1,\"sizey\":1,\"source\":\"https://img.icons8.com/material-outlined/24/000000/standing-man.png\",\"x\":16,\"xref\":\"x\",\"y\":20.5,\"yref\":\"y\"},{\"sizex\":1,\"sizey\":1,\"source\":\"https://img.icons8.com/material-outlined/24/000000/standing-man.png\",\"x\":17,\"xref\":\"x\",\"y\":20.5,\"yref\":\"y\"},{\"sizex\":1,\"sizey\":1,\"source\":\"https://img.icons8.com/material-outlined/24/000000/standing-man.png\",\"x\":18,\"xref\":\"x\",\"y\":20.5,\"yref\":\"y\"},{\"sizex\":1,\"sizey\":1,\"source\":\"https://img.icons8.com/material-outlined/24/000000/standing-man.png\",\"x\":19,\"xref\":\"x\",\"y\":20.5,\"yref\":\"y\"},{\"sizex\":1,\"sizey\":1,\"source\":\"https://img.icons8.com/material-outlined/24/000000/standing-man.png\",\"x\":20,\"xref\":\"x\",\"y\":20.5,\"yref\":\"y\"},{\"sizex\":1,\"sizey\":1,\"source\":\"https://img.icons8.com/material-outlined/24/000000/standing-man.png\",\"x\":21,\"xref\":\"x\",\"y\":20.5,\"yref\":\"y\"},{\"sizex\":1,\"sizey\":1,\"source\":\"https://img.icons8.com/material-outlined/24/000000/standing-man.png\",\"x\":22,\"xref\":\"x\",\"y\":20.5,\"yref\":\"y\"},{\"sizex\":1,\"sizey\":1,\"source\":\"https://img.icons8.com/material-outlined/24/000000/standing-man.png\",\"x\":16,\"xref\":\"x\",\"y\":21.5,\"yref\":\"y\"},{\"sizex\":1,\"sizey\":1,\"source\":\"https://img.icons8.com/material-outlined/24/000000/standing-man.png\",\"x\":17,\"xref\":\"x\",\"y\":21.5,\"yref\":\"y\"},{\"sizex\":1,\"sizey\":1,\"source\":\"https://img.icons8.com/material-outlined/24/000000/standing-man.png\",\"x\":18,\"xref\":\"x\",\"y\":21.5,\"yref\":\"y\"},{\"sizex\":1,\"sizey\":1,\"source\":\"https://img.icons8.com/material-outlined/24/000000/standing-man.png\",\"x\":19,\"xref\":\"x\",\"y\":21.5,\"yref\":\"y\"},{\"sizex\":1,\"sizey\":1,\"source\":\"https://img.icons8.com/material-outlined/24/000000/standing-man.png\",\"x\":20,\"xref\":\"x\",\"y\":21.5,\"yref\":\"y\"},{\"sizex\":1,\"sizey\":1,\"source\":\"https://img.icons8.com/material-outlined/24/000000/standing-man.png\",\"x\":21,\"xref\":\"x\",\"y\":21.5,\"yref\":\"y\"},{\"sizex\":1,\"sizey\":1,\"source\":\"https://img.icons8.com/material-outlined/24/000000/standing-man.png\",\"x\":22,\"xref\":\"x\",\"y\":21.5,\"yref\":\"y\"},{\"sizex\":1,\"sizey\":1,\"source\":\"https://img.icons8.com/material-outlined/24/000000/standing-man.png\",\"x\":16,\"xref\":\"x\",\"y\":22.5,\"yref\":\"y\"},{\"sizex\":1,\"sizey\":1,\"source\":\"https://img.icons8.com/material-outlined/24/000000/standing-man.png\",\"x\":17,\"xref\":\"x\",\"y\":22.5,\"yref\":\"y\"},{\"sizex\":1,\"sizey\":1,\"source\":\"https://img.icons8.com/material-outlined/24/000000/standing-man.png\",\"x\":18,\"xref\":\"x\",\"y\":22.5,\"yref\":\"y\"},{\"sizex\":1,\"sizey\":1,\"source\":\"https://img.icons8.com/material-outlined/24/000000/standing-man.png\",\"x\":19,\"xref\":\"x\",\"y\":22.5,\"yref\":\"y\"},{\"sizex\":1,\"sizey\":1,\"source\":\"https://img.icons8.com/material-outlined/24/000000/standing-man.png\",\"x\":20,\"xref\":\"x\",\"y\":22.5,\"yref\":\"y\"},{\"sizex\":1,\"sizey\":1,\"source\":\"https://img.icons8.com/material-outlined/24/000000/standing-man.png\",\"x\":21,\"xref\":\"x\",\"y\":22.5,\"yref\":\"y\"},{\"sizex\":1,\"sizey\":1,\"source\":\"https://img.icons8.com/material-outlined/24/000000/standing-man.png\",\"x\":22,\"xref\":\"x\",\"y\":22.5,\"yref\":\"y\"},{\"sizex\":1,\"sizey\":1,\"source\":\"https://img.icons8.com/material-outlined/24/000000/standing-man.png\",\"x\":16,\"xref\":\"x\",\"y\":23.5,\"yref\":\"y\"},{\"sizex\":1,\"sizey\":1,\"source\":\"https://img.icons8.com/material-outlined/24/000000/standing-man.png\",\"x\":17,\"xref\":\"x\",\"y\":23.5,\"yref\":\"y\"},{\"sizex\":1,\"sizey\":1,\"source\":\"https://img.icons8.com/material-outlined/24/000000/standing-man.png\",\"x\":18,\"xref\":\"x\",\"y\":23.5,\"yref\":\"y\"},{\"sizex\":1,\"sizey\":1,\"source\":\"https://img.icons8.com/material-outlined/24/000000/standing-man.png\",\"x\":19,\"xref\":\"x\",\"y\":23.5,\"yref\":\"y\"},{\"sizex\":1,\"sizey\":1,\"source\":\"https://img.icons8.com/material-outlined/24/000000/standing-man.png\",\"x\":20,\"xref\":\"x\",\"y\":23.5,\"yref\":\"y\"},{\"sizex\":1,\"sizey\":1,\"source\":\"https://img.icons8.com/material-outlined/24/000000/standing-man.png\",\"x\":21,\"xref\":\"x\",\"y\":23.5,\"yref\":\"y\"},{\"sizex\":1,\"sizey\":1,\"source\":\"https://img.icons8.com/material-outlined/24/000000/standing-man.png\",\"x\":22,\"xref\":\"x\",\"y\":23.5,\"yref\":\"y\"},{\"sizex\":1,\"sizey\":1,\"source\":\"https://img.icons8.com/material-outlined/24/000000/standing-man.png\",\"x\":16,\"xref\":\"x\",\"y\":24.5,\"yref\":\"y\"},{\"sizex\":1,\"sizey\":1,\"source\":\"https://img.icons8.com/material-outlined/24/000000/standing-man.png\",\"x\":17,\"xref\":\"x\",\"y\":24.5,\"yref\":\"y\"},{\"sizex\":1,\"sizey\":1,\"source\":\"https://img.icons8.com/material-outlined/24/000000/standing-man.png\",\"x\":18,\"xref\":\"x\",\"y\":24.5,\"yref\":\"y\"},{\"sizex\":1,\"sizey\":1,\"source\":\"https://img.icons8.com/material-outlined/24/000000/standing-man.png\",\"x\":19,\"xref\":\"x\",\"y\":24.5,\"yref\":\"y\"},{\"sizex\":1,\"sizey\":1,\"source\":\"https://img.icons8.com/material-outlined/24/000000/standing-man.png\",\"x\":20,\"xref\":\"x\",\"y\":24.5,\"yref\":\"y\"},{\"sizex\":1,\"sizey\":1,\"source\":\"https://img.icons8.com/material-outlined/24/000000/standing-man.png\",\"x\":21,\"xref\":\"x\",\"y\":24.5,\"yref\":\"y\"},{\"sizex\":1,\"sizey\":1,\"source\":\"https://img.icons8.com/material-outlined/24/000000/standing-man.png\",\"x\":22,\"xref\":\"x\",\"y\":24.5,\"yref\":\"y\"},{\"sizex\":1,\"sizey\":1,\"source\":\"https://img.icons8.com/material-outlined/24/000000/standing-man.png\",\"x\":16,\"xref\":\"x\",\"y\":25.5,\"yref\":\"y\"},{\"sizex\":1,\"sizey\":1,\"source\":\"https://img.icons8.com/material-outlined/24/000000/standing-man.png\",\"x\":17,\"xref\":\"x\",\"y\":25.5,\"yref\":\"y\"},{\"sizex\":1,\"sizey\":1,\"source\":\"https://img.icons8.com/material-outlined/24/000000/standing-man.png\",\"x\":18,\"xref\":\"x\",\"y\":25.5,\"yref\":\"y\"},{\"sizex\":1,\"sizey\":1,\"source\":\"https://img.icons8.com/material/24/000000/standing-man.png\",\"x\":25.2,\"xref\":\"x\",\"y\":2.5,\"yref\":\"y\"},{\"sizex\":1,\"sizey\":1,\"source\":\"https://img.icons8.com/material/24/000000/standing-man.png\",\"x\":26.2,\"xref\":\"x\",\"y\":2.5,\"yref\":\"y\"},{\"sizex\":1,\"sizey\":1,\"source\":\"https://img.icons8.com/material/24/000000/standing-man.png\",\"x\":27.2,\"xref\":\"x\",\"y\":2.5,\"yref\":\"y\"},{\"sizex\":1,\"sizey\":1,\"source\":\"https://img.icons8.com/material/24/000000/standing-man.png\",\"x\":28.2,\"xref\":\"x\",\"y\":2.5,\"yref\":\"y\"},{\"sizex\":1,\"sizey\":1,\"source\":\"https://img.icons8.com/material/24/000000/standing-man.png\",\"x\":29.2,\"xref\":\"x\",\"y\":2.5,\"yref\":\"y\"},{\"sizex\":1,\"sizey\":1,\"source\":\"https://img.icons8.com/material/24/000000/standing-man.png\",\"x\":30.2,\"xref\":\"x\",\"y\":2.5,\"yref\":\"y\"},{\"sizex\":1,\"sizey\":1,\"source\":\"https://img.icons8.com/material/24/000000/standing-man.png\",\"x\":31.2,\"xref\":\"x\",\"y\":2.5,\"yref\":\"y\"},{\"sizex\":1,\"sizey\":1,\"source\":\"https://img.icons8.com/material/24/000000/standing-man.png\",\"x\":25.2,\"xref\":\"x\",\"y\":3.5,\"yref\":\"y\"},{\"sizex\":1,\"sizey\":1,\"source\":\"https://img.icons8.com/material/24/000000/standing-man.png\",\"x\":26.2,\"xref\":\"x\",\"y\":3.5,\"yref\":\"y\"},{\"sizex\":1,\"sizey\":1,\"source\":\"https://img.icons8.com/material/24/000000/standing-man.png\",\"x\":27.2,\"xref\":\"x\",\"y\":3.5,\"yref\":\"y\"},{\"sizex\":1,\"sizey\":1,\"source\":\"https://img.icons8.com/material/24/000000/standing-man.png\",\"x\":28.2,\"xref\":\"x\",\"y\":3.5,\"yref\":\"y\"},{\"sizex\":1,\"sizey\":1,\"source\":\"https://img.icons8.com/material/24/000000/standing-man.png\",\"x\":29.2,\"xref\":\"x\",\"y\":3.5,\"yref\":\"y\"},{\"sizex\":1,\"sizey\":1,\"source\":\"https://img.icons8.com/material/24/000000/standing-man.png\",\"x\":30.2,\"xref\":\"x\",\"y\":3.5,\"yref\":\"y\"},{\"sizex\":1,\"sizey\":1,\"source\":\"https://img.icons8.com/material/24/000000/standing-man.png\",\"x\":31.2,\"xref\":\"x\",\"y\":3.5,\"yref\":\"y\"},{\"sizex\":1,\"sizey\":1,\"source\":\"https://img.icons8.com/material/24/000000/standing-man.png\",\"x\":25.2,\"xref\":\"x\",\"y\":4.5,\"yref\":\"y\"},{\"sizex\":1,\"sizey\":1,\"source\":\"https://img.icons8.com/material/24/000000/standing-man.png\",\"x\":26.2,\"xref\":\"x\",\"y\":4.5,\"yref\":\"y\"},{\"sizex\":1,\"sizey\":1,\"source\":\"https://img.icons8.com/material/24/000000/standing-man.png\",\"x\":27.2,\"xref\":\"x\",\"y\":4.5,\"yref\":\"y\"},{\"sizex\":1,\"sizey\":1,\"source\":\"https://img.icons8.com/material/24/000000/standing-man.png\",\"x\":28.2,\"xref\":\"x\",\"y\":4.5,\"yref\":\"y\"},{\"sizex\":1,\"sizey\":1,\"source\":\"https://img.icons8.com/material/24/000000/standing-man.png\",\"x\":29.2,\"xref\":\"x\",\"y\":4.5,\"yref\":\"y\"},{\"sizex\":1,\"sizey\":1,\"source\":\"https://img.icons8.com/material/24/000000/standing-man.png\",\"x\":30.2,\"xref\":\"x\",\"y\":4.5,\"yref\":\"y\"},{\"sizex\":1,\"sizey\":1,\"source\":\"https://img.icons8.com/material/24/000000/standing-man.png\",\"x\":31.2,\"xref\":\"x\",\"y\":4.5,\"yref\":\"y\"},{\"sizex\":1,\"sizey\":1,\"source\":\"https://img.icons8.com/material/24/000000/standing-man.png\",\"x\":25.2,\"xref\":\"x\",\"y\":5.5,\"yref\":\"y\"},{\"sizex\":1,\"sizey\":1,\"source\":\"https://img.icons8.com/material/24/000000/standing-man.png\",\"x\":26.2,\"xref\":\"x\",\"y\":5.5,\"yref\":\"y\"},{\"sizex\":1,\"sizey\":1,\"source\":\"https://img.icons8.com/material/24/000000/standing-man.png\",\"x\":27.2,\"xref\":\"x\",\"y\":5.5,\"yref\":\"y\"},{\"sizex\":1,\"sizey\":1,\"source\":\"https://img.icons8.com/material/24/000000/standing-man.png\",\"x\":28.2,\"xref\":\"x\",\"y\":5.5,\"yref\":\"y\"},{\"sizex\":1,\"sizey\":1,\"source\":\"https://img.icons8.com/material/24/000000/standing-man.png\",\"x\":29.2,\"xref\":\"x\",\"y\":5.5,\"yref\":\"y\"},{\"sizex\":1,\"sizey\":1,\"source\":\"https://img.icons8.com/material/24/000000/standing-man.png\",\"x\":30.2,\"xref\":\"x\",\"y\":5.5,\"yref\":\"y\"},{\"sizex\":1,\"sizey\":1,\"source\":\"https://img.icons8.com/material/24/000000/standing-man.png\",\"x\":31.2,\"xref\":\"x\",\"y\":5.5,\"yref\":\"y\"},{\"sizex\":1,\"sizey\":1,\"source\":\"https://img.icons8.com/material/24/000000/standing-man.png\",\"x\":25.2,\"xref\":\"x\",\"y\":6.5,\"yref\":\"y\"},{\"sizex\":1,\"sizey\":1,\"source\":\"https://img.icons8.com/material/24/000000/standing-man.png\",\"x\":26.2,\"xref\":\"x\",\"y\":6.5,\"yref\":\"y\"},{\"sizex\":1,\"sizey\":1,\"source\":\"https://img.icons8.com/material/24/000000/standing-man.png\",\"x\":27.2,\"xref\":\"x\",\"y\":6.5,\"yref\":\"y\"},{\"sizex\":1,\"sizey\":1,\"source\":\"https://img.icons8.com/material/24/000000/standing-man.png\",\"x\":28.2,\"xref\":\"x\",\"y\":6.5,\"yref\":\"y\"},{\"sizex\":1,\"sizey\":1,\"source\":\"https://img.icons8.com/material/24/000000/standing-man.png\",\"x\":29.2,\"xref\":\"x\",\"y\":6.5,\"yref\":\"y\"},{\"sizex\":1,\"sizey\":1,\"source\":\"https://img.icons8.com/material/24/000000/standing-man.png\",\"x\":30.2,\"xref\":\"x\",\"y\":6.5,\"yref\":\"y\"},{\"sizex\":1,\"sizey\":1,\"source\":\"https://img.icons8.com/material/24/000000/standing-man.png\",\"x\":31.2,\"xref\":\"x\",\"y\":6.5,\"yref\":\"y\"},{\"sizex\":1,\"sizey\":1,\"source\":\"https://img.icons8.com/material/24/000000/standing-man.png\",\"x\":25.2,\"xref\":\"x\",\"y\":7.5,\"yref\":\"y\"},{\"sizex\":1,\"sizey\":1,\"source\":\"https://img.icons8.com/material/24/000000/standing-man.png\",\"x\":26.2,\"xref\":\"x\",\"y\":7.5,\"yref\":\"y\"},{\"sizex\":1,\"sizey\":1,\"source\":\"https://img.icons8.com/material/24/000000/standing-man.png\",\"x\":27.2,\"xref\":\"x\",\"y\":7.5,\"yref\":\"y\"},{\"sizex\":1,\"sizey\":1,\"source\":\"https://img.icons8.com/material/24/000000/standing-man.png\",\"x\":28.2,\"xref\":\"x\",\"y\":7.5,\"yref\":\"y\"},{\"sizex\":1,\"sizey\":1,\"source\":\"https://img.icons8.com/material/24/000000/standing-man.png\",\"x\":29.2,\"xref\":\"x\",\"y\":7.5,\"yref\":\"y\"},{\"sizex\":1,\"sizey\":1,\"source\":\"https://img.icons8.com/material/24/000000/standing-man.png\",\"x\":30.2,\"xref\":\"x\",\"y\":7.5,\"yref\":\"y\"},{\"sizex\":1,\"sizey\":1,\"source\":\"https://img.icons8.com/material/24/000000/standing-man.png\",\"x\":31.2,\"xref\":\"x\",\"y\":7.5,\"yref\":\"y\"},{\"sizex\":1,\"sizey\":1,\"source\":\"https://img.icons8.com/material/24/000000/standing-man.png\",\"x\":25.2,\"xref\":\"x\",\"y\":8.5,\"yref\":\"y\"},{\"sizex\":1,\"sizey\":1,\"source\":\"https://img.icons8.com/material/24/000000/standing-man.png\",\"x\":26.2,\"xref\":\"x\",\"y\":8.5,\"yref\":\"y\"},{\"sizex\":1,\"sizey\":1,\"source\":\"https://img.icons8.com/material/24/000000/standing-man.png\",\"x\":27.2,\"xref\":\"x\",\"y\":8.5,\"yref\":\"y\"},{\"sizex\":1,\"sizey\":1,\"source\":\"https://img.icons8.com/material/24/000000/standing-man.png\",\"x\":28.2,\"xref\":\"x\",\"y\":8.5,\"yref\":\"y\"},{\"sizex\":1,\"sizey\":1,\"source\":\"https://img.icons8.com/material-outlined/24/000000/standing-man.png\",\"x\":29.2,\"xref\":\"x\",\"y\":8.5,\"yref\":\"y\"},{\"sizex\":1,\"sizey\":1,\"source\":\"https://img.icons8.com/material/24/000000/standing-man.png\",\"x\":33.2,\"xref\":\"x\",\"y\":2.5,\"yref\":\"y\"},{\"sizex\":1,\"sizey\":1,\"source\":\"https://img.icons8.com/material/24/000000/standing-man.png\",\"x\":34.2,\"xref\":\"x\",\"y\":2.5,\"yref\":\"y\"},{\"sizex\":1,\"sizey\":1,\"source\":\"https://img.icons8.com/material/24/000000/standing-man.png\",\"x\":35.2,\"xref\":\"x\",\"y\":2.5,\"yref\":\"y\"},{\"sizex\":1,\"sizey\":1,\"source\":\"https://img.icons8.com/material/24/000000/standing-man.png\",\"x\":36.2,\"xref\":\"x\",\"y\":2.5,\"yref\":\"y\"},{\"sizex\":1,\"sizey\":1,\"source\":\"https://img.icons8.com/material/24/000000/standing-man.png\",\"x\":37.2,\"xref\":\"x\",\"y\":2.5,\"yref\":\"y\"},{\"sizex\":1,\"sizey\":1,\"source\":\"https://img.icons8.com/material/24/000000/standing-man.png\",\"x\":38.2,\"xref\":\"x\",\"y\":2.5,\"yref\":\"y\"},{\"sizex\":1,\"sizey\":1,\"source\":\"https://img.icons8.com/material/24/000000/standing-man.png\",\"x\":39.2,\"xref\":\"x\",\"y\":2.5,\"yref\":\"y\"},{\"sizex\":1,\"sizey\":1,\"source\":\"https://img.icons8.com/material/24/000000/standing-man.png\",\"x\":33.2,\"xref\":\"x\",\"y\":3.5,\"yref\":\"y\"},{\"sizex\":1,\"sizey\":1,\"source\":\"https://img.icons8.com/material/24/000000/standing-man.png\",\"x\":34.2,\"xref\":\"x\",\"y\":3.5,\"yref\":\"y\"},{\"sizex\":1,\"sizey\":1,\"source\":\"https://img.icons8.com/material/24/000000/standing-man.png\",\"x\":35.2,\"xref\":\"x\",\"y\":3.5,\"yref\":\"y\"},{\"sizex\":1,\"sizey\":1,\"source\":\"https://img.icons8.com/material/24/000000/standing-man.png\",\"x\":36.2,\"xref\":\"x\",\"y\":3.5,\"yref\":\"y\"},{\"sizex\":1,\"sizey\":1,\"source\":\"https://img.icons8.com/material/24/000000/standing-man.png\",\"x\":37.2,\"xref\":\"x\",\"y\":3.5,\"yref\":\"y\"},{\"sizex\":1,\"sizey\":1,\"source\":\"https://img.icons8.com/material/24/000000/standing-man.png\",\"x\":38.2,\"xref\":\"x\",\"y\":3.5,\"yref\":\"y\"},{\"sizex\":1,\"sizey\":1,\"source\":\"https://img.icons8.com/material/24/000000/standing-man.png\",\"x\":39.2,\"xref\":\"x\",\"y\":3.5,\"yref\":\"y\"},{\"sizex\":1,\"sizey\":1,\"source\":\"https://img.icons8.com/material/24/000000/standing-man.png\",\"x\":33.2,\"xref\":\"x\",\"y\":4.5,\"yref\":\"y\"},{\"sizex\":1,\"sizey\":1,\"source\":\"https://img.icons8.com/material/24/000000/standing-man.png\",\"x\":34.2,\"xref\":\"x\",\"y\":4.5,\"yref\":\"y\"},{\"sizex\":1,\"sizey\":1,\"source\":\"https://img.icons8.com/material/24/000000/standing-man.png\",\"x\":35.2,\"xref\":\"x\",\"y\":4.5,\"yref\":\"y\"},{\"sizex\":1,\"sizey\":1,\"source\":\"https://img.icons8.com/material/24/000000/standing-man.png\",\"x\":36.2,\"xref\":\"x\",\"y\":4.5,\"yref\":\"y\"},{\"sizex\":1,\"sizey\":1,\"source\":\"https://img.icons8.com/material/24/000000/standing-man.png\",\"x\":37.2,\"xref\":\"x\",\"y\":4.5,\"yref\":\"y\"},{\"sizex\":1,\"sizey\":1,\"source\":\"https://img.icons8.com/material/24/000000/standing-man.png\",\"x\":38.2,\"xref\":\"x\",\"y\":4.5,\"yref\":\"y\"},{\"sizex\":1,\"sizey\":1,\"source\":\"https://img.icons8.com/material/24/000000/standing-man.png\",\"x\":39.2,\"xref\":\"x\",\"y\":4.5,\"yref\":\"y\"},{\"sizex\":1,\"sizey\":1,\"source\":\"https://img.icons8.com/material/24/000000/standing-man.png\",\"x\":33.2,\"xref\":\"x\",\"y\":5.5,\"yref\":\"y\"},{\"sizex\":1,\"sizey\":1,\"source\":\"https://img.icons8.com/material/24/000000/standing-man.png\",\"x\":34.2,\"xref\":\"x\",\"y\":5.5,\"yref\":\"y\"},{\"sizex\":1,\"sizey\":1,\"source\":\"https://img.icons8.com/material/24/000000/standing-man.png\",\"x\":35.2,\"xref\":\"x\",\"y\":5.5,\"yref\":\"y\"},{\"sizex\":1,\"sizey\":1,\"source\":\"https://img.icons8.com/material/24/000000/standing-man.png\",\"x\":36.2,\"xref\":\"x\",\"y\":5.5,\"yref\":\"y\"},{\"sizex\":1,\"sizey\":1,\"source\":\"https://img.icons8.com/material/24/000000/standing-man.png\",\"x\":37.2,\"xref\":\"x\",\"y\":5.5,\"yref\":\"y\"},{\"sizex\":1,\"sizey\":1,\"source\":\"https://img.icons8.com/material/24/000000/standing-man.png\",\"x\":38.2,\"xref\":\"x\",\"y\":5.5,\"yref\":\"y\"},{\"sizex\":1,\"sizey\":1,\"source\":\"https://img.icons8.com/material/24/000000/standing-man.png\",\"x\":39.2,\"xref\":\"x\",\"y\":5.5,\"yref\":\"y\"},{\"sizex\":1,\"sizey\":1,\"source\":\"https://img.icons8.com/material/24/000000/standing-man.png\",\"x\":33.2,\"xref\":\"x\",\"y\":6.5,\"yref\":\"y\"},{\"sizex\":1,\"sizey\":1,\"source\":\"https://img.icons8.com/material/24/000000/standing-man.png\",\"x\":34.2,\"xref\":\"x\",\"y\":6.5,\"yref\":\"y\"},{\"sizex\":1,\"sizey\":1,\"source\":\"https://img.icons8.com/material/24/000000/standing-man.png\",\"x\":35.2,\"xref\":\"x\",\"y\":6.5,\"yref\":\"y\"},{\"sizex\":1,\"sizey\":1,\"source\":\"https://img.icons8.com/material-outlined/24/000000/standing-man.png\",\"x\":36.2,\"xref\":\"x\",\"y\":6.5,\"yref\":\"y\"},{\"sizex\":1,\"sizey\":1,\"source\":\"https://img.icons8.com/material-outlined/24/000000/standing-man.png\",\"x\":37.2,\"xref\":\"x\",\"y\":6.5,\"yref\":\"y\"},{\"sizex\":1,\"sizey\":1,\"source\":\"https://img.icons8.com/material-outlined/24/000000/standing-man.png\",\"x\":38.2,\"xref\":\"x\",\"y\":6.5,\"yref\":\"y\"},{\"sizex\":1,\"sizey\":1,\"source\":\"https://img.icons8.com/material-outlined/24/000000/standing-man.png\",\"x\":39.2,\"xref\":\"x\",\"y\":6.5,\"yref\":\"y\"},{\"sizex\":1,\"sizey\":1,\"source\":\"https://img.icons8.com/material/24/000000/standing-man.png\",\"x\":41.2,\"xref\":\"x\",\"y\":2.5,\"yref\":\"y\"},{\"sizex\":1,\"sizey\":1,\"source\":\"https://img.icons8.com/material/24/000000/standing-man.png\",\"x\":42.2,\"xref\":\"x\",\"y\":2.5,\"yref\":\"y\"},{\"sizex\":1,\"sizey\":1,\"source\":\"https://img.icons8.com/material/24/000000/standing-man.png\",\"x\":43.2,\"xref\":\"x\",\"y\":2.5,\"yref\":\"y\"},{\"sizex\":1,\"sizey\":1,\"source\":\"https://img.icons8.com/material/24/000000/standing-man.png\",\"x\":44.2,\"xref\":\"x\",\"y\":2.5,\"yref\":\"y\"},{\"sizex\":1,\"sizey\":1,\"source\":\"https://img.icons8.com/material/24/000000/standing-man.png\",\"x\":45.2,\"xref\":\"x\",\"y\":2.5,\"yref\":\"y\"},{\"sizex\":1,\"sizey\":1,\"source\":\"https://img.icons8.com/material/24/000000/standing-man.png\",\"x\":46.2,\"xref\":\"x\",\"y\":2.5,\"yref\":\"y\"},{\"sizex\":1,\"sizey\":1,\"source\":\"https://img.icons8.com/material/24/000000/standing-man.png\",\"x\":47.2,\"xref\":\"x\",\"y\":2.5,\"yref\":\"y\"},{\"sizex\":1,\"sizey\":1,\"source\":\"https://img.icons8.com/material/24/000000/standing-man.png\",\"x\":41.2,\"xref\":\"x\",\"y\":3.5,\"yref\":\"y\"},{\"sizex\":1,\"sizey\":1,\"source\":\"https://img.icons8.com/material/24/000000/standing-man.png\",\"x\":42.2,\"xref\":\"x\",\"y\":3.5,\"yref\":\"y\"},{\"sizex\":1,\"sizey\":1,\"source\":\"https://img.icons8.com/material/24/000000/standing-man.png\",\"x\":43.2,\"xref\":\"x\",\"y\":3.5,\"yref\":\"y\"},{\"sizex\":1,\"sizey\":1,\"source\":\"https://img.icons8.com/material/24/000000/standing-man.png\",\"x\":44.2,\"xref\":\"x\",\"y\":3.5,\"yref\":\"y\"},{\"sizex\":1,\"sizey\":1,\"source\":\"https://img.icons8.com/material/24/000000/standing-man.png\",\"x\":45.2,\"xref\":\"x\",\"y\":3.5,\"yref\":\"y\"},{\"sizex\":1,\"sizey\":1,\"source\":\"https://img.icons8.com/material/24/000000/standing-man.png\",\"x\":46.2,\"xref\":\"x\",\"y\":3.5,\"yref\":\"y\"},{\"sizex\":1,\"sizey\":1,\"source\":\"https://img.icons8.com/material/24/000000/standing-man.png\",\"x\":47.2,\"xref\":\"x\",\"y\":3.5,\"yref\":\"y\"},{\"sizex\":1,\"sizey\":1,\"source\":\"https://img.icons8.com/material/24/000000/standing-man.png\",\"x\":41.2,\"xref\":\"x\",\"y\":4.5,\"yref\":\"y\"},{\"sizex\":1,\"sizey\":1,\"source\":\"https://img.icons8.com/material/24/000000/standing-man.png\",\"x\":42.2,\"xref\":\"x\",\"y\":4.5,\"yref\":\"y\"},{\"sizex\":1,\"sizey\":1,\"source\":\"https://img.icons8.com/material/24/000000/standing-man.png\",\"x\":43.2,\"xref\":\"x\",\"y\":4.5,\"yref\":\"y\"},{\"sizex\":1,\"sizey\":1,\"source\":\"https://img.icons8.com/material/24/000000/standing-man.png\",\"x\":44.2,\"xref\":\"x\",\"y\":4.5,\"yref\":\"y\"},{\"sizex\":1,\"sizey\":1,\"source\":\"https://img.icons8.com/material/24/000000/standing-man.png\",\"x\":45.2,\"xref\":\"x\",\"y\":4.5,\"yref\":\"y\"},{\"sizex\":1,\"sizey\":1,\"source\":\"https://img.icons8.com/material/24/000000/standing-man.png\",\"x\":46.2,\"xref\":\"x\",\"y\":4.5,\"yref\":\"y\"},{\"sizex\":1,\"sizey\":1,\"source\":\"https://img.icons8.com/material/24/000000/standing-man.png\",\"x\":47.2,\"xref\":\"x\",\"y\":4.5,\"yref\":\"y\"},{\"sizex\":1,\"sizey\":1,\"source\":\"https://img.icons8.com/material/24/000000/standing-man.png\",\"x\":41.2,\"xref\":\"x\",\"y\":5.5,\"yref\":\"y\"},{\"sizex\":1,\"sizey\":1,\"source\":\"https://img.icons8.com/material/24/000000/standing-man.png\",\"x\":42.2,\"xref\":\"x\",\"y\":5.5,\"yref\":\"y\"},{\"sizex\":1,\"sizey\":1,\"source\":\"https://img.icons8.com/material/24/000000/standing-man.png\",\"x\":43.2,\"xref\":\"x\",\"y\":5.5,\"yref\":\"y\"},{\"sizex\":1,\"sizey\":1,\"source\":\"https://img.icons8.com/material/24/000000/standing-man.png\",\"x\":44.2,\"xref\":\"x\",\"y\":5.5,\"yref\":\"y\"},{\"sizex\":1,\"sizey\":1,\"source\":\"https://img.icons8.com/material/24/000000/standing-man.png\",\"x\":45.2,\"xref\":\"x\",\"y\":5.5,\"yref\":\"y\"},{\"sizex\":1,\"sizey\":1,\"source\":\"https://img.icons8.com/material/24/000000/standing-man.png\",\"x\":46.2,\"xref\":\"x\",\"y\":5.5,\"yref\":\"y\"},{\"sizex\":1,\"sizey\":1,\"source\":\"https://img.icons8.com/material/24/000000/standing-man.png\",\"x\":47.2,\"xref\":\"x\",\"y\":5.5,\"yref\":\"y\"},{\"sizex\":1,\"sizey\":1,\"source\":\"https://img.icons8.com/material/24/000000/standing-man.png\",\"x\":41.2,\"xref\":\"x\",\"y\":6.5,\"yref\":\"y\"},{\"sizex\":1,\"sizey\":1,\"source\":\"https://img.icons8.com/material/24/000000/standing-man.png\",\"x\":42.2,\"xref\":\"x\",\"y\":6.5,\"yref\":\"y\"},{\"sizex\":1,\"sizey\":1,\"source\":\"https://img.icons8.com/material/24/000000/standing-man.png\",\"x\":43.2,\"xref\":\"x\",\"y\":6.5,\"yref\":\"y\"},{\"sizex\":1,\"sizey\":1,\"source\":\"https://img.icons8.com/material/24/000000/standing-man.png\",\"x\":44.2,\"xref\":\"x\",\"y\":6.5,\"yref\":\"y\"},{\"sizex\":1,\"sizey\":1,\"source\":\"https://img.icons8.com/material/24/000000/standing-man.png\",\"x\":45.2,\"xref\":\"x\",\"y\":6.5,\"yref\":\"y\"},{\"sizex\":1,\"sizey\":1,\"source\":\"https://img.icons8.com/material/24/000000/standing-man.png\",\"x\":46.2,\"xref\":\"x\",\"y\":6.5,\"yref\":\"y\"},{\"sizex\":1,\"sizey\":1,\"source\":\"https://img.icons8.com/material/24/000000/standing-man.png\",\"x\":47.2,\"xref\":\"x\",\"y\":6.5,\"yref\":\"y\"},{\"sizex\":1,\"sizey\":1,\"source\":\"https://img.icons8.com/material-outlined/24/000000/standing-man.png\",\"x\":41.2,\"xref\":\"x\",\"y\":7.5,\"yref\":\"y\"},{\"sizex\":1,\"sizey\":1,\"source\":\"https://img.icons8.com/material-outlined/24/000000/standing-man.png\",\"x\":42.2,\"xref\":\"x\",\"y\":7.5,\"yref\":\"y\"},{\"sizex\":1,\"sizey\":1,\"source\":\"https://img.icons8.com/material-outlined/24/000000/standing-man.png\",\"x\":43.2,\"xref\":\"x\",\"y\":7.5,\"yref\":\"y\"},{\"sizex\":1,\"sizey\":1,\"source\":\"https://img.icons8.com/material-outlined/24/000000/standing-man.png\",\"x\":44.2,\"xref\":\"x\",\"y\":7.5,\"yref\":\"y\"},{\"sizex\":1,\"sizey\":1,\"source\":\"https://img.icons8.com/material-outlined/24/000000/standing-man.png\",\"x\":45.2,\"xref\":\"x\",\"y\":7.5,\"yref\":\"y\"},{\"sizex\":1,\"sizey\":1,\"source\":\"https://img.icons8.com/material-outlined/24/000000/standing-man.png\",\"x\":46.2,\"xref\":\"x\",\"y\":7.5,\"yref\":\"y\"},{\"sizex\":1,\"sizey\":1,\"source\":\"https://img.icons8.com/material-outlined/24/000000/standing-man.png\",\"x\":47.2,\"xref\":\"x\",\"y\":7.5,\"yref\":\"y\"},{\"sizex\":1,\"sizey\":1,\"source\":\"https://img.icons8.com/material-outlined/24/000000/standing-man.png\",\"x\":41.2,\"xref\":\"x\",\"y\":8.5,\"yref\":\"y\"},{\"sizex\":1,\"sizey\":1,\"source\":\"https://img.icons8.com/material-outlined/24/000000/standing-man.png\",\"x\":42.2,\"xref\":\"x\",\"y\":8.5,\"yref\":\"y\"},{\"sizex\":1,\"sizey\":1,\"source\":\"https://img.icons8.com/material-outlined/24/000000/standing-man.png\",\"x\":43.2,\"xref\":\"x\",\"y\":8.5,\"yref\":\"y\"},{\"sizex\":1,\"sizey\":1,\"source\":\"https://img.icons8.com/material-outlined/24/000000/standing-man.png\",\"x\":44.2,\"xref\":\"x\",\"y\":8.5,\"yref\":\"y\"},{\"sizex\":1,\"sizey\":1,\"source\":\"https://img.icons8.com/material-outlined/24/000000/standing-man.png\",\"x\":45.2,\"xref\":\"x\",\"y\":8.5,\"yref\":\"y\"},{\"sizex\":1,\"sizey\":1,\"source\":\"https://img.icons8.com/material-outlined/24/000000/standing-man.png\",\"x\":46.2,\"xref\":\"x\",\"y\":8.5,\"yref\":\"y\"},{\"sizex\":1,\"sizey\":1,\"source\":\"https://img.icons8.com/material-outlined/24/000000/standing-man.png\",\"x\":47.2,\"xref\":\"x\",\"y\":8.5,\"yref\":\"y\"},{\"sizex\":1,\"sizey\":1,\"source\":\"https://img.icons8.com/material-outlined/24/000000/standing-man.png\",\"x\":41.2,\"xref\":\"x\",\"y\":9.5,\"yref\":\"y\"},{\"sizex\":1,\"sizey\":1,\"source\":\"https://img.icons8.com/material-outlined/24/000000/standing-man.png\",\"x\":42.2,\"xref\":\"x\",\"y\":9.5,\"yref\":\"y\"},{\"sizex\":1,\"sizey\":1,\"source\":\"https://img.icons8.com/material-outlined/24/000000/standing-man.png\",\"x\":43.2,\"xref\":\"x\",\"y\":9.5,\"yref\":\"y\"},{\"sizex\":1,\"sizey\":1,\"source\":\"https://img.icons8.com/material-outlined/24/000000/standing-man.png\",\"x\":44.2,\"xref\":\"x\",\"y\":9.5,\"yref\":\"y\"},{\"sizex\":1,\"sizey\":1,\"source\":\"https://img.icons8.com/material-outlined/24/000000/standing-man.png\",\"x\":45.2,\"xref\":\"x\",\"y\":9.5,\"yref\":\"y\"},{\"sizex\":1,\"sizey\":1,\"source\":\"https://img.icons8.com/material-outlined/24/000000/standing-man.png\",\"x\":46.2,\"xref\":\"x\",\"y\":9.5,\"yref\":\"y\"},{\"sizex\":1,\"sizey\":1,\"source\":\"https://img.icons8.com/material-outlined/24/000000/standing-man.png\",\"x\":47.2,\"xref\":\"x\",\"y\":9.5,\"yref\":\"y\"},{\"sizex\":1,\"sizey\":1,\"source\":\"https://img.icons8.com/material-outlined/24/000000/standing-man.png\",\"x\":41.2,\"xref\":\"x\",\"y\":10.5,\"yref\":\"y\"},{\"sizex\":1,\"sizey\":1,\"source\":\"https://img.icons8.com/material-outlined/24/000000/standing-man.png\",\"x\":42.2,\"xref\":\"x\",\"y\":10.5,\"yref\":\"y\"},{\"sizex\":1,\"sizey\":1,\"source\":\"https://img.icons8.com/material-outlined/24/000000/standing-man.png\",\"x\":43.2,\"xref\":\"x\",\"y\":10.5,\"yref\":\"y\"},{\"sizex\":1,\"sizey\":1,\"source\":\"https://img.icons8.com/material-outlined/24/000000/standing-man.png\",\"x\":44.2,\"xref\":\"x\",\"y\":10.5,\"yref\":\"y\"},{\"sizex\":1,\"sizey\":1,\"source\":\"https://img.icons8.com/material-outlined/24/000000/standing-man.png\",\"x\":45.2,\"xref\":\"x\",\"y\":10.5,\"yref\":\"y\"},{\"sizex\":1,\"sizey\":1,\"source\":\"https://img.icons8.com/material-outlined/24/000000/standing-man.png\",\"x\":46.2,\"xref\":\"x\",\"y\":10.5,\"yref\":\"y\"},{\"sizex\":1,\"sizey\":1,\"source\":\"https://img.icons8.com/material-outlined/24/000000/standing-man.png\",\"x\":47.2,\"xref\":\"x\",\"y\":10.5,\"yref\":\"y\"},{\"sizex\":1,\"sizey\":1,\"source\":\"https://img.icons8.com/material-outlined/24/000000/standing-man.png\",\"x\":41.2,\"xref\":\"x\",\"y\":11.5,\"yref\":\"y\"},{\"sizex\":1,\"sizey\":1,\"source\":\"https://img.icons8.com/material-outlined/24/000000/standing-man.png\",\"x\":42.2,\"xref\":\"x\",\"y\":11.5,\"yref\":\"y\"},{\"sizex\":1,\"sizey\":1,\"source\":\"https://img.icons8.com/material-outlined/24/000000/standing-man.png\",\"x\":43.2,\"xref\":\"x\",\"y\":11.5,\"yref\":\"y\"},{\"sizex\":1,\"sizey\":1,\"source\":\"https://img.icons8.com/material-outlined/24/000000/standing-man.png\",\"x\":44.2,\"xref\":\"x\",\"y\":11.5,\"yref\":\"y\"},{\"sizex\":1,\"sizey\":1,\"source\":\"https://img.icons8.com/material-outlined/24/000000/standing-man.png\",\"x\":45.2,\"xref\":\"x\",\"y\":11.5,\"yref\":\"y\"},{\"sizex\":1,\"sizey\":1,\"source\":\"https://img.icons8.com/material-outlined/24/000000/standing-man.png\",\"x\":46.2,\"xref\":\"x\",\"y\":11.5,\"yref\":\"y\"},{\"sizex\":1,\"sizey\":1,\"source\":\"https://img.icons8.com/material-outlined/24/000000/standing-man.png\",\"x\":47.2,\"xref\":\"x\",\"y\":11.5,\"yref\":\"y\"},{\"sizex\":1,\"sizey\":1,\"source\":\"https://img.icons8.com/material-outlined/24/000000/standing-man.png\",\"x\":41.2,\"xref\":\"x\",\"y\":12.5,\"yref\":\"y\"}],\"annotations\":[{\"font\":{\"color\":\"black\",\"size\":16},\"showarrow\":false,\"text\":\"1. Class\",\"x\":0.05,\"xref\":\"paper\",\"y\":0.1,\"yref\":\"paper\"},{\"font\":{\"color\":\"black\",\"size\":16},\"showarrow\":false,\"text\":\"2. Class\",\"x\":0.22100000000000003,\"xref\":\"paper\",\"y\":0.1,\"yref\":\"paper\"},{\"font\":{\"color\":\"black\",\"size\":16},\"showarrow\":false,\"text\":\"3. Class\",\"x\":0.392,\"xref\":\"paper\",\"y\":0.1,\"yref\":\"paper\"},{\"font\":{\"color\":\"black\",\"size\":16},\"showarrow\":false,\"text\":\"1. Class\",\"x\":0.5930000000000001,\"xref\":\"paper\",\"y\":0.1,\"yref\":\"paper\"},{\"font\":{\"color\":\"black\",\"size\":16},\"showarrow\":false,\"text\":\"2. Class\",\"x\":0.7640000000000001,\"xref\":\"paper\",\"y\":0.1,\"yref\":\"paper\"},{\"font\":{\"color\":\"black\",\"size\":16},\"showarrow\":false,\"text\":\"3. Class\",\"x\":0.9350000000000002,\"xref\":\"paper\",\"y\":0.1,\"yref\":\"paper\"},{\"font\":{\"color\":\"red\",\"size\":18},\"showarrow\":false,\"text\":\"Male\",\"x\":0.24,\"xref\":\"paper\",\"y\":0.025,\"yref\":\"paper\"},{\"font\":{\"color\":\"red\",\"size\":18},\"showarrow\":false,\"text\":\"Female\",\"x\":0.77,\"xref\":\"paper\",\"y\":0.025,\"yref\":\"paper\"}]},                        {\"responsive\": true}                    ).then(function(){\n",
       "                            \n",
       "var gd = document.getElementById('ea08207b-9848-43a2-8c89-e55a9c35bace');\n",
       "var x = new MutationObserver(function (mutations, observer) {{\n",
       "        var display = window.getComputedStyle(gd).display;\n",
       "        if (!display || display === 'none') {{\n",
       "            console.log([gd, 'removed!']);\n",
       "            Plotly.purge(gd);\n",
       "            observer.disconnect();\n",
       "        }}\n",
       "}});\n",
       "\n",
       "// Listen for the removal of the full notebook cells\n",
       "var notebookContainer = gd.closest('#notebook-container');\n",
       "if (notebookContainer) {{\n",
       "    x.observe(notebookContainer, {childList: true});\n",
       "}}\n",
       "\n",
       "// Listen for the clearing of the current output cell\n",
       "var outputEl = gd.closest('.output');\n",
       "if (outputEl) {{\n",
       "    x.observe(outputEl, {childList: true});\n",
       "}}\n",
       "\n",
       "                        })                };                });            </script>        </div>"
      ]
     },
     "metadata": {},
     "output_type": "display_data"
    }
   ],
   "source": [
    "df5 = df.copy()\n",
    "df5=df5.dropna(subset=['pclass'])\n",
    "\n",
    "sex = ['Male', 'Female']\n",
    "survived = ['No', 'Yes']\n",
    "class_ = ['1. Class', '2. Class', '3. Class']\n",
    "icn_fill=\"https://img.icons8.com/material/24/000000/standing-man.png\"\n",
    "icn_unfill=\"https://img.icons8.com/material-outlined/24/000000/standing-man.png\"\n",
    "\n",
    "\n",
    "\n",
    "df5['survived'] = df5['survived'].replace([0,1],survived)\n",
    "df5['sex'] = df5['sex'].replace(['male','female'],sex)\n",
    "df5.pclass = df5.pclass.replace([1,2,3],class_)\n",
    "df5 = df5.drop(columns=['name','sibsp','ticket','fare','cabin','embarked','boat','body','home.dest', 'parch','age'])\n",
    "df5 = df5.groupby(['survived', 'sex', 'pclass']).size().reset_index(name = 'count')\n",
    "\n",
    "fig = go.Figure()\n",
    "space_y = 0\n",
    "space_x = 0\n",
    "fig.update_yaxes(\n",
    "    scaleanchor = \"x\",\n",
    "    scaleratio = 1,\n",
    "    visible=False\n",
    "\n",
    ")\n",
    "fig.update_xaxes(visible=False)\n",
    "fig.update_layout(showlegend=False,yaxis_range=[-1,25], xaxis_range=[-1,50])\n",
    "fig.update_layout(margin = dict(t=70, l=25, r=25, b=25))\n",
    "size = 1\n",
    "on_row = 7\n",
    "x_start = 0\n",
    "one_icon_mans = 3\n",
    "for sex_ in sex:\n",
    "    for clas_ in class_:\n",
    "        radek = (df5.loc[(df5['survived'] == 'Yes') & (df5['pclass'] == clas_) & (df5['sex'] == sex_)])\n",
    "        count = int(radek['count']) if not radek.empty else 0\n",
    "        pos_y = 2.5\n",
    "        pos_x = x_start\n",
    "        for i in range(int(count/one_icon_mans)):\n",
    "            fig.add_layout_image(\n",
    "                    dict(\n",
    "                        source=icn_fill,\n",
    "                        xref=\"x\",\n",
    "                        yref=\"y\",\n",
    "                        x=pos_x,\n",
    "                        y=pos_y,\n",
    "                        sizex=size,\n",
    "                        sizey=size,)\n",
    "            )\n",
    "            pos_x += size\n",
    "            if i % on_row == on_row - 1:\n",
    "                pos_y += size\n",
    "                pos_x = x_start\n",
    "        less = (i % on_row)\n",
    "        radek = (df5.loc[(df5['survived'] == 'No') & (df5['pclass'] == clas_) & (df5['sex'] == sex_)])\n",
    "        count = int(radek['count']) if not radek.empty else 0\n",
    "        for j in range(int(count/one_icon_mans)):\n",
    "            fig.add_layout_image(\n",
    "                    dict(\n",
    "                        source=icn_unfill,\n",
    "                        xref=\"x\",\n",
    "                        yref=\"y\",\n",
    "                        x=pos_x,\n",
    "                        y=pos_y,\n",
    "                        sizex=size,\n",
    "                        sizey=size,)\n",
    "            )\n",
    "            pos_x += size\n",
    "            if (less + j + 1) % on_row == on_row - 1:\n",
    "                pos_y += size\n",
    "                pos_x = x_start\n",
    "        x_start = x_start + on_row*size + size\n",
    "    x_start = x_start + 1.2*size\n",
    "\n",
    "    \n",
    "pos_x = 0.05\n",
    "step = 0.171\n",
    "annotation = []\n",
    "for i in range(2):   \n",
    "    for clas_ in class_:\n",
    "        annotation.append({\n",
    "            'xref': 'paper',  \n",
    "            'yref': 'paper',  \n",
    "            'x': pos_x,  \n",
    "            'y': 0.1, \n",
    "            'text': clas_,\n",
    "            'showarrow': False,\n",
    "            'font': {'size': 16, 'color': 'black'}\n",
    "        })\n",
    "        pos_x = pos_x + step\n",
    "    pos_x = pos_x + 0.03\n",
    "    \n",
    "annotation.append({\n",
    "    'xref': 'paper',  \n",
    "    'yref': 'paper',  \n",
    "    'x': 0.24,  \n",
    "    'y': 0.025, \n",
    "    'text': 'Male',\n",
    "    'showarrow': False,\n",
    "    'font': {'size': 18, 'color': 'red'}\n",
    "})\n",
    "annotation.append({\n",
    "    'xref': 'paper',  \n",
    "    'yref': 'paper',  \n",
    "    'x': 0.77,  \n",
    "    'y': 0.025, \n",
    "    'text': 'Female',\n",
    "    'showarrow': False,\n",
    "    'font': {'size': 18, 'color': 'red'}\n",
    "})\n",
    "fig.update_layout({'annotations': annotation})\n",
    "fig.show()"
   ]
  },
  {
   "cell_type": "code",
   "execution_count": null,
   "id": "c3cd7a79",
   "metadata": {},
   "outputs": [],
   "source": []
  }
 ],
 "metadata": {
  "kernelspec": {
   "display_name": "Python 3 (ipykernel)",
   "language": "python",
   "name": "python3"
  },
  "language_info": {
   "codemirror_mode": {
    "name": "ipython",
    "version": 3
   },
   "file_extension": ".py",
   "mimetype": "text/x-python",
   "name": "python",
   "nbconvert_exporter": "python",
   "pygments_lexer": "ipython3",
   "version": "3.9.7"
  }
 },
 "nbformat": 4,
 "nbformat_minor": 5
}
