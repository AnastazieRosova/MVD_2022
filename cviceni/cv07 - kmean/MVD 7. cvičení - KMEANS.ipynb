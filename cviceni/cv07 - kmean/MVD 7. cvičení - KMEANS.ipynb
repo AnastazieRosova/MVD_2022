{
 "cells": [
  {
   "cell_type": "markdown",
   "metadata": {
    "pycharm": {
     "name": "#%% md\n"
    }
   },
   "source": [
    "# MVD 7. cvičení\n",
    "\n",
    "## 1. část - Vytvoření dat\n",
    "\n",
    "V dnešním cvičení je před implementací shlukování potřeba vygenerovat vlastní data. Cílem je vytvořit několik datasetů dle předlohy a vizualizovat je. Postačí dosažení podobného pozice a rozložení bodů."
   ]
  },
  {
   "cell_type": "code",
   "execution_count": 187,
   "metadata": {
    "pycharm": {
     "name": "#%%\n"
    }
   },
   "outputs": [],
   "source": [
    "from sklearn.datasets import make_blobs, make_moons, make_circles\n",
    "import pandas as pd\n",
    "import numpy as np\n",
    "import plotly.express as px\n",
    "import plotly.graph_objects as go\n",
    "import math\n",
    "from plotly.subplots import make_subplots"
   ]
  },
  {
   "cell_type": "markdown",
   "metadata": {
    "pycharm": {
     "name": "#%% md\n"
    }
   },
   "source": [
    "### 1. dataset - 2 třídy, 100 datových bodů\n",
    "Použijte funkci ```make_blobs``` [odkaz na dokumentaci](https://scikit-learn.org/stable/modules/generated/sklearn.datasets.make_blobs.html).\n",
    "\n",
    "![dataset1](expected_outputs/dataset1.png)\n",
    "\n",
    "Připravený dataset pro další úlohu (k-means) může vypadat například takto:\n",
    "![prepared](expected_outputs/prepared_dataset.png)"
   ]
  },
  {
   "cell_type": "code",
   "execution_count": 59,
   "outputs": [],
   "source": [
    "def print_dataset(df, color = 'labels'):\n",
    "    fig = px.scatter(df, y='y', x='x', color=color)\n",
    "    fig.show()"
   ],
   "metadata": {
    "collapsed": false,
    "pycharm": {
     "name": "#%%\n"
    }
   }
  },
  {
   "cell_type": "code",
   "execution_count": 72,
   "outputs": [],
   "source": [
    "def print_subplots(df, centroids):\n",
    "    fig = make_subplots(rows=2, cols=1,\n",
    "                        subplot_titles=(\"Original\", \"My func\"))\n",
    "    plot1 = px.scatter(df, x='x', y='y', color='labels')\n",
    "    plot2 = px.scatter(df, x='x', y='y', color='KMEANS')\n",
    "    fig.add_traces(plot1.data, rows=1, cols=1)\n",
    "    fig.add_traces(plot2.data, rows=2, cols=1)\n",
    "    fig.add_traces(go.Scatter(\n",
    "        x=centroids['x'],\n",
    "        y=centroids['y'],\n",
    "        mode='markers',\n",
    "        marker=dict(\n",
    "            size=10,\n",
    "            line=dict(width=3, color='pink'),\n",
    "            symbol=[114]\n",
    "        )\n",
    "    ), rows=2, cols=1)\n",
    "\n",
    "    fig.update_layout(height=1000, width=1000,\n",
    "                      legend_tracegroupgap=180,\n",
    "                      showlegend=False,\n",
    "                      title_text=\"Kmean\")\n",
    "    fig.show()"
   ],
   "metadata": {
    "collapsed": false,
    "pycharm": {
     "name": "#%%\n"
    }
   }
  },
  {
   "cell_type": "code",
   "execution_count": 134,
   "metadata": {
    "pycharm": {
     "name": "#%%\n"
    }
   },
   "outputs": [],
   "source": [
    "data,labels = make_blobs(n_samples=100,n_features=2,centers=2)\n",
    "df1 = pd.DataFrame(data, columns=['x', 'y'])\n",
    "df1['labels'] = labels.astype('str')\n",
    "df1['KMEANS'] = \"\"\n",
    "print_dataset(df1)"
   ]
  },
  {
   "cell_type": "markdown",
   "metadata": {
    "pycharm": {
     "name": "#%% md\n"
    }
   },
   "source": [
    "### 2. dataset - 4 třídy, 200 datových bodů\n",
    "Použijte funkci ```make_blobs``` [odkaz na dokumentaci](https://scikit-learn.org/stable/modules/generated/sklearn.datasets.make_blobs.html).\n",
    "\n",
    "![dataset1](expected_outputs/dataset2.png)"
   ]
  },
  {
   "cell_type": "code",
   "execution_count": 77,
   "metadata": {
    "pycharm": {
     "name": "#%%\n"
    }
   },
   "outputs": [],
   "source": [
    "data,labels = make_blobs(n_samples=200,n_features=2,centers=4)\n",
    "df2 = pd.DataFrame(data, columns=['x', 'y'])\n",
    "df2['labels'] = labels.astype('str')\n",
    "df2['KMEANS'] = \"\"\n",
    "print_dataset(df2)"
   ]
  },
  {
   "cell_type": "markdown",
   "metadata": {
    "pycharm": {
     "name": "#%% md\n"
    }
   },
   "source": [
    "### 3. dataset - 2 třídy, 200 datových bodů\n",
    "Použijte funkci ```make_moons``` [odkaz na dokumentaci](https://scikit-learn.org/stable/modules/generated/sklearn.datasets.make_moons.html#sklearn.datasets.make_moons).\n",
    "\n",
    "![dataset1](expected_outputs/dataset3.png)"
   ]
  },
  {
   "cell_type": "code",
   "execution_count": 38,
   "metadata": {
    "scrolled": false,
    "pycharm": {
     "name": "#%%\n"
    }
   },
   "outputs": [],
   "source": [
    "data,labels = make_moons(n_samples=200,noise=.1)\n",
    "df3 = pd.DataFrame(data, columns=['x', 'y'])\n",
    "df3['labels'] = labels.astype('str')\n",
    "df3['KMEANS'] = \"\"\n",
    "#print_dataset(df3)"
   ]
  },
  {
   "cell_type": "markdown",
   "metadata": {
    "pycharm": {
     "name": "#%% md\n"
    }
   },
   "source": [
    "### 4. dataset - 2 třídy, 200 datových bodů\n",
    "Použijte funkci ```make_circles``` [odkaz na dokumentaci](https://scikit-learn.org/stable/modules/generated/sklearn.datasets.make_circles.html#sklearn.datasets.make_circles).\n",
    "\n",
    "![dataset1](expected_outputs/dataset4.png)"
   ]
  },
  {
   "cell_type": "code",
   "execution_count": 39,
   "metadata": {
    "scrolled": false,
    "pycharm": {
     "name": "#%%\n"
    }
   },
   "outputs": [],
   "source": [
    "data,labels = make_circles(n_samples=200,noise=.1,factor=.2)\n",
    "df4 = pd.DataFrame(data, columns=['x', 'y'])\n",
    "df4['labels'] = labels.astype('str')\n",
    "df4['KMEANS'] = \"\"\n",
    "#print_dataset(df4)"
   ]
  },
  {
   "cell_type": "markdown",
   "metadata": {
    "pycharm": {
     "name": "#%% md\n"
    }
   },
   "source": [
    "## 2. část - K-means\n",
    "\n",
    "Implementujte K-means algoritmus, aplikujte ho na všechny 4 datasety a zobrazte výsledky algoritmu. Zároveň se pokuste zvýraznit centroid ve vizualizaci výsledku. Pro aplikaci K-means můžete použít počet tříd v každém datasetu (není třeba hledat parametr K automaticky)."
   ]
  },
  {
   "cell_type": "code",
   "execution_count": 20,
   "metadata": {
    "pycharm": {
     "name": "#%%\n"
    }
   },
   "outputs": [],
   "source": [
    "def print_centroids(df, centroids):\n",
    "    fig = px.scatter(df, y='y', x='x', color='labels')\n",
    "    fig.add_trace(go.Scatter(\n",
    "        x=centroids['x'],\n",
    "        y=centroids['y'],\n",
    "        mode='markers',\n",
    "        marker=dict(\n",
    "            size=10,\n",
    "            line=dict(width=3, color='pink'),\n",
    "            symbol=[114]\n",
    "        )\n",
    "    ))\n",
    "    fig.update_layout(coloraxis_showscale=False)\n",
    "    fig.show()"
   ]
  },
  {
   "cell_type": "code",
   "execution_count": 145,
   "metadata": {
    "pycharm": {
     "name": "#%%\n"
    }
   },
   "outputs": [],
   "source": [
    "def euq_distance(point, other):\n",
    "    return np.sqrt((other['x'].values-point['x'])**2 + (other['y'].values-point['y'])**2)\n",
    "\n",
    "def new_centroid(points):\n",
    "    dist= np.zeros(len(points))\n",
    "    for idx,point in points.iterrows():\n",
    "        dist[idx] = np.sum(euq_distance(point, points))\n",
    "    idx_min_dist = np.argmin(dist)\n",
    "    return points.iloc[idx_min_dist]"
   ]
  },
  {
   "cell_type": "code",
   "execution_count": 132,
   "metadata": {
    "pycharm": {
     "name": "#%%\n"
    }
   },
   "outputs": [],
   "source": [
    "def k_means(df,num_labels, graph = False):\n",
    "    centroids = df.sample(n=num_labels).reset_index()\n",
    "    distances = np.zeros((len(df),num_labels)) #každý sloupec jeden centroid  \n",
    "    for i in range(50):\n",
    "        for idx,centroid in centroids.iterrows():    \n",
    "            distances[:,idx] = euq_distance(centroid, df)\n",
    "        min_dist_idx = np.argmin(distances, axis=1)\n",
    "        centroids.drop(centroids.index, inplace=True)\n",
    "        for label_idx in np.unique(min_dist_idx):\n",
    "            idx = np.where(min_dist_idx == label_idx)[0]\n",
    "            points = df.iloc[idx].reset_index()\n",
    "            df.loc[idx,'KMEANS'] = label_idx\n",
    "            centroids.loc[len(centroids.index)] = new_centroid(points)  \n",
    "    if graph:\n",
    "        print_subplots(df, centroids)\n",
    "    return centroids\n"
   ]
  },
  {
   "cell_type": "code",
   "execution_count": 133,
   "outputs": [],
   "source": [
    "datasets = [df1, df2, df3, df4]\n",
    "for df in datasets:\n",
    "    k_means(df, len(df['labels'].unique()), graph=False)"
   ],
   "metadata": {
    "collapsed": false,
    "pycharm": {
     "name": "#%%\n"
    }
   }
  },
  {
   "cell_type": "markdown",
   "metadata": {
    "pycharm": {
     "name": "#%% md\n"
    }
   },
   "source": [
    "## Bonus - K-means s nalezenou hodnotou K\n",
    "\n",
    "Zkuste najít algoritmy, které umožňují hledat hodnotu K pro K-means. Implementujte alespoň jeden z nich a ověřte, že funguje. Ověření proveďte nejen na našich předchozích datasetech, ale zkuste si vygenerovat i dataset s větším množstvím tříd (10-20). (1 bod)\n",
    "\n",
    "Za implementaci více algoritmů, případně za hlubší analýzu výsledků (např. kdy už přestává hledání hodnoty K správně fungovat) je možné získat ještě jeden bonusový bod."
   ]
  },
  {
   "cell_type": "code",
   "execution_count": 233,
   "outputs": [],
   "source": [
    "#### ELBOW METOD ###\n",
    "def elbow(df, kmax):\n",
    "    sum_dist = np.zeros(kmax)\n",
    "    for k in range(1,kmax+1):\n",
    "        centroids = k_means(df, k, graph = False)\n",
    "        for label,centroid in centroids.iterrows():\n",
    "            points = df.loc[df['KMEANS'] == label]\n",
    "            sum_dist[k-1] += np.sum(euq_distance(centroid,points))\n",
    "    return sum_dist"
   ],
   "metadata": {
    "collapsed": false,
    "pycharm": {
     "name": "#%%\n"
    }
   }
  },
  {
   "cell_type": "code",
   "execution_count": 234,
   "outputs": [],
   "source": [
    "datasets = [df1, df2, df3, df4]\n",
    "for idx,df in enumerate(datasets):\n",
    "    kmax = 10\n",
    "    dist = elbow(df, kmax=kmax)\n",
    "    df = pd.DataFrame(dict(\n",
    "        sum_dist = dist,\n",
    "        k = range(1,kmax+1)\n",
    "    ))\n",
    "    fig = px.line(df,x='k',y='sum_dist', title=)\n",
    "    fig.show()"
   ],
   "metadata": {
    "collapsed": false,
    "pycharm": {
     "name": "#%%\n"
    }
   }
  },
  {
   "cell_type": "code",
   "execution_count": null,
   "outputs": [],
   "source": [],
   "metadata": {
    "collapsed": false,
    "pycharm": {
     "name": "#%%\n"
    }
   }
  }
 ],
 "metadata": {
  "kernelspec": {
   "display_name": "Python 3 (ipykernel)",
   "language": "python",
   "name": "python3"
  },
  "language_info": {
   "codemirror_mode": {
    "name": "ipython",
    "version": 3
   },
   "file_extension": ".py",
   "mimetype": "text/x-python",
   "name": "python",
   "nbconvert_exporter": "python",
   "pygments_lexer": "ipython3",
   "version": "3.9.7"
  }
 },
 "nbformat": 4,
 "nbformat_minor": 4
}