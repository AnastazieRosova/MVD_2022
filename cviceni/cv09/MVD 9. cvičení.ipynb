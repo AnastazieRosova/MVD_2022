{
 "cells": [
  {
   "cell_type": "markdown",
   "metadata": {},
   "source": [
    "# MVD 9. cvičení\n",
    "\n",
    "Dnešní cvičení nebude až tak obtížné. Cílem je seznámit se s HuggingFace a vyzkoušet si základní práci s BERT modelem.\n",
    "\n",
    "## 1. část - Seznámení s HuggingFace a modelem BERT\n",
    "\n",
    "Nainstalujte si Python knihovnu `transformers` a podívejte se na předtrénovaný [BERT model](https://huggingface.co/bert-base-uncased). Vyzkoušejte si unmasker s různými vstupy.\n",
    "\n",
    "<br>\n",
    "Pozn.: Použití BERT modelu vyžaduje zároveň PyTorch - postačí i cpu verze."
   ]
  },
  {
   "cell_type": "code",
   "execution_count": 55,
   "metadata": {},
   "outputs": [],
   "source": [
    "import torch\n",
    "from transformers import pipeline\n",
    "from transformers import BertTokenizer, AutoTokenizer,AutoModel\n",
    "import numpy as np"
   ]
  },
  {
   "cell_type": "code",
   "execution_count": 17,
   "metadata": {},
   "outputs": [
    {
     "name": "stderr",
     "output_type": "stream",
     "text": [
      "Some weights of the model checkpoint at bert-base-uncased were not used when initializing BertForMaskedLM: ['cls.seq_relationship.weight', 'cls.seq_relationship.bias']\n",
      "- This IS expected if you are initializing BertForMaskedLM from the checkpoint of a model trained on another task or with another architecture (e.g. initializing a BertForSequenceClassification model from a BertForPreTraining model).\n",
      "- This IS NOT expected if you are initializing BertForMaskedLM from the checkpoint of a model that you expect to be exactly identical (initializing a BertForSequenceClassification model from a BertForSequenceClassification model).\n"
     ]
    },
    {
     "data": {
      "text/plain": "[{'score': 0.10731096565723419,\n  'token': 4827,\n  'token_str': 'fashion',\n  'sequence': \"hello i'm a fashion model.\"},\n {'score': 0.08774467557668686,\n  'token': 2535,\n  'token_str': 'role',\n  'sequence': \"hello i'm a role model.\"},\n {'score': 0.053383972495794296,\n  'token': 2047,\n  'token_str': 'new',\n  'sequence': \"hello i'm a new model.\"},\n {'score': 0.04667218402028084,\n  'token': 3565,\n  'token_str': 'super',\n  'sequence': \"hello i'm a super model.\"},\n {'score': 0.027095871046185493,\n  'token': 2986,\n  'token_str': 'fine',\n  'sequence': \"hello i'm a fine model.\"}]"
     },
     "execution_count": 17,
     "metadata": {},
     "output_type": "execute_result"
    }
   ],
   "source": [
    "unmasker = pipeline('fill-mask', model='bert-base-uncased')\n",
    "unmasker(\"Hello I'm a [MASK] model.\")"
   ]
  },
  {
   "cell_type": "code",
   "execution_count": 16,
   "outputs": [
    {
     "name": "stderr",
     "output_type": "stream",
     "text": [
      "Some weights of the model checkpoint at bert-base-uncased were not used when initializing BertForMaskedLM: ['cls.seq_relationship.weight', 'cls.seq_relationship.bias']\n",
      "- This IS expected if you are initializing BertForMaskedLM from the checkpoint of a model trained on another task or with another architecture (e.g. initializing a BertForSequenceClassification model from a BertForPreTraining model).\n",
      "- This IS NOT expected if you are initializing BertForMaskedLM from the checkpoint of a model that you expect to be exactly identical (initializing a BertForSequenceClassification model from a BertForSequenceClassification model).\n"
     ]
    },
    {
     "data": {
      "text/plain": "[{'score': 0.6679329872131348,\n  'token': 1996,\n  'token_str': 'the',\n  'sequence': 'today was the sky.'},\n {'score': 0.06752169132232666,\n  'token': 1037,\n  'token_str': 'a',\n  'sequence': 'today was a sky.'},\n {'score': 0.03634251281619072,\n  'token': 2630,\n  'token_str': 'blue',\n  'sequence': 'today was blue sky.'},\n {'score': 0.029211433604359627,\n  'token': 2178,\n  'token_str': 'another',\n  'sequence': 'today was another sky.'},\n {'score': 0.028842559084296227,\n  'token': 2026,\n  'token_str': 'my',\n  'sequence': 'today was my sky.'}]"
     },
     "execution_count": 16,
     "metadata": {},
     "output_type": "execute_result"
    }
   ],
   "source": [
    "unmasker = pipeline('fill-mask', model='bert-base-uncased')\n",
    "unmasker(\"Today was [MASK] sky.\")"
   ],
   "metadata": {
    "collapsed": false
   }
  },
  {
   "cell_type": "code",
   "execution_count": 33,
   "outputs": [
    {
     "name": "stderr",
     "output_type": "stream",
     "text": [
      "Some weights of the model checkpoint at bert-base-uncased were not used when initializing BertForMaskedLM: ['cls.seq_relationship.weight', 'cls.seq_relationship.bias']\n",
      "- This IS expected if you are initializing BertForMaskedLM from the checkpoint of a model trained on another task or with another architecture (e.g. initializing a BertForSequenceClassification model from a BertForPreTraining model).\n",
      "- This IS NOT expected if you are initializing BertForMaskedLM from the checkpoint of a model that you expect to be exactly identical (initializing a BertForSequenceClassification model from a BertForSequenceClassification model).\n"
     ]
    },
    {
     "data": {
      "text/plain": "[{'score': 0.05639948695898056,\n  'token': 2028,\n  'token_str': 'one',\n  'sequence': 'she brings a new one.'},\n {'score': 0.04917013645172119,\n  'token': 2767,\n  'token_str': 'friend',\n  'sequence': 'she brings a new friend.'},\n {'score': 0.032878898084163666,\n  'token': 5195,\n  'token_str': 'weapon',\n  'sequence': 'she brings a new weapon.'},\n {'score': 0.024797676131129265,\n  'token': 2611,\n  'token_str': 'girl',\n  'sequence': 'she brings a new girl.'},\n {'score': 0.0243862085044384,\n  'token': 4377,\n  'token_str': 'dress',\n  'sequence': 'she brings a new dress.'}]"
     },
     "execution_count": 33,
     "metadata": {},
     "output_type": "execute_result"
    }
   ],
   "source": [
    "unmasker = pipeline('fill-mask', model='bert-base-uncased')\n",
    "unmasker(\"She brings a new [MASK].\")"
   ],
   "metadata": {
    "collapsed": false
   }
  },
  {
   "cell_type": "markdown",
   "metadata": {},
   "source": [
    "## 2. část - BERT contextualized word embeddings\n",
    "\n",
    "BERT dokumentace obsahuje také návod jak použít tento model pro získání word embeddingů. Vyzkoušejte použití stejného slova v různém kontextu a podívejte se, jak se mění kosinova podobnost embeddingů v závislosti na kontextu daného slova.\n",
    "\n",
    "Podívejte se na výstup tokenizeru před vstupem do BERT modelu - kolik tokenů bylo vytvořeno pro větu \"Hello, this is Bert.\"? Zdůvodněte jejich počet.\n",
    "\n",
    "<br>\n",
    "Pozn.: Vyřešení předchozí otázky Vám pomůže zjistit, který vektor z výstupu pro cílové slovo použít."
   ]
  },
  {
   "cell_type": "code",
   "execution_count": 105,
   "outputs": [
    {
     "name": "stderr",
     "output_type": "stream",
     "text": [
      "Some weights of the model checkpoint at bert-base-cased were not used when initializing BertModel: ['cls.seq_relationship.weight', 'cls.predictions.transform.dense.weight', 'cls.predictions.bias', 'cls.seq_relationship.bias', 'cls.predictions.transform.LayerNorm.bias', 'cls.predictions.decoder.weight', 'cls.predictions.transform.LayerNorm.weight', 'cls.predictions.transform.dense.bias']\n",
      "- This IS expected if you are initializing BertModel from the checkpoint of a model trained on another task or with another architecture (e.g. initializing a BertForSequenceClassification model from a BertForPreTraining model).\n",
      "- This IS NOT expected if you are initializing BertModel from the checkpoint of a model that you expect to be exactly identical (initializing a BertForSequenceClassification model from a BertForSequenceClassification model).\n"
     ]
    },
    {
     "name": "stdout",
     "output_type": "stream",
     "text": [
      "tensor([0.4813])\n"
     ]
    }
   ],
   "source": [
    "tokenizer = AutoTokenizer.from_pretrained('bert-base-cased')\n",
    "model = AutoModel.from_pretrained('bert-base-cased', output_hidden_states=True).eval()\n",
    "\n",
    "#text1 = \"Handwritten letter\"\n",
    "#text2 = \"Alphabet letter\"\n",
    "#word = \"letter\"\n",
    "\n",
    "# text1 = \"hammer the nails\"\n",
    "# text2 = \"paint your nails\"\n",
    "# word = \"nails\"\n",
    "\n",
    "# text1 = \"I'm sure I'm right\"\n",
    "# text2 = \"Turn right\"\n",
    "# word = \"right\"\n",
    "\n",
    "text1 = \"I'm right\"\n",
    "text2 = \"You are right\"\n",
    "word = \"right\"\n",
    "\n",
    "tok1 = tokenizer(text1, return_tensors='pt')\n",
    "tok2 = tokenizer(text2, return_tensors='pt')\n",
    "\n",
    "with torch.no_grad():\n",
    "    out1 = model(**tok1)\n",
    "    out2 = model(**tok2)\n",
    "\n",
    "states1 = out1.hidden_states[-1].squeeze()\n",
    "states2 = out2.hidden_states[-1].squeeze()\n",
    "\n",
    "tok1_ids = np.where(np.array(tok1.word_ids()) == text1.split(\" \").index(word))\n",
    "tok2_ids = np.where(np.array(tok2.word_ids()) == text2.split(\" \").index(word))\n",
    "\n",
    "embs1 = states1[tok1_ids[0]].squeeze()\n",
    "embs2 = states2[tok2_ids[0]].squeeze()\n",
    "\n",
    "cosine_similarity = torch.cosine_similarity(embs1.reshape(1,-1), embs2.reshape(1,-1))\n",
    "print(cosine_similarity)"
   ],
   "metadata": {
    "collapsed": false
   }
  },
  {
   "cell_type": "code",
   "execution_count": 102,
   "metadata": {},
   "outputs": [
    {
     "name": "stdout",
     "output_type": "stream",
     "text": [
      "{'input_ids': tensor([[  101,  7592,  1010,  2023,  2003, 14324,  1012,   102]]), 'token_type_ids': tensor([[0, 0, 0, 0, 0, 0, 0, 0]]), 'attention_mask': tensor([[1, 1, 1, 1, 1, 1, 1, 1]])}\n",
      "[CLS] hello, this is bert. [SEP]\n"
     ]
    }
   ],
   "source": [
    "tokenizer = BertTokenizer.from_pretrained('bert-base-uncased')\n",
    "text = \"Hello, this is Bert.\"\n",
    "encoded_input = tokenizer(text, return_tensors='pt')\n",
    "print(encoded_input)\n",
    "print(tokenizer.decode(encoded_input['input_ids'][0]))\n",
    "\n",
    "# tokenizer = BertTokenizer.from_pretrained('bert-base-uncased')\n",
    "# text = \"Here is the sentence I want embeddings for.\"\n",
    "# marked_text = \"[CLS] \" + text + \" [SEP]\"\n",
    "# tokenized_text = tokenizer.tokenize(marked_text)\n",
    "# print (tokenized_text)"
   ]
  },
  {
   "cell_type": "markdown",
   "metadata": {},
   "source": [
    "## Bonus - Vizualizace slovních  embeddingů\n",
    "\n",
    "Vizualizujte slovní embeddingy - mění se jejich pozice v závislosti na kontextu tak, jak byste očekávali? Pokuste se vizualizovat i některá slova, ke kterým by se podle vás cílové slovo mělo po změně kontextu přiblížit."
   ]
  },
  {
   "cell_type": "code",
   "execution_count": null,
   "metadata": {},
   "outputs": [],
   "source": []
  }
 ],
 "metadata": {
  "kernelspec": {
   "display_name": "Python 3 (ipykernel)",
   "language": "python",
   "name": "python3"
  },
  "language_info": {
   "codemirror_mode": {
    "name": "ipython",
    "version": 3
   },
   "file_extension": ".py",
   "mimetype": "text/x-python",
   "name": "python",
   "nbconvert_exporter": "python",
   "pygments_lexer": "ipython3",
   "version": "3.9.7"
  }
 },
 "nbformat": 4,
 "nbformat_minor": 4
}
